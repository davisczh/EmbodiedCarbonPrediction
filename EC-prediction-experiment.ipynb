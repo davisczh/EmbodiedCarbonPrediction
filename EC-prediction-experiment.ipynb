{
 "cells": [
  {
   "cell_type": "code",
   "execution_count": 817,
   "metadata": {},
   "outputs": [],
   "source": [
    "import pandas as pd\n",
    "import numpy as np"
   ]
  },
  {
   "cell_type": "code",
   "execution_count": 818,
   "metadata": {},
   "outputs": [],
   "source": [
    "df1 = pd.read_excel('PM_Carbon_Database_11-02-2022.xlsx')\n",
    "df2 = pd.read_excel('P&M Carbon Data for Release Feb 2024.xlsx')"
   ]
  },
  {
   "cell_type": "code",
   "execution_count": 819,
   "metadata": {},
   "outputs": [
    {
     "name": "stdout",
     "output_type": "stream",
     "text": [
      "21\n"
     ]
    },
    {
     "data": {
      "text/html": [
       "<div>\n",
       "<style scoped>\n",
       "    .dataframe tbody tr th:only-of-type {\n",
       "        vertical-align: middle;\n",
       "    }\n",
       "\n",
       "    .dataframe tbody tr th {\n",
       "        vertical-align: top;\n",
       "    }\n",
       "\n",
       "    .dataframe thead th {\n",
       "        text-align: right;\n",
       "    }\n",
       "</style>\n",
       "<table border=\"1\" class=\"dataframe\">\n",
       "  <thead>\n",
       "    <tr style=\"text-align: right;\">\n",
       "      <th></th>\n",
       "      <th>Project Ref</th>\n",
       "      <th>Calculation Design Stage</th>\n",
       "      <th>UK District</th>\n",
       "      <th>GIFA (m2)</th>\n",
       "      <th>Project Value (£m)</th>\n",
       "      <th>Value Type</th>\n",
       "      <th>Project Sector</th>\n",
       "      <th>Construction Type</th>\n",
       "      <th>Unnamed: 8</th>\n",
       "      <th>Storeys (#)</th>\n",
       "      <th>...</th>\n",
       "      <th>Steel (Other) % Carbon (A1-A5)</th>\n",
       "      <th>Steel (Sections) Total Mass (kg)</th>\n",
       "      <th>Steel (Sections) Total Carbon (A1-A5) (kgCO2e)</th>\n",
       "      <th>Steel (Sections) % Carbon (A1-A5)</th>\n",
       "      <th>Timber (Plain) Total Mass (kg)</th>\n",
       "      <th>Timber (Plain) Total Carbon (A1-A5) (kgCO2e)</th>\n",
       "      <th>Timber (Plain) % Carbon (A1-A5)</th>\n",
       "      <th>Timber (Products) Total Mass (kg)</th>\n",
       "      <th>Timber (Products) Total Carbon (A1-A5) (kgCO2e)</th>\n",
       "      <th>Timber (Products) % Carbon (A1-A5)</th>\n",
       "    </tr>\n",
       "  </thead>\n",
       "  <tbody>\n",
       "    <tr>\n",
       "      <th>0</th>\n",
       "      <td>1</td>\n",
       "      <td>Stage 4</td>\n",
       "      <td>OX4</td>\n",
       "      <td>5642</td>\n",
       "      <td>15.0</td>\n",
       "      <td>Whole Building</td>\n",
       "      <td>Residential (Multi)</td>\n",
       "      <td>New Build (Greenfield)</td>\n",
       "      <td>NaN</td>\n",
       "      <td>2</td>\n",
       "      <td>...</td>\n",
       "      <td>0.017</td>\n",
       "      <td>2450</td>\n",
       "      <td>3915</td>\n",
       "      <td>0.003</td>\n",
       "      <td>45863</td>\n",
       "      <td>17598</td>\n",
       "      <td>0.015</td>\n",
       "      <td>109390</td>\n",
       "      <td>107145</td>\n",
       "      <td>0.094</td>\n",
       "    </tr>\n",
       "    <tr>\n",
       "      <th>1</th>\n",
       "      <td>2</td>\n",
       "      <td>Stage 3</td>\n",
       "      <td>BR3</td>\n",
       "      <td>31592</td>\n",
       "      <td>77.0</td>\n",
       "      <td>Whole Building</td>\n",
       "      <td>Residential (Multi)</td>\n",
       "      <td>New Build (Brownfield)</td>\n",
       "      <td>NaN</td>\n",
       "      <td>7</td>\n",
       "      <td>...</td>\n",
       "      <td>0.002</td>\n",
       "      <td>0</td>\n",
       "      <td>0</td>\n",
       "      <td>0.000</td>\n",
       "      <td>34585</td>\n",
       "      <td>12250</td>\n",
       "      <td>0.001</td>\n",
       "      <td>0</td>\n",
       "      <td>0</td>\n",
       "      <td>0.000</td>\n",
       "    </tr>\n",
       "    <tr>\n",
       "      <th>2</th>\n",
       "      <td>3</td>\n",
       "      <td>As-Built</td>\n",
       "      <td>TW3</td>\n",
       "      <td>9862</td>\n",
       "      <td>24.0</td>\n",
       "      <td>Whole Building</td>\n",
       "      <td>Educational</td>\n",
       "      <td>New Build (Brownfield)</td>\n",
       "      <td>NaN</td>\n",
       "      <td>3</td>\n",
       "      <td>...</td>\n",
       "      <td>0.000</td>\n",
       "      <td>55614</td>\n",
       "      <td>88878</td>\n",
       "      <td>0.024</td>\n",
       "      <td>1947</td>\n",
       "      <td>968</td>\n",
       "      <td>0.000</td>\n",
       "      <td>0</td>\n",
       "      <td>0</td>\n",
       "      <td>0.000</td>\n",
       "    </tr>\n",
       "    <tr>\n",
       "      <th>3</th>\n",
       "      <td>4</td>\n",
       "      <td>Stage 3</td>\n",
       "      <td>BR1</td>\n",
       "      <td>17240</td>\n",
       "      <td>40.0</td>\n",
       "      <td>Whole Building</td>\n",
       "      <td>Residential (Multi)</td>\n",
       "      <td>New Build (Brownfield)</td>\n",
       "      <td>NaN</td>\n",
       "      <td>8</td>\n",
       "      <td>...</td>\n",
       "      <td>0.000</td>\n",
       "      <td>93630</td>\n",
       "      <td>149631</td>\n",
       "      <td>0.026</td>\n",
       "      <td>0</td>\n",
       "      <td>0</td>\n",
       "      <td>0.000</td>\n",
       "      <td>6078</td>\n",
       "      <td>4521</td>\n",
       "      <td>0.001</td>\n",
       "    </tr>\n",
       "    <tr>\n",
       "      <th>4</th>\n",
       "      <td>5</td>\n",
       "      <td>Stage 3</td>\n",
       "      <td>N15</td>\n",
       "      <td>2290</td>\n",
       "      <td>2.0</td>\n",
       "      <td>Whole Building</td>\n",
       "      <td>Residential (Multi)</td>\n",
       "      <td>New Build (Greenfield)</td>\n",
       "      <td>NaN</td>\n",
       "      <td>3</td>\n",
       "      <td>...</td>\n",
       "      <td>0.000</td>\n",
       "      <td>30082</td>\n",
       "      <td>48074</td>\n",
       "      <td>0.146</td>\n",
       "      <td>25341</td>\n",
       "      <td>12597</td>\n",
       "      <td>0.038</td>\n",
       "      <td>0</td>\n",
       "      <td>0</td>\n",
       "      <td>0.000</td>\n",
       "    </tr>\n",
       "    <tr>\n",
       "      <th>...</th>\n",
       "      <td>...</td>\n",
       "      <td>...</td>\n",
       "      <td>...</td>\n",
       "      <td>...</td>\n",
       "      <td>...</td>\n",
       "      <td>...</td>\n",
       "      <td>...</td>\n",
       "      <td>...</td>\n",
       "      <td>...</td>\n",
       "      <td>...</td>\n",
       "      <td>...</td>\n",
       "      <td>...</td>\n",
       "      <td>...</td>\n",
       "      <td>...</td>\n",
       "      <td>...</td>\n",
       "      <td>...</td>\n",
       "      <td>...</td>\n",
       "      <td>...</td>\n",
       "      <td>...</td>\n",
       "      <td>...</td>\n",
       "      <td>...</td>\n",
       "    </tr>\n",
       "    <tr>\n",
       "      <th>270</th>\n",
       "      <td>271</td>\n",
       "      <td>Stage 2</td>\n",
       "      <td>HP1</td>\n",
       "      <td>3039</td>\n",
       "      <td>7.6</td>\n",
       "      <td>Whole Building</td>\n",
       "      <td>Educational</td>\n",
       "      <td>New Build (Greenfield)</td>\n",
       "      <td>NaN</td>\n",
       "      <td>3</td>\n",
       "      <td>...</td>\n",
       "      <td>0.000</td>\n",
       "      <td>6150</td>\n",
       "      <td>9829</td>\n",
       "      <td>0.019</td>\n",
       "      <td>3969</td>\n",
       "      <td>1973</td>\n",
       "      <td>0.004</td>\n",
       "      <td>431110</td>\n",
       "      <td>265944</td>\n",
       "      <td>0.519</td>\n",
       "    </tr>\n",
       "    <tr>\n",
       "      <th>271</th>\n",
       "      <td>272</td>\n",
       "      <td>Stage 2</td>\n",
       "      <td>KT13</td>\n",
       "      <td>23</td>\n",
       "      <td>0.3</td>\n",
       "      <td>Whole Building</td>\n",
       "      <td>Residential (Single)</td>\n",
       "      <td>New Build (Greenfield)</td>\n",
       "      <td>NaN</td>\n",
       "      <td>1</td>\n",
       "      <td>...</td>\n",
       "      <td>0.000</td>\n",
       "      <td>1322</td>\n",
       "      <td>2113</td>\n",
       "      <td>0.278</td>\n",
       "      <td>225</td>\n",
       "      <td>112</td>\n",
       "      <td>0.015</td>\n",
       "      <td>300</td>\n",
       "      <td>294</td>\n",
       "      <td>0.039</td>\n",
       "    </tr>\n",
       "    <tr>\n",
       "      <th>272</th>\n",
       "      <td>273</td>\n",
       "      <td>Stage 2</td>\n",
       "      <td>SE15</td>\n",
       "      <td>2994</td>\n",
       "      <td>7.5</td>\n",
       "      <td>Whole Building</td>\n",
       "      <td>Residential (Multi)</td>\n",
       "      <td>New Build (Greenfield)</td>\n",
       "      <td>NaN</td>\n",
       "      <td>7</td>\n",
       "      <td>...</td>\n",
       "      <td>0.000</td>\n",
       "      <td>1708</td>\n",
       "      <td>2730</td>\n",
       "      <td>0.004</td>\n",
       "      <td>0</td>\n",
       "      <td>0</td>\n",
       "      <td>0.000</td>\n",
       "      <td>0</td>\n",
       "      <td>0</td>\n",
       "      <td>0.000</td>\n",
       "    </tr>\n",
       "    <tr>\n",
       "      <th>273</th>\n",
       "      <td>274</td>\n",
       "      <td>Stage 2</td>\n",
       "      <td>SE15</td>\n",
       "      <td>3146</td>\n",
       "      <td>8.0</td>\n",
       "      <td>Whole Building</td>\n",
       "      <td>Residential (Multi)</td>\n",
       "      <td>New Build (Greenfield)</td>\n",
       "      <td>NaN</td>\n",
       "      <td>6</td>\n",
       "      <td>...</td>\n",
       "      <td>0.000</td>\n",
       "      <td>0</td>\n",
       "      <td>0</td>\n",
       "      <td>0.000</td>\n",
       "      <td>0</td>\n",
       "      <td>0</td>\n",
       "      <td>0.000</td>\n",
       "      <td>0</td>\n",
       "      <td>0</td>\n",
       "      <td>0.000</td>\n",
       "    </tr>\n",
       "    <tr>\n",
       "      <th>274</th>\n",
       "      <td>275</td>\n",
       "      <td>Stage 2</td>\n",
       "      <td>SE15</td>\n",
       "      <td>4940</td>\n",
       "      <td>8.0</td>\n",
       "      <td>Whole Building</td>\n",
       "      <td>Residential (Multi)</td>\n",
       "      <td>New Build (Greenfield)</td>\n",
       "      <td>NaN</td>\n",
       "      <td>5</td>\n",
       "      <td>...</td>\n",
       "      <td>0.000</td>\n",
       "      <td>0</td>\n",
       "      <td>0</td>\n",
       "      <td>0.000</td>\n",
       "      <td>0</td>\n",
       "      <td>0</td>\n",
       "      <td>0.000</td>\n",
       "      <td>0</td>\n",
       "      <td>0</td>\n",
       "      <td>0.000</td>\n",
       "    </tr>\n",
       "  </tbody>\n",
       "</table>\n",
       "<p>275 rows × 47 columns</p>\n",
       "</div>"
      ],
      "text/plain": [
       "     Project Ref Calculation Design Stage UK District  GIFA (m2)  \\\n",
       "0              1                  Stage 4         OX4       5642   \n",
       "1              2                  Stage 3         BR3      31592   \n",
       "2              3                 As-Built         TW3       9862   \n",
       "3              4                  Stage 3         BR1      17240   \n",
       "4              5                  Stage 3         N15       2290   \n",
       "..           ...                      ...         ...        ...   \n",
       "270          271                  Stage 2         HP1       3039   \n",
       "271          272                  Stage 2        KT13         23   \n",
       "272          273                  Stage 2        SE15       2994   \n",
       "273          274                  Stage 2        SE15       3146   \n",
       "274          275                  Stage 2        SE15       4940   \n",
       "\n",
       "     Project Value (£m)      Value Type        Project Sector  \\\n",
       "0                  15.0  Whole Building   Residential (Multi)   \n",
       "1                  77.0  Whole Building   Residential (Multi)   \n",
       "2                  24.0  Whole Building           Educational   \n",
       "3                  40.0  Whole Building   Residential (Multi)   \n",
       "4                   2.0  Whole Building   Residential (Multi)   \n",
       "..                  ...             ...                   ...   \n",
       "270                 7.6  Whole Building           Educational   \n",
       "271                 0.3  Whole Building  Residential (Single)   \n",
       "272                 7.5  Whole Building   Residential (Multi)   \n",
       "273                 8.0  Whole Building   Residential (Multi)   \n",
       "274                 8.0  Whole Building   Residential (Multi)   \n",
       "\n",
       "          Construction Type  Unnamed: 8  Storeys (#)  ...  \\\n",
       "0    New Build (Greenfield)         NaN            2  ...   \n",
       "1    New Build (Brownfield)         NaN            7  ...   \n",
       "2    New Build (Brownfield)         NaN            3  ...   \n",
       "3    New Build (Brownfield)         NaN            8  ...   \n",
       "4    New Build (Greenfield)         NaN            3  ...   \n",
       "..                      ...         ...          ...  ...   \n",
       "270  New Build (Greenfield)         NaN            3  ...   \n",
       "271  New Build (Greenfield)         NaN            1  ...   \n",
       "272  New Build (Greenfield)         NaN            7  ...   \n",
       "273  New Build (Greenfield)         NaN            6  ...   \n",
       "274  New Build (Greenfield)         NaN            5  ...   \n",
       "\n",
       "    Steel (Other) % Carbon (A1-A5) Steel (Sections) Total Mass (kg)  \\\n",
       "0                            0.017                             2450   \n",
       "1                            0.002                                0   \n",
       "2                            0.000                            55614   \n",
       "3                            0.000                            93630   \n",
       "4                            0.000                            30082   \n",
       "..                             ...                              ...   \n",
       "270                          0.000                             6150   \n",
       "271                          0.000                             1322   \n",
       "272                          0.000                             1708   \n",
       "273                          0.000                                0   \n",
       "274                          0.000                                0   \n",
       "\n",
       "    Steel (Sections) Total Carbon (A1-A5) (kgCO2e)  \\\n",
       "0                                             3915   \n",
       "1                                                0   \n",
       "2                                            88878   \n",
       "3                                           149631   \n",
       "4                                            48074   \n",
       "..                                             ...   \n",
       "270                                           9829   \n",
       "271                                           2113   \n",
       "272                                           2730   \n",
       "273                                              0   \n",
       "274                                              0   \n",
       "\n",
       "    Steel (Sections) % Carbon (A1-A5) Timber (Plain) Total Mass (kg)  \\\n",
       "0                               0.003                          45863   \n",
       "1                               0.000                          34585   \n",
       "2                               0.024                           1947   \n",
       "3                               0.026                              0   \n",
       "4                               0.146                          25341   \n",
       "..                                ...                            ...   \n",
       "270                             0.019                           3969   \n",
       "271                             0.278                            225   \n",
       "272                             0.004                              0   \n",
       "273                             0.000                              0   \n",
       "274                             0.000                              0   \n",
       "\n",
       "    Timber (Plain) Total Carbon (A1-A5) (kgCO2e)  \\\n",
       "0                                          17598   \n",
       "1                                          12250   \n",
       "2                                            968   \n",
       "3                                              0   \n",
       "4                                          12597   \n",
       "..                                           ...   \n",
       "270                                         1973   \n",
       "271                                          112   \n",
       "272                                            0   \n",
       "273                                            0   \n",
       "274                                            0   \n",
       "\n",
       "     Timber (Plain) % Carbon (A1-A5)  Timber (Products) Total Mass (kg)  \\\n",
       "0                              0.015                             109390   \n",
       "1                              0.001                                  0   \n",
       "2                              0.000                                  0   \n",
       "3                              0.000                               6078   \n",
       "4                              0.038                                  0   \n",
       "..                               ...                                ...   \n",
       "270                            0.004                             431110   \n",
       "271                            0.015                                300   \n",
       "272                            0.000                                  0   \n",
       "273                            0.000                                  0   \n",
       "274                            0.000                                  0   \n",
       "\n",
       "     Timber (Products) Total Carbon (A1-A5) (kgCO2e)  \\\n",
       "0                                             107145   \n",
       "1                                                  0   \n",
       "2                                                  0   \n",
       "3                                               4521   \n",
       "4                                                  0   \n",
       "..                                               ...   \n",
       "270                                           265944   \n",
       "271                                              294   \n",
       "272                                                0   \n",
       "273                                                0   \n",
       "274                                                0   \n",
       "\n",
       "     Timber (Products) % Carbon (A1-A5)  \n",
       "0                                 0.094  \n",
       "1                                 0.000  \n",
       "2                                 0.000  \n",
       "3                                 0.001  \n",
       "4                                 0.000  \n",
       "..                                  ...  \n",
       "270                               0.519  \n",
       "271                               0.039  \n",
       "272                               0.000  \n",
       "273                               0.000  \n",
       "274                               0.000  \n",
       "\n",
       "[275 rows x 47 columns]"
      ]
     },
     "execution_count": 819,
     "metadata": {},
     "output_type": "execute_result"
    }
   ],
   "source": [
    "print(min(df1['GIFA (m2)']))\n",
    "\n",
    "df1"
   ]
  },
  {
   "cell_type": "code",
   "execution_count": 820,
   "metadata": {},
   "outputs": [
    {
     "data": {
      "text/html": [
       "<div>\n",
       "<style scoped>\n",
       "    .dataframe tbody tr th:only-of-type {\n",
       "        vertical-align: middle;\n",
       "    }\n",
       "\n",
       "    .dataframe tbody tr th {\n",
       "        vertical-align: top;\n",
       "    }\n",
       "\n",
       "    .dataframe thead th {\n",
       "        text-align: right;\n",
       "    }\n",
       "</style>\n",
       "<table border=\"1\" class=\"dataframe\">\n",
       "  <thead>\n",
       "    <tr style=\"text-align: right;\">\n",
       "      <th></th>\n",
       "      <th>Project Ref</th>\n",
       "      <th>Building (Where multiple entered)</th>\n",
       "      <th>Calculation Year</th>\n",
       "      <th>Current Calculation Design Stage</th>\n",
       "      <th>Location</th>\n",
       "      <th>GIFA New Build (m2)</th>\n",
       "      <th>GIFA (Refurb) (m2)</th>\n",
       "      <th>GIFA (External Structure) (m2)</th>\n",
       "      <th>GIFA (Total)</th>\n",
       "      <th>Est. Project Value (£m)</th>\n",
       "      <th>...</th>\n",
       "      <th>Timber (Products) Total Carbon (A1-A5) (kgCO2e)</th>\n",
       "      <th>Concrete Total Usage (kg)</th>\n",
       "      <th>Masonry &amp; Blockwork Total Usage (m2)</th>\n",
       "      <th>Other Materials Total Usage (kg)</th>\n",
       "      <th>Rebar Total Usage (kg)</th>\n",
       "      <th>Steel (Other) Total Usage (kg)</th>\n",
       "      <th>Steel (Sections) Total Usage (kg)</th>\n",
       "      <th>Timber (Plain) Total Usage (kg)</th>\n",
       "      <th>Timber (Products) Total Usage (kg)</th>\n",
       "      <th>Rebar Rate Average (kg/m3)</th>\n",
       "    </tr>\n",
       "  </thead>\n",
       "  <tbody>\n",
       "    <tr>\n",
       "      <th>0</th>\n",
       "      <td>1</td>\n",
       "      <td>NaN</td>\n",
       "      <td>2022</td>\n",
       "      <td>As-Built</td>\n",
       "      <td>SE8</td>\n",
       "      <td>75</td>\n",
       "      <td>0</td>\n",
       "      <td>0</td>\n",
       "      <td>75</td>\n",
       "      <td>0.2</td>\n",
       "      <td>...</td>\n",
       "      <td>6984.806144</td>\n",
       "      <td>4.495970e+04</td>\n",
       "      <td>0.000000</td>\n",
       "      <td>0</td>\n",
       "      <td>771.510000</td>\n",
       "      <td>0.000000</td>\n",
       "      <td>0.000000</td>\n",
       "      <td>0.0000</td>\n",
       "      <td>11568.500000</td>\n",
       "      <td>42.042084</td>\n",
       "    </tr>\n",
       "    <tr>\n",
       "      <th>1</th>\n",
       "      <td>2</td>\n",
       "      <td>NaN</td>\n",
       "      <td>2020</td>\n",
       "      <td>As-Built</td>\n",
       "      <td>SE22</td>\n",
       "      <td>4631</td>\n",
       "      <td>0</td>\n",
       "      <td>0</td>\n",
       "      <td>4631</td>\n",
       "      <td>17.0</td>\n",
       "      <td>...</td>\n",
       "      <td>0.000000</td>\n",
       "      <td>6.406200e+06</td>\n",
       "      <td>3046.300000</td>\n",
       "      <td>0</td>\n",
       "      <td>229010.000000</td>\n",
       "      <td>0.000000</td>\n",
       "      <td>13338.000000</td>\n",
       "      <td>0.0000</td>\n",
       "      <td>0.000000</td>\n",
       "      <td>87.583045</td>\n",
       "    </tr>\n",
       "    <tr>\n",
       "      <th>2</th>\n",
       "      <td>3</td>\n",
       "      <td>NaN</td>\n",
       "      <td>2023</td>\n",
       "      <td>As-Built</td>\n",
       "      <td>NW8</td>\n",
       "      <td>5969</td>\n",
       "      <td>0</td>\n",
       "      <td>204</td>\n",
       "      <td>6173</td>\n",
       "      <td>12.0</td>\n",
       "      <td>...</td>\n",
       "      <td>0.000000</td>\n",
       "      <td>1.101544e+07</td>\n",
       "      <td>0.000000</td>\n",
       "      <td>0</td>\n",
       "      <td>645166.096529</td>\n",
       "      <td>0.000000</td>\n",
       "      <td>45217.104012</td>\n",
       "      <td>0.0000</td>\n",
       "      <td>0.000000</td>\n",
       "      <td>143.494649</td>\n",
       "    </tr>\n",
       "    <tr>\n",
       "      <th>3</th>\n",
       "      <td>4</td>\n",
       "      <td>NaN</td>\n",
       "      <td>2020</td>\n",
       "      <td>As-Built</td>\n",
       "      <td>SW10</td>\n",
       "      <td>4640</td>\n",
       "      <td>0</td>\n",
       "      <td>0</td>\n",
       "      <td>4640</td>\n",
       "      <td>10.0</td>\n",
       "      <td>...</td>\n",
       "      <td>333169.563656</td>\n",
       "      <td>2.591257e+06</td>\n",
       "      <td>0.000000</td>\n",
       "      <td>0</td>\n",
       "      <td>118239.000000</td>\n",
       "      <td>0.000000</td>\n",
       "      <td>45841.000000</td>\n",
       "      <td>0.0000</td>\n",
       "      <td>551198.000000</td>\n",
       "      <td>111.793446</td>\n",
       "    </tr>\n",
       "    <tr>\n",
       "      <th>4</th>\n",
       "      <td>5</td>\n",
       "      <td>NaN</td>\n",
       "      <td>2020</td>\n",
       "      <td>As-Built</td>\n",
       "      <td>SW19</td>\n",
       "      <td>742</td>\n",
       "      <td>0</td>\n",
       "      <td>0</td>\n",
       "      <td>742</td>\n",
       "      <td>3.7</td>\n",
       "      <td>...</td>\n",
       "      <td>0.000000</td>\n",
       "      <td>6.549290e+05</td>\n",
       "      <td>0.000000</td>\n",
       "      <td>0</td>\n",
       "      <td>3819.000000</td>\n",
       "      <td>0.000000</td>\n",
       "      <td>37483.000000</td>\n",
       "      <td>29689.0000</td>\n",
       "      <td>0.000000</td>\n",
       "      <td>14.286358</td>\n",
       "    </tr>\n",
       "    <tr>\n",
       "      <th>...</th>\n",
       "      <td>...</td>\n",
       "      <td>...</td>\n",
       "      <td>...</td>\n",
       "      <td>...</td>\n",
       "      <td>...</td>\n",
       "      <td>...</td>\n",
       "      <td>...</td>\n",
       "      <td>...</td>\n",
       "      <td>...</td>\n",
       "      <td>...</td>\n",
       "      <td>...</td>\n",
       "      <td>...</td>\n",
       "      <td>...</td>\n",
       "      <td>...</td>\n",
       "      <td>...</td>\n",
       "      <td>...</td>\n",
       "      <td>...</td>\n",
       "      <td>...</td>\n",
       "      <td>...</td>\n",
       "      <td>...</td>\n",
       "      <td>...</td>\n",
       "    </tr>\n",
       "    <tr>\n",
       "      <th>443</th>\n",
       "      <td>444</td>\n",
       "      <td>NaN</td>\n",
       "      <td>2023</td>\n",
       "      <td>Stage 2</td>\n",
       "      <td>BA2</td>\n",
       "      <td>6352</td>\n",
       "      <td>0</td>\n",
       "      <td>0</td>\n",
       "      <td>6352</td>\n",
       "      <td>21.3</td>\n",
       "      <td>...</td>\n",
       "      <td>10726.487460</td>\n",
       "      <td>4.648939e+06</td>\n",
       "      <td>0.000000</td>\n",
       "      <td>0</td>\n",
       "      <td>232221.734486</td>\n",
       "      <td>54208.358818</td>\n",
       "      <td>185964.681745</td>\n",
       "      <td>8327.3680</td>\n",
       "      <td>10951.200000</td>\n",
       "      <td>122.381319</td>\n",
       "    </tr>\n",
       "    <tr>\n",
       "      <th>444</th>\n",
       "      <td>445</td>\n",
       "      <td>NaN</td>\n",
       "      <td>2023</td>\n",
       "      <td>Stage 3</td>\n",
       "      <td>NG1</td>\n",
       "      <td>1392</td>\n",
       "      <td>650</td>\n",
       "      <td>353</td>\n",
       "      <td>2395</td>\n",
       "      <td>8.3</td>\n",
       "      <td>...</td>\n",
       "      <td>1870.169761</td>\n",
       "      <td>4.926291e+05</td>\n",
       "      <td>57517.816556</td>\n",
       "      <td>0</td>\n",
       "      <td>19634.700000</td>\n",
       "      <td>0.000000</td>\n",
       "      <td>106327.292683</td>\n",
       "      <td>2563.8606</td>\n",
       "      <td>4188.460356</td>\n",
       "      <td>97.649568</td>\n",
       "    </tr>\n",
       "    <tr>\n",
       "      <th>445</th>\n",
       "      <td>446</td>\n",
       "      <td>NaN</td>\n",
       "      <td>2023</td>\n",
       "      <td>Stage 2</td>\n",
       "      <td>SE21</td>\n",
       "      <td>642</td>\n",
       "      <td>0</td>\n",
       "      <td>0</td>\n",
       "      <td>642</td>\n",
       "      <td>4.0</td>\n",
       "      <td>...</td>\n",
       "      <td>13253.516825</td>\n",
       "      <td>7.799197e+05</td>\n",
       "      <td>84091.000000</td>\n",
       "      <td>361933</td>\n",
       "      <td>28077.000000</td>\n",
       "      <td>0.000000</td>\n",
       "      <td>9685.000000</td>\n",
       "      <td>18468.0000</td>\n",
       "      <td>25417.400000</td>\n",
       "      <td>88.199654</td>\n",
       "    </tr>\n",
       "    <tr>\n",
       "      <th>446</th>\n",
       "      <td>447</td>\n",
       "      <td>NaN</td>\n",
       "      <td>2023</td>\n",
       "      <td>Stage 3</td>\n",
       "      <td>DE23</td>\n",
       "      <td>1078</td>\n",
       "      <td>0</td>\n",
       "      <td>0</td>\n",
       "      <td>1078</td>\n",
       "      <td>3.0</td>\n",
       "      <td>...</td>\n",
       "      <td>0.000000</td>\n",
       "      <td>1.051918e+06</td>\n",
       "      <td>583667.000000</td>\n",
       "      <td>2357</td>\n",
       "      <td>2704.000000</td>\n",
       "      <td>2249.000000</td>\n",
       "      <td>2419.000000</td>\n",
       "      <td>18139.0000</td>\n",
       "      <td>0.000000</td>\n",
       "      <td>6.297829</td>\n",
       "    </tr>\n",
       "    <tr>\n",
       "      <th>447</th>\n",
       "      <td>448</td>\n",
       "      <td>NaN</td>\n",
       "      <td>2023</td>\n",
       "      <td>Stage 3</td>\n",
       "      <td>SW7</td>\n",
       "      <td>93</td>\n",
       "      <td>0</td>\n",
       "      <td>0</td>\n",
       "      <td>93</td>\n",
       "      <td>2.1</td>\n",
       "      <td>...</td>\n",
       "      <td>461.570417</td>\n",
       "      <td>1.920240e+04</td>\n",
       "      <td>0.000000</td>\n",
       "      <td>0</td>\n",
       "      <td>367.830000</td>\n",
       "      <td>0.000000</td>\n",
       "      <td>4721.737000</td>\n",
       "      <td>1842.6300</td>\n",
       "      <td>471.240000</td>\n",
       "      <td>46.930774</td>\n",
       "    </tr>\n",
       "  </tbody>\n",
       "</table>\n",
       "<p>448 rows × 57 columns</p>\n",
       "</div>"
      ],
      "text/plain": [
       "     Project Ref  Building (Where multiple entered)  Calculation Year  \\\n",
       "0              1                                NaN              2022   \n",
       "1              2                                NaN              2020   \n",
       "2              3                                NaN              2023   \n",
       "3              4                                NaN              2020   \n",
       "4              5                                NaN              2020   \n",
       "..           ...                                ...               ...   \n",
       "443          444                                NaN              2023   \n",
       "444          445                                NaN              2023   \n",
       "445          446                                NaN              2023   \n",
       "446          447                                NaN              2023   \n",
       "447          448                                NaN              2023   \n",
       "\n",
       "    Current Calculation Design Stage Location  GIFA New Build (m2)  \\\n",
       "0                           As-Built      SE8                   75   \n",
       "1                           As-Built     SE22                 4631   \n",
       "2                           As-Built      NW8                 5969   \n",
       "3                           As-Built     SW10                 4640   \n",
       "4                           As-Built     SW19                  742   \n",
       "..                               ...      ...                  ...   \n",
       "443                          Stage 2      BA2                 6352   \n",
       "444                          Stage 3      NG1                 1392   \n",
       "445                          Stage 2     SE21                  642   \n",
       "446                          Stage 3     DE23                 1078   \n",
       "447                          Stage 3      SW7                   93   \n",
       "\n",
       "     GIFA (Refurb) (m2)  GIFA (External Structure) (m2)  GIFA (Total)  \\\n",
       "0                     0                               0            75   \n",
       "1                     0                               0          4631   \n",
       "2                     0                             204          6173   \n",
       "3                     0                               0          4640   \n",
       "4                     0                               0           742   \n",
       "..                  ...                             ...           ...   \n",
       "443                   0                               0          6352   \n",
       "444                 650                             353          2395   \n",
       "445                   0                               0           642   \n",
       "446                   0                               0          1078   \n",
       "447                   0                               0            93   \n",
       "\n",
       "     Est. Project Value (£m)  ...  \\\n",
       "0                        0.2  ...   \n",
       "1                       17.0  ...   \n",
       "2                       12.0  ...   \n",
       "3                       10.0  ...   \n",
       "4                        3.7  ...   \n",
       "..                       ...  ...   \n",
       "443                     21.3  ...   \n",
       "444                      8.3  ...   \n",
       "445                      4.0  ...   \n",
       "446                      3.0  ...   \n",
       "447                      2.1  ...   \n",
       "\n",
       "     Timber (Products) Total Carbon (A1-A5) (kgCO2e)  \\\n",
       "0                                        6984.806144   \n",
       "1                                           0.000000   \n",
       "2                                           0.000000   \n",
       "3                                      333169.563656   \n",
       "4                                           0.000000   \n",
       "..                                               ...   \n",
       "443                                     10726.487460   \n",
       "444                                      1870.169761   \n",
       "445                                     13253.516825   \n",
       "446                                         0.000000   \n",
       "447                                       461.570417   \n",
       "\n",
       "    Concrete Total Usage (kg) Masonry & Blockwork Total Usage (m2)  \\\n",
       "0                4.495970e+04                             0.000000   \n",
       "1                6.406200e+06                          3046.300000   \n",
       "2                1.101544e+07                             0.000000   \n",
       "3                2.591257e+06                             0.000000   \n",
       "4                6.549290e+05                             0.000000   \n",
       "..                        ...                                  ...   \n",
       "443              4.648939e+06                             0.000000   \n",
       "444              4.926291e+05                         57517.816556   \n",
       "445              7.799197e+05                         84091.000000   \n",
       "446              1.051918e+06                        583667.000000   \n",
       "447              1.920240e+04                             0.000000   \n",
       "\n",
       "     Other Materials Total Usage (kg) Rebar Total Usage (kg)  \\\n",
       "0                                   0             771.510000   \n",
       "1                                   0          229010.000000   \n",
       "2                                   0          645166.096529   \n",
       "3                                   0          118239.000000   \n",
       "4                                   0            3819.000000   \n",
       "..                                ...                    ...   \n",
       "443                                 0          232221.734486   \n",
       "444                                 0           19634.700000   \n",
       "445                            361933           28077.000000   \n",
       "446                              2357            2704.000000   \n",
       "447                                 0             367.830000   \n",
       "\n",
       "    Steel (Other) Total Usage (kg) Steel (Sections) Total Usage (kg)  \\\n",
       "0                         0.000000                          0.000000   \n",
       "1                         0.000000                      13338.000000   \n",
       "2                         0.000000                      45217.104012   \n",
       "3                         0.000000                      45841.000000   \n",
       "4                         0.000000                      37483.000000   \n",
       "..                             ...                               ...   \n",
       "443                   54208.358818                     185964.681745   \n",
       "444                       0.000000                     106327.292683   \n",
       "445                       0.000000                       9685.000000   \n",
       "446                    2249.000000                       2419.000000   \n",
       "447                       0.000000                       4721.737000   \n",
       "\n",
       "    Timber (Plain) Total Usage (kg) Timber (Products) Total Usage (kg)  \\\n",
       "0                            0.0000                       11568.500000   \n",
       "1                            0.0000                           0.000000   \n",
       "2                            0.0000                           0.000000   \n",
       "3                            0.0000                      551198.000000   \n",
       "4                        29689.0000                           0.000000   \n",
       "..                              ...                                ...   \n",
       "443                       8327.3680                       10951.200000   \n",
       "444                       2563.8606                        4188.460356   \n",
       "445                      18468.0000                       25417.400000   \n",
       "446                      18139.0000                           0.000000   \n",
       "447                       1842.6300                         471.240000   \n",
       "\n",
       "    Rebar Rate Average (kg/m3)  \n",
       "0                    42.042084  \n",
       "1                    87.583045  \n",
       "2                   143.494649  \n",
       "3                   111.793446  \n",
       "4                    14.286358  \n",
       "..                         ...  \n",
       "443                 122.381319  \n",
       "444                  97.649568  \n",
       "445                  88.199654  \n",
       "446                   6.297829  \n",
       "447                  46.930774  \n",
       "\n",
       "[448 rows x 57 columns]"
      ]
     },
     "execution_count": 820,
     "metadata": {},
     "output_type": "execute_result"
    }
   ],
   "source": [
    "df2"
   ]
  },
  {
   "cell_type": "code",
   "execution_count": 821,
   "metadata": {},
   "outputs": [
    {
     "data": {
      "text/plain": [
       "Index(['Project Ref', 'Calculation Design Stage', 'UK District', 'GIFA (m2)',\n",
       "       'Project Value (£m)', 'Value Type', 'Project Sector',\n",
       "       'Construction Type', 'Unnamed: 8', 'Storeys (#)', 'Passivhaus?',\n",
       "       'Basement Type', 'Foundation Type', 'Ground Floor Type',\n",
       "       'Superstructure Type', 'Cladding Type', 'Carbon A1-A3 (kgCO2e)',\n",
       "       'Carbon A1-A5 (kgCO2e)', 'Carbon A1-C4 (kgCO2e)',\n",
       "       'Carbon A1-D (kgCO2e)', 'A1-A3 Rate (kgCO2e/m2)',\n",
       "       'A1-A5 Rate (kgCO2e/m2)', 'A1-C4 Rate (kgCO2e/m2)',\n",
       "       'A1-D Rate (kgCO2e/m2)', 'Construction Carbon (A1-A5) (kgCO2e)',\n",
       "       'Construction % Carbon (A1-A5)', 'Concrete Total Mass (kg)',\n",
       "       'Concrete Total Carbon (A1-A5) (kgCO2e)', 'Concrete % Carbon (A1-A5)',\n",
       "       'Masonry & Blockwork Total Area (m2)',\n",
       "       'Masonry & Blockwork Total Carbon (A1-A5) (kgCO2e)',\n",
       "       'Masonry % Blockwork\\n% Carbon (A1-A5)',\n",
       "       'Reinforcement Total Mass (kg)',\n",
       "       'Reinforcement Total Carbon (A1-A5) (kgCO2e)',\n",
       "       'Reinforcement % Carbon (A1-A5)', 'Steel (Other) Total Mass (kg)',\n",
       "       'Steel (Other) Total Carbon (A1-A5) (kgCO2e)',\n",
       "       'Steel (Other) % Carbon (A1-A5)', 'Steel (Sections) Total Mass (kg)',\n",
       "       'Steel (Sections) Total Carbon (A1-A5) (kgCO2e)',\n",
       "       'Steel (Sections) % Carbon (A1-A5)', 'Timber (Plain) Total Mass (kg)',\n",
       "       'Timber (Plain) Total Carbon (A1-A5) (kgCO2e)',\n",
       "       'Timber (Plain) % Carbon (A1-A5)', 'Timber (Products) Total Mass (kg)',\n",
       "       'Timber (Products) Total Carbon (A1-A5) (kgCO2e)',\n",
       "       'Timber (Products) % Carbon (A1-A5)'],\n",
       "      dtype='object')"
      ]
     },
     "execution_count": 821,
     "metadata": {},
     "output_type": "execute_result"
    }
   ],
   "source": [
    "df1.columns"
   ]
  },
  {
   "cell_type": "code",
   "execution_count": 822,
   "metadata": {},
   "outputs": [
    {
     "data": {
      "text/plain": [
       "Index(['Project Ref', 'Building (Where multiple entered)', 'Calculation Year',\n",
       "       'Current Calculation Design Stage', 'Location', 'GIFA New Build (m2)',\n",
       "       'GIFA (Refurb) (m2)', 'GIFA (External Structure) (m2)', 'GIFA (Total)',\n",
       "       'Est. Project Value (£m)', 'Est Constr cost per m2 (£/m2)',\n",
       "       'Project Sector', 'Type', 'Max Storeys (#)', 'Passivhaus?', 'Basement?',\n",
       "       'Foundation Type', 'Lowest Floor Type', 'Superstructure Type',\n",
       "       'Cladding Type', 'Fire Rating (mins)', 'Carbon A1-A3 (kgCO2e)',\n",
       "       'Sequestration A1-A3 (kgCO2e)', 'Carbon A4 (kgCO2e)',\n",
       "       'Carbon A5a (kgCO2e)', 'Carbon A5w (kgCO2e)',\n",
       "       'Carbon Total A1-A5 (kgCO2e)', 'Carbon B1 (kgCO2e)',\n",
       "       'Carbon C1 (kgCO2e)', 'Carbon C2 (kgCO2e)', 'Carbon C3-C4 (kgCO2e)',\n",
       "       'Carbon Total A1-C4 (kgCO2e)', 'Carbon D (kgCO2e)',\n",
       "       'Carbon Total A1-D (kgCO2e)', 'A1-A3 Rate (kgCO2e/m2)',\n",
       "       'A1-A5 Rate (kgCO2e/m2)', 'A1-C4 Rate (kgCO2e/m2)',\n",
       "       'A1-D Rate (kgCO2e/m2)', 'SCORS Rating', 'Construction Carbon (kgCO2e)',\n",
       "       'Concrete Total Carbon (A1-A5) (kgCO2e)',\n",
       "       'Masonry & Blockwork Total Carbon (A1-A5) (kgCO2e)',\n",
       "       'Other Total Carbon (A1-A5) (kgCO2e)',\n",
       "       'Reinforcement Total Carbon (A1-A5) (kgCO2e)',\n",
       "       'Steel (Other) Total Carbon (A1-A5) (kgCO2e)',\n",
       "       'Steel (Sections) Total Carbon (A1-A5) (kgCO2e)',\n",
       "       'Timber (Plain) Total Carbon (A1-A5) (kgCO2e)',\n",
       "       'Timber (Products) Total Carbon (A1-A5) (kgCO2e)',\n",
       "       'Concrete Total Usage (kg)', 'Masonry & Blockwork Total Usage (m2)',\n",
       "       'Other Materials Total Usage (kg)', 'Rebar Total Usage (kg)',\n",
       "       'Steel (Other) Total Usage (kg)', 'Steel (Sections) Total Usage (kg)',\n",
       "       'Timber (Plain) Total Usage (kg)', 'Timber (Products) Total Usage (kg)',\n",
       "       'Rebar Rate Average (kg/m3)'],\n",
       "      dtype='object')"
      ]
     },
     "execution_count": 822,
     "metadata": {},
     "output_type": "execute_result"
    }
   ],
   "source": [
    "df2.columns"
   ]
  },
  {
   "cell_type": "code",
   "execution_count": 823,
   "metadata": {},
   "outputs": [],
   "source": [
    "def combine_construction_dataframes(df1, df2):\n",
    "    # Rename df1 columns to match df2 where appropriate\n",
    "    df1_rename_dict = {\n",
    "        'GIFA (m2)': 'GIFA (Total)',\n",
    "        'Project Value (£m)': 'Est. Project Value (£m)',\n",
    "        'Storeys (#)': 'Max Storeys (#)',\n",
    "        'Basement Type': 'Basement?',\n",
    "        'Ground Floor Type': 'Lowest Floor Type',\n",
    "        'Carbon A1-A3 (kgCO2e)': 'Carbon A1-A3 (kgCO2e)',\n",
    "        'Carbon A1-A5 (kgCO2e)': 'Carbon Total A1-A5 (kgCO2e)',\n",
    "        'Carbon A1-C4 (kgCO2e)': 'Carbon Total A1-C4 (kgCO2e)',\n",
    "        'Carbon A1-D (kgCO2e)': 'Carbon Total A1-D (kgCO2e)',\n",
    "        'A1-A3 Rate (kgCO2e/m2)': 'A1-A3 Rate (kgCO2e/m2)',\n",
    "        'A1-A5 Rate (kgCO2e/m2)': 'A1-A5 Rate (kgCO2e/m2)',\n",
    "        'A1-C4 Rate (kgCO2e/m2)': 'A1-C4 Rate (kgCO2e/m2)',\n",
    "        'A1-D Rate (kgCO2e/m2)': 'A1-D Rate (kgCO2e/m2)',\n",
    "        'Construction Carbon (A1-A5) (kgCO2e)': 'Construction Carbon (kgCO2e)',\n",
    "        'Concrete Total Mass (kg)': 'Concrete Total Usage (kg)',\n",
    "        'Masonry & Blockwork Total Area (m2)': 'Masonry & Blockwork Total Usage (m2)',\n",
    "        'Reinforcement Total Mass (kg)': 'Rebar Total Usage (kg)',\n",
    "        'Steel (Other) Total Mass (kg)': 'Steel (Other) Total Usage (kg)',\n",
    "        'Steel (Sections) Total Mass (kg)': 'Steel (Sections) Total Usage (kg)',\n",
    "        'Timber (Plain) Total Mass (kg)': 'Timber (Plain) Total Usage (kg)',\n",
    "        'Timber (Products) Total Mass (kg)': 'Timber (Products) Total Usage (kg)',\n",
    "        'Calculation Design Stage': 'Current Calculation Design Stage',\n",
    "        'UK District': 'Location',\n",
    "         'Construction Type': 'Type'\n",
    "    }\n",
    "    \n",
    "    # Create copy of df1 and rename columns\n",
    "    df1_cleaned = df1.copy()\n",
    "    df1_cleaned = df1_cleaned.rename(columns=df1_rename_dict)\n",
    "    \n",
    "    # Convert basement type to boolean in df1 to match df2\n",
    "    if 'Basement?' in df1_cleaned.columns:\n",
    "        df1_cleaned['Basement?'] = df1_cleaned['Basement?'].notna()\n",
    "    \n",
    "    # Add source column to identify which dataset the row came from\n",
    "    df1_cleaned['Data_Source'] = 'Dataset 1'\n",
    "    df2['Data_Source'] = 'Dataset 2'\n",
    "    \n",
    "    # Identify common columns between the two dataframes\n",
    "    common_columns = list(set(df1_cleaned.columns) & set(df2.columns))\n",
    "    \n",
    "    # Add 'Data_Source' to common columns if it's not already there\n",
    "    if 'Data_Source' not in common_columns:\n",
    "        common_columns.append('Data_Source')\n",
    "    \n",
    "    # Combine the dataframes using only common columns\n",
    "    combined_df = pd.concat([\n",
    "        df1_cleaned[common_columns],\n",
    "        df2[common_columns]\n",
    "    ], ignore_index=True)\n",
    "    \n",
    "    return combined_df\n",
    "\n",
    "\n",
    "df = combine_construction_dataframes(df1,df2)"
   ]
  },
  {
   "cell_type": "code",
   "execution_count": 824,
   "metadata": {},
   "outputs": [
    {
     "name": "stdout",
     "output_type": "stream",
     "text": [
      "18\n"
     ]
    }
   ],
   "source": [
    "print(min(df['GIFA (Total)']))"
   ]
  },
  {
   "cell_type": "code",
   "execution_count": 825,
   "metadata": {},
   "outputs": [
    {
     "data": {
      "text/plain": [
       "Index(['A1-D Rate (kgCO2e/m2)',\n",
       "       'Masonry & Blockwork Total Carbon (A1-A5) (kgCO2e)',\n",
       "       'Masonry & Blockwork Total Usage (m2)', 'Carbon Total A1-D (kgCO2e)',\n",
       "       'Steel (Sections) Total Carbon (A1-A5) (kgCO2e)',\n",
       "       'Timber (Products) Total Carbon (A1-A5) (kgCO2e)',\n",
       "       'Timber (Plain) Total Usage (kg)', 'Concrete Total Usage (kg)',\n",
       "       'A1-A3 Rate (kgCO2e/m2)', 'Steel (Other) Total Carbon (A1-A5) (kgCO2e)',\n",
       "       'Data_Source', 'Current Calculation Design Stage', 'Passivhaus?',\n",
       "       'Construction Carbon (kgCO2e)', 'Location', 'Superstructure Type',\n",
       "       'Carbon Total A1-C4 (kgCO2e)',\n",
       "       'Reinforcement Total Carbon (A1-A5) (kgCO2e)', 'Carbon A1-A3 (kgCO2e)',\n",
       "       'GIFA (Total)', 'Lowest Floor Type', 'Foundation Type',\n",
       "       'Concrete Total Carbon (A1-A5) (kgCO2e)', 'Rebar Total Usage (kg)',\n",
       "       'Steel (Other) Total Usage (kg)', 'Est. Project Value (£m)',\n",
       "       'Max Storeys (#)', 'Timber (Plain) Total Carbon (A1-A5) (kgCO2e)',\n",
       "       'Project Sector', 'Type', 'Steel (Sections) Total Usage (kg)',\n",
       "       'Basement?', 'Carbon Total A1-A5 (kgCO2e)', 'A1-A5 Rate (kgCO2e/m2)',\n",
       "       'A1-C4 Rate (kgCO2e/m2)', 'Cladding Type',\n",
       "       'Timber (Products) Total Usage (kg)', 'Project Ref'],\n",
       "      dtype='object')"
      ]
     },
     "execution_count": 825,
     "metadata": {},
     "output_type": "execute_result"
    }
   ],
   "source": [
    "df.columns"
   ]
  },
  {
   "cell_type": "code",
   "execution_count": 826,
   "metadata": {},
   "outputs": [],
   "source": [
    "superstructure_classification = {\n",
    "    \"Concrete (In-Situ)\": {\n",
    "        \"unit_weight\": \"High\",\n",
    "        \"concrete_elements\": \"Frames&Floors\"\n",
    "    },\n",
    "    \"Steel Frame/Timber\": {\n",
    "        \"unit_weight\": \"Low\",\n",
    "        \"concrete_elements\": \"None\"\n",
    "    },\n",
    "    \"Masonry/Timber\": {\n",
    "        \"unit_weight\": \"Medium\",\n",
    "        \"concrete_elements\": \"None\"\n",
    "    },\n",
    "    \"Steel Frame/Composite\": {\n",
    "        \"unit_weight\": \"Medium\",\n",
    "        \"concrete_elements\": \"Floors\"\n",
    "    },\n",
    "    \"Timber Frame (Glulam/CLT)\": {\n",
    "        \"unit_weight\": \"Low\",\n",
    "        \"concrete_elements\": \"None\"\n",
    "    },\n",
    "    \"Steel Frame/Other\": {\n",
    "        \"unit_weight\": \"Low\",\n",
    "        \"concrete_elements\": \"None\"\n",
    "    },\n",
    "    \"Other\": {\n",
    "        \"unit_weight\": \"Low\",\n",
    "        \"concrete_elements\": \"Varies\"\n",
    "    },\n",
    "    \"Masonry/Concrete\": {\n",
    "        \"unit_weight\": \"Medium\",\n",
    "        \"concrete_elements\": \"Floors\"\n",
    "    },\n",
    "    \"Steel Frame/Precast\": {\n",
    "        \"unit_weight\": \"Low\",\n",
    "        \"concrete_elements\": \"Floors\"\n",
    "    },\n",
    "    \"Timber Frame (Softwood)\": {\n",
    "        \"unit_weight\": \"Low\",\n",
    "        \"concrete_elements\": \"None\"\n",
    "    },\n",
    "    \"Concrete (Precast)\": {\n",
    "        \"unit_weight\": \"High\",\n",
    "        \"concrete_elements\": \"Frames&Floors\"\n",
    "    },\n",
    "    \"Concrete (PT)\": {\n",
    "        \"unit_weight\": \"High\",\n",
    "        \"concrete_elements\": \"Frames&Floors\"\n",
    "    }\n",
    "}\n",
    "df['GIFA/Storey'] = df['GIFA (Total)'] / df['Max Storeys (#)']\n",
    "df['is_highrise'] = df['Max Storeys (#)'] > 10\n",
    "df['concrete_elements'] = df['Superstructure Type'].map(lambda x : superstructure_classification[x]['concrete_elements'])\n",
    "df['unit_weight'] = df['Superstructure Type'].map(lambda x : superstructure_classification[x]['unit_weight'])\n",
    "df = df[df['Carbon A1-A3 (kgCO2e)'] > 5000]"
   ]
  },
  {
   "cell_type": "code",
   "execution_count": 827,
   "metadata": {},
   "outputs": [
    {
     "data": {
      "image/png": "[encoded data removed]",
      "text/plain": [
       "<Figure size 1000x600 with 1 Axes>"
      ]
     },
     "metadata": {},
     "output_type": "display_data"
    },
    {
     "data": {
      "image/png": "[encoded data removed]",
      "text/plain": [
       "<Figure size 1000x600 with 1 Axes>"
      ]
     },
     "metadata": {},
     "output_type": "display_data"
    }
   ],
   "source": [
    "import matplotlib.pyplot as plt\n",
    "import seaborn as sns\n",
    "\n",
    "plt.figure(figsize=(10, 6))  # Increase figure size\n",
    "sns.histplot(data=df['Project Sector'])  # Adjust number of bins\n",
    "plt.title('Distribution of project sector type')\n",
    "plt.xlabel('type of sector')\n",
    "plt.ylabel('Count')\n",
    "plt.xticks(rotation=45)  # Rotate x-axis labels for better readability\n",
    "plt.tight_layout()\n",
    "plt.show()\n",
    "\n",
    "\n",
    "plt.figure(figsize=(10, 6))  # Increase figure size\n",
    "sns.histplot(data=df['Type'])  # Adjust number of bins\n",
    "plt.title('Distribution of construction type')\n",
    "plt.xlabel('type ')\n",
    "plt.ylabel('Count')\n",
    "plt.xticks(rotation=45)  # Rotate x-axis labels for better readability\n",
    "plt.tight_layout()\n",
    "plt.show()"
   ]
  },
  {
   "cell_type": "code",
   "execution_count": 828,
   "metadata": {},
   "outputs": [],
   "source": [
    "from sklearn.cluster import KMeans\n",
    "size_height_features = ['GIFA (Total)', 'Max Storeys (#)', 'GIFA/Storey']\n",
    "kmeans = KMeans(n_clusters=5, random_state=42)\n",
    "df['building_size_cluster'] = kmeans.fit_predict(\n",
    "    df[size_height_features]\n",
    ")\n"
   ]
  },
  {
   "cell_type": "code",
   "execution_count": 829,
   "metadata": {},
   "outputs": [],
   "source": [
    "# Categorical features \n",
    "cat_features = [\n",
    "    # 'Current Calculation Design Stage',\n",
    "    'Basement?',  \n",
    "    'Foundation Type',\n",
    "    'Lowest Floor Type', \n",
    "    'Superstructure Type',\n",
    "    'Cladding Type',\n",
    "    'Project Sector',\n",
    "    'Type',\n",
    "    'concrete_elements',\n",
    "    'unit_weight',\n",
    "    # 'building_size_cluster',\n",
    "    # 'is_highrise'\n",
    "]\n",
    "\n",
    "# Numerical features\n",
    "num_features = [\n",
    "    # 'Est. Project Value (£m)',\n",
    "    'GIFA/Storey',\n",
    "    'Max Storeys (#)',  \n",
    "    'GIFA (Total)',  \n",
    "    # 'A1-A3 Rate (kgCO2e/m2)'\n",
    " ]\n",
    "\n",
    "quantity_targets = [\n",
    "    'Rebar Total Usage (kg)',  \n",
    "    'Masonry & Blockwork Total Usage (m2)',\n",
    "    'Concrete Total Usage (kg)', \n",
    "    'Steel (Sections) Total Usage (kg)', \n",
    "    'Steel (Other) Total Usage (kg)', \n",
    "    'Timber (Products) Total Usage (kg)', \n",
    "    'Timber (Plain) Total Usage (kg)'  \n",
    "]\n",
    "\n",
    "all_features = cat_features + num_features\n",
    "\n",
    "target = ['Carbon A1-A3 (kgCO2e)']\n",
    "\n",
    "all_cols = all_features + quantity_targets + target + ['Carbon Total A1-A5 (kgCO2e)']  # Changed from 'Carbon A1-A5 (kgCO2e)'"
   ]
  },
  {
   "cell_type": "code",
   "execution_count": 830,
   "metadata": {},
   "outputs": [
    {
     "data": {
      "text/html": [
       "<div>\n",
       "<style scoped>\n",
       "    .dataframe tbody tr th:only-of-type {\n",
       "        vertical-align: middle;\n",
       "    }\n",
       "\n",
       "    .dataframe tbody tr th {\n",
       "        vertical-align: top;\n",
       "    }\n",
       "\n",
       "    .dataframe thead th {\n",
       "        text-align: right;\n",
       "    }\n",
       "</style>\n",
       "<table border=\"1\" class=\"dataframe\">\n",
       "  <thead>\n",
       "    <tr style=\"text-align: right;\">\n",
       "      <th></th>\n",
       "      <th>Basement?</th>\n",
       "      <th>Foundation Type</th>\n",
       "      <th>Lowest Floor Type</th>\n",
       "      <th>Superstructure Type</th>\n",
       "      <th>Cladding Type</th>\n",
       "      <th>Project Sector</th>\n",
       "      <th>Type</th>\n",
       "      <th>concrete_elements</th>\n",
       "      <th>unit_weight</th>\n",
       "      <th>GIFA/Storey</th>\n",
       "      <th>...</th>\n",
       "      <th>GIFA (Total)</th>\n",
       "      <th>Rebar Total Usage (kg)</th>\n",
       "      <th>Masonry &amp; Blockwork Total Usage (m2)</th>\n",
       "      <th>Concrete Total Usage (kg)</th>\n",
       "      <th>Steel (Sections) Total Usage (kg)</th>\n",
       "      <th>Steel (Other) Total Usage (kg)</th>\n",
       "      <th>Timber (Products) Total Usage (kg)</th>\n",
       "      <th>Timber (Plain) Total Usage (kg)</th>\n",
       "      <th>Carbon A1-A3 (kgCO2e)</th>\n",
       "      <th>Carbon Total A1-A5 (kgCO2e)</th>\n",
       "    </tr>\n",
       "  </thead>\n",
       "  <tbody>\n",
       "    <tr>\n",
       "      <th>0</th>\n",
       "      <td>False</td>\n",
       "      <td>Mass Pads/Strips</td>\n",
       "      <td>Suspended Precast</td>\n",
       "      <td>Masonry/Timber</td>\n",
       "      <td>Masonry Only</td>\n",
       "      <td>Residential (Multi)</td>\n",
       "      <td>New Build (Greenfield)</td>\n",
       "      <td>None</td>\n",
       "      <td>Medium</td>\n",
       "      <td>2821.000000</td>\n",
       "      <td>...</td>\n",
       "      <td>5642</td>\n",
       "      <td>7.617000e+03</td>\n",
       "      <td>21635.000000</td>\n",
       "      <td>2.639542e+06</td>\n",
       "      <td>2450.000000</td>\n",
       "      <td>6150.000000</td>\n",
       "      <td>109390.000000</td>\n",
       "      <td>45863.0000</td>\n",
       "      <td>7.762630e+05</td>\n",
       "      <td>1.136232e+06</td>\n",
       "    </tr>\n",
       "    <tr>\n",
       "      <th>1</th>\n",
       "      <td>False</td>\n",
       "      <td>Piles (Pile Caps)</td>\n",
       "      <td>Suspended RC</td>\n",
       "      <td>Concrete (In-Situ)</td>\n",
       "      <td>Masonry Only</td>\n",
       "      <td>Residential (Multi)</td>\n",
       "      <td>New Build (Brownfield)</td>\n",
       "      <td>Frames&amp;Floors</td>\n",
       "      <td>High</td>\n",
       "      <td>4513.142857</td>\n",
       "      <td>...</td>\n",
       "      <td>31592</td>\n",
       "      <td>1.836606e+06</td>\n",
       "      <td>12066.000000</td>\n",
       "      <td>3.571825e+07</td>\n",
       "      <td>0.000000</td>\n",
       "      <td>5845.000000</td>\n",
       "      <td>0.000000</td>\n",
       "      <td>34585.0000</td>\n",
       "      <td>8.429603e+06</td>\n",
       "      <td>9.825522e+06</td>\n",
       "    </tr>\n",
       "    <tr>\n",
       "      <th>2</th>\n",
       "      <td>False</td>\n",
       "      <td>Piles (Pile Caps)</td>\n",
       "      <td>Suspended RC</td>\n",
       "      <td>Concrete (In-Situ)</td>\n",
       "      <td>Masonry Only</td>\n",
       "      <td>Educational</td>\n",
       "      <td>New Build (Brownfield)</td>\n",
       "      <td>Frames&amp;Floors</td>\n",
       "      <td>High</td>\n",
       "      <td>3287.333333</td>\n",
       "      <td>...</td>\n",
       "      <td>9862</td>\n",
       "      <td>5.412340e+05</td>\n",
       "      <td>7160.000000</td>\n",
       "      <td>1.301498e+07</td>\n",
       "      <td>55614.000000</td>\n",
       "      <td>0.000000</td>\n",
       "      <td>0.000000</td>\n",
       "      <td>1947.0000</td>\n",
       "      <td>3.119642e+06</td>\n",
       "      <td>3.637755e+06</td>\n",
       "    </tr>\n",
       "    <tr>\n",
       "      <th>3</th>\n",
       "      <td>False</td>\n",
       "      <td>Piles (Pile Caps)</td>\n",
       "      <td>Suspended RC</td>\n",
       "      <td>Concrete (In-Situ)</td>\n",
       "      <td>Masonry/SFS</td>\n",
       "      <td>Residential (Multi)</td>\n",
       "      <td>New Build (Brownfield)</td>\n",
       "      <td>Frames&amp;Floors</td>\n",
       "      <td>High</td>\n",
       "      <td>2155.000000</td>\n",
       "      <td>...</td>\n",
       "      <td>17240</td>\n",
       "      <td>1.124431e+06</td>\n",
       "      <td>6170.000000</td>\n",
       "      <td>2.084588e+07</td>\n",
       "      <td>93630.000000</td>\n",
       "      <td>0.000000</td>\n",
       "      <td>6078.000000</td>\n",
       "      <td>0.0000</td>\n",
       "      <td>5.077415e+06</td>\n",
       "      <td>5.844220e+06</td>\n",
       "    </tr>\n",
       "    <tr>\n",
       "      <th>4</th>\n",
       "      <td>False</td>\n",
       "      <td>Mass Pads/Strips</td>\n",
       "      <td>Suspended Precast</td>\n",
       "      <td>Masonry/Timber</td>\n",
       "      <td>Masonry Only</td>\n",
       "      <td>Residential (Multi)</td>\n",
       "      <td>New Build (Greenfield)</td>\n",
       "      <td>None</td>\n",
       "      <td>Medium</td>\n",
       "      <td>763.333333</td>\n",
       "      <td>...</td>\n",
       "      <td>2290</td>\n",
       "      <td>0.000000e+00</td>\n",
       "      <td>4165.000000</td>\n",
       "      <td>9.994700e+05</td>\n",
       "      <td>30082.000000</td>\n",
       "      <td>0.000000</td>\n",
       "      <td>0.000000</td>\n",
       "      <td>25341.0000</td>\n",
       "      <td>2.527960e+05</td>\n",
       "      <td>3.287980e+05</td>\n",
       "    </tr>\n",
       "    <tr>\n",
       "      <th>...</th>\n",
       "      <td>...</td>\n",
       "      <td>...</td>\n",
       "      <td>...</td>\n",
       "      <td>...</td>\n",
       "      <td>...</td>\n",
       "      <td>...</td>\n",
       "      <td>...</td>\n",
       "      <td>...</td>\n",
       "      <td>...</td>\n",
       "      <td>...</td>\n",
       "      <td>...</td>\n",
       "      <td>...</td>\n",
       "      <td>...</td>\n",
       "      <td>...</td>\n",
       "      <td>...</td>\n",
       "      <td>...</td>\n",
       "      <td>...</td>\n",
       "      <td>...</td>\n",
       "      <td>...</td>\n",
       "      <td>...</td>\n",
       "      <td>...</td>\n",
       "    </tr>\n",
       "    <tr>\n",
       "      <th>718</th>\n",
       "      <td>Partial Footprint</td>\n",
       "      <td>Piles (Pile Caps)</td>\n",
       "      <td>Suspended RC</td>\n",
       "      <td>Steel Frame/Composite</td>\n",
       "      <td>Masonry/SFS</td>\n",
       "      <td>Commercial</td>\n",
       "      <td>New Build (Brownfield)</td>\n",
       "      <td>Floors</td>\n",
       "      <td>Medium</td>\n",
       "      <td>907.428571</td>\n",
       "      <td>...</td>\n",
       "      <td>6352</td>\n",
       "      <td>2.322217e+05</td>\n",
       "      <td>0.000000</td>\n",
       "      <td>4.648939e+06</td>\n",
       "      <td>185964.681745</td>\n",
       "      <td>54208.358818</td>\n",
       "      <td>10951.200000</td>\n",
       "      <td>8327.3680</td>\n",
       "      <td>1.497106e+06</td>\n",
       "      <td>1.768386e+06</td>\n",
       "    </tr>\n",
       "    <tr>\n",
       "      <th>719</th>\n",
       "      <td>Partial Footprint</td>\n",
       "      <td>Reinforced Pads/Strips</td>\n",
       "      <td>Ground Bearing RC</td>\n",
       "      <td>Steel Frame/Composite</td>\n",
       "      <td>Masonry/SFS</td>\n",
       "      <td>Cultural/Public</td>\n",
       "      <td>Mixed New Build/Refurb</td>\n",
       "      <td>Floors</td>\n",
       "      <td>Medium</td>\n",
       "      <td>479.000000</td>\n",
       "      <td>...</td>\n",
       "      <td>2395</td>\n",
       "      <td>1.963470e+04</td>\n",
       "      <td>57517.816556</td>\n",
       "      <td>4.926291e+05</td>\n",
       "      <td>106327.292683</td>\n",
       "      <td>0.000000</td>\n",
       "      <td>4188.460356</td>\n",
       "      <td>2563.8606</td>\n",
       "      <td>2.972822e+05</td>\n",
       "      <td>3.743227e+05</td>\n",
       "    </tr>\n",
       "    <tr>\n",
       "      <th>720</th>\n",
       "      <td>NaN</td>\n",
       "      <td>Reinforced Pads/Strips</td>\n",
       "      <td>Suspended RC</td>\n",
       "      <td>Masonry/Timber</td>\n",
       "      <td>Masonry/Timber</td>\n",
       "      <td>Residential (Single)</td>\n",
       "      <td>New Build (Greenfield)</td>\n",
       "      <td>None</td>\n",
       "      <td>Medium</td>\n",
       "      <td>321.000000</td>\n",
       "      <td>...</td>\n",
       "      <td>642</td>\n",
       "      <td>2.807700e+04</td>\n",
       "      <td>84091.000000</td>\n",
       "      <td>7.799197e+05</td>\n",
       "      <td>9685.000000</td>\n",
       "      <td>0.000000</td>\n",
       "      <td>25417.400000</td>\n",
       "      <td>18468.0000</td>\n",
       "      <td>2.118736e+05</td>\n",
       "      <td>2.833774e+05</td>\n",
       "    </tr>\n",
       "    <tr>\n",
       "      <th>721</th>\n",
       "      <td>NaN</td>\n",
       "      <td>Mass Pads/Strips</td>\n",
       "      <td>Suspended Precast</td>\n",
       "      <td>Masonry/Timber</td>\n",
       "      <td>Masonry Only</td>\n",
       "      <td>Residential (Multi)</td>\n",
       "      <td>New Build (Greenfield)</td>\n",
       "      <td>None</td>\n",
       "      <td>Medium</td>\n",
       "      <td>539.000000</td>\n",
       "      <td>...</td>\n",
       "      <td>1078</td>\n",
       "      <td>2.704000e+03</td>\n",
       "      <td>583667.000000</td>\n",
       "      <td>1.051918e+06</td>\n",
       "      <td>2419.000000</td>\n",
       "      <td>2249.000000</td>\n",
       "      <td>0.000000</td>\n",
       "      <td>18139.0000</td>\n",
       "      <td>1.943459e+05</td>\n",
       "      <td>2.644997e+05</td>\n",
       "    </tr>\n",
       "    <tr>\n",
       "      <th>722</th>\n",
       "      <td>NaN</td>\n",
       "      <td>Reinforced Pads/Strips</td>\n",
       "      <td>Other</td>\n",
       "      <td>Steel Frame/Timber</td>\n",
       "      <td>Masonry/SFS</td>\n",
       "      <td>Cultural/Public</td>\n",
       "      <td>Mixed New Build/Refurb</td>\n",
       "      <td>None</td>\n",
       "      <td>Low</td>\n",
       "      <td>23.250000</td>\n",
       "      <td>...</td>\n",
       "      <td>93</td>\n",
       "      <td>3.678300e+02</td>\n",
       "      <td>0.000000</td>\n",
       "      <td>1.920240e+04</td>\n",
       "      <td>4721.737000</td>\n",
       "      <td>0.000000</td>\n",
       "      <td>471.240000</td>\n",
       "      <td>1842.6300</td>\n",
       "      <td>1.148331e+04</td>\n",
       "      <td>2.699214e+04</td>\n",
       "    </tr>\n",
       "  </tbody>\n",
       "</table>\n",
       "<p>711 rows × 21 columns</p>\n",
       "</div>"
      ],
      "text/plain": [
       "             Basement?         Foundation Type  Lowest Floor Type  \\\n",
       "0                False        Mass Pads/Strips  Suspended Precast   \n",
       "1                False       Piles (Pile Caps)       Suspended RC   \n",
       "2                False       Piles (Pile Caps)       Suspended RC   \n",
       "3                False       Piles (Pile Caps)       Suspended RC   \n",
       "4                False        Mass Pads/Strips  Suspended Precast   \n",
       "..                 ...                     ...                ...   \n",
       "718  Partial Footprint       Piles (Pile Caps)       Suspended RC   \n",
       "719  Partial Footprint  Reinforced Pads/Strips  Ground Bearing RC   \n",
       "720                NaN  Reinforced Pads/Strips       Suspended RC   \n",
       "721                NaN        Mass Pads/Strips  Suspended Precast   \n",
       "722                NaN  Reinforced Pads/Strips              Other   \n",
       "\n",
       "       Superstructure Type   Cladding Type        Project Sector  \\\n",
       "0           Masonry/Timber    Masonry Only   Residential (Multi)   \n",
       "1       Concrete (In-Situ)    Masonry Only   Residential (Multi)   \n",
       "2       Concrete (In-Situ)    Masonry Only           Educational   \n",
       "3       Concrete (In-Situ)     Masonry/SFS   Residential (Multi)   \n",
       "4           Masonry/Timber    Masonry Only   Residential (Multi)   \n",
       "..                     ...             ...                   ...   \n",
       "718  Steel Frame/Composite     Masonry/SFS            Commercial   \n",
       "719  Steel Frame/Composite     Masonry/SFS       Cultural/Public   \n",
       "720         Masonry/Timber  Masonry/Timber  Residential (Single)   \n",
       "721         Masonry/Timber    Masonry Only   Residential (Multi)   \n",
       "722     Steel Frame/Timber     Masonry/SFS       Cultural/Public   \n",
       "\n",
       "                       Type concrete_elements unit_weight  GIFA/Storey  ...  \\\n",
       "0    New Build (Greenfield)              None      Medium  2821.000000  ...   \n",
       "1    New Build (Brownfield)     Frames&Floors        High  4513.142857  ...   \n",
       "2    New Build (Brownfield)     Frames&Floors        High  3287.333333  ...   \n",
       "3    New Build (Brownfield)     Frames&Floors        High  2155.000000  ...   \n",
       "4    New Build (Greenfield)              None      Medium   763.333333  ...   \n",
       "..                      ...               ...         ...          ...  ...   \n",
       "718  New Build (Brownfield)            Floors      Medium   907.428571  ...   \n",
       "719  Mixed New Build/Refurb            Floors      Medium   479.000000  ...   \n",
       "720  New Build (Greenfield)              None      Medium   321.000000  ...   \n",
       "721  New Build (Greenfield)              None      Medium   539.000000  ...   \n",
       "722  Mixed New Build/Refurb              None         Low    23.250000  ...   \n",
       "\n",
       "     GIFA (Total)  Rebar Total Usage (kg)  \\\n",
       "0            5642            7.617000e+03   \n",
       "1           31592            1.836606e+06   \n",
       "2            9862            5.412340e+05   \n",
       "3           17240            1.124431e+06   \n",
       "4            2290            0.000000e+00   \n",
       "..            ...                     ...   \n",
       "718          6352            2.322217e+05   \n",
       "719          2395            1.963470e+04   \n",
       "720           642            2.807700e+04   \n",
       "721          1078            2.704000e+03   \n",
       "722            93            3.678300e+02   \n",
       "\n",
       "     Masonry & Blockwork Total Usage (m2)  Concrete Total Usage (kg)  \\\n",
       "0                            21635.000000               2.639542e+06   \n",
       "1                            12066.000000               3.571825e+07   \n",
       "2                             7160.000000               1.301498e+07   \n",
       "3                             6170.000000               2.084588e+07   \n",
       "4                             4165.000000               9.994700e+05   \n",
       "..                                    ...                        ...   \n",
       "718                              0.000000               4.648939e+06   \n",
       "719                          57517.816556               4.926291e+05   \n",
       "720                          84091.000000               7.799197e+05   \n",
       "721                         583667.000000               1.051918e+06   \n",
       "722                              0.000000               1.920240e+04   \n",
       "\n",
       "     Steel (Sections) Total Usage (kg)  Steel (Other) Total Usage (kg)  \\\n",
       "0                          2450.000000                     6150.000000   \n",
       "1                             0.000000                     5845.000000   \n",
       "2                         55614.000000                        0.000000   \n",
       "3                         93630.000000                        0.000000   \n",
       "4                         30082.000000                        0.000000   \n",
       "..                                 ...                             ...   \n",
       "718                      185964.681745                    54208.358818   \n",
       "719                      106327.292683                        0.000000   \n",
       "720                        9685.000000                        0.000000   \n",
       "721                        2419.000000                     2249.000000   \n",
       "722                        4721.737000                        0.000000   \n",
       "\n",
       "     Timber (Products) Total Usage (kg)  Timber (Plain) Total Usage (kg)  \\\n",
       "0                         109390.000000                       45863.0000   \n",
       "1                              0.000000                       34585.0000   \n",
       "2                              0.000000                        1947.0000   \n",
       "3                           6078.000000                           0.0000   \n",
       "4                              0.000000                       25341.0000   \n",
       "..                                  ...                              ...   \n",
       "718                        10951.200000                        8327.3680   \n",
       "719                         4188.460356                        2563.8606   \n",
       "720                        25417.400000                       18468.0000   \n",
       "721                            0.000000                       18139.0000   \n",
       "722                          471.240000                        1842.6300   \n",
       "\n",
       "     Carbon A1-A3 (kgCO2e)  Carbon Total A1-A5 (kgCO2e)  \n",
       "0             7.762630e+05                 1.136232e+06  \n",
       "1             8.429603e+06                 9.825522e+06  \n",
       "2             3.119642e+06                 3.637755e+06  \n",
       "3             5.077415e+06                 5.844220e+06  \n",
       "4             2.527960e+05                 3.287980e+05  \n",
       "..                     ...                          ...  \n",
       "718           1.497106e+06                 1.768386e+06  \n",
       "719           2.972822e+05                 3.743227e+05  \n",
       "720           2.118736e+05                 2.833774e+05  \n",
       "721           1.943459e+05                 2.644997e+05  \n",
       "722           1.148331e+04                 2.699214e+04  \n",
       "\n",
       "[711 rows x 21 columns]"
      ]
     },
     "execution_count": 830,
     "metadata": {},
     "output_type": "execute_result"
    }
   ],
   "source": [
    "df = df[all_cols]\n",
    "df"
   ]
  },
  {
   "cell_type": "code",
   "execution_count": 831,
   "metadata": {},
   "outputs": [
    {
     "name": "stdout",
     "output_type": "stream",
     "text": [
      "Basement?                                       Full Footprint\n",
      "Foundation Type                              Piles (Pile Caps)\n",
      "Lowest Floor Type                                 Suspended RC\n",
      "Superstructure Type                         Steel Frame/Timber\n",
      "Cladding Type                                     Masonry Only\n",
      "Project Sector                                 Cultural/Public\n",
      "Type                                    Mixed New Build/Refurb\n",
      "concrete_elements                                         None\n",
      "unit_weight                                                Low\n",
      "GIFA/Storey                                        1057.333333\n",
      "Max Storeys (#)                                              6\n",
      "GIFA (Total)                                              6344\n",
      "Rebar Total Usage (kg)                                 14200.0\n",
      "Masonry & Blockwork Total Usage (m2)                       0.0\n",
      "Concrete Total Usage (kg)                        746221.003294\n",
      "Steel (Sections) Total Usage (kg)                      43670.0\n",
      "Steel (Other) Total Usage (kg)                          2165.1\n",
      "Timber (Products) Total Usage (kg)                         0.0\n",
      "Timber (Plain) Total Usage (kg)                        35490.0\n",
      "Carbon A1-A3 (kgCO2e)                            206476.490848\n",
      "Carbon Total A1-A5 (kgCO2e)                      407423.094115\n",
      "Name: 677, dtype: object\n",
      "Basement?                                                  NaN\n",
      "Foundation Type                               Mass Pads/Strips\n",
      "Lowest Floor Type                            Ground Bearing RC\n",
      "Superstructure Type                                      Other\n",
      "Cladding Type                                     Masonry Only\n",
      "Project Sector                                     Educational\n",
      "Type                                    Mixed New Build/Refurb\n",
      "concrete_elements                                       Varies\n",
      "unit_weight                                                Low\n",
      "GIFA/Storey                                              117.5\n",
      "Max Storeys (#)                                              4\n",
      "GIFA (Total)                                               470\n",
      "Rebar Total Usage (kg)                                  6493.0\n",
      "Masonry & Blockwork Total Usage (m2)                    1720.0\n",
      "Concrete Total Usage (kg)                              70387.0\n",
      "Steel (Sections) Total Usage (kg)                       4828.0\n",
      "Steel (Other) Total Usage (kg)                             0.0\n",
      "Timber (Products) Total Usage (kg)                         0.0\n",
      "Timber (Plain) Total Usage (kg)                            1.0\n",
      "Carbon A1-A3 (kgCO2e)                             29272.442729\n",
      "Carbon Total A1-A5 (kgCO2e)                       37700.297717\n",
      "Name: 400, dtype: object\n",
      "Basement?                                                False\n",
      "Foundation Type                               Mass Pads/Strips\n",
      "Lowest Floor Type                            Ground Bearing RC\n",
      "Superstructure Type                                      Other\n",
      "Cladding Type                                            Stone\n",
      "Project Sector                                      Commercial\n",
      "Type                                    New Build (Brownfield)\n",
      "concrete_elements                                       Varies\n",
      "unit_weight                                                Low\n",
      "GIFA/Storey                                               75.0\n",
      "Max Storeys (#)                                              1\n",
      "GIFA (Total)                                                75\n",
      "Rebar Total Usage (kg)                                   262.0\n",
      "Masonry & Blockwork Total Usage (m2)                      92.0\n",
      "Concrete Total Usage (kg)                              57067.0\n",
      "Steel (Sections) Total Usage (kg)                       2348.0\n",
      "Steel (Other) Total Usage (kg)                             0.0\n",
      "Timber (Products) Total Usage (kg)                         0.0\n",
      "Timber (Plain) Total Usage (kg)                          127.0\n",
      "Carbon A1-A3 (kgCO2e)                                  12866.0\n",
      "Carbon Total A1-A5 (kgCO2e)                            21693.0\n",
      "Name: 77, dtype: object\n"
     ]
    }
   ],
   "source": [
    "print(df.loc[677])\n",
    "print(df.loc[400])\n",
    "print(df.loc[77])"
   ]
  },
  {
   "cell_type": "code",
   "execution_count": 832,
   "metadata": {},
   "outputs": [
    {
     "data": {
      "text/html": [
       "<div>\n",
       "<style scoped>\n",
       "    .dataframe tbody tr th:only-of-type {\n",
       "        vertical-align: middle;\n",
       "    }\n",
       "\n",
       "    .dataframe tbody tr th {\n",
       "        vertical-align: top;\n",
       "    }\n",
       "\n",
       "    .dataframe thead th {\n",
       "        text-align: right;\n",
       "    }\n",
       "</style>\n",
       "<table border=\"1\" class=\"dataframe\">\n",
       "  <thead>\n",
       "    <tr style=\"text-align: right;\">\n",
       "      <th></th>\n",
       "      <th>GIFA/Storey</th>\n",
       "      <th>Max Storeys (#)</th>\n",
       "      <th>GIFA (Total)</th>\n",
       "      <th>Rebar Total Usage (kg)</th>\n",
       "      <th>Masonry &amp; Blockwork Total Usage (m2)</th>\n",
       "      <th>Concrete Total Usage (kg)</th>\n",
       "      <th>Steel (Sections) Total Usage (kg)</th>\n",
       "      <th>Steel (Other) Total Usage (kg)</th>\n",
       "      <th>Timber (Products) Total Usage (kg)</th>\n",
       "      <th>Timber (Plain) Total Usage (kg)</th>\n",
       "      <th>Carbon A1-A3 (kgCO2e)</th>\n",
       "      <th>Carbon Total A1-A5 (kgCO2e)</th>\n",
       "    </tr>\n",
       "  </thead>\n",
       "  <tbody>\n",
       "    <tr>\n",
       "      <th>count</th>\n",
       "      <td>711.000000</td>\n",
       "      <td>711.000000</td>\n",
       "      <td>711.000000</td>\n",
       "      <td>7.110000e+02</td>\n",
       "      <td>7.110000e+02</td>\n",
       "      <td>7.110000e+02</td>\n",
       "      <td>7.110000e+02</td>\n",
       "      <td>711.000000</td>\n",
       "      <td>7.110000e+02</td>\n",
       "      <td>711.000000</td>\n",
       "      <td>7.110000e+02</td>\n",
       "      <td>7.110000e+02</td>\n",
       "    </tr>\n",
       "    <tr>\n",
       "      <th>mean</th>\n",
       "      <td>805.624642</td>\n",
       "      <td>4.402250</td>\n",
       "      <td>4045.908579</td>\n",
       "      <td>2.268648e+05</td>\n",
       "      <td>5.813367e+04</td>\n",
       "      <td>4.751573e+06</td>\n",
       "      <td>5.045926e+04</td>\n",
       "      <td>3123.180601</td>\n",
       "      <td>2.883489e+04</td>\n",
       "      <td>5987.207400</td>\n",
       "      <td>1.119219e+06</td>\n",
       "      <td>1.309746e+06</td>\n",
       "    </tr>\n",
       "    <tr>\n",
       "      <th>std</th>\n",
       "      <td>966.850956</td>\n",
       "      <td>3.931626</td>\n",
       "      <td>6910.306412</td>\n",
       "      <td>4.405608e+05</td>\n",
       "      <td>2.426978e+05</td>\n",
       "      <td>9.164128e+06</td>\n",
       "      <td>1.357492e+05</td>\n",
       "      <td>11337.924407</td>\n",
       "      <td>1.208395e+05</td>\n",
       "      <td>28314.029376</td>\n",
       "      <td>2.013618e+06</td>\n",
       "      <td>2.302785e+06</td>\n",
       "    </tr>\n",
       "    <tr>\n",
       "      <th>min</th>\n",
       "      <td>18.000000</td>\n",
       "      <td>1.000000</td>\n",
       "      <td>18.000000</td>\n",
       "      <td>0.000000e+00</td>\n",
       "      <td>0.000000e+00</td>\n",
       "      <td>0.000000e+00</td>\n",
       "      <td>0.000000e+00</td>\n",
       "      <td>0.000000</td>\n",
       "      <td>0.000000e+00</td>\n",
       "      <td>0.000000</td>\n",
       "      <td>5.054587e+03</td>\n",
       "      <td>6.961000e+03</td>\n",
       "    </tr>\n",
       "    <tr>\n",
       "      <th>25%</th>\n",
       "      <td>222.500000</td>\n",
       "      <td>2.000000</td>\n",
       "      <td>522.000000</td>\n",
       "      <td>7.087458e+03</td>\n",
       "      <td>0.000000e+00</td>\n",
       "      <td>3.568600e+05</td>\n",
       "      <td>4.670000e+02</td>\n",
       "      <td>0.000000</td>\n",
       "      <td>0.000000e+00</td>\n",
       "      <td>0.000000</td>\n",
       "      <td>1.008723e+05</td>\n",
       "      <td>1.418492e+05</td>\n",
       "    </tr>\n",
       "    <tr>\n",
       "      <th>50%</th>\n",
       "      <td>475.000000</td>\n",
       "      <td>3.000000</td>\n",
       "      <td>1534.000000</td>\n",
       "      <td>5.230000e+04</td>\n",
       "      <td>0.000000e+00</td>\n",
       "      <td>1.402014e+06</td>\n",
       "      <td>7.500000e+03</td>\n",
       "      <td>0.000000</td>\n",
       "      <td>0.000000e+00</td>\n",
       "      <td>240.000000</td>\n",
       "      <td>3.762401e+05</td>\n",
       "      <td>4.722395e+05</td>\n",
       "    </tr>\n",
       "    <tr>\n",
       "      <th>75%</th>\n",
       "      <td>985.611111</td>\n",
       "      <td>6.000000</td>\n",
       "      <td>4200.000000</td>\n",
       "      <td>2.301970e+05</td>\n",
       "      <td>7.009000e+03</td>\n",
       "      <td>4.736552e+06</td>\n",
       "      <td>3.596040e+04</td>\n",
       "      <td>309.500000</td>\n",
       "      <td>2.333000e+03</td>\n",
       "      <td>3843.500000</td>\n",
       "      <td>1.163436e+06</td>\n",
       "      <td>1.343232e+06</td>\n",
       "    </tr>\n",
       "    <tr>\n",
       "      <th>max</th>\n",
       "      <td>7992.500000</td>\n",
       "      <td>25.000000</td>\n",
       "      <td>56828.000000</td>\n",
       "      <td>3.597787e+06</td>\n",
       "      <td>3.609276e+06</td>\n",
       "      <td>8.753438e+07</td>\n",
       "      <td>1.305860e+06</td>\n",
       "      <td>112255.000000</td>\n",
       "      <td>1.319661e+06</td>\n",
       "      <td>612521.000000</td>\n",
       "      <td>1.777524e+07</td>\n",
       "      <td>2.022239e+07</td>\n",
       "    </tr>\n",
       "  </tbody>\n",
       "</table>\n",
       "</div>"
      ],
      "text/plain": [
       "       GIFA/Storey  Max Storeys (#)  GIFA (Total)  Rebar Total Usage (kg)  \\\n",
       "count   711.000000       711.000000    711.000000            7.110000e+02   \n",
       "mean    805.624642         4.402250   4045.908579            2.268648e+05   \n",
       "std     966.850956         3.931626   6910.306412            4.405608e+05   \n",
       "min      18.000000         1.000000     18.000000            0.000000e+00   \n",
       "25%     222.500000         2.000000    522.000000            7.087458e+03   \n",
       "50%     475.000000         3.000000   1534.000000            5.230000e+04   \n",
       "75%     985.611111         6.000000   4200.000000            2.301970e+05   \n",
       "max    7992.500000        25.000000  56828.000000            3.597787e+06   \n",
       "\n",
       "       Masonry & Blockwork Total Usage (m2)  Concrete Total Usage (kg)  \\\n",
       "count                          7.110000e+02               7.110000e+02   \n",
       "mean                           5.813367e+04               4.751573e+06   \n",
       "std                            2.426978e+05               9.164128e+06   \n",
       "min                            0.000000e+00               0.000000e+00   \n",
       "25%                            0.000000e+00               3.568600e+05   \n",
       "50%                            0.000000e+00               1.402014e+06   \n",
       "75%                            7.009000e+03               4.736552e+06   \n",
       "max                            3.609276e+06               8.753438e+07   \n",
       "\n",
       "       Steel (Sections) Total Usage (kg)  Steel (Other) Total Usage (kg)  \\\n",
       "count                       7.110000e+02                      711.000000   \n",
       "mean                        5.045926e+04                     3123.180601   \n",
       "std                         1.357492e+05                    11337.924407   \n",
       "min                         0.000000e+00                        0.000000   \n",
       "25%                         4.670000e+02                        0.000000   \n",
       "50%                         7.500000e+03                        0.000000   \n",
       "75%                         3.596040e+04                      309.500000   \n",
       "max                         1.305860e+06                   112255.000000   \n",
       "\n",
       "       Timber (Products) Total Usage (kg)  Timber (Plain) Total Usage (kg)  \\\n",
       "count                        7.110000e+02                       711.000000   \n",
       "mean                         2.883489e+04                      5987.207400   \n",
       "std                          1.208395e+05                     28314.029376   \n",
       "min                          0.000000e+00                         0.000000   \n",
       "25%                          0.000000e+00                         0.000000   \n",
       "50%                          0.000000e+00                       240.000000   \n",
       "75%                          2.333000e+03                      3843.500000   \n",
       "max                          1.319661e+06                    612521.000000   \n",
       "\n",
       "       Carbon A1-A3 (kgCO2e)  Carbon Total A1-A5 (kgCO2e)  \n",
       "count           7.110000e+02                 7.110000e+02  \n",
       "mean            1.119219e+06                 1.309746e+06  \n",
       "std             2.013618e+06                 2.302785e+06  \n",
       "min             5.054587e+03                 6.961000e+03  \n",
       "25%             1.008723e+05                 1.418492e+05  \n",
       "50%             3.762401e+05                 4.722395e+05  \n",
       "75%             1.163436e+06                 1.343232e+06  \n",
       "max             1.777524e+07                 2.022239e+07  "
      ]
     },
     "execution_count": 832,
     "metadata": {},
     "output_type": "execute_result"
    }
   ],
   "source": [
    "# df[cat_features] = df[cat_features].fillna('none')\n",
    "# df[num_features] = df[num_features].fillna(0)\n",
    "df[quantity_targets] = df[quantity_targets].fillna(0)\n",
    "df.dropna(subset=target) \n",
    "df.describe()"
   ]
  },
  {
   "cell_type": "code",
   "execution_count": 833,
   "metadata": {},
   "outputs": [
    {
     "data": {
      "text/plain": [
       "Basement?                                 6\n",
       "Foundation Type                           8\n",
       "Lowest Floor Type                         7\n",
       "Superstructure Type                      12\n",
       "Cladding Type                            14\n",
       "Project Sector                           10\n",
       "Type                                      4\n",
       "concrete_elements                         4\n",
       "unit_weight                               3\n",
       "GIFA/Storey                             441\n",
       "Max Storeys (#)                          23\n",
       "GIFA (Total)                            435\n",
       "Rebar Total Usage (kg)                  536\n",
       "Masonry & Blockwork Total Usage (m2)    283\n",
       "Concrete Total Usage (kg)               553\n",
       "Steel (Sections) Total Usage (kg)       424\n",
       "Steel (Other) Total Usage (kg)          147\n",
       "Timber (Products) Total Usage (kg)      183\n",
       "Timber (Plain) Total Usage (kg)         285\n",
       "Carbon A1-A3 (kgCO2e)                   709\n",
       "Carbon Total A1-A5 (kgCO2e)             709\n",
       "dtype: int64"
      ]
     },
     "execution_count": 833,
     "metadata": {},
     "output_type": "execute_result"
    }
   ],
   "source": [
    "df.nunique()"
   ]
  },
  {
   "cell_type": "code",
   "execution_count": null,
   "metadata": {},
   "outputs": [],
   "source": []
  },
  {
   "cell_type": "code",
   "execution_count": 834,
   "metadata": {},
   "outputs": [
    {
     "data": {
      "text/html": [
       "<div>\n",
       "<style scoped>\n",
       "    .dataframe tbody tr th:only-of-type {\n",
       "        vertical-align: middle;\n",
       "    }\n",
       "\n",
       "    .dataframe tbody tr th {\n",
       "        vertical-align: top;\n",
       "    }\n",
       "\n",
       "    .dataframe thead th {\n",
       "        text-align: right;\n",
       "    }\n",
       "</style>\n",
       "<table border=\"1\" class=\"dataframe\">\n",
       "  <thead>\n",
       "    <tr style=\"text-align: right;\">\n",
       "      <th></th>\n",
       "      <th>Basement?</th>\n",
       "      <th>Foundation Type</th>\n",
       "      <th>Lowest Floor Type</th>\n",
       "      <th>Superstructure Type</th>\n",
       "      <th>Cladding Type</th>\n",
       "      <th>Project Sector</th>\n",
       "      <th>Type</th>\n",
       "      <th>concrete_elements</th>\n",
       "      <th>unit_weight</th>\n",
       "      <th>GIFA/Storey</th>\n",
       "      <th>Max Storeys (#)</th>\n",
       "      <th>GIFA (Total)</th>\n",
       "      <th>Rebar Total Usage (kg)</th>\n",
       "      <th>Masonry &amp; Blockwork Total Usage (m2)</th>\n",
       "      <th>Concrete Total Usage (kg)</th>\n",
       "      <th>Carbon A1-A3 (kgCO2e)</th>\n",
       "      <th>Carbon Total A1-A5 (kgCO2e)</th>\n",
       "      <th>Timber Total Mass (kg)</th>\n",
       "      <th>Steel Total Mass (kg)</th>\n",
       "    </tr>\n",
       "  </thead>\n",
       "  <tbody>\n",
       "    <tr>\n",
       "      <th>0</th>\n",
       "      <td>False</td>\n",
       "      <td>Mass Pads/Strips</td>\n",
       "      <td>Suspended Precast</td>\n",
       "      <td>Masonry/Timber</td>\n",
       "      <td>Masonry Only</td>\n",
       "      <td>Residential (Multi)</td>\n",
       "      <td>New Build (Greenfield)</td>\n",
       "      <td>None</td>\n",
       "      <td>Medium</td>\n",
       "      <td>2821.000000</td>\n",
       "      <td>2</td>\n",
       "      <td>5642</td>\n",
       "      <td>7.617000e+03</td>\n",
       "      <td>21635.000000</td>\n",
       "      <td>2.639542e+06</td>\n",
       "      <td>7.762630e+05</td>\n",
       "      <td>1.136232e+06</td>\n",
       "      <td>155253.000000</td>\n",
       "      <td>8600.000000</td>\n",
       "    </tr>\n",
       "    <tr>\n",
       "      <th>1</th>\n",
       "      <td>False</td>\n",
       "      <td>Piles (Pile Caps)</td>\n",
       "      <td>Suspended RC</td>\n",
       "      <td>Concrete (In-Situ)</td>\n",
       "      <td>Masonry Only</td>\n",
       "      <td>Residential (Multi)</td>\n",
       "      <td>New Build (Brownfield)</td>\n",
       "      <td>Frames&amp;Floors</td>\n",
       "      <td>High</td>\n",
       "      <td>4513.142857</td>\n",
       "      <td>7</td>\n",
       "      <td>31592</td>\n",
       "      <td>1.836606e+06</td>\n",
       "      <td>12066.000000</td>\n",
       "      <td>3.571825e+07</td>\n",
       "      <td>8.429603e+06</td>\n",
       "      <td>9.825522e+06</td>\n",
       "      <td>34585.000000</td>\n",
       "      <td>5845.000000</td>\n",
       "    </tr>\n",
       "    <tr>\n",
       "      <th>2</th>\n",
       "      <td>False</td>\n",
       "      <td>Piles (Pile Caps)</td>\n",
       "      <td>Suspended RC</td>\n",
       "      <td>Concrete (In-Situ)</td>\n",
       "      <td>Masonry Only</td>\n",
       "      <td>Educational</td>\n",
       "      <td>New Build (Brownfield)</td>\n",
       "      <td>Frames&amp;Floors</td>\n",
       "      <td>High</td>\n",
       "      <td>3287.333333</td>\n",
       "      <td>3</td>\n",
       "      <td>9862</td>\n",
       "      <td>5.412340e+05</td>\n",
       "      <td>7160.000000</td>\n",
       "      <td>1.301498e+07</td>\n",
       "      <td>3.119642e+06</td>\n",
       "      <td>3.637755e+06</td>\n",
       "      <td>1947.000000</td>\n",
       "      <td>55614.000000</td>\n",
       "    </tr>\n",
       "    <tr>\n",
       "      <th>3</th>\n",
       "      <td>False</td>\n",
       "      <td>Piles (Pile Caps)</td>\n",
       "      <td>Suspended RC</td>\n",
       "      <td>Concrete (In-Situ)</td>\n",
       "      <td>Masonry/SFS</td>\n",
       "      <td>Residential (Multi)</td>\n",
       "      <td>New Build (Brownfield)</td>\n",
       "      <td>Frames&amp;Floors</td>\n",
       "      <td>High</td>\n",
       "      <td>2155.000000</td>\n",
       "      <td>8</td>\n",
       "      <td>17240</td>\n",
       "      <td>1.124431e+06</td>\n",
       "      <td>6170.000000</td>\n",
       "      <td>2.084588e+07</td>\n",
       "      <td>5.077415e+06</td>\n",
       "      <td>5.844220e+06</td>\n",
       "      <td>6078.000000</td>\n",
       "      <td>93630.000000</td>\n",
       "    </tr>\n",
       "    <tr>\n",
       "      <th>4</th>\n",
       "      <td>False</td>\n",
       "      <td>Mass Pads/Strips</td>\n",
       "      <td>Suspended Precast</td>\n",
       "      <td>Masonry/Timber</td>\n",
       "      <td>Masonry Only</td>\n",
       "      <td>Residential (Multi)</td>\n",
       "      <td>New Build (Greenfield)</td>\n",
       "      <td>None</td>\n",
       "      <td>Medium</td>\n",
       "      <td>763.333333</td>\n",
       "      <td>3</td>\n",
       "      <td>2290</td>\n",
       "      <td>0.000000e+00</td>\n",
       "      <td>4165.000000</td>\n",
       "      <td>9.994700e+05</td>\n",
       "      <td>2.527960e+05</td>\n",
       "      <td>3.287980e+05</td>\n",
       "      <td>25341.000000</td>\n",
       "      <td>30082.000000</td>\n",
       "    </tr>\n",
       "    <tr>\n",
       "      <th>...</th>\n",
       "      <td>...</td>\n",
       "      <td>...</td>\n",
       "      <td>...</td>\n",
       "      <td>...</td>\n",
       "      <td>...</td>\n",
       "      <td>...</td>\n",
       "      <td>...</td>\n",
       "      <td>...</td>\n",
       "      <td>...</td>\n",
       "      <td>...</td>\n",
       "      <td>...</td>\n",
       "      <td>...</td>\n",
       "      <td>...</td>\n",
       "      <td>...</td>\n",
       "      <td>...</td>\n",
       "      <td>...</td>\n",
       "      <td>...</td>\n",
       "      <td>...</td>\n",
       "      <td>...</td>\n",
       "    </tr>\n",
       "    <tr>\n",
       "      <th>718</th>\n",
       "      <td>Partial Footprint</td>\n",
       "      <td>Piles (Pile Caps)</td>\n",
       "      <td>Suspended RC</td>\n",
       "      <td>Steel Frame/Composite</td>\n",
       "      <td>Masonry/SFS</td>\n",
       "      <td>Commercial</td>\n",
       "      <td>New Build (Brownfield)</td>\n",
       "      <td>Floors</td>\n",
       "      <td>Medium</td>\n",
       "      <td>907.428571</td>\n",
       "      <td>7</td>\n",
       "      <td>6352</td>\n",
       "      <td>2.322217e+05</td>\n",
       "      <td>0.000000</td>\n",
       "      <td>4.648939e+06</td>\n",
       "      <td>1.497106e+06</td>\n",
       "      <td>1.768386e+06</td>\n",
       "      <td>19278.568000</td>\n",
       "      <td>240173.040563</td>\n",
       "    </tr>\n",
       "    <tr>\n",
       "      <th>719</th>\n",
       "      <td>Partial Footprint</td>\n",
       "      <td>Reinforced Pads/Strips</td>\n",
       "      <td>Ground Bearing RC</td>\n",
       "      <td>Steel Frame/Composite</td>\n",
       "      <td>Masonry/SFS</td>\n",
       "      <td>Cultural/Public</td>\n",
       "      <td>Mixed New Build/Refurb</td>\n",
       "      <td>Floors</td>\n",
       "      <td>Medium</td>\n",
       "      <td>479.000000</td>\n",
       "      <td>5</td>\n",
       "      <td>2395</td>\n",
       "      <td>1.963470e+04</td>\n",
       "      <td>57517.816556</td>\n",
       "      <td>4.926291e+05</td>\n",
       "      <td>2.972822e+05</td>\n",
       "      <td>3.743227e+05</td>\n",
       "      <td>6752.320956</td>\n",
       "      <td>106327.292683</td>\n",
       "    </tr>\n",
       "    <tr>\n",
       "      <th>720</th>\n",
       "      <td>NaN</td>\n",
       "      <td>Reinforced Pads/Strips</td>\n",
       "      <td>Suspended RC</td>\n",
       "      <td>Masonry/Timber</td>\n",
       "      <td>Masonry/Timber</td>\n",
       "      <td>Residential (Single)</td>\n",
       "      <td>New Build (Greenfield)</td>\n",
       "      <td>None</td>\n",
       "      <td>Medium</td>\n",
       "      <td>321.000000</td>\n",
       "      <td>2</td>\n",
       "      <td>642</td>\n",
       "      <td>2.807700e+04</td>\n",
       "      <td>84091.000000</td>\n",
       "      <td>7.799197e+05</td>\n",
       "      <td>2.118736e+05</td>\n",
       "      <td>2.833774e+05</td>\n",
       "      <td>43885.400000</td>\n",
       "      <td>9685.000000</td>\n",
       "    </tr>\n",
       "    <tr>\n",
       "      <th>721</th>\n",
       "      <td>NaN</td>\n",
       "      <td>Mass Pads/Strips</td>\n",
       "      <td>Suspended Precast</td>\n",
       "      <td>Masonry/Timber</td>\n",
       "      <td>Masonry Only</td>\n",
       "      <td>Residential (Multi)</td>\n",
       "      <td>New Build (Greenfield)</td>\n",
       "      <td>None</td>\n",
       "      <td>Medium</td>\n",
       "      <td>539.000000</td>\n",
       "      <td>2</td>\n",
       "      <td>1078</td>\n",
       "      <td>2.704000e+03</td>\n",
       "      <td>583667.000000</td>\n",
       "      <td>1.051918e+06</td>\n",
       "      <td>1.943459e+05</td>\n",
       "      <td>2.644997e+05</td>\n",
       "      <td>18139.000000</td>\n",
       "      <td>4668.000000</td>\n",
       "    </tr>\n",
       "    <tr>\n",
       "      <th>722</th>\n",
       "      <td>NaN</td>\n",
       "      <td>Reinforced Pads/Strips</td>\n",
       "      <td>Other</td>\n",
       "      <td>Steel Frame/Timber</td>\n",
       "      <td>Masonry/SFS</td>\n",
       "      <td>Cultural/Public</td>\n",
       "      <td>Mixed New Build/Refurb</td>\n",
       "      <td>None</td>\n",
       "      <td>Low</td>\n",
       "      <td>23.250000</td>\n",
       "      <td>4</td>\n",
       "      <td>93</td>\n",
       "      <td>3.678300e+02</td>\n",
       "      <td>0.000000</td>\n",
       "      <td>1.920240e+04</td>\n",
       "      <td>1.148331e+04</td>\n",
       "      <td>2.699214e+04</td>\n",
       "      <td>2313.870000</td>\n",
       "      <td>4721.737000</td>\n",
       "    </tr>\n",
       "  </tbody>\n",
       "</table>\n",
       "<p>711 rows × 19 columns</p>\n",
       "</div>"
      ],
      "text/plain": [
       "             Basement?         Foundation Type  Lowest Floor Type  \\\n",
       "0                False        Mass Pads/Strips  Suspended Precast   \n",
       "1                False       Piles (Pile Caps)       Suspended RC   \n",
       "2                False       Piles (Pile Caps)       Suspended RC   \n",
       "3                False       Piles (Pile Caps)       Suspended RC   \n",
       "4                False        Mass Pads/Strips  Suspended Precast   \n",
       "..                 ...                     ...                ...   \n",
       "718  Partial Footprint       Piles (Pile Caps)       Suspended RC   \n",
       "719  Partial Footprint  Reinforced Pads/Strips  Ground Bearing RC   \n",
       "720                NaN  Reinforced Pads/Strips       Suspended RC   \n",
       "721                NaN        Mass Pads/Strips  Suspended Precast   \n",
       "722                NaN  Reinforced Pads/Strips              Other   \n",
       "\n",
       "       Superstructure Type   Cladding Type        Project Sector  \\\n",
       "0           Masonry/Timber    Masonry Only   Residential (Multi)   \n",
       "1       Concrete (In-Situ)    Masonry Only   Residential (Multi)   \n",
       "2       Concrete (In-Situ)    Masonry Only           Educational   \n",
       "3       Concrete (In-Situ)     Masonry/SFS   Residential (Multi)   \n",
       "4           Masonry/Timber    Masonry Only   Residential (Multi)   \n",
       "..                     ...             ...                   ...   \n",
       "718  Steel Frame/Composite     Masonry/SFS            Commercial   \n",
       "719  Steel Frame/Composite     Masonry/SFS       Cultural/Public   \n",
       "720         Masonry/Timber  Masonry/Timber  Residential (Single)   \n",
       "721         Masonry/Timber    Masonry Only   Residential (Multi)   \n",
       "722     Steel Frame/Timber     Masonry/SFS       Cultural/Public   \n",
       "\n",
       "                       Type concrete_elements unit_weight  GIFA/Storey  \\\n",
       "0    New Build (Greenfield)              None      Medium  2821.000000   \n",
       "1    New Build (Brownfield)     Frames&Floors        High  4513.142857   \n",
       "2    New Build (Brownfield)     Frames&Floors        High  3287.333333   \n",
       "3    New Build (Brownfield)     Frames&Floors        High  2155.000000   \n",
       "4    New Build (Greenfield)              None      Medium   763.333333   \n",
       "..                      ...               ...         ...          ...   \n",
       "718  New Build (Brownfield)            Floors      Medium   907.428571   \n",
       "719  Mixed New Build/Refurb            Floors      Medium   479.000000   \n",
       "720  New Build (Greenfield)              None      Medium   321.000000   \n",
       "721  New Build (Greenfield)              None      Medium   539.000000   \n",
       "722  Mixed New Build/Refurb              None         Low    23.250000   \n",
       "\n",
       "     Max Storeys (#)  GIFA (Total)  Rebar Total Usage (kg)  \\\n",
       "0                  2          5642            7.617000e+03   \n",
       "1                  7         31592            1.836606e+06   \n",
       "2                  3          9862            5.412340e+05   \n",
       "3                  8         17240            1.124431e+06   \n",
       "4                  3          2290            0.000000e+00   \n",
       "..               ...           ...                     ...   \n",
       "718                7          6352            2.322217e+05   \n",
       "719                5          2395            1.963470e+04   \n",
       "720                2           642            2.807700e+04   \n",
       "721                2          1078            2.704000e+03   \n",
       "722                4            93            3.678300e+02   \n",
       "\n",
       "     Masonry & Blockwork Total Usage (m2)  Concrete Total Usage (kg)  \\\n",
       "0                            21635.000000               2.639542e+06   \n",
       "1                            12066.000000               3.571825e+07   \n",
       "2                             7160.000000               1.301498e+07   \n",
       "3                             6170.000000               2.084588e+07   \n",
       "4                             4165.000000               9.994700e+05   \n",
       "..                                    ...                        ...   \n",
       "718                              0.000000               4.648939e+06   \n",
       "719                          57517.816556               4.926291e+05   \n",
       "720                          84091.000000               7.799197e+05   \n",
       "721                         583667.000000               1.051918e+06   \n",
       "722                              0.000000               1.920240e+04   \n",
       "\n",
       "     Carbon A1-A3 (kgCO2e)  Carbon Total A1-A5 (kgCO2e)  \\\n",
       "0             7.762630e+05                 1.136232e+06   \n",
       "1             8.429603e+06                 9.825522e+06   \n",
       "2             3.119642e+06                 3.637755e+06   \n",
       "3             5.077415e+06                 5.844220e+06   \n",
       "4             2.527960e+05                 3.287980e+05   \n",
       "..                     ...                          ...   \n",
       "718           1.497106e+06                 1.768386e+06   \n",
       "719           2.972822e+05                 3.743227e+05   \n",
       "720           2.118736e+05                 2.833774e+05   \n",
       "721           1.943459e+05                 2.644997e+05   \n",
       "722           1.148331e+04                 2.699214e+04   \n",
       "\n",
       "     Timber Total Mass (kg)  Steel Total Mass (kg)  \n",
       "0             155253.000000            8600.000000  \n",
       "1              34585.000000            5845.000000  \n",
       "2               1947.000000           55614.000000  \n",
       "3               6078.000000           93630.000000  \n",
       "4              25341.000000           30082.000000  \n",
       "..                      ...                    ...  \n",
       "718            19278.568000          240173.040563  \n",
       "719             6752.320956          106327.292683  \n",
       "720            43885.400000            9685.000000  \n",
       "721            18139.000000            4668.000000  \n",
       "722             2313.870000            4721.737000  \n",
       "\n",
       "[711 rows x 19 columns]"
      ]
     },
     "execution_count": 834,
     "metadata": {},
     "output_type": "execute_result"
    }
   ],
   "source": [
    "\n",
    "\n",
    "# Combine timber masses\n",
    "timber_cols = ['Timber (Products) Total Usage (kg)', 'Timber (Plain) Total Usage (kg)']\n",
    "df['Timber Total Mass (kg)'] = df[timber_cols].sum(axis=1)\n",
    "\n",
    "steel_cols = ['Steel (Sections) Total Usage (kg)','Steel (Other) Total Usage (kg)']\n",
    "df['Steel Total Mass (kg)'] = df[steel_cols].sum(axis=1)\n",
    "# Drop original timber and steel columns\n",
    "df = df.drop(columns=timber_cols + steel_cols)\n",
    "\n",
    "updated_quantity_targets = [\n",
    "    'Rebar Total Usage (kg)',  # Changed from 'Reinforcement Total Mass (kg)'\n",
    "    'Masonry & Blockwork Total Usage (m2)',  # Changed from 'Total Area'\n",
    "    'Concrete Total Usage (kg)',  # Changed from 'Total Mass'\n",
    " 'Steel Total Mass (kg)',  # Changed from 'Total Mass'\n",
    "    'Timber Total Mass (kg)'  # Changed from 'Total Mass'\n",
    "]\n",
    "\n",
    "df\n",
    "        "
   ]
  },
  {
   "cell_type": "code",
   "execution_count": 835,
   "metadata": {},
   "outputs": [
    {
     "name": "stdout",
     "output_type": "stream",
     "text": [
      "Basement?\n",
      "False                 182\n",
      "True                   88\n",
      "Partial Footprint      68\n",
      "Full Footprint         53\n",
      "Extended Footprint     12\n",
      "Other                   4\n",
      "Name: count, dtype: int64\n"
     ]
    },
    {
     "data": {
      "text/plain": [
       "Basement?\n",
       "True     529\n",
       "False    182\n",
       "Name: count, dtype: int64"
      ]
     },
     "execution_count": 835,
     "metadata": {},
     "output_type": "execute_result"
    }
   ],
   "source": [
    "print(df['Basement?'].value_counts())\n",
    "df['Basement?'] = df['Basement?'].apply(lambda x: False if x == 'none' or x == False else True)\n",
    "df['Basement?'].value_counts()\n"
   ]
  },
  {
   "cell_type": "code",
   "execution_count": 836,
   "metadata": {},
   "outputs": [
    {
     "name": "stdout",
     "output_type": "stream",
     "text": [
      "Cladding Type\n",
      "Masonry Only               253\n",
      "Masonry/SFS                160\n",
      "Masonry/Stone               53\n",
      "Other                       49\n",
      "Lightweight/SFS             44\n",
      "Lightweight Only            37\n",
      "Glazed/Curtain Wall         32\n",
      "Timber Only                 19\n",
      "Masonry/Timber              19\n",
      "Stone                       11\n",
      "Precast/GRC                 10\n",
      "SFS/Stone                    9\n",
      "Timber/SFS                   9\n",
      "Retained (Full/Partial)      6\n",
      "Name: count, dtype: int64\n"
     ]
    },
    {
     "data": {
      "text/plain": [
       "Cladding Type\n",
       "Masonry    485\n",
       "Other      226\n",
       "Name: count, dtype: int64"
      ]
     },
     "execution_count": 836,
     "metadata": {},
     "output_type": "execute_result"
    }
   ],
   "source": [
    "print(df['Cladding Type'].value_counts())\n",
    "df['Cladding Type'] = df['Cladding Type'].apply(lambda x: 'Masonry' if 'Masonry' in x else 'Other')\n",
    "df['Cladding Type'].value_counts()\n"
   ]
  },
  {
   "cell_type": "code",
   "execution_count": 837,
   "metadata": {},
   "outputs": [
    {
     "data": {
      "text/plain": [
       "Superstructure Type\n",
       "Concrete (In-Situ)           260\n",
       "Steel Frame/Timber            85\n",
       "Masonry/Timber                77\n",
       "Steel Frame/Composite         67\n",
       "Timber Frame (Glulam/CLT)     56\n",
       "Steel Frame/Other             47\n",
       "Masonry/Concrete              32\n",
       "Steel Frame/Precast           30\n",
       "Other                         30\n",
       "Timber Frame (Softwood)       14\n",
       "Concrete (Precast)            11\n",
       "Concrete (PT)                  2\n",
       "Name: count, dtype: int64"
      ]
     },
     "execution_count": 837,
     "metadata": {},
     "output_type": "execute_result"
    }
   ],
   "source": [
    "df['Superstructure Type'].value_counts()"
   ]
  },
  {
   "cell_type": "code",
   "execution_count": 838,
   "metadata": {},
   "outputs": [
    {
     "data": {
      "text/plain": [
       "Basement?                                 2\n",
       "Foundation Type                           8\n",
       "Lowest Floor Type                         7\n",
       "Superstructure Type                      12\n",
       "Cladding Type                             2\n",
       "Project Sector                           10\n",
       "Type                                      4\n",
       "concrete_elements                         4\n",
       "unit_weight                               3\n",
       "GIFA/Storey                             441\n",
       "Max Storeys (#)                          23\n",
       "GIFA (Total)                            435\n",
       "Rebar Total Usage (kg)                  536\n",
       "Masonry & Blockwork Total Usage (m2)    283\n",
       "Concrete Total Usage (kg)               553\n",
       "Carbon A1-A3 (kgCO2e)                   709\n",
       "Carbon Total A1-A5 (kgCO2e)             709\n",
       "Timber Total Mass (kg)                  340\n",
       "Steel Total Mass (kg)                   441\n",
       "dtype: int64"
      ]
     },
     "execution_count": 838,
     "metadata": {},
     "output_type": "execute_result"
    }
   ],
   "source": [
    "df.nunique()"
   ]
  },
  {
   "cell_type": "code",
   "execution_count": 839,
   "metadata": {},
   "outputs": [
    {
     "data": {
      "text/html": [
       "<div>\n",
       "<style scoped>\n",
       "    .dataframe tbody tr th:only-of-type {\n",
       "        vertical-align: middle;\n",
       "    }\n",
       "\n",
       "    .dataframe tbody tr th {\n",
       "        vertical-align: top;\n",
       "    }\n",
       "\n",
       "    .dataframe thead th {\n",
       "        text-align: right;\n",
       "    }\n",
       "</style>\n",
       "<table border=\"1\" class=\"dataframe\">\n",
       "  <thead>\n",
       "    <tr style=\"text-align: right;\">\n",
       "      <th></th>\n",
       "      <th>Basement?</th>\n",
       "      <th>Foundation Type</th>\n",
       "      <th>Lowest Floor Type</th>\n",
       "      <th>Superstructure Type</th>\n",
       "      <th>Cladding Type</th>\n",
       "      <th>Project Sector</th>\n",
       "      <th>Type</th>\n",
       "      <th>concrete_elements</th>\n",
       "      <th>unit_weight</th>\n",
       "      <th>GIFA/Storey</th>\n",
       "      <th>Max Storeys (#)</th>\n",
       "      <th>GIFA (Total)</th>\n",
       "      <th>Rebar Total Usage (kg)</th>\n",
       "      <th>Masonry &amp; Blockwork Total Usage (m2)</th>\n",
       "      <th>Concrete Total Usage (kg)</th>\n",
       "      <th>Carbon A1-A3 (kgCO2e)</th>\n",
       "      <th>Carbon Total A1-A5 (kgCO2e)</th>\n",
       "      <th>Timber Total Mass (kg)</th>\n",
       "      <th>Steel Total Mass (kg)</th>\n",
       "    </tr>\n",
       "  </thead>\n",
       "  <tbody>\n",
       "    <tr>\n",
       "      <th>0</th>\n",
       "      <td>False</td>\n",
       "      <td>Mass Pads/Strips</td>\n",
       "      <td>Suspended Precast</td>\n",
       "      <td>Masonry/Timber</td>\n",
       "      <td>Masonry</td>\n",
       "      <td>Residential (Multi)</td>\n",
       "      <td>New Build (Greenfield)</td>\n",
       "      <td>None</td>\n",
       "      <td>Medium</td>\n",
       "      <td>2821.000000</td>\n",
       "      <td>2</td>\n",
       "      <td>5642</td>\n",
       "      <td>7.617000e+03</td>\n",
       "      <td>21635.000000</td>\n",
       "      <td>2.639542e+06</td>\n",
       "      <td>7.762630e+05</td>\n",
       "      <td>1.136232e+06</td>\n",
       "      <td>155253.000000</td>\n",
       "      <td>8600.000000</td>\n",
       "    </tr>\n",
       "    <tr>\n",
       "      <th>1</th>\n",
       "      <td>False</td>\n",
       "      <td>Piles (Pile Caps)</td>\n",
       "      <td>Suspended RC</td>\n",
       "      <td>Concrete (In-Situ)</td>\n",
       "      <td>Masonry</td>\n",
       "      <td>Residential (Multi)</td>\n",
       "      <td>New Build (Brownfield)</td>\n",
       "      <td>Frames&amp;Floors</td>\n",
       "      <td>High</td>\n",
       "      <td>4513.142857</td>\n",
       "      <td>7</td>\n",
       "      <td>31592</td>\n",
       "      <td>1.836606e+06</td>\n",
       "      <td>12066.000000</td>\n",
       "      <td>3.571825e+07</td>\n",
       "      <td>8.429603e+06</td>\n",
       "      <td>9.825522e+06</td>\n",
       "      <td>34585.000000</td>\n",
       "      <td>5845.000000</td>\n",
       "    </tr>\n",
       "    <tr>\n",
       "      <th>2</th>\n",
       "      <td>False</td>\n",
       "      <td>Piles (Pile Caps)</td>\n",
       "      <td>Suspended RC</td>\n",
       "      <td>Concrete (In-Situ)</td>\n",
       "      <td>Masonry</td>\n",
       "      <td>Educational</td>\n",
       "      <td>New Build (Brownfield)</td>\n",
       "      <td>Frames&amp;Floors</td>\n",
       "      <td>High</td>\n",
       "      <td>3287.333333</td>\n",
       "      <td>3</td>\n",
       "      <td>9862</td>\n",
       "      <td>5.412340e+05</td>\n",
       "      <td>7160.000000</td>\n",
       "      <td>1.301498e+07</td>\n",
       "      <td>3.119642e+06</td>\n",
       "      <td>3.637755e+06</td>\n",
       "      <td>1947.000000</td>\n",
       "      <td>55614.000000</td>\n",
       "    </tr>\n",
       "    <tr>\n",
       "      <th>3</th>\n",
       "      <td>False</td>\n",
       "      <td>Piles (Pile Caps)</td>\n",
       "      <td>Suspended RC</td>\n",
       "      <td>Concrete (In-Situ)</td>\n",
       "      <td>Masonry</td>\n",
       "      <td>Residential (Multi)</td>\n",
       "      <td>New Build (Brownfield)</td>\n",
       "      <td>Frames&amp;Floors</td>\n",
       "      <td>High</td>\n",
       "      <td>2155.000000</td>\n",
       "      <td>8</td>\n",
       "      <td>17240</td>\n",
       "      <td>1.124431e+06</td>\n",
       "      <td>6170.000000</td>\n",
       "      <td>2.084588e+07</td>\n",
       "      <td>5.077415e+06</td>\n",
       "      <td>5.844220e+06</td>\n",
       "      <td>6078.000000</td>\n",
       "      <td>93630.000000</td>\n",
       "    </tr>\n",
       "    <tr>\n",
       "      <th>4</th>\n",
       "      <td>False</td>\n",
       "      <td>Mass Pads/Strips</td>\n",
       "      <td>Suspended Precast</td>\n",
       "      <td>Masonry/Timber</td>\n",
       "      <td>Masonry</td>\n",
       "      <td>Residential (Multi)</td>\n",
       "      <td>New Build (Greenfield)</td>\n",
       "      <td>None</td>\n",
       "      <td>Medium</td>\n",
       "      <td>763.333333</td>\n",
       "      <td>3</td>\n",
       "      <td>2290</td>\n",
       "      <td>0.000000e+00</td>\n",
       "      <td>4165.000000</td>\n",
       "      <td>9.994700e+05</td>\n",
       "      <td>2.527960e+05</td>\n",
       "      <td>3.287980e+05</td>\n",
       "      <td>25341.000000</td>\n",
       "      <td>30082.000000</td>\n",
       "    </tr>\n",
       "    <tr>\n",
       "      <th>...</th>\n",
       "      <td>...</td>\n",
       "      <td>...</td>\n",
       "      <td>...</td>\n",
       "      <td>...</td>\n",
       "      <td>...</td>\n",
       "      <td>...</td>\n",
       "      <td>...</td>\n",
       "      <td>...</td>\n",
       "      <td>...</td>\n",
       "      <td>...</td>\n",
       "      <td>...</td>\n",
       "      <td>...</td>\n",
       "      <td>...</td>\n",
       "      <td>...</td>\n",
       "      <td>...</td>\n",
       "      <td>...</td>\n",
       "      <td>...</td>\n",
       "      <td>...</td>\n",
       "      <td>...</td>\n",
       "    </tr>\n",
       "    <tr>\n",
       "      <th>718</th>\n",
       "      <td>True</td>\n",
       "      <td>Piles (Pile Caps)</td>\n",
       "      <td>Suspended RC</td>\n",
       "      <td>Steel Frame/Composite</td>\n",
       "      <td>Masonry</td>\n",
       "      <td>Commercial</td>\n",
       "      <td>New Build (Brownfield)</td>\n",
       "      <td>Floors</td>\n",
       "      <td>Medium</td>\n",
       "      <td>907.428571</td>\n",
       "      <td>7</td>\n",
       "      <td>6352</td>\n",
       "      <td>2.322217e+05</td>\n",
       "      <td>0.000000</td>\n",
       "      <td>4.648939e+06</td>\n",
       "      <td>1.497106e+06</td>\n",
       "      <td>1.768386e+06</td>\n",
       "      <td>19278.568000</td>\n",
       "      <td>240173.040563</td>\n",
       "    </tr>\n",
       "    <tr>\n",
       "      <th>719</th>\n",
       "      <td>True</td>\n",
       "      <td>Reinforced Pads/Strips</td>\n",
       "      <td>Ground Bearing RC</td>\n",
       "      <td>Steel Frame/Composite</td>\n",
       "      <td>Masonry</td>\n",
       "      <td>Cultural/Public</td>\n",
       "      <td>Mixed New Build/Refurb</td>\n",
       "      <td>Floors</td>\n",
       "      <td>Medium</td>\n",
       "      <td>479.000000</td>\n",
       "      <td>5</td>\n",
       "      <td>2395</td>\n",
       "      <td>1.963470e+04</td>\n",
       "      <td>57517.816556</td>\n",
       "      <td>4.926291e+05</td>\n",
       "      <td>2.972822e+05</td>\n",
       "      <td>3.743227e+05</td>\n",
       "      <td>6752.320956</td>\n",
       "      <td>106327.292683</td>\n",
       "    </tr>\n",
       "    <tr>\n",
       "      <th>720</th>\n",
       "      <td>True</td>\n",
       "      <td>Reinforced Pads/Strips</td>\n",
       "      <td>Suspended RC</td>\n",
       "      <td>Masonry/Timber</td>\n",
       "      <td>Masonry</td>\n",
       "      <td>Residential (Single)</td>\n",
       "      <td>New Build (Greenfield)</td>\n",
       "      <td>None</td>\n",
       "      <td>Medium</td>\n",
       "      <td>321.000000</td>\n",
       "      <td>2</td>\n",
       "      <td>642</td>\n",
       "      <td>2.807700e+04</td>\n",
       "      <td>84091.000000</td>\n",
       "      <td>7.799197e+05</td>\n",
       "      <td>2.118736e+05</td>\n",
       "      <td>2.833774e+05</td>\n",
       "      <td>43885.400000</td>\n",
       "      <td>9685.000000</td>\n",
       "    </tr>\n",
       "    <tr>\n",
       "      <th>721</th>\n",
       "      <td>True</td>\n",
       "      <td>Mass Pads/Strips</td>\n",
       "      <td>Suspended Precast</td>\n",
       "      <td>Masonry/Timber</td>\n",
       "      <td>Masonry</td>\n",
       "      <td>Residential (Multi)</td>\n",
       "      <td>New Build (Greenfield)</td>\n",
       "      <td>None</td>\n",
       "      <td>Medium</td>\n",
       "      <td>539.000000</td>\n",
       "      <td>2</td>\n",
       "      <td>1078</td>\n",
       "      <td>2.704000e+03</td>\n",
       "      <td>583667.000000</td>\n",
       "      <td>1.051918e+06</td>\n",
       "      <td>1.943459e+05</td>\n",
       "      <td>2.644997e+05</td>\n",
       "      <td>18139.000000</td>\n",
       "      <td>4668.000000</td>\n",
       "    </tr>\n",
       "    <tr>\n",
       "      <th>722</th>\n",
       "      <td>True</td>\n",
       "      <td>Reinforced Pads/Strips</td>\n",
       "      <td>Other</td>\n",
       "      <td>Steel Frame/Timber</td>\n",
       "      <td>Masonry</td>\n",
       "      <td>Cultural/Public</td>\n",
       "      <td>Mixed New Build/Refurb</td>\n",
       "      <td>None</td>\n",
       "      <td>Low</td>\n",
       "      <td>23.250000</td>\n",
       "      <td>4</td>\n",
       "      <td>93</td>\n",
       "      <td>3.678300e+02</td>\n",
       "      <td>0.000000</td>\n",
       "      <td>1.920240e+04</td>\n",
       "      <td>1.148331e+04</td>\n",
       "      <td>2.699214e+04</td>\n",
       "      <td>2313.870000</td>\n",
       "      <td>4721.737000</td>\n",
       "    </tr>\n",
       "  </tbody>\n",
       "</table>\n",
       "<p>711 rows × 19 columns</p>\n",
       "</div>"
      ],
      "text/plain": [
       "     Basement?         Foundation Type  Lowest Floor Type  \\\n",
       "0        False        Mass Pads/Strips  Suspended Precast   \n",
       "1        False       Piles (Pile Caps)       Suspended RC   \n",
       "2        False       Piles (Pile Caps)       Suspended RC   \n",
       "3        False       Piles (Pile Caps)       Suspended RC   \n",
       "4        False        Mass Pads/Strips  Suspended Precast   \n",
       "..         ...                     ...                ...   \n",
       "718       True       Piles (Pile Caps)       Suspended RC   \n",
       "719       True  Reinforced Pads/Strips  Ground Bearing RC   \n",
       "720       True  Reinforced Pads/Strips       Suspended RC   \n",
       "721       True        Mass Pads/Strips  Suspended Precast   \n",
       "722       True  Reinforced Pads/Strips              Other   \n",
       "\n",
       "       Superstructure Type Cladding Type        Project Sector  \\\n",
       "0           Masonry/Timber       Masonry   Residential (Multi)   \n",
       "1       Concrete (In-Situ)       Masonry   Residential (Multi)   \n",
       "2       Concrete (In-Situ)       Masonry           Educational   \n",
       "3       Concrete (In-Situ)       Masonry   Residential (Multi)   \n",
       "4           Masonry/Timber       Masonry   Residential (Multi)   \n",
       "..                     ...           ...                   ...   \n",
       "718  Steel Frame/Composite       Masonry            Commercial   \n",
       "719  Steel Frame/Composite       Masonry       Cultural/Public   \n",
       "720         Masonry/Timber       Masonry  Residential (Single)   \n",
       "721         Masonry/Timber       Masonry   Residential (Multi)   \n",
       "722     Steel Frame/Timber       Masonry       Cultural/Public   \n",
       "\n",
       "                       Type concrete_elements unit_weight  GIFA/Storey  \\\n",
       "0    New Build (Greenfield)              None      Medium  2821.000000   \n",
       "1    New Build (Brownfield)     Frames&Floors        High  4513.142857   \n",
       "2    New Build (Brownfield)     Frames&Floors        High  3287.333333   \n",
       "3    New Build (Brownfield)     Frames&Floors        High  2155.000000   \n",
       "4    New Build (Greenfield)              None      Medium   763.333333   \n",
       "..                      ...               ...         ...          ...   \n",
       "718  New Build (Brownfield)            Floors      Medium   907.428571   \n",
       "719  Mixed New Build/Refurb            Floors      Medium   479.000000   \n",
       "720  New Build (Greenfield)              None      Medium   321.000000   \n",
       "721  New Build (Greenfield)              None      Medium   539.000000   \n",
       "722  Mixed New Build/Refurb              None         Low    23.250000   \n",
       "\n",
       "     Max Storeys (#)  GIFA (Total)  Rebar Total Usage (kg)  \\\n",
       "0                  2          5642            7.617000e+03   \n",
       "1                  7         31592            1.836606e+06   \n",
       "2                  3          9862            5.412340e+05   \n",
       "3                  8         17240            1.124431e+06   \n",
       "4                  3          2290            0.000000e+00   \n",
       "..               ...           ...                     ...   \n",
       "718                7          6352            2.322217e+05   \n",
       "719                5          2395            1.963470e+04   \n",
       "720                2           642            2.807700e+04   \n",
       "721                2          1078            2.704000e+03   \n",
       "722                4            93            3.678300e+02   \n",
       "\n",
       "     Masonry & Blockwork Total Usage (m2)  Concrete Total Usage (kg)  \\\n",
       "0                            21635.000000               2.639542e+06   \n",
       "1                            12066.000000               3.571825e+07   \n",
       "2                             7160.000000               1.301498e+07   \n",
       "3                             6170.000000               2.084588e+07   \n",
       "4                             4165.000000               9.994700e+05   \n",
       "..                                    ...                        ...   \n",
       "718                              0.000000               4.648939e+06   \n",
       "719                          57517.816556               4.926291e+05   \n",
       "720                          84091.000000               7.799197e+05   \n",
       "721                         583667.000000               1.051918e+06   \n",
       "722                              0.000000               1.920240e+04   \n",
       "\n",
       "     Carbon A1-A3 (kgCO2e)  Carbon Total A1-A5 (kgCO2e)  \\\n",
       "0             7.762630e+05                 1.136232e+06   \n",
       "1             8.429603e+06                 9.825522e+06   \n",
       "2             3.119642e+06                 3.637755e+06   \n",
       "3             5.077415e+06                 5.844220e+06   \n",
       "4             2.527960e+05                 3.287980e+05   \n",
       "..                     ...                          ...   \n",
       "718           1.497106e+06                 1.768386e+06   \n",
       "719           2.972822e+05                 3.743227e+05   \n",
       "720           2.118736e+05                 2.833774e+05   \n",
       "721           1.943459e+05                 2.644997e+05   \n",
       "722           1.148331e+04                 2.699214e+04   \n",
       "\n",
       "     Timber Total Mass (kg)  Steel Total Mass (kg)  \n",
       "0             155253.000000            8600.000000  \n",
       "1              34585.000000            5845.000000  \n",
       "2               1947.000000           55614.000000  \n",
       "3               6078.000000           93630.000000  \n",
       "4              25341.000000           30082.000000  \n",
       "..                      ...                    ...  \n",
       "718            19278.568000          240173.040563  \n",
       "719             6752.320956          106327.292683  \n",
       "720            43885.400000            9685.000000  \n",
       "721            18139.000000            4668.000000  \n",
       "722             2313.870000            4721.737000  \n",
       "\n",
       "[711 rows x 19 columns]"
      ]
     },
     "execution_count": 839,
     "metadata": {},
     "output_type": "execute_result"
    }
   ],
   "source": [
    "df"
   ]
  },
  {
   "cell_type": "code",
   "execution_count": 840,
   "metadata": {},
   "outputs": [],
   "source": [
    "import pandas as pd\n",
    "import matplotlib.pyplot as plt\n",
    "import seaborn as sns\n",
    "import numpy as np\n"
   ]
  },
  {
   "cell_type": "code",
   "execution_count": 841,
   "metadata": {},
   "outputs": [
    {
     "data": {
      "text/plain": [
       "count      711.000000\n",
       "mean      4045.908579\n",
       "std       6910.306412\n",
       "min         18.000000\n",
       "25%        522.000000\n",
       "50%       1534.000000\n",
       "75%       4200.000000\n",
       "max      56828.000000\n",
       "Name: GIFA (Total), dtype: float64"
      ]
     },
     "execution_count": 841,
     "metadata": {},
     "output_type": "execute_result"
    },
    {
     "data": {
      "image/png": "[encoded data removed]",
      "text/plain": [
       "<Figure size 640x480 with 1 Axes>"
      ]
     },
     "metadata": {},
     "output_type": "display_data"
    }
   ],
   "source": [
    "sns.violinplot(y=df['GIFA (Total)'])\n",
    "df['GIFA (Total)'].describe()\n",
    "# df = df[df['GIFA (Total)'] > 500]"
   ]
  },
  {
   "cell_type": "code",
   "execution_count": 842,
   "metadata": {},
   "outputs": [
    {
     "data": {
      "text/plain": [
       "Text(0, 0.5, 'Carbon A1-A3 (kgCO2e)')"
      ]
     },
     "execution_count": 842,
     "metadata": {},
     "output_type": "execute_result"
    },
    {
     "data": {
      "image/png": "[encoded data removed]",
      "text/plain": [
       "<Figure size 1000x600 with 1 Axes>"
      ]
     },
     "metadata": {},
     "output_type": "display_data"
    }
   ],
   "source": [
    "plt.figure(figsize=(10, 6))\n",
    "sns.scatterplot(data=df, x='Carbon Total A1-A5 (kgCO2e)', y='Carbon A1-A3 (kgCO2e)')\n",
    "plt.title('Carbon A1-A3 (kgCO2e) vs Carbon A1-A5 (kgCO2e)')\n",
    "plt.xlabel('Carbon A1-A5 (kgCO2e)')\n",
    "plt.ylabel('Carbon A1-A3 (kgCO2e)')"
   ]
  },
  {
   "cell_type": "code",
   "execution_count": 843,
   "metadata": {},
   "outputs": [
    {
     "data": {
      "text/plain": [
       "<Axes: xlabel='Cladding Type', ylabel='Masonry & Blockwork Total Usage (m2)'>"
      ]
     },
     "execution_count": 843,
     "metadata": {},
     "output_type": "execute_result"
    },
    {
     "data": {
      "image/png": "[encoded data removed]",
      "text/plain": [
       "<Figure size 1000x600 with 1 Axes>"
      ]
     },
     "metadata": {},
     "output_type": "display_data"
    },
    {
     "data": {
      "image/png": "[encoded data removed]",
      "text/plain": [
       "<Figure size 1000x600 with 1 Axes>"
      ]
     },
     "metadata": {},
     "output_type": "display_data"
    },
    {
     "data": {
      "image/png": "[encoded data removed]",
      "text/plain": [
       "<Figure size 1000x600 with 1 Axes>"
      ]
     },
     "metadata": {},
     "output_type": "display_data"
    }
   ],
   "source": [
    "plt.figure(figsize=(10, 6))\n",
    "sns.scatterplot(data=df, x='GIFA (Total)', y='Carbon A1-A3 (kgCO2e)')\n",
    "\n",
    "plt.title('Carbon A1-A3 (kgCO2e) vs GIFA')\n",
    "plt.xlabel('GIFA (Total)')\n",
    "plt.ylabel('Carbon A1-A3 (kgCO2e)')\n",
    "plt.figure(figsize=(10, 6))\n",
    "\n",
    "sns.scatterplot(data=df, x='Superstructure Type', y='Masonry & Blockwork Total Usage (m2)')\n",
    "plt.figure(figsize=(10, 6))\n",
    "\n",
    "sns.scatterplot(data=df, x='Cladding Type', y='Masonry & Blockwork Total Usage (m2)')\n",
    "    "
   ]
  },
  {
   "cell_type": "code",
   "execution_count": 844,
   "metadata": {},
   "outputs": [
    {
     "data": {
      "image/png": "[encoded data removed]",
      "text/plain": [
       "<Figure size 1000x600 with 1 Axes>"
      ]
     },
     "metadata": {},
     "output_type": "display_data"
    }
   ],
   "source": [
    "import matplotlib.pyplot as plt\n",
    "import seaborn as sns\n",
    "\n",
    "plt.figure(figsize=(10, 6))  # Increase figure size\n",
    "sns.histplot(data=df['Masonry & Blockwork Total Usage (m2)'], bins=50)  # Adjust number of bins\n",
    "plt.title('Distribution of Masonry & Blockwork Usage')\n",
    "plt.ylabel('Count')\n",
    "plt.xlabel('Usage (m²)')\n",
    "plt.xticks(rotation=45)  # Rotate x-axis labels for better readability\n",
    "plt.tight_layout()\n",
    "plt.show()"
   ]
  },
  {
   "cell_type": "code",
   "execution_count": null,
   "metadata": {},
   "outputs": [],
   "source": []
  },
  {
   "cell_type": "code",
   "execution_count": 845,
   "metadata": {},
   "outputs": [
    {
     "name": "stdout",
     "output_type": "stream",
     "text": [
      "\n",
      "Bin Statistics:\n",
      "            count         min          max        mean      median\n",
      "A1-A3 Bins                                                        \n",
      "Bin 1          72     5054.59     37017.93    20855.05    21909.06\n",
      "Bin 2          71    37018.00     77865.93    56793.31    58843.02\n",
      "Bin 3          71    77866.00    140692.88   105259.43   101758.54\n",
      "Bin 4          71   140761.14    239946.00   188639.73   187193.51\n",
      "Bin 5          71   239946.06    376240.09   304707.64   298168.00\n",
      "Bin 6          71   379933.69    593714.20   494676.39   502663.00\n",
      "Bin 7          71   604464.00    838146.13   721657.76   721895.00\n",
      "Bin 8          71   840379.47   1450110.46  1144034.02  1164255.00\n",
      "Bin 9          71  1459914.62   3088150.53  2106843.43  1989533.06\n",
      "Bin 10         71  3088151.00  17775237.02  6064196.40  5077415.00\n"
     ]
    },
    {
     "name": "stderr",
     "output_type": "stream",
     "text": [
      "C:\\Users\\dczqd\\AppData\\Local\\Temp\\ipykernel_53428\\3368234601.py:2: FutureWarning:\n",
      "\n",
      "The default of observed=False is deprecated and will be changed to True in a future version of pandas. Pass observed=False to retain current behavior or observed=True to adopt the future default and silence this warning.\n",
      "\n"
     ]
    }
   ],
   "source": [
    "df['A1-A3 Bins'] = pd.qcut(df['Carbon A1-A3 (kgCO2e)'], q=10, labels=[f'Bin {i+1}' for i in range(10)])\n",
    "bin_stats = df.groupby('A1-A3 Bins')['Carbon A1-A3 (kgCO2e)'].agg(['count', 'min', 'max', 'mean', 'median']).round(2)\n",
    "print(\"\\nBin Statistics:\")\n",
    "print(bin_stats)"
   ]
  },
  {
   "cell_type": "code",
   "execution_count": 846,
   "metadata": {},
   "outputs": [
    {
     "name": "stdout",
     "output_type": "stream",
     "text": [
      "\n",
      "concrete Fold 1 Results:\n",
      "RMSE: 0.39\n",
      "MAE: 0.22\n",
      "R² Score: 0.85\n",
      "MAPE: 264.82%\n",
      "SMAPE: 24.36%\n",
      "Within 10% error: 33.6%\n",
      "Within 20% error: 50.0%\n",
      "\n",
      "concrete Fold 2 Results:\n",
      "RMSE: 0.31\n",
      "MAE: 0.18\n",
      "R² Score: 0.91\n",
      "MAPE: 40.08%\n",
      "SMAPE: 13.85%\n",
      "Within 10% error: 45.3%\n",
      "Within 20% error: 62.5%\n",
      "\n",
      "concrete Fold 3 Results:\n",
      "RMSE: 0.29\n",
      "MAE: 0.19\n",
      "R² Score: 0.92\n",
      "MAPE: 544.97%\n",
      "SMAPE: 22.85%\n",
      "Within 10% error: 37.5%\n",
      "Within 20% error: 55.5%\n",
      "\n",
      "concrete Fold 4 Results:\n",
      "RMSE: 0.27\n",
      "MAE: 0.16\n",
      "R² Score: 0.93\n",
      "MAPE: 86.52%\n",
      "SMAPE: 15.44%\n",
      "Within 10% error: 35.9%\n",
      "Within 20% error: 60.9%\n",
      "\n",
      "concrete Fold 5 Results:\n",
      "RMSE: 0.20\n",
      "MAE: 0.12\n",
      "R² Score: 0.96\n",
      "MAPE: 53.91%\n",
      "SMAPE: 16.41%\n",
      "Within 10% error: 42.5%\n",
      "Within 20% error: 64.6%\n",
      "\n",
      "Average Cross-Validation Metrics:\n",
      "RMSE: 0.29\n",
      "MAE: 0.17\n",
      "R² Score: 0.91\n",
      "MAPE: 198.06%\n",
      "SMAPE: 18.58%\n",
      "Within 10% error: 39.0%\n",
      "Within 20% error: 58.7%\n",
      "\n",
      "timber Fold 1 Results:\n",
      "RMSE: 0.52\n",
      "MAE: 0.30\n",
      "R² Score: 0.72\n",
      "MAPE: 16215.49%\n",
      "SMAPE: 26.61%\n",
      "Within 10% error: 37.5%\n",
      "Within 20% error: 50.0%\n",
      "\n",
      "timber Fold 2 Results:\n",
      "RMSE: 0.59\n",
      "MAE: 0.36\n",
      "R² Score: 0.67\n",
      "MAPE: 57.68%\n",
      "SMAPE: 26.97%\n",
      "Within 10% error: 31.2%\n",
      "Within 20% error: 46.9%\n",
      "\n",
      "timber Fold 3 Results:\n",
      "RMSE: 0.63\n",
      "MAE: 0.37\n",
      "R² Score: 0.58\n",
      "MAPE: 97.25%\n",
      "SMAPE: 30.00%\n",
      "Within 10% error: 39.8%\n",
      "Within 20% error: 56.2%\n",
      "\n",
      "timber Fold 4 Results:\n",
      "RMSE: 0.66\n",
      "MAE: 0.40\n",
      "R² Score: 0.58\n",
      "MAPE: 67.66%\n",
      "SMAPE: 29.67%\n",
      "Within 10% error: 32.8%\n",
      "Within 20% error: 50.8%\n",
      "\n",
      "timber Fold 5 Results:\n",
      "RMSE: 0.49\n",
      "MAE: 0.29\n",
      "R² Score: 0.75\n",
      "MAPE: 49.46%\n",
      "SMAPE: 23.42%\n",
      "Within 10% error: 36.2%\n",
      "Within 20% error: 53.5%\n",
      "\n",
      "Average Cross-Validation Metrics:\n",
      "RMSE: 0.58\n",
      "MAE: 0.34\n",
      "R² Score: 0.66\n",
      "MAPE: 3297.51%\n",
      "SMAPE: 27.34%\n",
      "Within 10% error: 35.5%\n",
      "Within 20% error: 51.5%\n",
      "\n",
      "steel Fold 1 Results:\n",
      "RMSE: 0.50\n",
      "MAE: 0.30\n",
      "R² Score: 0.74\n",
      "MAPE: 347.44%\n",
      "SMAPE: 29.64%\n",
      "Within 10% error: 30.5%\n",
      "Within 20% error: 46.9%\n",
      "\n",
      "steel Fold 2 Results:\n",
      "RMSE: 0.64\n",
      "MAE: 0.40\n",
      "R² Score: 0.58\n",
      "MAPE: 240.84%\n",
      "SMAPE: 36.26%\n",
      "Within 10% error: 18.0%\n",
      "Within 20% error: 34.4%\n",
      "\n",
      "steel Fold 3 Results:\n",
      "RMSE: 0.65\n",
      "MAE: 0.38\n",
      "R² Score: 0.56\n",
      "MAPE: 142.47%\n",
      "SMAPE: 36.59%\n",
      "Within 10% error: 21.9%\n",
      "Within 20% error: 39.1%\n",
      "\n",
      "steel Fold 4 Results:\n",
      "RMSE: 0.58\n",
      "MAE: 0.36\n",
      "R² Score: 0.70\n",
      "MAPE: 128.40%\n",
      "SMAPE: 34.95%\n",
      "Within 10% error: 31.2%\n",
      "Within 20% error: 45.3%\n",
      "\n",
      "steel Fold 5 Results:\n",
      "RMSE: 0.58\n",
      "MAE: 0.34\n",
      "R² Score: 0.64\n",
      "MAPE: 741.36%\n",
      "SMAPE: 32.37%\n",
      "Within 10% error: 22.8%\n",
      "Within 20% error: 37.8%\n",
      "\n",
      "Average Cross-Validation Metrics:\n",
      "RMSE: 0.59\n",
      "MAE: 0.36\n",
      "R² Score: 0.64\n",
      "MAPE: 320.10%\n",
      "SMAPE: 33.96%\n",
      "Within 10% error: 24.9%\n",
      "Within 20% error: 40.7%\n",
      "\n",
      "rebar Fold 1 Results:\n",
      "RMSE: 0.37\n",
      "MAE: 0.21\n",
      "R² Score: 0.89\n",
      "MAPE: 45.78%\n",
      "SMAPE: 18.24%\n",
      "Within 10% error: 39.1%\n",
      "Within 20% error: 59.4%\n",
      "\n",
      "rebar Fold 2 Results:\n",
      "RMSE: 0.34\n",
      "MAE: 0.21\n",
      "R² Score: 0.89\n",
      "MAPE: 53.27%\n",
      "SMAPE: 16.64%\n",
      "Within 10% error: 45.3%\n",
      "Within 20% error: 59.4%\n",
      "\n",
      "rebar Fold 3 Results:\n",
      "RMSE: 0.25\n",
      "MAE: 0.16\n",
      "R² Score: 0.93\n",
      "MAPE: 47.15%\n",
      "SMAPE: 19.63%\n",
      "Within 10% error: 36.7%\n",
      "Within 20% error: 56.2%\n",
      "\n",
      "rebar Fold 4 Results:\n",
      "RMSE: 0.28\n",
      "MAE: 0.18\n",
      "R² Score: 0.91\n",
      "MAPE: 45.38%\n",
      "SMAPE: 16.91%\n",
      "Within 10% error: 36.7%\n",
      "Within 20% error: 53.9%\n",
      "\n",
      "rebar Fold 5 Results:\n",
      "RMSE: 0.32\n",
      "MAE: 0.18\n",
      "R² Score: 0.90\n",
      "MAPE: 39.08%\n",
      "SMAPE: 18.54%\n",
      "Within 10% error: 44.9%\n",
      "Within 20% error: 66.1%\n",
      "\n",
      "Average Cross-Validation Metrics:\n",
      "RMSE: 0.31\n",
      "MAE: 0.19\n",
      "R² Score: 0.90\n",
      "MAPE: 46.13%\n",
      "SMAPE: 17.99%\n",
      "Within 10% error: 40.5%\n",
      "Within 20% error: 59.0%\n",
      "\n",
      "Initializing stacked predictor...\n",
      "\n",
      "Adding base predictors...\n",
      "\n",
      "Training stacked model...\n",
      "\n",
      "carbon_emissions Fold 1 Results:\n",
      "RMSE: 0.10\n",
      "MAE: 0.06\n",
      "R² Score: 0.99\n",
      "MAPE: 39323.00%\n",
      "SMAPE: 9.35%\n",
      "Within 10% error: 63.3%\n",
      "Within 20% error: 78.1%\n",
      "\n",
      "carbon_emissions Fold 2 Results:\n",
      "RMSE: 0.18\n",
      "MAE: 0.10\n",
      "R² Score: 0.97\n",
      "MAPE: 19.00%\n",
      "SMAPE: 7.63%\n",
      "Within 10% error: 57.8%\n",
      "Within 20% error: 78.1%\n",
      "\n",
      "carbon_emissions Fold 3 Results:\n",
      "RMSE: 0.12\n",
      "MAE: 0.07\n",
      "R² Score: 0.98\n",
      "MAPE: 90.90%\n",
      "SMAPE: 11.88%\n",
      "Within 10% error: 60.2%\n",
      "Within 20% error: 73.4%\n",
      "\n",
      "carbon_emissions Fold 4 Results:\n",
      "RMSE: 0.10\n",
      "MAE: 0.07\n",
      "R² Score: 0.99\n",
      "MAPE: 25.78%\n",
      "SMAPE: 9.39%\n",
      "Within 10% error: 56.2%\n",
      "Within 20% error: 81.2%\n",
      "\n",
      "carbon_emissions Fold 5 Results:\n",
      "RMSE: 0.09\n",
      "MAE: 0.06\n",
      "R² Score: 0.99\n",
      "MAPE: 15.20%\n",
      "SMAPE: 8.77%\n",
      "Within 10% error: 63.0%\n",
      "Within 20% error: 84.3%\n",
      "\n",
      "Average Cross-Validation Metrics:\n",
      "RMSE: 0.12\n",
      "MAE: 0.07\n",
      "R² Score: 0.98\n",
      "MAPE: 7894.78%\n",
      "SMAPE: 9.40%\n",
      "Within 10% error: 60.1%\n",
      "Within 20% error: 79.0%\n",
      "\n",
      "Final model trained on full dataset\n",
      "\n",
      "Generating full predictions...\n",
      "\n",
      "Plotting residuals analysis...\n",
      "<__main__.StackedMaterialPredictor object at 0x0000021E0689FE80>\n",
      "Starting residual analysis...\n",
      "\n",
      "Generating stacked predictions...\n",
      "\n",
      "Plotting stacked model residuals...\n"
     ]
    },
    {
     "data": {
      "application/vnd.plotly.v1+json": {
       "config": {
        "plotlyServerURL": "https://plot.ly"
       },
       "data": [
        {
         "customdata": {
          "bdata": "hJ0dFjIZNEEKeqpVHJbcQAAAAACA8QJBAAAAAAVaNUEZ/62LVOs1QYtCnObKLD5BAAAAADR/IUEAAAAANdw7QQAAAIBDV0BBo4RU/C1oOUEAAAAAso8zQQAAAICAC0xBAAAAAFviO0GEYcSi1JYfQV4OkCWRqCpBHWfK8HalKUEAAAAAAHPeQCRjQKdMmttAluKiIPo/ZUHObE4Vg7EsQbKlh+JyUgZBAAAAgAtKZUH2pV/2odQzQSAak6XpHPlAAAAAAOTOKEEcNtrXTr/oQAAAAAAAO99AJpc22mTh5EAz+7sJD7IfQXe4yoeisyVBAAAAAKDoC0EAAAAAnB8SQbs+WMu5NTBB+eVB7WM0CUEAAAAAcFIGQQAAAIBd0GFBAAAAAByuHkEAAAAAXKMbQQAAAICLj0dB8VvDT1B3JEGUSOqHUOoaQQAAAIAQIFtBxNMhjTyoC0EAAAAA7FQ8QWyCpphmySJBWq1mYc0HGEHcBUQu5wssQfyacPUYnbZAAAAAACAtBUFkFEitVu9EQVO+syNeDyhBRKRRO0ab0kAAAAAAACHJQAAAAAD4mQlBD0UIKgwFBUEAAAAAhC0fQVOP39OpuQ9BoEPK1hQEE0FQH1wVnugLQQAAAMAT+FRBAAAAAGa5K0Ealy3k+D1FQTo6ydDvhEhBPhDKYdHe60A6KuL4yf0QQQ0stiZTURBBdV5EjPRUIEEAAAAAYEcnQdUr+ci1aepAazKt9VZd90A/7NQuMpY1QWWZQ4SOMi9B",
          "dtype": "f8",
          "shape": "72, 1"
         },
         "hovertemplate": "Predicted: %{x:.2f}<br>Residual: %{y:.2f}<br>Actual: %{customdata[0]:.2f}<br><extra></extra>",
         "mode": "markers",
         "name": "Residuals",
         "type": "scatter",
         "x": {
          "bdata": "18SySWLxJUfklxNI98SgSVI5v0nlhuZJ4i4OSbtrRUluBgRK4v+6SWUnjEnsPU1KQtbYSXbT5kjInGVJ3SU4SS+C+0Yvz+9GWDLaSlrqYkmG+0hIxcolS+Snn0kYD81HaIdfSfcPA0cVX2lHYbaYRpCj3EgdsydJGr5ZSPU1hkgLcHdJ5rkNSVpfPUi2GRVLY7jlSBm42Ugvr0FKQAYtSXn44kj/KspK/PRnSFQtu0kEXOlIWeCwSJUuZUk41rpFMHsaSOkeIUpRzkFJK1qHRt3NSEY334RIluclSL8in0jkMIRIPTO4SIoHVkjN+KdK4XhJSdauL0pUrDtKBpeCR4HqkEhwALVI6On2SDvUNkmZ77ZGdHixR10ZpEmDPx9J",
          "dtype": "f4"
         },
         "xaxis": "x",
         "y": {
          "bdata": "4BMTT0b7AcHsC6tUeMzJwAAAAADgoK9AAAAAAGIW9EBwDiBFW73/wLAoxGnkvvVAAAAAABCqwcAAAACg8govQQAAAAAgxdTAGCWk4o1BAEEAAAAAK1YAQQAAAAAYHhNBAAAAAFjy6EAgDCMWL+PlQBCNf9M+WPDA6DhThtoF9UAAAAAAvKiPwODm/MXJ/KLAWIqLglJzTkGAM5tT9Q3FQHDSwuvuZ9bAAAAAAFwWEkEABS3QRC3AwAC8nE0rn6DAAAAAAEgQ+cA4bLTvn7rQQAAAAEDFHNvATC5tlP2r1kDM7O8mdHbwQOAOV/ncp9dAAAAAAJgbtkAAAAAA1o3VQGDXB2sj1+dABA1fiUfUFsEAAAAAtJfFwAAAAAAoWxrBAAAAAPpw30AAAAAAOBa7QAAAAABMy/TA8EDKA3uX4sDAdluB6UvXwAAAAAAKqx1BwMPiLS9mxcAAAAAABr0TQbAJmmKZzgBBoNVqFiS83kCARH83bj3TwICg7FHBtWfAAAAAAKDbzUCAjAKpMW/5QIDWICb+NbXAQEQatQ0Am0AAAAAAgBEtQAAAAABXd+7AwEMRgloGokAAAABAWJIGQdAKB8LyKMXAgPHWJEsJ8MAA9cFVzXrCQAAAAACAF7zAAAAAAE9S9EDAHE16O/z2wKCjkwxV9gBBCL/XeMAbw8BgXN1xYvjRwMxPJ2XrOvnAoM6LiMHK3EAAAAAAKDbLQKpX8nF49d1AsCbTWofkskDww07taDDxQMoyh0g8lRZB",
          "dtype": "f8"
         },
         "yaxis": "y"
        },
        {
         "histnorm": "probability density",
         "name": "Residual Dist",
         "nbinsx": 50,
         "type": "histogram",
         "x": {
          "bdata": "4BMTT0b7AcHsC6tUeMzJwAAAAADgoK9AAAAAAGIW9EBwDiBFW73/wLAoxGnkvvVAAAAAABCqwcAAAACg8govQQAAAAAgxdTAGCWk4o1BAEEAAAAAK1YAQQAAAAAYHhNBAAAAAFjy6EAgDCMWL+PlQBCNf9M+WPDA6DhThtoF9UAAAAAAvKiPwODm/MXJ/KLAWIqLglJzTkGAM5tT9Q3FQHDSwuvuZ9bAAAAAAFwWEkEABS3QRC3AwAC8nE0rn6DAAAAAAEgQ+cA4bLTvn7rQQAAAAEDFHNvATC5tlP2r1kDM7O8mdHbwQOAOV/ncp9dAAAAAAJgbtkAAAAAA1o3VQGDXB2sj1+dABA1fiUfUFsEAAAAAtJfFwAAAAAAoWxrBAAAAAPpw30AAAAAAOBa7QAAAAABMy/TA8EDKA3uX4sDAdluB6UvXwAAAAAAKqx1BwMPiLS9mxcAAAAAABr0TQbAJmmKZzgBBoNVqFiS83kCARH83bj3TwICg7FHBtWfAAAAAAKDbzUCAjAKpMW/5QIDWICb+NbXAQEQatQ0Am0AAAAAAgBEtQAAAAABXd+7AwEMRgloGokAAAABAWJIGQdAKB8LyKMXAgPHWJEsJ8MAA9cFVzXrCQAAAAACAF7zAAAAAAE9S9EDAHE16O/z2wKCjkwxV9gBBCL/XeMAbw8BgXN1xYvjRwMxPJ2XrOvnAoM6LiMHK3EAAAAAAKDbLQKpX8nF49d1AsCbTWofkskDww07taDDxQMoyh0g8lRZB",
          "dtype": "f8"
         },
         "xaxis": "x2",
         "yaxis": "y2"
        },
        {
         "line": {
          "color": "red"
         },
         "mode": "lines",
         "name": "KDE",
         "type": "scatter",
         "x": {
          "bdata": "AAAAAChbGsGrWcv/E6EXwVezlv//5hTBAg1i/+ssEsFbzVr+r+UOwbKA8f2HcQnBCDSI/V/9A8HAzj36bxL9wGw1a/kfKvLAYHBi4j8H3cDA6c9BADTNQBgtGRKgHe1A4C/fCSB3+UCY5FgFuC8CQUAxwgXgowdB7H0rBggYDUFKZUoDGEYRQZ4LfwMsABRB9LGzA0C6FkFIWOgDVHQZQZz+HARoLhxB8qRRBHzoHkGjJUMCSNEgQc14XQJSLiJB+Mt3AlyLI0EiH5ICZugkQUxyrAJwRSZBdsXGAnqiJ0GgGOEChP8oQcxr+wKOXCpB9r4VA5i5K0EgEjADohYtQUplSgOscy5BdLhkA7bQL0HPhb8B4JYwQWSvzAFlRTFB+tjZAerzMUGPAucBb6IyQSQs9AH0UDNBuVUBAnn/M0FOfw4C/q00QeOoGwKDXDVBedIoAggLNkEO/DUCjbk2QaMlQwISaDdBOE9QApcWOEHNeF0CHMU4QWKiagKhczlB+Mt3AiYiOkGM9YQCq9A6QSIfkgIwfztBtkifArUtPEFMcqwCOtw8QeKbuQK/ij1BdsXGAkQ5PkEM79MCyec+QaAY4QJOlj9BGyF3gWkiQEHmtX0BrHlAQbBKhIHu0EBBe9+KATEoQUFFdJGBc39BQRAJmAG21kFB2p2egfgtQkGlMqUBO4VCQXDHq4F93EJBOlyyAcAzQ0EF8biBAotDQc+FvwFF4kNBmhrGgYc5REFkr8wBypBEQS9E04EM6ERB+tjZAU8/RUHEbeCBkZZFQY8C5wHU7UVBWZftgRZFRkEkLPQBWZxGQe/A+oGb80ZBuVUBAt5KR0GE6geCIKJHQU5/DgJj+UdBGRQVgqVQSEHjqBsC6KdIQa49IoIq/0hBedIoAm1WSUFDZy+Cr61JQQ78NQLyBEpB2JA8gjRcSkGjJUMCd7NKQW26SYK5CktBOE9QAvxhS0ED5FaCPrlLQc14XQKBEExBmA1kgsNnTEFiomoCBr9MQSw3cYJIFk1B+Mt3AottTUHCYH6CzcRNQYz1hAIQHE5BWIqLglJzTkE=",
          "dtype": "f8"
         },
         "xaxis": "x2",
         "y": {
          "bdata": "zcuurZvbkT5/cISdjKGYPsOJ4KmRlqA+HCtUqEq7pT7G/Df4UJmrPskhpNQA8rA+m2y/5gQVtD5AdE01c/C2PtGY+ZhNPLk+4LM+fPK5uj5fEwIOnD+7PtCcSfxKwLo+9d3Z1/tNuT5LKgfNmxW3Pv9zFlX0VbQ+nfm45BRUsT7x+uXoXaCsPj4hWJyn+qY+Kwv2BLH6oT4g9uoYRoObPh0L7E5LqJQ++AVBp2KNjj4+IZL+oFeGPlGiuLc4PYA+UsTS4qujdz6Y0wkVNm9xPr6KQTbMgmo+UWJAnUg0ZT6/pks+oBxiPoLF8h8NhWA+4MGS2dCiXz6VoycqBAFfPtr35oS5Xl4+nJxUrLE4XT6nz51ei09bPgoyVmj3oFg+73XBujVZVT4xZ3Dbp79RPg8+ZQRfRUw+uwzB9fCNRT4Yox0Fs3M/Pq//3bJI9DU+WgHMA8hRLT4gM+VHIroiPjmYYF3s4RY+d0x+QE++Cj7nBJ7qMuX9PQ9ISmnC9u892K/YJAhY4D0Evssg+vjPPRCN/x5R6b09A8fnOMLDqj0sctqh/ueWPRyTzKkbwII9IYuBxU1cbT31Y9ShgvxVPaw1gDKpfj89/F5jX06TJT18LotQ80UMPXXiAynyt/E8nzh0WLU91TzB2d916Fq4PBzG8MXMtZo8Kq2uvoUGfDwdKt73AEhcPPSLzWgyMj480v6fFkeENDxh/PJm6h9PPF2rXv9E+W48kFWLIEYSjjzeSDjx+fOrPEZVyhuV2sg8CiHDvtci5TzSI/gqHDEBPZ1i1+Ldvxo9LrL9/nfnMz1edXHJ2VRMPcG7uGQRSWM9kV3+B7sceT2Kz93GlEaPPd2I0ZPAoKI9YDLaITs5tT2FsJolwiDHPY8Q5nUYG9g9sVDWzvMH6D2ubxdN1On2PfbeDRp75QQ+9ZwO8Cg6Ej43asNQzWkePgpZI0W8RCg+lQ0kk6KFMj52xyM8mQo7PnZaDQdT4UI+khrXnlQ3ST7xWie5IBtQPsMLS/OurVM+M2I0Ixf/Vj49FXBbKLRZPjDBjFWSels+xgSelukYXD4=",
          "dtype": "f8"
         },
         "yaxis": "y2"
        },
        {
         "hovertemplate": "Theoretical Quantile: %{x:.2f}<br>Sample Quantile: %{y:.2f}<br><extra></extra>",
         "mode": "markers",
         "name": "Q-Q Plot",
         "type": "scatter",
         "x": {
          "bdata": "sHmMgyy9AsAYUCfuaNr/vzYTVZF5kvy/8OHVZk4u+r/QDfbDQEP4vx36wWUVpPa/PWJ31Ck59b824j+dgfTzv+QtPR8dzfK/gGh839W88b8iOYs1Rb/wv0cEMIJOou+/iBD43/rf7b+cc0PbpzPsvzutHMA2muq/sgMnCh4R6b/v2x1QRZbnv07JoXjrJ+a/VGOL35PE5L8kOxBI+Grjv+NesDP+GeK/nyFYq67Q4L9gf0qnXxzfv6cK7K1/o9y/Tg2yomE12r+EzL8Cy9DXv8qmpyGddNW/IwI5p9Af07+QYJbGcdHQvy6Bjg46Ec2/L0NMA/mIyL9f+u3sigjEv6An6bjYHL+/fNGEQVAytr96cW0pT52qvzL3oG9jvJG/Wvegb2O8kT96cW0pT52qP3zRhEFQMrY/lifpuNgcvz9k+u3sigjEPzRDTAP5iMg/LoGODjoRzT+VYJbGcdHQPyYCOafQH9M/zKanIZ101T+EzL8Cy9DXP1MNsqJhNdo/qQrsrX+j3D9gf0qnXxzfP58hWKuu0OA/5F6wM/4Z4j8mOxBI+GrjP1Rji9+TxOQ/UcmheOsn5j/x2x1QRZbnP7IDJwoeEek/O60cwDaa6j+dc0PbpzPsP4gQ+N/63+0/RwQwgk6i7z8kOYs1Rb/wP4BofN/VvPE/5C09Hx3N8j844j+dgfTzPz9id9QpOfU/JPrBZRWk9j/UDfbDQEP4P/bh1WZOLvo/PxNVkXmS/D8iUCfuaNr/P7B5jIMsvQJA",
          "dtype": "f8"
         },
         "xaxis": "x3",
         "y": {
          "bdata": "AAAAAChbGsEEDV+JR9QWweATE09G+wHBcA4gRVu9/8DMTydl6zr5wAAAAABIEPnAwBxNejv89sAAAAAATMv0wBCNf9M+WPDAgPHWJEsJ8MAAAAAAV3fuwPBAygN7l+LAAAAAQMUc28DAdluB6UvXwHDSwuvuZ9bAAAAAACDF1MCARH83bj3TwGBc3XFi+NHA7AurVHjMycAAAAAAtJfFwMDD4i0vZsXA0AoHwvIoxcAIv9d4wBvDwAAAAAAQqsHAAAUt0EQtwMAAAAAAgBe8wIDWICb+NbXA4Ob8xcn8osAAvJxNK5+gwAAAAAC8qI/AgKDsUcG1Z8AAAAAAgBEtQEBEGrUNAJtAwEMRgloGokAAAAAA4KCvQLAm01qH5LJAAAAAAJgbtkAAAAAAOBa7QAD1wVXNesJAgDObU/UNxUAAAAAAKDbLQAAAAACg281AOGy075+60EAAAAAA1o3VQEwubZT9q9ZA4A5X+dyn10CgzouIwcrcQKpX8nF49d1AoNVqFiS83kAAAAAA+nDfQCAMIxYv4+VAYNcHayPX50AAAAAAWPLoQMzs7yZ0dvBA8MNO7Wgw8UAAAAAAYhb0QAAAAABPUvRA6DhThtoF9UCwKMRp5L71QICMAqkxb/lAGCWk4o1BAEEAAAAAK1YAQbAJmmKZzgBBoKOTDFX2AEEAAABAWJIGQQAAAABcFhJBAAAAABgeE0EAAAAABr0TQcoyh0g8lRZBAAAAAAqrHUEAAACg8govQViKi4JSc05B",
          "dtype": "f8"
         },
         "yaxis": "y3"
        },
        {
         "line": {
          "color": "red",
          "dash": "dash"
         },
         "mode": "lines",
         "name": "Q-Q Line",
         "type": "scatter",
         "x": {
          "bdata": "sHmMgyy9AsCweYyDLL0CQA==",
          "dtype": "f8"
         },
         "xaxis": "x3",
         "y": {
          "bdata": "0K7JgtbiIMGCt3EHs30mQQ==",
          "dtype": "f8"
         },
         "yaxis": "y3"
        },
        {
         "customdata": {
          "bdata": "ET85eupdJkD402oM5I9GQHAW+p/R3gTAxqtDORCFF8AgTU2LrxkiQHKn8kwtBBLAM3cCEz09+T8GIiwHGdtLwG2qqYGzxu8/Fp5BYcv9H8AUoeLj8uAkwPJ/ndy5CiHA9cS3x8VdBsCk9pWwalIhwJi5Irrfpx5A+8+z+zd+JMDMZqLVTf4JQI0E9bhzMiFAG4GKx4DpQcAnqxQfKljyv7WLV90PGClAmJHpAHE9BcBWlxukzmTkP7yS+0wIjABAZH7qceVBKUDk+y8qW+ZAwE8xNMYWtFVAW0AmAhMlS8CBP6ObVvgpwEtecThBQAvAp4nXwb3NA8DL7LfvcrsdwKb99GtYYhLAtkTGoNOkZkAPgy/x3C4YQG9T2Z93fhJA5iLVG8qeGcDuQ/zhVID4v5zLjYp8EAZAYcnTD961FkBMjRA0haMVQKxtZpX4VxvA5pbild1XE0ABWRSTzWoxwPfuRNqVXTbA+CUC1pX5H8BdxvVJaiYBQFQWP0JGNgpAwvgSouefIcDicDP8hF8OwDrJckohCuY/FrH3fpAjIsDGUuCbU+u8vy4elEEdwD1AW9DYDyBw9b9qKialYRlCwPyzwjWkrBBAXu5oWCwVNUCoFtYXwY0QwOUKlgD5vsA/e77dsx9TIsClQxQpNQ0LQBOfNGF3SxHAXgdWwfIjMUCyY5PTtXAaQG4lnkDLU0NAe4elD2UJFsDiKRiEODn9v73QdGUzW0zAVIa+BQ83FMD5GL1DNOgTwEm8avrFGELA",
          "dtype": "f8",
          "shape": "72, 1"
         },
         "hovertemplate": "Actual: %{x:.2f}<br>Predicted: %{y:.2f}<br>Error: %{customdata[0]:.1f}%<br><extra></extra>",
         "mode": "markers",
         "name": "Predictions",
         "type": "scatter",
         "x": {
          "bdata": "hJ0dFjIZNEEKeqpVHJbcQAAAAACA8QJBAAAAAAVaNUEZ/62LVOs1QYtCnObKLD5BAAAAADR/IUEAAAAANdw7QQAAAIBDV0BBo4RU/C1oOUEAAAAAso8zQQAAAICAC0xBAAAAAFviO0GEYcSi1JYfQV4OkCWRqCpBHWfK8HalKUEAAAAAAHPeQCRjQKdMmttAluKiIPo/ZUHObE4Vg7EsQbKlh+JyUgZBAAAAgAtKZUH2pV/2odQzQSAak6XpHPlAAAAAAOTOKEEcNtrXTr/oQAAAAAAAO99AJpc22mTh5EAz+7sJD7IfQXe4yoeisyVBAAAAAKDoC0EAAAAAnB8SQbs+WMu5NTBB+eVB7WM0CUEAAAAAcFIGQQAAAIBd0GFBAAAAAByuHkEAAAAAXKMbQQAAAICLj0dB8VvDT1B3JEGUSOqHUOoaQQAAAIAQIFtBxNMhjTyoC0EAAAAA7FQ8QWyCpphmySJBWq1mYc0HGEHcBUQu5wssQfyacPUYnbZAAAAAACAtBUFkFEitVu9EQVO+syNeDyhBRKRRO0ab0kAAAAAAACHJQAAAAAD4mQlBD0UIKgwFBUEAAAAAhC0fQVOP39OpuQ9BoEPK1hQEE0FQH1wVnugLQQAAAMAT+FRBAAAAAGa5K0Ealy3k+D1FQTo6ydDvhEhBPhDKYdHe60A6KuL4yf0QQQ0stiZTURBBdV5EjPRUIEEAAAAAYEcnQdUr+ci1aepAazKt9VZd90A/7NQuMpY1QWWZQ4SOMi9B",
          "dtype": "f8"
         },
         "xaxis": "x4",
         "y": {
          "bdata": "18SySWLxJUfklxNI98SgSVI5v0nlhuZJ4i4OSbtrRUluBgRK4v+6SWUnjEnsPU1KQtbYSXbT5kjInGVJ3SU4SS+C+0Yvz+9GWDLaSlrqYkmG+0hIxcolS+Snn0kYD81HaIdfSfcPA0cVX2lHYbaYRpCj3EgdsydJGr5ZSPU1hkgLcHdJ5rkNSVpfPUi2GRVLY7jlSBm42Ugvr0FKQAYtSXn44kj/KspK/PRnSFQtu0kEXOlIWeCwSJUuZUk41rpFMHsaSOkeIUpRzkFJK1qHRt3NSEY334RIluclSL8in0jkMIRIPTO4SIoHVkjN+KdK4XhJSdauL0pUrDtKBpeCR4HqkEhwALVI6On2SDvUNkmZ77ZGdHixR10ZpEmDPx9J",
          "dtype": "f4"
         },
         "yaxis": "y4"
        },
        {
         "line": {
          "color": "red",
          "dash": "dash"
         },
         "mode": "lines",
         "name": "Perfect Prediction",
         "type": "scatter",
         "x": [
          5789.097495115126,
          11161692
         ],
         "xaxis": "x4",
         "y": [
          5789.097495115126,
          11161692
         ],
         "yaxis": "y4"
        }
       ],
       "layout": {
        "annotations": [
         {
          "font": {
           "size": 16
          },
          "showarrow": false,
          "text": "Residuals vs Predicted",
          "x": 0.225,
          "xanchor": "center",
          "xref": "paper",
          "y": 1,
          "yanchor": "bottom",
          "yref": "paper"
         },
         {
          "font": {
           "size": 16
          },
          "showarrow": false,
          "text": "Residual Distribution",
          "x": 0.775,
          "xanchor": "center",
          "xref": "paper",
          "y": 1,
          "yanchor": "bottom",
          "yref": "paper"
         },
         {
          "font": {
           "size": 16
          },
          "showarrow": false,
          "text": "Normal Q-Q Plot",
          "x": 0.225,
          "xanchor": "center",
          "xref": "paper",
          "y": 0.375,
          "yanchor": "bottom",
          "yref": "paper"
         },
         {
          "font": {
           "size": 16
          },
          "showarrow": false,
          "text": "Predicted vs Actual",
          "x": 0.775,
          "xanchor": "center",
          "xref": "paper",
          "y": 0.375,
          "yanchor": "bottom",
          "yref": "paper"
         }
        ],
        "height": 800,
        "shapes": [
         {
          "line": {
           "color": "red",
           "dash": "dash"
          },
          "type": "line",
          "x0": 0,
          "x1": 1,
          "xref": "x domain",
          "y0": 0,
          "y1": 0,
          "yref": "y"
         }
        ],
        "showlegend": false,
        "template": {
         "data": {
          "bar": [
           {
            "error_x": {
             "color": "#2a3f5f"
            },
            "error_y": {
             "color": "#2a3f5f"
            },
            "marker": {
             "line": {
              "color": "#E5ECF6",
              "width": 0.5
             },
             "pattern": {
              "fillmode": "overlay",
              "size": 10,
              "solidity": 0.2
             }
            },
            "type": "bar"
           }
          ],
          "barpolar": [
           {
            "marker": {
             "line": {
              "color": "#E5ECF6",
              "width": 0.5
             },
             "pattern": {
              "fillmode": "overlay",
              "size": 10,
              "solidity": 0.2
             }
            },
            "type": "barpolar"
           }
          ],
          "carpet": [
           {
            "aaxis": {
             "endlinecolor": "#2a3f5f",
             "gridcolor": "white",
             "linecolor": "white",
             "minorgridcolor": "white",
             "startlinecolor": "#2a3f5f"
            },
            "baxis": {
             "endlinecolor": "#2a3f5f",
             "gridcolor": "white",
             "linecolor": "white",
             "minorgridcolor": "white",
             "startlinecolor": "#2a3f5f"
            },
            "type": "carpet"
           }
          ],
          "choropleth": [
           {
            "colorbar": {
             "outlinewidth": 0,
             "ticks": ""
            },
            "type": "choropleth"
           }
          ],
          "contour": [
           {
            "colorbar": {
             "outlinewidth": 0,
             "ticks": ""
            },
            "colorscale": [
             [
              0,
              "#0d0887"
             ],
             [
              0.1111111111111111,
              "#46039f"
             ],
             [
              0.2222222222222222,
              "#7201a8"
             ],
             [
              0.3333333333333333,
              "#9c179e"
             ],
             [
              0.4444444444444444,
              "#bd3786"
             ],
             [
              0.5555555555555556,
              "#d8576b"
             ],
             [
              0.6666666666666666,
              "#ed7953"
             ],
             [
              0.7777777777777778,
              "#fb9f3a"
             ],
             [
              0.8888888888888888,
              "#fdca26"
             ],
             [
              1,
              "#f0f921"
             ]
            ],
            "type": "contour"
           }
          ],
          "contourcarpet": [
           {
            "colorbar": {
             "outlinewidth": 0,
             "ticks": ""
            },
            "type": "contourcarpet"
           }
          ],
          "heatmap": [
           {
            "colorbar": {
             "outlinewidth": 0,
             "ticks": ""
            },
            "colorscale": [
             [
              0,
              "#0d0887"
             ],
             [
              0.1111111111111111,
              "#46039f"
             ],
             [
              0.2222222222222222,
              "#7201a8"
             ],
             [
              0.3333333333333333,
              "#9c179e"
             ],
             [
              0.4444444444444444,
              "#bd3786"
             ],
             [
              0.5555555555555556,
              "#d8576b"
             ],
             [
              0.6666666666666666,
              "#ed7953"
             ],
             [
              0.7777777777777778,
              "#fb9f3a"
             ],
             [
              0.8888888888888888,
              "#fdca26"
             ],
             [
              1,
              "#f0f921"
             ]
            ],
            "type": "heatmap"
           }
          ],
          "histogram": [
           {
            "marker": {
             "pattern": {
              "fillmode": "overlay",
              "size": 10,
              "solidity": 0.2
             }
            },
            "type": "histogram"
           }
          ],
          "histogram2d": [
           {
            "colorbar": {
             "outlinewidth": 0,
             "ticks": ""
            },
            "colorscale": [
             [
              0,
              "#0d0887"
             ],
             [
              0.1111111111111111,
              "#46039f"
             ],
             [
              0.2222222222222222,
              "#7201a8"
             ],
             [
              0.3333333333333333,
              "#9c179e"
             ],
             [
              0.4444444444444444,
              "#bd3786"
             ],
             [
              0.5555555555555556,
              "#d8576b"
             ],
             [
              0.6666666666666666,
              "#ed7953"
             ],
             [
              0.7777777777777778,
              "#fb9f3a"
             ],
             [
              0.8888888888888888,
              "#fdca26"
             ],
             [
              1,
              "#f0f921"
             ]
            ],
            "type": "histogram2d"
           }
          ],
          "histogram2dcontour": [
           {
            "colorbar": {
             "outlinewidth": 0,
             "ticks": ""
            },
            "colorscale": [
             [
              0,
              "#0d0887"
             ],
             [
              0.1111111111111111,
              "#46039f"
             ],
             [
              0.2222222222222222,
              "#7201a8"
             ],
             [
              0.3333333333333333,
              "#9c179e"
             ],
             [
              0.4444444444444444,
              "#bd3786"
             ],
             [
              0.5555555555555556,
              "#d8576b"
             ],
             [
              0.6666666666666666,
              "#ed7953"
             ],
             [
              0.7777777777777778,
              "#fb9f3a"
             ],
             [
              0.8888888888888888,
              "#fdca26"
             ],
             [
              1,
              "#f0f921"
             ]
            ],
            "type": "histogram2dcontour"
           }
          ],
          "mesh3d": [
           {
            "colorbar": {
             "outlinewidth": 0,
             "ticks": ""
            },
            "type": "mesh3d"
           }
          ],
          "parcoords": [
           {
            "line": {
             "colorbar": {
              "outlinewidth": 0,
              "ticks": ""
             }
            },
            "type": "parcoords"
           }
          ],
          "pie": [
           {
            "automargin": true,
            "type": "pie"
           }
          ],
          "scatter": [
           {
            "fillpattern": {
             "fillmode": "overlay",
             "size": 10,
             "solidity": 0.2
            },
            "type": "scatter"
           }
          ],
          "scatter3d": [
           {
            "line": {
             "colorbar": {
              "outlinewidth": 0,
              "ticks": ""
             }
            },
            "marker": {
             "colorbar": {
              "outlinewidth": 0,
              "ticks": ""
             }
            },
            "type": "scatter3d"
           }
          ],
          "scattercarpet": [
           {
            "marker": {
             "colorbar": {
              "outlinewidth": 0,
              "ticks": ""
             }
            },
            "type": "scattercarpet"
           }
          ],
          "scattergeo": [
           {
            "marker": {
             "colorbar": {
              "outlinewidth": 0,
              "ticks": ""
             }
            },
            "type": "scattergeo"
           }
          ],
          "scattergl": [
           {
            "marker": {
             "colorbar": {
              "outlinewidth": 0,
              "ticks": ""
             }
            },
            "type": "scattergl"
           }
          ],
          "scattermap": [
           {
            "marker": {
             "colorbar": {
              "outlinewidth": 0,
              "ticks": ""
             }
            },
            "type": "scattermap"
           }
          ],
          "scattermapbox": [
           {
            "marker": {
             "colorbar": {
              "outlinewidth": 0,
              "ticks": ""
             }
            },
            "type": "scattermapbox"
           }
          ],
          "scatterpolar": [
           {
            "marker": {
             "colorbar": {
              "outlinewidth": 0,
              "ticks": ""
             }
            },
            "type": "scatterpolar"
           }
          ],
          "scatterpolargl": [
           {
            "marker": {
             "colorbar": {
              "outlinewidth": 0,
              "ticks": ""
             }
            },
            "type": "scatterpolargl"
           }
          ],
          "scatterternary": [
           {
            "marker": {
             "colorbar": {
              "outlinewidth": 0,
              "ticks": ""
             }
            },
            "type": "scatterternary"
           }
          ],
          "surface": [
           {
            "colorbar": {
             "outlinewidth": 0,
             "ticks": ""
            },
            "colorscale": [
             [
              0,
              "#0d0887"
             ],
             [
              0.1111111111111111,
              "#46039f"
             ],
             [
              0.2222222222222222,
              "#7201a8"
             ],
             [
              0.3333333333333333,
              "#9c179e"
             ],
             [
              0.4444444444444444,
              "#bd3786"
             ],
             [
              0.5555555555555556,
              "#d8576b"
             ],
             [
              0.6666666666666666,
              "#ed7953"
             ],
             [
              0.7777777777777778,
              "#fb9f3a"
             ],
             [
              0.8888888888888888,
              "#fdca26"
             ],
             [
              1,
              "#f0f921"
             ]
            ],
            "type": "surface"
           }
          ],
          "table": [
           {
            "cells": {
             "fill": {
              "color": "#EBF0F8"
             },
             "line": {
              "color": "white"
             }
            },
            "header": {
             "fill": {
              "color": "#C8D4E3"
             },
             "line": {
              "color": "white"
             }
            },
            "type": "table"
           }
          ]
         },
         "layout": {
          "annotationdefaults": {
           "arrowcolor": "#2a3f5f",
           "arrowhead": 0,
           "arrowwidth": 1
          },
          "autotypenumbers": "strict",
          "coloraxis": {
           "colorbar": {
            "outlinewidth": 0,
            "ticks": ""
           }
          },
          "colorscale": {
           "diverging": [
            [
             0,
             "#8e0152"
            ],
            [
             0.1,
             "#c51b7d"
            ],
            [
             0.2,
             "#de77ae"
            ],
            [
             0.3,
             "#f1b6da"
            ],
            [
             0.4,
             "#fde0ef"
            ],
            [
             0.5,
             "#f7f7f7"
            ],
            [
             0.6,
             "#e6f5d0"
            ],
            [
             0.7,
             "#b8e186"
            ],
            [
             0.8,
             "#7fbc41"
            ],
            [
             0.9,
             "#4d9221"
            ],
            [
             1,
             "#276419"
            ]
           ],
           "sequential": [
            [
             0,
             "#0d0887"
            ],
            [
             0.1111111111111111,
             "#46039f"
            ],
            [
             0.2222222222222222,
             "#7201a8"
            ],
            [
             0.3333333333333333,
             "#9c179e"
            ],
            [
             0.4444444444444444,
             "#bd3786"
            ],
            [
             0.5555555555555556,
             "#d8576b"
            ],
            [
             0.6666666666666666,
             "#ed7953"
            ],
            [
             0.7777777777777778,
             "#fb9f3a"
            ],
            [
             0.8888888888888888,
             "#fdca26"
            ],
            [
             1,
             "#f0f921"
            ]
           ],
           "sequentialminus": [
            [
             0,
             "#0d0887"
            ],
            [
             0.1111111111111111,
             "#46039f"
            ],
            [
             0.2222222222222222,
             "#7201a8"
            ],
            [
             0.3333333333333333,
             "#9c179e"
            ],
            [
             0.4444444444444444,
             "#bd3786"
            ],
            [
             0.5555555555555556,
             "#d8576b"
            ],
            [
             0.6666666666666666,
             "#ed7953"
            ],
            [
             0.7777777777777778,
             "#fb9f3a"
            ],
            [
             0.8888888888888888,
             "#fdca26"
            ],
            [
             1,
             "#f0f921"
            ]
           ]
          },
          "colorway": [
           "#636efa",
           "#EF553B",
           "#00cc96",
           "#ab63fa",
           "#FFA15A",
           "#19d3f3",
           "#FF6692",
           "#B6E880",
           "#FF97FF",
           "#FECB52"
          ],
          "font": {
           "color": "#2a3f5f"
          },
          "geo": {
           "bgcolor": "white",
           "lakecolor": "white",
           "landcolor": "#E5ECF6",
           "showlakes": true,
           "showland": true,
           "subunitcolor": "white"
          },
          "hoverlabel": {
           "align": "left"
          },
          "hovermode": "closest",
          "mapbox": {
           "style": "light"
          },
          "paper_bgcolor": "white",
          "plot_bgcolor": "#E5ECF6",
          "polar": {
           "angularaxis": {
            "gridcolor": "white",
            "linecolor": "white",
            "ticks": ""
           },
           "bgcolor": "#E5ECF6",
           "radialaxis": {
            "gridcolor": "white",
            "linecolor": "white",
            "ticks": ""
           }
          },
          "scene": {
           "xaxis": {
            "backgroundcolor": "#E5ECF6",
            "gridcolor": "white",
            "gridwidth": 2,
            "linecolor": "white",
            "showbackground": true,
            "ticks": "",
            "zerolinecolor": "white"
           },
           "yaxis": {
            "backgroundcolor": "#E5ECF6",
            "gridcolor": "white",
            "gridwidth": 2,
            "linecolor": "white",
            "showbackground": true,
            "ticks": "",
            "zerolinecolor": "white"
           },
           "zaxis": {
            "backgroundcolor": "#E5ECF6",
            "gridcolor": "white",
            "gridwidth": 2,
            "linecolor": "white",
            "showbackground": true,
            "ticks": "",
            "zerolinecolor": "white"
           }
          },
          "shapedefaults": {
           "line": {
            "color": "#2a3f5f"
           }
          },
          "ternary": {
           "aaxis": {
            "gridcolor": "white",
            "linecolor": "white",
            "ticks": ""
           },
           "baxis": {
            "gridcolor": "white",
            "linecolor": "white",
            "ticks": ""
           },
           "bgcolor": "#E5ECF6",
           "caxis": {
            "gridcolor": "white",
            "linecolor": "white",
            "ticks": ""
           }
          },
          "title": {
           "x": 0.05
          },
          "xaxis": {
           "automargin": true,
           "gridcolor": "white",
           "linecolor": "white",
           "ticks": "",
           "title": {
            "standoff": 15
           },
           "zerolinecolor": "white",
           "zerolinewidth": 2
          },
          "yaxis": {
           "automargin": true,
           "gridcolor": "white",
           "linecolor": "white",
           "ticks": "",
           "title": {
            "standoff": 15
           },
           "zerolinecolor": "white",
           "zerolinewidth": 2
          }
         }
        },
        "title": {
         "text": "Stacked Model (Carbon Emissions) Residual Analysis"
        },
        "width": 1200,
        "xaxis": {
         "anchor": "y",
         "domain": [
          0,
          0.45
         ],
         "title": {
          "text": "Predicted Values"
         }
        },
        "xaxis2": {
         "anchor": "y2",
         "domain": [
          0.55,
          1
         ],
         "title": {
          "text": "Residuals"
         }
        },
        "xaxis3": {
         "anchor": "y3",
         "domain": [
          0,
          0.45
         ],
         "title": {
          "text": "Theoretical Quantiles"
         }
        },
        "xaxis4": {
         "anchor": "y4",
         "domain": [
          0.55,
          1
         ],
         "title": {
          "text": "Actual Values"
         }
        },
        "yaxis": {
         "anchor": "x",
         "domain": [
          0.625,
          1
         ],
         "title": {
          "text": "Residuals"
         }
        },
        "yaxis2": {
         "anchor": "x2",
         "domain": [
          0.625,
          1
         ],
         "title": {
          "text": "Density"
         }
        },
        "yaxis3": {
         "anchor": "x3",
         "domain": [
          0,
          0.375
         ],
         "title": {
          "text": "Sample Quantiles"
         }
        },
        "yaxis4": {
         "anchor": "x4",
         "domain": [
          0,
          0.375
         ],
         "title": {
          "text": "Predicted Values"
         }
        }
       }
      }
     },
     "metadata": {},
     "output_type": "display_data"
    },
    {
     "name": "stdout",
     "output_type": "stream",
     "text": [
      "\n",
      "Processing concrete predictor...\n"
     ]
    },
    {
     "data": {
      "application/vnd.plotly.v1+json": {
       "config": {
        "plotlyServerURL": "https://plot.ly"
       },
       "data": [
        {
         "customdata": {
          "bdata": "lAPKGYVQU0EAAAAAMC/xQAAAAACs+BpBAAAAgIhLWUEAAAAAdJlVQQAAAAAov1hBAAAAAGgNRUEAAAAAUMdFQQAAACCM5mZB7nw/lexPVUEAAABA71dUQQAAAAC2QGNBAAAAAPOIX0Gm8+Wt4og4QZqZmUnUgEhBAAAAAJYBTUEAAAAA8N8HQTMzMzO7mfRAAAAAdOU1hkEAAAAA4KtJQQAAAABQ2CRBAAAA2EGug0EAAAAAJ1hPQQAAAACoqRVBAAAAgBUeSkHsWlYEMwoMQQAAAAAgi/pAHtrqfVyF80AAAAAAht44QQAAAABYCEhBAAAAAAKzKUEAAAAArvkqQQAAAIB3gkVBOruvAdrFJkEAAAAAqjwgQQAAAIhvOoZBAAAAALILOUEAAAAAsEcyQQAAAAAcfGdBAAAAgN78R0EAAAAABPI9QQAAAHAxLn9BZHQ5PX06KkEAAADg1bJhQTaBJuudu0RBqizGC8JzL0ExaewyZFdGQTMzMzMzZtZAAAAAAEBiKUFhd4HhSqBhQWZmZmbStUBBAAAAAKBU8EAAAAAAYN3rQAAAAACmVi1BAAAAAPyDIkEAAAAA7Rs5QQAAAAA4fjBB9smECo5uLUEAAAAAArMpQQAAAGBfx3pBAAAAgF0MUUEAAAAAkdZpQQAAAAAEHWtBAAAAAKzbEkGWHQhLZcUpQQAAAADmMStBZmZmZn8NNkEAAACAVyFNQZfA2w4aBxNBzczMzLIPDUEAAAAAfU5WQeNqeKF9eEZB",
          "dtype": "f8",
          "shape": "72, 1"
         },
         "hovertemplate": "Predicted: %{x:.2f}<br>Residual: %{y:.2f}<br>Actual: %{customdata[0]:.2f}<br><extra></extra>",
         "mode": "markers",
         "name": "Residuals",
         "type": "scatter",
         "x": {
          "bdata": "jCy4Si3kPEjBithIezG5SoB83kr3XcpKGEIRSiZ4BErArhxLWKO9Sl4wjEqYVh9LK6/lSunZuUnuy11K3uRPSm+3Ukgeub1HyVntS+grgEqgdTVJPSQkTIBzjUq3l6VIcMVYSs4NOkhuH2dIDEKSR4c3z0kbWT5KtPVHScAVUEnlakNKbSdySSr2NUmjLRVM8YSrSZFtkknmCjhLvshDShwQ7kmROeRL1V2YSY0K3ErM3/hJqOGYSYVKUEqF+OFGsyMfSfCuC0t2OQdK8yJYR0nIgkdHDilJM6MTSU09vUlRCZBJY2qrSQaBRUm85ttLk6RsSmmiTEu9z0NLCoa3SMJijkkHs/lJilWYSaCLYkpkcj9H6rR0SGoWmkqjCPNJ",
          "dtype": "f4"
         },
         "xaxis": "x",
         "y": {
          "bdata": "YOOvMWOoLcEAAABA2wn+wAAAAAAgrJjAAAAAAMkqIUEAAAAAcNg4wQAAAADckgHBAAAAACgpF0EAAAAALeEkQQAAAAChhTpBkBgEVvMjI8EAAAAAHI8mQQAAAACgQxXBAAAAAG2YJkFgOl/eWNr0QDAzM7NLxRnBAAAAANInGEEAAAAA77fTwGhmZmZE68jAAAAAkCOBbUEAAAAAaHwpwQAAAABAZu3AAAAAALnIOsEAAAAA5BIgwQAAAAAk1s5AAAAAABBT/8Cwa1kR5SHjQAAAAIC7PP/A4KGt3q/Rs0AAAAAArobwwAAAAABQmt5AAAAAAHCJ1kAAAAAAwN7eQAAAAAApVxfBGBNBeU78DcEAAAAAbQgKwQAAAEDZpVxBAAAAAJ/YDEEAAAAAgAiYwAAAAADQrw5BAAAAAFAO78AAAAAAQADIQAAAAID6N0VBOBeNBfC5F8EAAACAaJE/QdgEmqyEtiRBWE3n0J8SC8F4tpxoY48dwTQzM7N1Y7fAAAAAgCb3BUGAsLvAcDb1QADNzMwsrtjAAAAAgIaTxkAAAAAAyVLDwAAAAEC6aRBBAAAAAEArn0AAAAAANkT3QAAAAAAiL/jAFGz2ahXYGsEAAAAAFC7gQAAAAAAErybBAAAAgKIQIkEAAAAA+JAAQQAAAABjGDVBAAAAAFVU8MDUxO9plqYTwQAAAOBtnTHBMDMzM3EWCEEAAAAAcPz5QJfA235QCRBBMDMzM6duyMAAAAAAfl0oQYyr4cXNHy1B",
          "dtype": "f8"
         },
         "yaxis": "y"
        },
        {
         "histnorm": "probability density",
         "name": "Residual Dist",
         "nbinsx": 50,
         "type": "histogram",
         "x": {
          "bdata": "YOOvMWOoLcEAAABA2wn+wAAAAAAgrJjAAAAAAMkqIUEAAAAAcNg4wQAAAADckgHBAAAAACgpF0EAAAAALeEkQQAAAAChhTpBkBgEVvMjI8EAAAAAHI8mQQAAAACgQxXBAAAAAG2YJkFgOl/eWNr0QDAzM7NLxRnBAAAAANInGEEAAAAA77fTwGhmZmZE68jAAAAAkCOBbUEAAAAAaHwpwQAAAABAZu3AAAAAALnIOsEAAAAA5BIgwQAAAAAk1s5AAAAAABBT/8Cwa1kR5SHjQAAAAIC7PP/A4KGt3q/Rs0AAAAAArobwwAAAAABQmt5AAAAAAHCJ1kAAAAAAwN7eQAAAAAApVxfBGBNBeU78DcEAAAAAbQgKwQAAAEDZpVxBAAAAAJ/YDEEAAAAAgAiYwAAAAADQrw5BAAAAAFAO78AAAAAAQADIQAAAAID6N0VBOBeNBfC5F8EAAACAaJE/QdgEmqyEtiRBWE3n0J8SC8F4tpxoY48dwTQzM7N1Y7fAAAAAgCb3BUGAsLvAcDb1QADNzMwsrtjAAAAAgIaTxkAAAAAAyVLDwAAAAEC6aRBBAAAAAEArn0AAAAAANkT3QAAAAAAiL/jAFGz2ahXYGsEAAAAAFC7gQAAAAAAErybBAAAAgKIQIkEAAAAA+JAAQQAAAABjGDVBAAAAAFVU8MDUxO9plqYTwQAAAOBtnTHBMDMzM3EWCEEAAAAAcPz5QJfA235QCRBBMDMzM6duyMAAAAAAfl0oQYyr4cXNHy1B",
          "dtype": "f8"
         },
         "xaxis": "x2",
         "yaxis": "y2"
        },
        {
         "line": {
          "color": "red"
         },
         "mode": "lines",
         "name": "KDE",
         "type": "scatter",
         "x": {
          "bdata": "AAAAALnIOsG9nSGxGyE4wXo7Q2J+eTXBNtlkE+HRMsHzdobEQyowwWApUOtMBSvB2WSTTRK2JcFSoNav12YgwZi3MyQ6LxbBGF100YkhB8EAsBSo9UnOwCDHcRxLWANBnGyyyZpKFEGo9SsFEOkeQVy/UqDCwyRB4IMPPv0SKkFoSMzbN2IvQXiGxDy5WDJBuuiii1YANUH+SoHa86c3QUCtXymRTzpBhA8+eC73PEHIcRzHy54/QQVq/Yo0I0FBJ5tsMgN3QkFIzNvZ0cpDQWr9SoGgHkVBjC66KG9yRkGuXynQPcZHQdCQmHcMGklB8MEHH9ttSkES83bGqcFLQTQk5m14FU1BVlVVFUdpTkF4hsS8Fb1PQczbGTJyiFBBXXTRhVkyUUHuDInZQNxRQX+lQC0ohlJBED74gA8wU0Gg1q/U9tlTQTFvZyjeg1RBwgcffMUtVUFToNbPrNdVQeQ4jiOUgVZBddFFd3srV0EFav3KYtVXQZYCtR5Kf1hBJ5tscjEpWUG4MyTGGNNZQUjM2xkAfVpB2mSTbecmW0Fq/UrBztBbQfyVAhW2elxBjC66aJ0kXUEcx3G8hM5dQa5fKRBseF5BPvjgY1MiX0HQkJi3OsxfQbAUqAURO2BB+OCDrwSQYEFBrV9Z+ORgQYl5OwPsOWFB0kUXrd+OYUEaEvNW0+NhQWLezgDHOGJBq6qqqrqNYkHzdoZUruJiQTxDYv6hN2NBhA8+qJWMY0HM2xlSieFjQRWo9ft8NmRBXXTRpXCLZEGmQK1PZOBkQe4MiflXNWVBNtlko0uKZUF/pUBNP99lQcdxHPcyNGZBED74oCaJZkFYCtRKGt5mQaDWr/QNM2dB6aKLngGIZ0Exb2dI9dxnQXo7Q/LoMWhBwgcfnNyGaEEL1PpF0NtoQVOg1u/DMGlBm2yymbeFaUHkOI5Dq9ppQSwFau2eL2pBddFFl5KEakG9nSFBhtlqQQVq/ep5LmtBTjbZlG2Da0GWArU+YdhrQd/OkOhULWxBJ5tskkiCbEFwZ0g8PNdsQbgzJOYvLG1BAAAAkCOBbUE=",
          "dtype": "f8"
         },
         "xaxis": "x2",
         "y": {
          "bdata": "UoNWIyFpdz79jr3Vs0Z+PkV09ztxKIM+7KvI47ivhz6LELNL55CMPjmwroeQx5A+hgTrbiQukz79ho2SIVCVPvL+fzC6AZc+s36U+mUdmD7GzMwrhYmYPhlk86NvPJg+a1LNRAg+lz6iNeiaeKaVPkerrfRempM+m4L6yUhFkT4NEnfbSKeNPvFX/zuq2og+1/tTzJdjhD6p8TlSJ2yAPq4cK1ATE3o+xQ7andl9dD4xyS0MQgRwPgnnHcYOA2k+CcOausyTYz4ka3wsisdePg8aQSznS1g+Iri5msQ3Uz5IHcWHBFpOPuKycBMY0kc+1KODvDB+Qj6i/18XLUc8PtslKc0CNjU+2Fdk4EMfLz7epAi/J0kmPqKzgB6gJB8+7IZgSq9OFT5H+UALseoMPtYpnS2dIwQ+Fbgq9qPq/j2YKDAiKKj8PUGG/3G4fQA+pNvTu0HwBT6WSpQNLNQOPiT3sWLRrRU+8B1AUQHNHT7yaBHHaNYjPgHCG3ETfik+4jtbev2ULz6Q0IjEAdoyPtV/o1D2rjU+WlUy0kcHOD64nTlnDqc5PhwWAeVNYjo+MKZXOJYkOj4JiFqhq/Q4PnfzeD1M8zY+LxHyamBVND4LNgGKAlsxPonzPGDviiw+PObBEoCcJj6gCLRKvEEhPrsnQEpNYBk+4MdBkZD5ET7/oyfcQogIPikORhDKIAA+2HADmPxt9D1QuWxPXO7oPUyFOteFT9095ndi9luZ0D0+X5Q92RzCPaJK3OH2CrM91wCrhZJMoz1B2NhVT+eSPUDHp5AFJ4I9tiTKiYxacj0xLN4HvTdpPexLmols52896Ss3Iy02fj31oqOeRGePPTUyNCAAJqA9GuV6s1AUsD19PO77c+C+PQb57S65kMw9XxtDfNF12T0QKUpOrtzlPc0FXHbMFfI9nsaXdX7T/D34K0q+1SEGPvdXSX3eXhA+4SP9w8lUFz5blLOIXgQgPu49jGfGLyU+01x6Xqz/Kj6uoZ1Yp5IwPsyoSa7umTM+jie0Rp1VNj616yXWW4Q4Pp+p6/F77Tk+ARrWRGtqOj4=",
          "dtype": "f8"
         },
         "yaxis": "y2"
        },
        {
         "hovertemplate": "Theoretical Quantile: %{x:.2f}<br>Sample Quantile: %{y:.2f}<br><extra></extra>",
         "mode": "markers",
         "name": "Q-Q Plot",
         "type": "scatter",
         "x": {
          "bdata": "sHmMgyy9AsAYUCfuaNr/vzYTVZF5kvy/8OHVZk4u+r/QDfbDQEP4vx36wWUVpPa/PWJ31Ck59b824j+dgfTzv+QtPR8dzfK/gGh839W88b8iOYs1Rb/wv0cEMIJOou+/iBD43/rf7b+cc0PbpzPsvzutHMA2muq/sgMnCh4R6b/v2x1QRZbnv07JoXjrJ+a/VGOL35PE5L8kOxBI+Grjv+NesDP+GeK/nyFYq67Q4L9gf0qnXxzfv6cK7K1/o9y/Tg2yomE12r+EzL8Cy9DXv8qmpyGddNW/IwI5p9Af07+QYJbGcdHQvy6Bjg46Ec2/L0NMA/mIyL9f+u3sigjEv6An6bjYHL+/fNGEQVAytr96cW0pT52qvzL3oG9jvJG/Wvegb2O8kT96cW0pT52qP3zRhEFQMrY/lifpuNgcvz9k+u3sigjEPzRDTAP5iMg/LoGODjoRzT+VYJbGcdHQPyYCOafQH9M/zKanIZ101T+EzL8Cy9DXP1MNsqJhNdo/qQrsrX+j3D9gf0qnXxzfP58hWKuu0OA/5F6wM/4Z4j8mOxBI+GrjP1Rji9+TxOQ/UcmheOsn5j/x2x1QRZbnP7IDJwoeEek/O60cwDaa6j+dc0PbpzPsP4gQ+N/63+0/RwQwgk6i7z8kOYs1Rb/wP4BofN/VvPE/5C09Hx3N8j844j+dgfTzPz9id9QpOfU/JPrBZRWk9j/UDfbDQEP4P/bh1WZOLvo/PxNVkXmS/D8iUCfuaNr/P7B5jIMsvQJA",
          "dtype": "f8"
         },
         "xaxis": "x3",
         "y": {
          "bdata": "AAAAALnIOsEAAAAAcNg4wQAAAOBtnTHBYOOvMWOoLcEAAAAAaHwpwQAAAAAErybBkBgEVvMjI8EAAAAA5BIgwXi2nGhjjx3BFGz2ahXYGsEwMzOzS8UZwTgXjQXwuRfBAAAAAClXF8EAAAAAoEMVwdTE72mWphPBGBNBeU78DcFYTefQnxILwQAAAABtCArBAAAAANySAcEAAAAAEFP/wAAAAIC7PP/AAAAAQNsJ/sAAAAAAIi/4wAAAAACuhvDAAAAAAFVU8MAAAAAAUA7vwAAAAABAZu3AAM3MzCyu2MAAAAAA77fTwGhmZmZE68jAMDMzM6duyMAAAAAAyVLDwDQzM7N1Y7fAAAAAACCsmMAAAAAAgAiYwAAAAABAK59A4KGt3q/Rs0AAAACAhpPGQAAAAABAAMhAAAAAACTWzkAAAAAAcInWQAAAAABQmt5AAAAAAMDe3kAAAAAAFC7gQLBrWRHlIeNAYDpf3lja9ECAsLvAcDb1QAAAAAA2RPdAAAAAAHD8+UAAAAAA+JAAQQAAAIAm9wVBMDMzM3EWCEEAAAAAn9gMQQAAAADQrw5Bl8DbflAJEEEAAABAumkQQQAAAAAoKRdBAAAAANInGEEAAAAAySohQQAAAICiECJB2ASarIS2JEEAAAAALeEkQQAAAAAcjyZBAAAAAG2YJkEAAAAAfl0oQYyr4cXNHy1BAAAAAGMYNUEAAAAAoYU6QQAAAIBokT9BAAAAgPo3RUEAAABA2aVcQQAAAJAjgW1B",
          "dtype": "f8"
         },
         "yaxis": "y3"
        },
        {
         "line": {
          "color": "red",
          "dash": "dash"
         },
         "mode": "lines",
         "name": "Q-Q Line",
         "type": "scatter",
         "x": {
          "bdata": "sHmMgyy9AsCweYyDLL0CQA==",
          "dtype": "f8"
         },
         "xaxis": "x3",
         "y": {
          "bdata": "LczUvIfyRMElwaIhM6ZKQQ==",
          "dtype": "f8"
         },
         "yaxis": "y3"
        },
        {
         "customdata": {
          "bdata": "CckRYaYxM0DD2sThp9llQH8nh4d43tY//Nj8yoX3IMD9hvgh0ME8QPorq1rowAFAQ5CWDfaAK8Abj3tt0vc3wIoMKYMS9CzAQKnxjNJzJkBBUnRt/7grwFvTqoOfnAtAdOckmbnpIcCLJPk4lj8VwHhQHmELSypAwnrDs73RJMAzUyYw2aUkQK53fO2iPS5A9vlQdOCaQMAMvQnQxdE4QHULt5s6oSFAIFxACvsCEUBvaNYKAqQpQHjR/0UkyxHA9ZrJbPH7DUAM4sse6A4xwB8sqGm8a11APbManL9hGcBsQt7u7JwQQAll9Las1e+/KZJjDXXsBcAXWb/mDpwMwFOJj4W/ICtAZ8s8coR1QEBmVJx7mApEQOju0yMrHDDA8ITxribLLMDRQQpYHm/AP71P+ulTVQDAe1E6HuYuAEArfnhzjAnkv1F74uxGAyHAXQ6CPHOdRkCDSEMbq0s2wLwWKB7a+TjAbcQ2xtuENUCKwQhW9IkwQHZU83SqGjpAIbC9pCGiNcDlO7HJQBbuv0L/1j5GdvI/dR+KB9tHMcB6MN4SNlYxQEbbZBHI+DvAvUlWa9oK1b9+JYyhVSoXwGl71Rc7VCJAcnNjq0jNRkCWchvPwHoPwD7QDuZHLQVAtS+TNqp9KsDGn5LxZQfwv11rRHt0cyPAQcJT2tOlNUDKaUs3EhBDQMehIoh4MWBAG4RjK5FOK8D9NpAmOE0GwBOst6baEVXAT0DTmpAEFUCuDMcKo04rwArBnzKFM0DA",
          "dtype": "f8",
          "shape": "72, 1"
         },
         "hovertemplate": "Actual: %{x:.2f}<br>Predicted: %{y:.2f}<br>Error: %{customdata[0]:.1f}%<br><extra></extra>",
         "mode": "markers",
         "name": "Predictions",
         "type": "scatter",
         "x": {
          "bdata": "lAPKGYVQU0EAAAAAMC/xQAAAAACs+BpBAAAAgIhLWUEAAAAAdJlVQQAAAAAov1hBAAAAAGgNRUEAAAAAUMdFQQAAACCM5mZB7nw/lexPVUEAAABA71dUQQAAAAC2QGNBAAAAAPOIX0Gm8+Wt4og4QZqZmUnUgEhBAAAAAJYBTUEAAAAA8N8HQTMzMzO7mfRAAAAAdOU1hkEAAAAA4KtJQQAAAABQ2CRBAAAA2EGug0EAAAAAJ1hPQQAAAACoqRVBAAAAgBUeSkHsWlYEMwoMQQAAAAAgi/pAHtrqfVyF80AAAAAAht44QQAAAABYCEhBAAAAAAKzKUEAAAAArvkqQQAAAIB3gkVBOruvAdrFJkEAAAAAqjwgQQAAAIhvOoZBAAAAALILOUEAAAAAsEcyQQAAAAAcfGdBAAAAgN78R0EAAAAABPI9QQAAAHAxLn9BZHQ5PX06KkEAAADg1bJhQTaBJuudu0RBqizGC8JzL0ExaewyZFdGQTMzMzMzZtZAAAAAAEBiKUFhd4HhSqBhQWZmZmbStUBBAAAAAKBU8EAAAAAAYN3rQAAAAACmVi1BAAAAAPyDIkEAAAAA7Rs5QQAAAAA4fjBB9smECo5uLUEAAAAAArMpQQAAAGBfx3pBAAAAgF0MUUEAAAAAkdZpQQAAAAAEHWtBAAAAAKzbEkGWHQhLZcUpQQAAAADmMStBZmZmZn8NNkEAAACAVyFNQZfA2w4aBxNBzczMzLIPDUEAAAAAfU5WQeNqeKF9eEZB",
          "dtype": "f8"
         },
         "xaxis": "x4",
         "y": {
          "bdata": "jCy4Si3kPEjBithIezG5SoB83kr3XcpKGEIRSiZ4BErArhxLWKO9Sl4wjEqYVh9LK6/lSunZuUnuy11K3uRPSm+3Ukgeub1HyVntS+grgEqgdTVJPSQkTIBzjUq3l6VIcMVYSs4NOkhuH2dIDEKSR4c3z0kbWT5KtPVHScAVUEnlakNKbSdySSr2NUmjLRVM8YSrSZFtkknmCjhLvshDShwQ7kmROeRL1V2YSY0K3ErM3/hJqOGYSYVKUEqF+OFGsyMfSfCuC0t2OQdK8yJYR0nIgkdHDilJM6MTSU09vUlRCZBJY2qrSQaBRUm85ttLk6RsSmmiTEu9z0NLCoa3SMJijkkHs/lJilWYSaCLYkpkcj9H6rR0SGoWmkqjCPNJ",
          "dtype": "f4"
         },
         "yaxis": "y4"
        },
        {
         "line": {
          "color": "red",
          "dash": "dash"
         },
         "mode": "lines",
         "name": "Perfect Prediction",
         "type": "scatter",
         "x": [
          22936.8,
          46616049
         ],
         "xaxis": "x4",
         "y": [
          22936.8,
          46616049
         ],
         "yaxis": "y4"
        }
       ],
       "layout": {
        "annotations": [
         {
          "font": {
           "size": 16
          },
          "showarrow": false,
          "text": "Residuals vs Predicted",
          "x": 0.225,
          "xanchor": "center",
          "xref": "paper",
          "y": 1,
          "yanchor": "bottom",
          "yref": "paper"
         },
         {
          "font": {
           "size": 16
          },
          "showarrow": false,
          "text": "Residual Distribution",
          "x": 0.775,
          "xanchor": "center",
          "xref": "paper",
          "y": 1,
          "yanchor": "bottom",
          "yref": "paper"
         },
         {
          "font": {
           "size": 16
          },
          "showarrow": false,
          "text": "Normal Q-Q Plot",
          "x": 0.225,
          "xanchor": "center",
          "xref": "paper",
          "y": 0.375,
          "yanchor": "bottom",
          "yref": "paper"
         },
         {
          "font": {
           "size": 16
          },
          "showarrow": false,
          "text": "Predicted vs Actual",
          "x": 0.775,
          "xanchor": "center",
          "xref": "paper",
          "y": 0.375,
          "yanchor": "bottom",
          "yref": "paper"
         }
        ],
        "height": 800,
        "shapes": [
         {
          "line": {
           "color": "red",
           "dash": "dash"
          },
          "type": "line",
          "x0": 0,
          "x1": 1,
          "xref": "x domain",
          "y0": 0,
          "y1": 0,
          "yref": "y"
         }
        ],
        "showlegend": false,
        "template": {
         "data": {
          "bar": [
           {
            "error_x": {
             "color": "#2a3f5f"
            },
            "error_y": {
             "color": "#2a3f5f"
            },
            "marker": {
             "line": {
              "color": "#E5ECF6",
              "width": 0.5
             },
             "pattern": {
              "fillmode": "overlay",
              "size": 10,
              "solidity": 0.2
             }
            },
            "type": "bar"
           }
          ],
          "barpolar": [
           {
            "marker": {
             "line": {
              "color": "#E5ECF6",
              "width": 0.5
             },
             "pattern": {
              "fillmode": "overlay",
              "size": 10,
              "solidity": 0.2
             }
            },
            "type": "barpolar"
           }
          ],
          "carpet": [
           {
            "aaxis": {
             "endlinecolor": "#2a3f5f",
             "gridcolor": "white",
             "linecolor": "white",
             "minorgridcolor": "white",
             "startlinecolor": "#2a3f5f"
            },
            "baxis": {
             "endlinecolor": "#2a3f5f",
             "gridcolor": "white",
             "linecolor": "white",
             "minorgridcolor": "white",
             "startlinecolor": "#2a3f5f"
            },
            "type": "carpet"
           }
          ],
          "choropleth": [
           {
            "colorbar": {
             "outlinewidth": 0,
             "ticks": ""
            },
            "type": "choropleth"
           }
          ],
          "contour": [
           {
            "colorbar": {
             "outlinewidth": 0,
             "ticks": ""
            },
            "colorscale": [
             [
              0,
              "#0d0887"
             ],
             [
              0.1111111111111111,
              "#46039f"
             ],
             [
              0.2222222222222222,
              "#7201a8"
             ],
             [
              0.3333333333333333,
              "#9c179e"
             ],
             [
              0.4444444444444444,
              "#bd3786"
             ],
             [
              0.5555555555555556,
              "#d8576b"
             ],
             [
              0.6666666666666666,
              "#ed7953"
             ],
             [
              0.7777777777777778,
              "#fb9f3a"
             ],
             [
              0.8888888888888888,
              "#fdca26"
             ],
             [
              1,
              "#f0f921"
             ]
            ],
            "type": "contour"
           }
          ],
          "contourcarpet": [
           {
            "colorbar": {
             "outlinewidth": 0,
             "ticks": ""
            },
            "type": "contourcarpet"
           }
          ],
          "heatmap": [
           {
            "colorbar": {
             "outlinewidth": 0,
             "ticks": ""
            },
            "colorscale": [
             [
              0,
              "#0d0887"
             ],
             [
              0.1111111111111111,
              "#46039f"
             ],
             [
              0.2222222222222222,
              "#7201a8"
             ],
             [
              0.3333333333333333,
              "#9c179e"
             ],
             [
              0.4444444444444444,
              "#bd3786"
             ],
             [
              0.5555555555555556,
              "#d8576b"
             ],
             [
              0.6666666666666666,
              "#ed7953"
             ],
             [
              0.7777777777777778,
              "#fb9f3a"
             ],
             [
              0.8888888888888888,
              "#fdca26"
             ],
             [
              1,
              "#f0f921"
             ]
            ],
            "type": "heatmap"
           }
          ],
          "histogram": [
           {
            "marker": {
             "pattern": {
              "fillmode": "overlay",
              "size": 10,
              "solidity": 0.2
             }
            },
            "type": "histogram"
           }
          ],
          "histogram2d": [
           {
            "colorbar": {
             "outlinewidth": 0,
             "ticks": ""
            },
            "colorscale": [
             [
              0,
              "#0d0887"
             ],
             [
              0.1111111111111111,
              "#46039f"
             ],
             [
              0.2222222222222222,
              "#7201a8"
             ],
             [
              0.3333333333333333,
              "#9c179e"
             ],
             [
              0.4444444444444444,
              "#bd3786"
             ],
             [
              0.5555555555555556,
              "#d8576b"
             ],
             [
              0.6666666666666666,
              "#ed7953"
             ],
             [
              0.7777777777777778,
              "#fb9f3a"
             ],
             [
              0.8888888888888888,
              "#fdca26"
             ],
             [
              1,
              "#f0f921"
             ]
            ],
            "type": "histogram2d"
           }
          ],
          "histogram2dcontour": [
           {
            "colorbar": {
             "outlinewidth": 0,
             "ticks": ""
            },
            "colorscale": [
             [
              0,
              "#0d0887"
             ],
             [
              0.1111111111111111,
              "#46039f"
             ],
             [
              0.2222222222222222,
              "#7201a8"
             ],
             [
              0.3333333333333333,
              "#9c179e"
             ],
             [
              0.4444444444444444,
              "#bd3786"
             ],
             [
              0.5555555555555556,
              "#d8576b"
             ],
             [
              0.6666666666666666,
              "#ed7953"
             ],
             [
              0.7777777777777778,
              "#fb9f3a"
             ],
             [
              0.8888888888888888,
              "#fdca26"
             ],
             [
              1,
              "#f0f921"
             ]
            ],
            "type": "histogram2dcontour"
           }
          ],
          "mesh3d": [
           {
            "colorbar": {
             "outlinewidth": 0,
             "ticks": ""
            },
            "type": "mesh3d"
           }
          ],
          "parcoords": [
           {
            "line": {
             "colorbar": {
              "outlinewidth": 0,
              "ticks": ""
             }
            },
            "type": "parcoords"
           }
          ],
          "pie": [
           {
            "automargin": true,
            "type": "pie"
           }
          ],
          "scatter": [
           {
            "fillpattern": {
             "fillmode": "overlay",
             "size": 10,
             "solidity": 0.2
            },
            "type": "scatter"
           }
          ],
          "scatter3d": [
           {
            "line": {
             "colorbar": {
              "outlinewidth": 0,
              "ticks": ""
             }
            },
            "marker": {
             "colorbar": {
              "outlinewidth": 0,
              "ticks": ""
             }
            },
            "type": "scatter3d"
           }
          ],
          "scattercarpet": [
           {
            "marker": {
             "colorbar": {
              "outlinewidth": 0,
              "ticks": ""
             }
            },
            "type": "scattercarpet"
           }
          ],
          "scattergeo": [
           {
            "marker": {
             "colorbar": {
              "outlinewidth": 0,
              "ticks": ""
             }
            },
            "type": "scattergeo"
           }
          ],
          "scattergl": [
           {
            "marker": {
             "colorbar": {
              "outlinewidth": 0,
              "ticks": ""
             }
            },
            "type": "scattergl"
           }
          ],
          "scattermap": [
           {
            "marker": {
             "colorbar": {
              "outlinewidth": 0,
              "ticks": ""
             }
            },
            "type": "scattermap"
           }
          ],
          "scattermapbox": [
           {
            "marker": {
             "colorbar": {
              "outlinewidth": 0,
              "ticks": ""
             }
            },
            "type": "scattermapbox"
           }
          ],
          "scatterpolar": [
           {
            "marker": {
             "colorbar": {
              "outlinewidth": 0,
              "ticks": ""
             }
            },
            "type": "scatterpolar"
           }
          ],
          "scatterpolargl": [
           {
            "marker": {
             "colorbar": {
              "outlinewidth": 0,
              "ticks": ""
             }
            },
            "type": "scatterpolargl"
           }
          ],
          "scatterternary": [
           {
            "marker": {
             "colorbar": {
              "outlinewidth": 0,
              "ticks": ""
             }
            },
            "type": "scatterternary"
           }
          ],
          "surface": [
           {
            "colorbar": {
             "outlinewidth": 0,
             "ticks": ""
            },
            "colorscale": [
             [
              0,
              "#0d0887"
             ],
             [
              0.1111111111111111,
              "#46039f"
             ],
             [
              0.2222222222222222,
              "#7201a8"
             ],
             [
              0.3333333333333333,
              "#9c179e"
             ],
             [
              0.4444444444444444,
              "#bd3786"
             ],
             [
              0.5555555555555556,
              "#d8576b"
             ],
             [
              0.6666666666666666,
              "#ed7953"
             ],
             [
              0.7777777777777778,
              "#fb9f3a"
             ],
             [
              0.8888888888888888,
              "#fdca26"
             ],
             [
              1,
              "#f0f921"
             ]
            ],
            "type": "surface"
           }
          ],
          "table": [
           {
            "cells": {
             "fill": {
              "color": "#EBF0F8"
             },
             "line": {
              "color": "white"
             }
            },
            "header": {
             "fill": {
              "color": "#C8D4E3"
             },
             "line": {
              "color": "white"
             }
            },
            "type": "table"
           }
          ]
         },
         "layout": {
          "annotationdefaults": {
           "arrowcolor": "#2a3f5f",
           "arrowhead": 0,
           "arrowwidth": 1
          },
          "autotypenumbers": "strict",
          "coloraxis": {
           "colorbar": {
            "outlinewidth": 0,
            "ticks": ""
           }
          },
          "colorscale": {
           "diverging": [
            [
             0,
             "#8e0152"
            ],
            [
             0.1,
             "#c51b7d"
            ],
            [
             0.2,
             "#de77ae"
            ],
            [
             0.3,
             "#f1b6da"
            ],
            [
             0.4,
             "#fde0ef"
            ],
            [
             0.5,
             "#f7f7f7"
            ],
            [
             0.6,
             "#e6f5d0"
            ],
            [
             0.7,
             "#b8e186"
            ],
            [
             0.8,
             "#7fbc41"
            ],
            [
             0.9,
             "#4d9221"
            ],
            [
             1,
             "#276419"
            ]
           ],
           "sequential": [
            [
             0,
             "#0d0887"
            ],
            [
             0.1111111111111111,
             "#46039f"
            ],
            [
             0.2222222222222222,
             "#7201a8"
            ],
            [
             0.3333333333333333,
             "#9c179e"
            ],
            [
             0.4444444444444444,
             "#bd3786"
            ],
            [
             0.5555555555555556,
             "#d8576b"
            ],
            [
             0.6666666666666666,
             "#ed7953"
            ],
            [
             0.7777777777777778,
             "#fb9f3a"
            ],
            [
             0.8888888888888888,
             "#fdca26"
            ],
            [
             1,
             "#f0f921"
            ]
           ],
           "sequentialminus": [
            [
             0,
             "#0d0887"
            ],
            [
             0.1111111111111111,
             "#46039f"
            ],
            [
             0.2222222222222222,
             "#7201a8"
            ],
            [
             0.3333333333333333,
             "#9c179e"
            ],
            [
             0.4444444444444444,
             "#bd3786"
            ],
            [
             0.5555555555555556,
             "#d8576b"
            ],
            [
             0.6666666666666666,
             "#ed7953"
            ],
            [
             0.7777777777777778,
             "#fb9f3a"
            ],
            [
             0.8888888888888888,
             "#fdca26"
            ],
            [
             1,
             "#f0f921"
            ]
           ]
          },
          "colorway": [
           "#636efa",
           "#EF553B",
           "#00cc96",
           "#ab63fa",
           "#FFA15A",
           "#19d3f3",
           "#FF6692",
           "#B6E880",
           "#FF97FF",
           "#FECB52"
          ],
          "font": {
           "color": "#2a3f5f"
          },
          "geo": {
           "bgcolor": "white",
           "lakecolor": "white",
           "landcolor": "#E5ECF6",
           "showlakes": true,
           "showland": true,
           "subunitcolor": "white"
          },
          "hoverlabel": {
           "align": "left"
          },
          "hovermode": "closest",
          "mapbox": {
           "style": "light"
          },
          "paper_bgcolor": "white",
          "plot_bgcolor": "#E5ECF6",
          "polar": {
           "angularaxis": {
            "gridcolor": "white",
            "linecolor": "white",
            "ticks": ""
           },
           "bgcolor": "#E5ECF6",
           "radialaxis": {
            "gridcolor": "white",
            "linecolor": "white",
            "ticks": ""
           }
          },
          "scene": {
           "xaxis": {
            "backgroundcolor": "#E5ECF6",
            "gridcolor": "white",
            "gridwidth": 2,
            "linecolor": "white",
            "showbackground": true,
            "ticks": "",
            "zerolinecolor": "white"
           },
           "yaxis": {
            "backgroundcolor": "#E5ECF6",
            "gridcolor": "white",
            "gridwidth": 2,
            "linecolor": "white",
            "showbackground": true,
            "ticks": "",
            "zerolinecolor": "white"
           },
           "zaxis": {
            "backgroundcolor": "#E5ECF6",
            "gridcolor": "white",
            "gridwidth": 2,
            "linecolor": "white",
            "showbackground": true,
            "ticks": "",
            "zerolinecolor": "white"
           }
          },
          "shapedefaults": {
           "line": {
            "color": "#2a3f5f"
           }
          },
          "ternary": {
           "aaxis": {
            "gridcolor": "white",
            "linecolor": "white",
            "ticks": ""
           },
           "baxis": {
            "gridcolor": "white",
            "linecolor": "white",
            "ticks": ""
           },
           "bgcolor": "#E5ECF6",
           "caxis": {
            "gridcolor": "white",
            "linecolor": "white",
            "ticks": ""
           }
          },
          "title": {
           "x": 0.05
          },
          "xaxis": {
           "automargin": true,
           "gridcolor": "white",
           "linecolor": "white",
           "ticks": "",
           "title": {
            "standoff": 15
           },
           "zerolinecolor": "white",
           "zerolinewidth": 2
          },
          "yaxis": {
           "automargin": true,
           "gridcolor": "white",
           "linecolor": "white",
           "ticks": "",
           "title": {
            "standoff": 15
           },
           "zerolinecolor": "white",
           "zerolinewidth": 2
          }
         }
        },
        "title": {
         "text": "Base Predictor (concrete) Residual Analysis"
        },
        "width": 1200,
        "xaxis": {
         "anchor": "y",
         "domain": [
          0,
          0.45
         ],
         "title": {
          "text": "Predicted Values"
         }
        },
        "xaxis2": {
         "anchor": "y2",
         "domain": [
          0.55,
          1
         ],
         "title": {
          "text": "Residuals"
         }
        },
        "xaxis3": {
         "anchor": "y3",
         "domain": [
          0,
          0.45
         ],
         "title": {
          "text": "Theoretical Quantiles"
         }
        },
        "xaxis4": {
         "anchor": "y4",
         "domain": [
          0.55,
          1
         ],
         "title": {
          "text": "Actual Values"
         }
        },
        "yaxis": {
         "anchor": "x",
         "domain": [
          0.625,
          1
         ],
         "title": {
          "text": "Residuals"
         }
        },
        "yaxis2": {
         "anchor": "x2",
         "domain": [
          0.625,
          1
         ],
         "title": {
          "text": "Density"
         }
        },
        "yaxis3": {
         "anchor": "x3",
         "domain": [
          0,
          0.375
         ],
         "title": {
          "text": "Sample Quantiles"
         }
        },
        "yaxis4": {
         "anchor": "x4",
         "domain": [
          0,
          0.375
         ],
         "title": {
          "text": "Predicted Values"
         }
        }
       }
      }
     },
     "metadata": {},
     "output_type": "display_data"
    },
    {
     "name": "stdout",
     "output_type": "stream",
     "text": [
      "\n",
      "Metrics for concrete predictor:\n",
      "RMSE: 2137206.69\n",
      "MAE: 725928.55\n",
      "R² Score: 0.95\n",
      "MAPE: 19.84%\n",
      "SMAPE: 9.03%\n",
      "Within 10% error: 43.1%\n",
      "Within 20% error: 70.8%\n",
      "\n",
      "Processing timber predictor...\n"
     ]
    },
    {
     "name": "stderr",
     "output_type": "stream",
     "text": [
      "C:\\Users\\dczqd\\AppData\\Local\\Temp\\ipykernel_53428\\2497234683.py:865: RuntimeWarning:\n",
      "\n",
      "divide by zero encountered in divide\n",
      "\n"
     ]
    },
    {
     "data": {
      "application/vnd.plotly.v1+json": {
       "config": {
        "plotlyServerURL": "https://plot.ly"
       },
       "data": [
        {
         "customdata": {
          "bdata": "AAAAAAAAAAAAAAAAAADwPwAAAAAANqtAAAAAAAAAAAAAAAAAAAAAAAAAAAAAAAAAAAAAAAAAAAAAAAAAAAAAAAAAAAAAAAAAAAAAAAAAAAAAAAAAAAAAAAAAAAAAAAAAAAAAAGAHIUEAAAAAAAAAAPQWSFB0SQRBAAAAAAAAAAAAAAAAAN6nQAAAAAAAn6JAAAAAAAAAAAAAAAAAAAAAAAAAAAAAAAAAAAAAAAAAAAAAAAAAAAAAAAAAAAAAXMRAAAAAAAAAAAAkQE0tK4jPQAAAAAAA2LRAb2ac2jSNvEAAAAAAfDcSQQAAAAAAQI9AAAAAAADt0kAAAAAAAAAAAAAAAAAAAAAAAAAAAEBU4UAAAAAAAAAAAAAAAAAAAAAAAAAAAACarkAAAAAAAMCCQAAAAADYwyhBAAAAAAAAAAAAAAAAAAAAAAAAAAAAAAAAq9I+l3PZukAAAAAAAAAAAAAAAAAAAAAAeoYNT8/7jEAAAAAAAAAAAAAAAAAA8HFAAAAAAIBIwkAAAAAAAAAAAAAAAACAkMpAAAAAAAB4l0AAAAAAAMBfQAAAAAAAsrBAXI/C9ai5ukAAAAAAAAAAAAAAAAAA/K1AAAAAAAAAAAAAAAAAAO3SQAAAAAAAAAAAAAAAAAAAAAAAAAAAAAAAAAAAAAAAAAAAsouO5PLnUEDXw8g5DACwQAAAAAAQK/5AAAAAAAB0k0AAAAAAAAAAAOwuMxU5JdBAZmZmZmZ8mUAAAAAAAL++QCQ7RCgLLRdB",
          "dtype": "f8",
          "shape": "72, 1"
         },
         "hovertemplate": "Predicted: %{x:.2f}<br>Residual: %{y:.2f}<br>Actual: %{customdata[0]:.2f}<br><extra></extra>",
         "mode": "markers",
         "name": "Residuals",
         "type": "scatter",
         "x": {
          "bdata": "PmOkvikoXkXg+gxFiZaUQJLt1Dx1JBA/RGLrPjjQpELDl1y+mbduvqNXbj2bF+g+4moDSeu98T+DHgxF25i0Qe+0NkXvZ4pF7diZQCZynb0883NG63mKvupODb7dgTdG/AwBPg+AZ0bv4xVFvjhXRSvsrkgP1SNEtVTHRuV4SL7UPIA/fomFSGx2iUaE4s1A3w4tRW36q0Pi7iVJfZtAQWRbUUHFKgO9q71KQ/wJtz3jECZFeY+gQ3NKsUMKKBdE0odCRh1Tiz+bsFRGXDWNRNWkAENo7sRFDziYRUAKZERYrn9FKUqgRKrAp0Yw5cu9bfqWPTvIQj92is49Yex5RNgRtkUEbd5FERCaRLvntD8FWQtHomMARbbb1UWtTOJG",
          "dtype": "f4"
         },
         "xaxis": "x",
         "y": {
          "bdata": "AAAAwGeM1D8AAAAgBcOrwAAAAABILZNAAAAAINGSEsAAAABAsp2avwAAAKCOBOK/AAAAgEhs3b8AAAAAB5pUwAAAAGD4kss/AAAAIPPWzT8AAABg9MqtvwAAAGDzAt2/AAAAAHhA00AAAABgvTf+v/QWyA5lAwRBAAAAYBuTNsAAAAAAInZgQAAAAID39Z/AAAAAoB07E8AAAADARK6zPwAAAIBnfs7AAAAAYD1P0T8AAABA3anBPwAAAADdoZTAAAAAgJ8hwL8gAWpqSsGUQAAAACCC86ZA3sw49VEzrkAAAAAASzDtwAAAAEC8inVAAAAAgFr2t8AAAACgHA/JPwAAAICaB/C/AAAAgE8NDcEAAACAzS7RwAAAAIBQvBnAAAAAQEjwkUAAAABgsgBwQAAAAADvFwBBAAAAoG8TKMAAAACAbCsqwAAAAKBYZaA/q9I+7LUOukAAAACAP+G2vwAAAGAcwqTAeoYNv9fygkAAAABgTil2wAAAAIAC2nPAAAAAAOkhqMAAAACgY2rxvwAAAACATSbAAAAAAFJFd0AAAAAAUE36vwAAAAA0r5/AcD0KV5zKnkAAAAAASIGMwAAAAACwnG/AAAAAIEUJlMAAAAAAqligwAAAAACmfLk/AAAAoE3fsr8AAABgB1novwAAAMBO0bm/ii5uw40gjcCk8NwYuwibwAAAAPg1bvxAAAAAAPD+KEAAAABg95z2vxTRzCoIsdLAaGZmZghyesAAAAAAJQ6QQCQ7RM5xaBVB",
          "dtype": "f8"
         },
         "yaxis": "y"
        },
        {
         "histnorm": "probability density",
         "name": "Residual Dist",
         "nbinsx": 50,
         "type": "histogram",
         "x": {
          "bdata": "AAAAwGeM1D8AAAAgBcOrwAAAAABILZNAAAAAINGSEsAAAABAsp2avwAAAKCOBOK/AAAAgEhs3b8AAAAAB5pUwAAAAGD4kss/AAAAIPPWzT8AAABg9MqtvwAAAGDzAt2/AAAAAHhA00AAAABgvTf+v/QWyA5lAwRBAAAAYBuTNsAAAAAAInZgQAAAAID39Z/AAAAAoB07E8AAAADARK6zPwAAAIBnfs7AAAAAYD1P0T8AAABA3anBPwAAAADdoZTAAAAAgJ8hwL8gAWpqSsGUQAAAACCC86ZA3sw49VEzrkAAAAAASzDtwAAAAEC8inVAAAAAgFr2t8AAAACgHA/JPwAAAICaB/C/AAAAgE8NDcEAAACAzS7RwAAAAIBQvBnAAAAAQEjwkUAAAABgsgBwQAAAAADvFwBBAAAAoG8TKMAAAACAbCsqwAAAAKBYZaA/q9I+7LUOukAAAACAP+G2vwAAAGAcwqTAeoYNv9fygkAAAABgTil2wAAAAIAC2nPAAAAAAOkhqMAAAACgY2rxvwAAAACATSbAAAAAAFJFd0AAAAAAUE36vwAAAAA0r5/AcD0KV5zKnkAAAAAASIGMwAAAAACwnG/AAAAAIEUJlMAAAAAAqligwAAAAACmfLk/AAAAoE3fsr8AAABgB1novwAAAMBO0bm/ii5uw40gjcCk8NwYuwibwAAAAPg1bvxAAAAAAPD+KEAAAABg95z2vxTRzCoIsdLAaGZmZghyesAAAAAAJQ6QQCQ7RM5xaBVB",
          "dtype": "f8"
         },
         "xaxis": "x2",
         "yaxis": "y2"
        },
        {
         "line": {
          "color": "red"
         },
         "mode": "lines",
         "name": "KDE",
         "type": "scatter",
         "x": {
          "bdata": "AAAAgE8NDcEZgIJbeFMMwTIABTehmQvBS4CHEsrfCsFkAAru8iUKwX6AjMkbbAnBlwAPpUSyCMGwgJGAbfgHwckAFFyWPgfB4oCWN7+EBsH7ABkT6MoFwRSBm+4QEQXBLgEeyjlXBMFGgaClYp0DwWABI4GL4wLBeYGlXLQpAsGSASg43W8BwauBqhMGtgDBiANa3l34/8C7A1+Vr4T+wO0DZEwBEf3AHwRpA1Od+8BSBG66pCn6wIQEc3H2tfjAtgR4KEhC98DoBH3fmc71wBoFgpbrWvTATAWHTT3n8sCABYwEj3PxwGQLInfB/+/AyAss5WQY7cAsDDZTCDHqwJAMQMGrSefA9AxKL09i5MBYDVSd8nrhwHgbvBYsJ93AQBzQ8nJY18AQHeTOuYnRwLA78FUBdsfAgHowHB6xt8AAaB8gY45dwEB/LwOrxLZAEL5vycf/xkBA3qMInU7RQHDdjyxWHddAsNx7UA/s3EDw7TM6ZF3hQJDtKczARORAKO0fXh0s50DA7BXweRPqQGDsC4LW+uxA+OsBFDPi70DM9fvSx2TxQJj19ht22PJAaPXxZCRM9EA09eyt0r/1QAD15/aAM/dA0PTiPy+n+ECc9N2I3Rr6QGz02NGLjvtAOPTTGjoC/UAI9M5j6HX+QNTzyayW6f9A0nnieqKuAEG4+V+feWgBQZ553cNQIgJBhvla6CfcAkFsedgM/5UDQVT5VTHWTwRBOnnTVa0JBUEi+VB6hMMFQQh5zp5bfQZB8PhLwzI3B0HWeMnnCfEHQbz4RgzhqghBpHjEMLhkCUGK+EFVjx4KQXJ4v3lm2ApBWPg8nj2SC0FAeLrCFEwMQSb4N+frBQ1BDHi1C8O/DUH09zIwmnkOQdp3sFRxMw9BwvcteUjtD0HUu9XOj1MQQch7FGF7sBBBuztT82YNEUGu+5GFUmoRQaK70Bc+xxFBlnsPqikkEkGIO048FYESQXz7jM4A3hJBcLvLYOw6E0Fkewrz15cTQVY7SYXD9BNBSvuHF69RFEE+u8apmq4UQTB7BTyGCxVBJDtEznFoFUE=",
          "dtype": "f8"
         },
         "xaxis": "x2",
         "y": {
          "bdata": "EieNHdwVjj7OFKQVKzqNPtMac7v7y4o+93DYsdcvhz6T8tCNXO+CPnjSPFa/L30+zbzGFao6dT7peuYJWSVtPpAkFQrl4WI+NGJPM0IXVz6Lo1fhC6dKPnESwY2fDT0+QkQHhOsALj6cDy2QDd8dPqFaIve7UA8+GUtrsyU/Bz7VQMvdUfUPPqTndLhstR4+toz1W+fuLj7RafQADhA+PleQOjWmw0s+auGyYLVYWD6J366SpVRkPsm4ko0KQXA+MaLwAN0WeT4MaTbdT+mCPj/g5PxZP4w+YAy6o7g0lT5ur/QCLyigPlzy3a1EAKk+zVaG+eJ4sz4wCH2Vphy+Pl94llEiycY+m7ia8Hqt0D7VZEgn7mrXPlFUqIltXd8+1LYvZhz34z7G9zDUcBvoPnUk6YYJkus+btEGbDPX7T7Hode36YzuPg6HzcBvk+0+nIKc4v4R6z6flh+dTmznPrNXiW/XKOM+CIW4GPmh3T4b/FDf56rVPq8HFZvj+M0+tgtwKCGgwz7is0xdKGS4Pt1U1tZO+aw+OHaaWGHKoD5/L4KEww6UPgTZv5Qtkos+AQZbF8hOiD5lrwcxHcuKPptS6DxsVpA+Y3kZO8YllD7jV0a3vC6YPj9WWtLN6Zs+ncZf4pnsnj7NxtM+n3igPieeMlu17aA+tTmo0JfaoD5Z4qR9mlGgPvbEchXh1J4+oJYS6/h2nD5sKazMhq2ZPpezge+tlZY+TTYzrvdLkz7xIdRMxuOPPvklarSTXYk+LPMNDMxWgz7O5flzfyl8Pl15UxpYhnM+b0Y00BO4aT5IdkanWRBgPrNzgMVEAVM+aXqBGnVGRT50/geMd4Y2PvjuNre1kyY+Y1PpESKbFT5Bxi+ZL8kEPvTrY/tZVvk9AE/rOytD/T11yCiI0bELPrRegbi8Jx0+BkwCJsreLT4B0Am4owc9PpMrCe4Opko+uWnB2RoXVz4IgYFF3+FiPo509XFXJW0+5G+p4Kk6dT5zCzNJvy99PpC4Toxc74I+8imEsdcvhz6Ow2G7+8uKPmW3oBUrOo0+b4mMHdwVjj4=",
          "dtype": "f8"
         },
         "yaxis": "y2"
        },
        {
         "hovertemplate": "Theoretical Quantile: %{x:.2f}<br>Sample Quantile: %{y:.2f}<br><extra></extra>",
         "mode": "markers",
         "name": "Q-Q Plot",
         "type": "scatter",
         "x": {
          "bdata": "sHmMgyy9AsAYUCfuaNr/vzYTVZF5kvy/8OHVZk4u+r/QDfbDQEP4vx36wWUVpPa/PWJ31Ck59b824j+dgfTzv+QtPR8dzfK/gGh839W88b8iOYs1Rb/wv0cEMIJOou+/iBD43/rf7b+cc0PbpzPsvzutHMA2muq/sgMnCh4R6b/v2x1QRZbnv07JoXjrJ+a/VGOL35PE5L8kOxBI+Grjv+NesDP+GeK/nyFYq67Q4L9gf0qnXxzfv6cK7K1/o9y/Tg2yomE12r+EzL8Cy9DXv8qmpyGddNW/IwI5p9Af07+QYJbGcdHQvy6Bjg46Ec2/L0NMA/mIyL9f+u3sigjEv6An6bjYHL+/fNGEQVAytr96cW0pT52qvzL3oG9jvJG/Wvegb2O8kT96cW0pT52qP3zRhEFQMrY/lifpuNgcvz9k+u3sigjEPzRDTAP5iMg/LoGODjoRzT+VYJbGcdHQPyYCOafQH9M/zKanIZ101T+EzL8Cy9DXP1MNsqJhNdo/qQrsrX+j3D9gf0qnXxzfP58hWKuu0OA/5F6wM/4Z4j8mOxBI+GrjP1Rji9+TxOQ/UcmheOsn5j/x2x1QRZbnP7IDJwoeEek/O60cwDaa6j+dc0PbpzPsP4gQ+N/63+0/RwQwgk6i7z8kOYs1Rb/wP4BofN/VvPE/5C09Hx3N8j844j+dgfTzPz9id9QpOfU/JPrBZRWk9j/UDfbDQEP4P/bh1WZOLvo/PxNVkXmS/D8iUCfuaNr/P7B5jIMsvQJA",
          "dtype": "f8"
         },
         "xaxis": "x3",
         "y": {
          "bdata": "AAAAgE8NDcEAAAAASzDtwBTRzCoIsdLAAAAAgM0u0cAAAACAZ37OwAAAAIBa9rfAAAAAIAXDq8AAAAAA6SGowAAAAGAcwqTAAAAAAKpYoMAAAACA9/WfwAAAAAA0r5/ApPDcGLsIm8AAAAAA3aGUwAAAACBFCZTAii5uw40gjcAAAAAASIGMwGhmZmYIcnrAAAAAYE4pdsAAAACAAtpzwAAAAACwnG/AAAAAAAeaVMAAAABgG5M2wAAAAIBsKyrAAAAAoG8TKMAAAAAAgE0mwAAAAIBQvBnAAAAAoB07E8AAAAAg0ZISwAAAAGC9N/6/AAAAAFBN+r8AAABg95z2vwAAAKBjavG/AAAAgJoH8L8AAABgB1novwAAAKCOBOK/AAAAgEhs3b8AAABg8wLdvwAAAICfIcC/AAAAwE7Rub8AAACAP+G2vwAAAKBN37K/AAAAYPTKrb8AAABAsp2avwAAAKBYZaA/AAAAwESusz8AAAAApny5PwAAAEDdqcE/AAAAoBwPyT8AAABg+JLLPwAAACDz1s0/AAAAYD1P0T8AAADAZ4zUPwAAAADw/ihAAAAAACJ2YEAAAABgsgBwQAAAAEC8inVAAAAAAFJFd0B6hg2/1/KCQAAAAAAlDpBAAAAAQEjwkUAAAAAASC2TQCABampKwZRAcD0KV5zKnkAAAAAggvOmQN7MOPVRM65Aq9I+7LUOukAAAAAAeEDTQAAAAPg1bvxAAAAAAO8XAEH0FsgOZQMEQSQ7RM5xaBVB",
          "dtype": "f8"
         },
         "yaxis": "y3"
        },
        {
         "line": {
          "color": "red",
          "dash": "dash"
         },
         "mode": "lines",
         "name": "Q-Q Line",
         "type": "scatter",
         "x": {
          "bdata": "sHmMgyy9AsCweYyDLL0CQA==",
          "dtype": "f8"
         },
         "xaxis": "x3",
         "y": {
          "bdata": "07FE7d3j8sBTntzjCsb1QA==",
          "dtype": "f8"
         },
         "yaxis": "y3"
        },
        {
         "customdata": {
          "bdata": "AAAAAAAA8P8AAAABXLAVQY2h3rFknkHAAAAAAAAA8H8AAAAAAADwfwAAAAAAAPB/AAAAAAAA8H8AAAAAAADwfwAAAAAAAPD/AAAAAAAA8P8AAAAAAADwfwAAAAAAAPB/WHTimnxDDMAAAAAAAADwf0WRdgSqqVjAAAAAAAAA8H9BTK4gJj4RwGTE6aFndFVAAAAAAAAA8H8AAAAAAADw/wAAAAAAAPB/AAAAAAAA8P8AAAAAAADw/xIHhKDJVSlAAAAAAAAA8H+WRPtLoXQgwEnmeB8Wh0vADvUZLJtxSsCgSyq/Wgc0QM3MzMzJO0HA1HUyuSunP0AAAAAAAADw/wAAAAAAAPB/BBCKPsH0hEAAAAAAAADwfwAAAAAAAPB/m6zrklhPPcCrqqoqQ1ZFwFNKBKgGPzDAAAAAAAAA8H8AAAAAAADwfwAAAAAAAPD/S3p3YTlDWMAAAAAAAADwfwAAAAAAAPB/H/DRYB9YUMAAAAAAAADwf+dCq8DwqltAoOvYxMJ/QEAAAAAAAADwf5bg5IBA/bQ/vk53fgPKOMAjkUgk0rX0P7cxSeX2uEdArsUjrcDNPMAAAAAAAADwf7NC9KdrWxpAAAAAAAAA8H/jhEHIupclQAAAAAAAAPD/AAAAAAAA8H8AAAAAAADwfwAAAAAAAPB/t5q/kzqJlUC4fxQIwh5FQJ8wlHZbj1fAuxqWXsQP8L8AAAAAAADwf6o9hYtH8VxAL4I2CfPwOUAV9g7MAhwqwMLAK4rHF1fA",
          "dtype": "f8",
          "shape": "72, 1"
         },
         "hovertemplate": "Actual: %{x:.2f}<br>Predicted: %{y:.2f}<br>Error: %{customdata[0]:.1f}%<br><extra></extra>",
         "mode": "markers",
         "name": "Predictions",
         "type": "scatter",
         "x": {
          "bdata": "AAAAAAAAAAAAAAAAAADwPwAAAAAANqtAAAAAAAAAAAAAAAAAAAAAAAAAAAAAAAAAAAAAAAAAAAAAAAAAAAAAAAAAAAAAAAAAAAAAAAAAAAAAAAAAAAAAAAAAAAAAAAAAAAAAAGAHIUEAAAAAAAAAAPQWSFB0SQRBAAAAAAAAAAAAAAAAAN6nQAAAAAAAn6JAAAAAAAAAAAAAAAAAAAAAAAAAAAAAAAAAAAAAAAAAAAAAAAAAAAAAAAAAAAAAXMRAAAAAAAAAAAAkQE0tK4jPQAAAAAAA2LRAb2ac2jSNvEAAAAAAfDcSQQAAAAAAQI9AAAAAAADt0kAAAAAAAAAAAAAAAAAAAAAAAAAAAEBU4UAAAAAAAAAAAAAAAAAAAAAAAAAAAACarkAAAAAAAMCCQAAAAADYwyhBAAAAAAAAAAAAAAAAAAAAAAAAAAAAAAAAq9I+l3PZukAAAAAAAAAAAAAAAAAAAAAAeoYNT8/7jEAAAAAAAAAAAAAAAAAA8HFAAAAAAIBIwkAAAAAAAAAAAAAAAACAkMpAAAAAAAB4l0AAAAAAAMBfQAAAAAAAsrBAXI/C9ai5ukAAAAAAAAAAAAAAAAAA/K1AAAAAAAAAAAAAAAAAAO3SQAAAAAAAAAAAAAAAAAAAAAAAAAAAAAAAAAAAAAAAAAAAsouO5PLnUEDXw8g5DACwQAAAAAAQK/5AAAAAAAB0k0AAAAAAAAAAAOwuMxU5JdBAZmZmZmZ8mUAAAAAAAL++QCQ7RCgLLRdB",
          "dtype": "f8"
         },
         "xaxis": "x4",
         "y": {
          "bdata": "PmOkvikoXkXg+gxFiZaUQJLt1Dx1JBA/RGLrPjjQpELDl1y+mbduvqNXbj2bF+g+4moDSeu98T+DHgxF25i0Qe+0NkXvZ4pF7diZQCZynb0883NG63mKvupODb7dgTdG/AwBPg+AZ0bv4xVFvjhXRSvsrkgP1SNEtVTHRuV4SL7UPIA/fomFSGx2iUaE4s1A3w4tRW36q0Pi7iVJfZtAQWRbUUHFKgO9q71KQ/wJtz3jECZFeY+gQ3NKsUMKKBdE0odCRh1Tiz+bsFRGXDWNRNWkAENo7sRFDziYRUAKZERYrn9FKUqgRKrAp0Yw5cu9bfqWPTvIQj92is49Yex5RNgRtkUEbd5FERCaRLvntD8FWQtHomMARbbb1UWtTOJG",
          "dtype": "f4"
         },
         "yaxis": "y4"
        },
        {
         "line": {
          "color": "red",
          "dash": "dash"
         },
         "mode": "lines",
         "name": "Perfect Prediction",
         "type": "scatter",
         "x": [
          -0.3210696578025818,
          811500
         ],
         "xaxis": "x4",
         "y": [
          -0.3210696578025818,
          811500
         ],
         "yaxis": "y4"
        }
       ],
       "layout": {
        "annotations": [
         {
          "font": {
           "size": 16
          },
          "showarrow": false,
          "text": "Residuals vs Predicted",
          "x": 0.225,
          "xanchor": "center",
          "xref": "paper",
          "y": 1,
          "yanchor": "bottom",
          "yref": "paper"
         },
         {
          "font": {
           "size": 16
          },
          "showarrow": false,
          "text": "Residual Distribution",
          "x": 0.775,
          "xanchor": "center",
          "xref": "paper",
          "y": 1,
          "yanchor": "bottom",
          "yref": "paper"
         },
         {
          "font": {
           "size": 16
          },
          "showarrow": false,
          "text": "Normal Q-Q Plot",
          "x": 0.225,
          "xanchor": "center",
          "xref": "paper",
          "y": 0.375,
          "yanchor": "bottom",
          "yref": "paper"
         },
         {
          "font": {
           "size": 16
          },
          "showarrow": false,
          "text": "Predicted vs Actual",
          "x": 0.775,
          "xanchor": "center",
          "xref": "paper",
          "y": 0.375,
          "yanchor": "bottom",
          "yref": "paper"
         }
        ],
        "height": 800,
        "shapes": [
         {
          "line": {
           "color": "red",
           "dash": "dash"
          },
          "type": "line",
          "x0": 0,
          "x1": 1,
          "xref": "x domain",
          "y0": 0,
          "y1": 0,
          "yref": "y"
         }
        ],
        "showlegend": false,
        "template": {
         "data": {
          "bar": [
           {
            "error_x": {
             "color": "#2a3f5f"
            },
            "error_y": {
             "color": "#2a3f5f"
            },
            "marker": {
             "line": {
              "color": "#E5ECF6",
              "width": 0.5
             },
             "pattern": {
              "fillmode": "overlay",
              "size": 10,
              "solidity": 0.2
             }
            },
            "type": "bar"
           }
          ],
          "barpolar": [
           {
            "marker": {
             "line": {
              "color": "#E5ECF6",
              "width": 0.5
             },
             "pattern": {
              "fillmode": "overlay",
              "size": 10,
              "solidity": 0.2
             }
            },
            "type": "barpolar"
           }
          ],
          "carpet": [
           {
            "aaxis": {
             "endlinecolor": "#2a3f5f",
             "gridcolor": "white",
             "linecolor": "white",
             "minorgridcolor": "white",
             "startlinecolor": "#2a3f5f"
            },
            "baxis": {
             "endlinecolor": "#2a3f5f",
             "gridcolor": "white",
             "linecolor": "white",
             "minorgridcolor": "white",
             "startlinecolor": "#2a3f5f"
            },
            "type": "carpet"
           }
          ],
          "choropleth": [
           {
            "colorbar": {
             "outlinewidth": 0,
             "ticks": ""
            },
            "type": "choropleth"
           }
          ],
          "contour": [
           {
            "colorbar": {
             "outlinewidth": 0,
             "ticks": ""
            },
            "colorscale": [
             [
              0,
              "#0d0887"
             ],
             [
              0.1111111111111111,
              "#46039f"
             ],
             [
              0.2222222222222222,
              "#7201a8"
             ],
             [
              0.3333333333333333,
              "#9c179e"
             ],
             [
              0.4444444444444444,
              "#bd3786"
             ],
             [
              0.5555555555555556,
              "#d8576b"
             ],
             [
              0.6666666666666666,
              "#ed7953"
             ],
             [
              0.7777777777777778,
              "#fb9f3a"
             ],
             [
              0.8888888888888888,
              "#fdca26"
             ],
             [
              1,
              "#f0f921"
             ]
            ],
            "type": "contour"
           }
          ],
          "contourcarpet": [
           {
            "colorbar": {
             "outlinewidth": 0,
             "ticks": ""
            },
            "type": "contourcarpet"
           }
          ],
          "heatmap": [
           {
            "colorbar": {
             "outlinewidth": 0,
             "ticks": ""
            },
            "colorscale": [
             [
              0,
              "#0d0887"
             ],
             [
              0.1111111111111111,
              "#46039f"
             ],
             [
              0.2222222222222222,
              "#7201a8"
             ],
             [
              0.3333333333333333,
              "#9c179e"
             ],
             [
              0.4444444444444444,
              "#bd3786"
             ],
             [
              0.5555555555555556,
              "#d8576b"
             ],
             [
              0.6666666666666666,
              "#ed7953"
             ],
             [
              0.7777777777777778,
              "#fb9f3a"
             ],
             [
              0.8888888888888888,
              "#fdca26"
             ],
             [
              1,
              "#f0f921"
             ]
            ],
            "type": "heatmap"
           }
          ],
          "histogram": [
           {
            "marker": {
             "pattern": {
              "fillmode": "overlay",
              "size": 10,
              "solidity": 0.2
             }
            },
            "type": "histogram"
           }
          ],
          "histogram2d": [
           {
            "colorbar": {
             "outlinewidth": 0,
             "ticks": ""
            },
            "colorscale": [
             [
              0,
              "#0d0887"
             ],
             [
              0.1111111111111111,
              "#46039f"
             ],
             [
              0.2222222222222222,
              "#7201a8"
             ],
             [
              0.3333333333333333,
              "#9c179e"
             ],
             [
              0.4444444444444444,
              "#bd3786"
             ],
             [
              0.5555555555555556,
              "#d8576b"
             ],
             [
              0.6666666666666666,
              "#ed7953"
             ],
             [
              0.7777777777777778,
              "#fb9f3a"
             ],
             [
              0.8888888888888888,
              "#fdca26"
             ],
             [
              1,
              "#f0f921"
             ]
            ],
            "type": "histogram2d"
           }
          ],
          "histogram2dcontour": [
           {
            "colorbar": {
             "outlinewidth": 0,
             "ticks": ""
            },
            "colorscale": [
             [
              0,
              "#0d0887"
             ],
             [
              0.1111111111111111,
              "#46039f"
             ],
             [
              0.2222222222222222,
              "#7201a8"
             ],
             [
              0.3333333333333333,
              "#9c179e"
             ],
             [
              0.4444444444444444,
              "#bd3786"
             ],
             [
              0.5555555555555556,
              "#d8576b"
             ],
             [
              0.6666666666666666,
              "#ed7953"
             ],
             [
              0.7777777777777778,
              "#fb9f3a"
             ],
             [
              0.8888888888888888,
              "#fdca26"
             ],
             [
              1,
              "#f0f921"
             ]
            ],
            "type": "histogram2dcontour"
           }
          ],
          "mesh3d": [
           {
            "colorbar": {
             "outlinewidth": 0,
             "ticks": ""
            },
            "type": "mesh3d"
           }
          ],
          "parcoords": [
           {
            "line": {
             "colorbar": {
              "outlinewidth": 0,
              "ticks": ""
             }
            },
            "type": "parcoords"
           }
          ],
          "pie": [
           {
            "automargin": true,
            "type": "pie"
           }
          ],
          "scatter": [
           {
            "fillpattern": {
             "fillmode": "overlay",
             "size": 10,
             "solidity": 0.2
            },
            "type": "scatter"
           }
          ],
          "scatter3d": [
           {
            "line": {
             "colorbar": {
              "outlinewidth": 0,
              "ticks": ""
             }
            },
            "marker": {
             "colorbar": {
              "outlinewidth": 0,
              "ticks": ""
             }
            },
            "type": "scatter3d"
           }
          ],
          "scattercarpet": [
           {
            "marker": {
             "colorbar": {
              "outlinewidth": 0,
              "ticks": ""
             }
            },
            "type": "scattercarpet"
           }
          ],
          "scattergeo": [
           {
            "marker": {
             "colorbar": {
              "outlinewidth": 0,
              "ticks": ""
             }
            },
            "type": "scattergeo"
           }
          ],
          "scattergl": [
           {
            "marker": {
             "colorbar": {
              "outlinewidth": 0,
              "ticks": ""
             }
            },
            "type": "scattergl"
           }
          ],
          "scattermap": [
           {
            "marker": {
             "colorbar": {
              "outlinewidth": 0,
              "ticks": ""
             }
            },
            "type": "scattermap"
           }
          ],
          "scattermapbox": [
           {
            "marker": {
             "colorbar": {
              "outlinewidth": 0,
              "ticks": ""
             }
            },
            "type": "scattermapbox"
           }
          ],
          "scatterpolar": [
           {
            "marker": {
             "colorbar": {
              "outlinewidth": 0,
              "ticks": ""
             }
            },
            "type": "scatterpolar"
           }
          ],
          "scatterpolargl": [
           {
            "marker": {
             "colorbar": {
              "outlinewidth": 0,
              "ticks": ""
             }
            },
            "type": "scatterpolargl"
           }
          ],
          "scatterternary": [
           {
            "marker": {
             "colorbar": {
              "outlinewidth": 0,
              "ticks": ""
             }
            },
            "type": "scatterternary"
           }
          ],
          "surface": [
           {
            "colorbar": {
             "outlinewidth": 0,
             "ticks": ""
            },
            "colorscale": [
             [
              0,
              "#0d0887"
             ],
             [
              0.1111111111111111,
              "#46039f"
             ],
             [
              0.2222222222222222,
              "#7201a8"
             ],
             [
              0.3333333333333333,
              "#9c179e"
             ],
             [
              0.4444444444444444,
              "#bd3786"
             ],
             [
              0.5555555555555556,
              "#d8576b"
             ],
             [
              0.6666666666666666,
              "#ed7953"
             ],
             [
              0.7777777777777778,
              "#fb9f3a"
             ],
             [
              0.8888888888888888,
              "#fdca26"
             ],
             [
              1,
              "#f0f921"
             ]
            ],
            "type": "surface"
           }
          ],
          "table": [
           {
            "cells": {
             "fill": {
              "color": "#EBF0F8"
             },
             "line": {
              "color": "white"
             }
            },
            "header": {
             "fill": {
              "color": "#C8D4E3"
             },
             "line": {
              "color": "white"
             }
            },
            "type": "table"
           }
          ]
         },
         "layout": {
          "annotationdefaults": {
           "arrowcolor": "#2a3f5f",
           "arrowhead": 0,
           "arrowwidth": 1
          },
          "autotypenumbers": "strict",
          "coloraxis": {
           "colorbar": {
            "outlinewidth": 0,
            "ticks": ""
           }
          },
          "colorscale": {
           "diverging": [
            [
             0,
             "#8e0152"
            ],
            [
             0.1,
             "#c51b7d"
            ],
            [
             0.2,
             "#de77ae"
            ],
            [
             0.3,
             "#f1b6da"
            ],
            [
             0.4,
             "#fde0ef"
            ],
            [
             0.5,
             "#f7f7f7"
            ],
            [
             0.6,
             "#e6f5d0"
            ],
            [
             0.7,
             "#b8e186"
            ],
            [
             0.8,
             "#7fbc41"
            ],
            [
             0.9,
             "#4d9221"
            ],
            [
             1,
             "#276419"
            ]
           ],
           "sequential": [
            [
             0,
             "#0d0887"
            ],
            [
             0.1111111111111111,
             "#46039f"
            ],
            [
             0.2222222222222222,
             "#7201a8"
            ],
            [
             0.3333333333333333,
             "#9c179e"
            ],
            [
             0.4444444444444444,
             "#bd3786"
            ],
            [
             0.5555555555555556,
             "#d8576b"
            ],
            [
             0.6666666666666666,
             "#ed7953"
            ],
            [
             0.7777777777777778,
             "#fb9f3a"
            ],
            [
             0.8888888888888888,
             "#fdca26"
            ],
            [
             1,
             "#f0f921"
            ]
           ],
           "sequentialminus": [
            [
             0,
             "#0d0887"
            ],
            [
             0.1111111111111111,
             "#46039f"
            ],
            [
             0.2222222222222222,
             "#7201a8"
            ],
            [
             0.3333333333333333,
             "#9c179e"
            ],
            [
             0.4444444444444444,
             "#bd3786"
            ],
            [
             0.5555555555555556,
             "#d8576b"
            ],
            [
             0.6666666666666666,
             "#ed7953"
            ],
            [
             0.7777777777777778,
             "#fb9f3a"
            ],
            [
             0.8888888888888888,
             "#fdca26"
            ],
            [
             1,
             "#f0f921"
            ]
           ]
          },
          "colorway": [
           "#636efa",
           "#EF553B",
           "#00cc96",
           "#ab63fa",
           "#FFA15A",
           "#19d3f3",
           "#FF6692",
           "#B6E880",
           "#FF97FF",
           "#FECB52"
          ],
          "font": {
           "color": "#2a3f5f"
          },
          "geo": {
           "bgcolor": "white",
           "lakecolor": "white",
           "landcolor": "#E5ECF6",
           "showlakes": true,
           "showland": true,
           "subunitcolor": "white"
          },
          "hoverlabel": {
           "align": "left"
          },
          "hovermode": "closest",
          "mapbox": {
           "style": "light"
          },
          "paper_bgcolor": "white",
          "plot_bgcolor": "#E5ECF6",
          "polar": {
           "angularaxis": {
            "gridcolor": "white",
            "linecolor": "white",
            "ticks": ""
           },
           "bgcolor": "#E5ECF6",
           "radialaxis": {
            "gridcolor": "white",
            "linecolor": "white",
            "ticks": ""
           }
          },
          "scene": {
           "xaxis": {
            "backgroundcolor": "#E5ECF6",
            "gridcolor": "white",
            "gridwidth": 2,
            "linecolor": "white",
            "showbackground": true,
            "ticks": "",
            "zerolinecolor": "white"
           },
           "yaxis": {
            "backgroundcolor": "#E5ECF6",
            "gridcolor": "white",
            "gridwidth": 2,
            "linecolor": "white",
            "showbackground": true,
            "ticks": "",
            "zerolinecolor": "white"
           },
           "zaxis": {
            "backgroundcolor": "#E5ECF6",
            "gridcolor": "white",
            "gridwidth": 2,
            "linecolor": "white",
            "showbackground": true,
            "ticks": "",
            "zerolinecolor": "white"
           }
          },
          "shapedefaults": {
           "line": {
            "color": "#2a3f5f"
           }
          },
          "ternary": {
           "aaxis": {
            "gridcolor": "white",
            "linecolor": "white",
            "ticks": ""
           },
           "baxis": {
            "gridcolor": "white",
            "linecolor": "white",
            "ticks": ""
           },
           "bgcolor": "#E5ECF6",
           "caxis": {
            "gridcolor": "white",
            "linecolor": "white",
            "ticks": ""
           }
          },
          "title": {
           "x": 0.05
          },
          "xaxis": {
           "automargin": true,
           "gridcolor": "white",
           "linecolor": "white",
           "ticks": "",
           "title": {
            "standoff": 15
           },
           "zerolinecolor": "white",
           "zerolinewidth": 2
          },
          "yaxis": {
           "automargin": true,
           "gridcolor": "white",
           "linecolor": "white",
           "ticks": "",
           "title": {
            "standoff": 15
           },
           "zerolinecolor": "white",
           "zerolinewidth": 2
          }
         }
        },
        "title": {
         "text": "Base Predictor (timber) Residual Analysis"
        },
        "width": 1200,
        "xaxis": {
         "anchor": "y",
         "domain": [
          0,
          0.45
         ],
         "title": {
          "text": "Predicted Values"
         }
        },
        "xaxis2": {
         "anchor": "y2",
         "domain": [
          0.55,
          1
         ],
         "title": {
          "text": "Residuals"
         }
        },
        "xaxis3": {
         "anchor": "y3",
         "domain": [
          0,
          0.45
         ],
         "title": {
          "text": "Theoretical Quantiles"
         }
        },
        "xaxis4": {
         "anchor": "y4",
         "domain": [
          0.55,
          1
         ],
         "title": {
          "text": "Actual Values"
         }
        },
        "yaxis": {
         "anchor": "x",
         "domain": [
          0.625,
          1
         ],
         "title": {
          "text": "Residuals"
         }
        },
        "yaxis2": {
         "anchor": "x2",
         "domain": [
          0.625,
          1
         ],
         "title": {
          "text": "Density"
         }
        },
        "yaxis3": {
         "anchor": "x3",
         "domain": [
          0,
          0.375
         ],
         "title": {
          "text": "Sample Quantiles"
         }
        },
        "yaxis4": {
         "anchor": "x4",
         "domain": [
          0,
          0.375
         ],
         "title": {
          "text": "Predicted Values"
         }
        }
       }
      }
     },
     "metadata": {},
     "output_type": "display_data"
    },
    {
     "name": "stdout",
     "output_type": "stream",
     "text": [
      "\n",
      "Metrics for timber predictor:\n",
      "RMSE: 58039.15\n",
      "MAE: 16444.63\n",
      "R² Score: 0.79\n",
      "MAPE: 9965.03%\n",
      "SMAPE: 65.25%\n",
      "Within 10% error: 9.7%\n",
      "Within 20% error: 15.3%\n",
      "\n",
      "Processing steel predictor...\n"
     ]
    },
    {
     "name": "stderr",
     "output_type": "stream",
     "text": [
      "C:\\Users\\dczqd\\AppData\\Local\\Temp\\ipykernel_53428\\2497234683.py:865: RuntimeWarning:\n",
      "\n",
      "divide by zero encountered in divide\n",
      "\n"
     ]
    },
    {
     "data": {
      "application/vnd.plotly.v1+json": {
       "config": {
        "plotlyServerURL": "https://plot.ly"
       },
       "data": [
        {
         "customdata": {
          "bdata": "vPjbWldGMUAAAAAAANyyQAAAAABAI9RAAAAAAAAAAAAAAAAAAAAAAAAAAAAAZdRAAAAAAAAAAAAAAAAAZmckQQAAAAAAAAAAAAAAAAAAAAAAAAAAAAAAAAAAAAAvFjBBAAAAAAAAAAAwGPk7A/H3QAAAAAAAhPlAAAAAAAAAAAAAAAAAAAAAADMzMzMzGaBAAAAAAHwbHkEAAAAAAGIRQQAAAAAAJeJAAAAAAL5xJEEAAAAAAAAAAAAAAAAAXrxAAAAAAADkzUCEwMqhxfGcQAAAAAAACINA1D9oXCfoqkAAAAAAIOLmQAAAAAAAXspAAAAAACC940AAAAAAgL3MQAAAAACw0hNBMzMzM2Nh5kAAAAAAACXiQAAAAADgQAhBAAAAAMihAUEAAAAAQMj6QAAAAAB+qiVBAAAAAAAAAAAAAAAAAAAAAAAAAAAAAAAALWOpMD1N0kAAAAAAgCfEQMUNsl47rPhAILoxnGIAAUFaHgeoZQIJQQAAAAAAlJhAAAAAAABIrUDKDWN27hfsQAAAAAB47w1BAAAAAADgj0AAAAAAAFiiQAAAAAAAnOlACtejcF1Rz0AAAAAAAFS0QAAAAAAAqshAzZdVDkgt80AAAAAAIL3jQAAAAAAAAAAAAAAAAICp0kAAAAAAAAAAAAAAAAAAAAAAXUXXEeaOtUBND9GKIBPhQAAAAACALNJAAAAAAEBy50AAAAAAAAAAAMzIgEpCjJhA4E+Nly4ZsUAAAAAAgAHFQKicnHFuMvZA",
          "dtype": "f8",
          "shape": "72, 1"
         },
         "hovertemplate": "Predicted: %{x:.2f}<br>Residual: %{y:.2f}<br>Actual: %{customdata[0]:.2f}<br><extra></extra>",
         "mode": "markers",
         "name": "Residuals",
         "type": "scatter",
         "x": {
          "bdata": "wnmfvaLQ+0W01JRGXugHRmnkxkAJ+AhHcIEsQgHqeEj1bqtAep8ePvNJGD9/IoRJNi0eQUMv70f0nPFHC7psQhnSfEFyNmdFQ7+LRbJkfUgIGAdH9oyASJahCUA3895FanIBvWkuUUTZBo5DKnzXQ0UzxEZ7tdZFFAf2RlNBPkZWz41IA6mwR7yNCEf2RFpFhvXqR7UjyEeF3SZJTOf/PdxQCkCh9ru/rfD8ReTLK0ZQCM9HNg29R4yWYEhzwKtEosSCRZP7UkeNenNIdh9hRFVTBEVO6pVHnTtIRg5eVkXr10pGUEW+Rxhf8kbl664/RkVSRue5xEJD/95Axl8GRit/+kY4PQVHW6cuRyvnuj6SY3VFhIu2RQDjKkZS2jJG",
          "dtype": "f4"
         },
         "xaxis": "x",
         "y": {
          "bdata": "vPgbk0ZaMUAAAACAKDypwAAAAACYiphAAAAAwAv9wMAAAAAgjdwYwAAAAIAEssvAAAAAAC6QRcAAAADwK0AZQQAAAKDebRXAAAAAQO/Tw78AAABgPgnjvwAAAAA4iNvAAAAAwKbFI8BAnxuQlNPXwAAAAAB6vtLAAAAAYEGXTcAAAAAgQ5ovwJqZmRk2m5nAAACAXpzVHUEAAAAATrvYQAAAAADwH6RAAAAAQN3RGEEAAADAMjQBwAAAAABI5l9AAFCTCwTkzUAIgZUjvr2PQAAAAOAkT3RA1D9otDaKp0AAAABg1z3VQAAAAKBQ5blAAAAAALtywUAAAACAVtWjQAAAAAAqxuBAzczMjN3I5cAAAAAAiDShQAAAAIW90wdBAAAAAH2T10AAAAAAljy8QAAAAACs2dlAAAAAgOn8v78AAACAG0oBwAAAACDUfvc/WsZSkW/LxEAAAAAAyB+FwLAj3xTqTLPAgOjG8Dy+5EAwDce/XoPYwAAAAACN32hAAAAAAERJe8Cg3DBmwYerQAAAAABo9q/AAAAAAIrgXUAAAAAAVtlsQAAAAAAnvdfAKFyPQqcnqUAAAACAfLibQAAAAACsH3bAzKCpxodt0sAAAAAAulzCQAAAAKB83fW/AAAAgK4UtkAAAADgPJdYwAAAAGDo3xvARnVR3BYSqMDQ9BCt3bKmQAAAAACcRc7AAAAAAErVqUAAAABg5VzXv5qbvxpRZqLAgMDKoQfhlsAAAAAAALhmwKicnCkFZ/NA",
          "dtype": "f8"
         },
         "yaxis": "y"
        },
        {
         "histnorm": "probability density",
         "name": "Residual Dist",
         "nbinsx": 50,
         "type": "histogram",
         "x": {
          "bdata": "vPgbk0ZaMUAAAACAKDypwAAAAACYiphAAAAAwAv9wMAAAAAgjdwYwAAAAIAEssvAAAAAAC6QRcAAAADwK0AZQQAAAKDebRXAAAAAQO/Tw78AAABgPgnjvwAAAAA4iNvAAAAAwKbFI8BAnxuQlNPXwAAAAAB6vtLAAAAAYEGXTcAAAAAgQ5ovwJqZmRk2m5nAAACAXpzVHUEAAAAATrvYQAAAAADwH6RAAAAAQN3RGEEAAADAMjQBwAAAAABI5l9AAFCTCwTkzUAIgZUjvr2PQAAAAOAkT3RA1D9otDaKp0AAAABg1z3VQAAAAKBQ5blAAAAAALtywUAAAACAVtWjQAAAAAAqxuBAzczMjN3I5cAAAAAAiDShQAAAAIW90wdBAAAAAH2T10AAAAAAljy8QAAAAACs2dlAAAAAgOn8v78AAACAG0oBwAAAACDUfvc/WsZSkW/LxEAAAAAAyB+FwLAj3xTqTLPAgOjG8Dy+5EAwDce/XoPYwAAAAACN32hAAAAAAERJe8Cg3DBmwYerQAAAAABo9q/AAAAAAIrgXUAAAAAAVtlsQAAAAAAnvdfAKFyPQqcnqUAAAACAfLibQAAAAACsH3bAzKCpxodt0sAAAAAAulzCQAAAAKB83fW/AAAAgK4UtkAAAADgPJdYwAAAAGDo3xvARnVR3BYSqMDQ9BCt3bKmQAAAAACcRc7AAAAAAErVqUAAAABg5VzXv5qbvxpRZqLAgMDKoQfhlsAAAAAAALhmwKicnCkFZ/NA",
          "dtype": "f8"
         },
         "xaxis": "x2",
         "yaxis": "y2"
        },
        {
         "line": {
          "color": "red"
         },
         "mode": "lines",
         "name": "KDE",
         "type": "scatter",
         "x": {
          "bdata": "zczMjN3I5cDANAZQWifjwLScPxPXheDATwnyrKfI28A22WQzoYXWwB2p17maQtHACPKUgCj/x8CoI/UaN/K6wCCNAdN0mJfAMLroYvlLrkDAjtRLCxnCQPTu7j4Yn8xAkqcEmZKS00Cq15ESmdXYQMYHH4yfGN5A7xvWAtOt4UD7s5w/Vk/kQAdMY3zZ8OZAE+QpuVyS6UAhfPD13zPsQC0UtzJj1e5AHNa+N3O78EAkIiLWNAzyQCpuhXT2XPNAMLroErit9EA2Bkyxef71QDxSr087T/dAQp4S7vyf+EBK6nWMvvD5QFA22SqAQftAVoI8yUGS/EBczp9nA+P9QGIaAwbFM/9ANDMzUkNCAEE32WQhpOoAQTp/lvAEkwFBPSXIv2U7AkFBy/mOxuMCQURxK14njANBRxddLYg0BEFKvY786NwEQU1jwMtJhQVBUAnymqotBkFTryNqC9YGQVdVVTlsfgdBWvuGCM0mCEFdobjXLc8IQWBH6qaOdwlBY+0bdu8fCkFnk01FUMgKQWk5fxSxcAtBbd+w4xEZDEFvheKycsEMQXMrFILTaQ1BddFFUTQSDkF5d3cglboOQX0dqe/1Yg9Bv2FtX6sFEEHBNAbH21kQQcIHny4MrhBBxNo3ljwCEUHFrdD9bFYRQceAaWWdqhFByFMCzc3+EUHKJps0/lISQcz5M5wupxJBzczMA1/7EkHPn2Vrj08TQdBy/tK/oxNB0kWXOvD3E0HTGDCiIEwUQdXryAlRoBRB1r5hcYH0FEHYkfrYsUgVQdpkk0DinBVB2zcsqBLxFUHdCsUPQ0UWQd7dXXdzmRZB4LD23qPtFkHhg49G1EEXQeNWKK4ElhdB5SnBFTXqF0Hm/Fl9ZT4YQejP8uSVkhhB6aKLTMbmGEHrdSS09joZQexIvRsnjxlB7htWg1fjGUHw7u7qhzcaQfHBh1K4ixpB85QguujfGkH0Z7khGTQbQfY6UolJiBtB9w3r8HncG0H54INYqjAcQfqzHMDahBxB/Ia1JwvZHEH+WU6POy0dQQAt5/ZrgR1BAACAXpzVHUE=",
          "dtype": "f8"
         },
         "xaxis": "x2",
         "y": {
          "bdata": "OMGR9orF1D5qibFFsMnXPrZ6U2/Nx9o+KGcpGQyj3T7+TeLeiR7gPpgnDh0NPOE++fKzkI4c4j5Pmj5zBLXiPn5ZPyLI/eI+0e16PT7z4j7/2/m+JpbiPqtC/xeL6+E+mqnrckz84D48/pH+v6jfPu3a44yhA90+i8xLBUkn2j4q/VgYhTHXPi7N3F/yPdQ+ZeIY2m5k0T4Uk1vkIXDNPgFJZkJUjcg+tMlq+5cxxD56N6NPcmTAPopze/uMSro+64BL9lDatD6+P5NrjmGwPlakoPDoiKk+HtBiNTfKoz4+H9u1w5eePhMuGaCgrZc+PLM3Gf1zkj4Qz47vci2NPpadaTAyn4c+2LhK3xPKgz4EU+WCflCBPjYd4XM7zH8+3HRaHpKXfj7GgUjQDJh+PsAwyHHJcH8+F8escsFngD4QKJc9ajWBPoeq6sn0AII+cyIxW5eugj7AwOmSxSeDPuuEfG7VW4M+hvXXsXdAgz42MLT029GCPj/AUoJpEoI+C/W36ggKgT6tF8XmF4p/Pm4NRBWgpXw+/TArIoGIeT5QI2hzwlR2PuOo/gULKnM+lNGeB6QjcD76WZJJY65qPodffXtXqGU+Zmv1CxNIYT4l3merBixbPvNMVHzYJFU+8h1SinxwUD4cOq6VWgBKPqAm5HyDjEU+ITlDRX52Qz5xdu/nv8NDPkrVPwGWk0Y+JwprTYMhTD6EeZ8BFGJSPpZONJsydFg+L4zHJiNCYD51FN5X62dlPvaXvoNcxms+S8h0+/C3cT7YKIzewzR2Pr7YFIs0U3s+BPJV6AOBgD598rZCG5KDPnyKMZ2ByIY+8W4eKa4Kij5eBToDTDuNPqCQNAaaHZA+iWXoDOx1kT4+Sc1F75iSPnwr2CzPe5M+mPuf5ZMXlD5C4OWqx2mUPvaY3xmjdJQ+dk8CJ7Y+lD54DjgVFtKTPoDGbsMqO5M+k0FI8UOHkj5LF7gxJ8ORPgOzoLDH+ZA+csPPp1EzkD6R/t1oS+mOPjQcaESdfo0+XzdGkNMjjD5dqg2t09GKPqKyVQwhf4k+3uWsEO0hiD4=",
          "dtype": "f8"
         },
         "yaxis": "y2"
        },
        {
         "hovertemplate": "Theoretical Quantile: %{x:.2f}<br>Sample Quantile: %{y:.2f}<br><extra></extra>",
         "mode": "markers",
         "name": "Q-Q Plot",
         "type": "scatter",
         "x": {
          "bdata": "sHmMgyy9AsAYUCfuaNr/vzYTVZF5kvy/8OHVZk4u+r/QDfbDQEP4vx36wWUVpPa/PWJ31Ck59b824j+dgfTzv+QtPR8dzfK/gGh839W88b8iOYs1Rb/wv0cEMIJOou+/iBD43/rf7b+cc0PbpzPsvzutHMA2muq/sgMnCh4R6b/v2x1QRZbnv07JoXjrJ+a/VGOL35PE5L8kOxBI+Grjv+NesDP+GeK/nyFYq67Q4L9gf0qnXxzfv6cK7K1/o9y/Tg2yomE12r+EzL8Cy9DXv8qmpyGddNW/IwI5p9Af07+QYJbGcdHQvy6Bjg46Ec2/L0NMA/mIyL9f+u3sigjEv6An6bjYHL+/fNGEQVAytr96cW0pT52qvzL3oG9jvJG/Wvegb2O8kT96cW0pT52qP3zRhEFQMrY/lifpuNgcvz9k+u3sigjEPzRDTAP5iMg/LoGODjoRzT+VYJbGcdHQPyYCOafQH9M/zKanIZ101T+EzL8Cy9DXP1MNsqJhNdo/qQrsrX+j3D9gf0qnXxzfP58hWKuu0OA/5F6wM/4Z4j8mOxBI+GrjP1Rji9+TxOQ/UcmheOsn5j/x2x1QRZbnP7IDJwoeEek/O60cwDaa6j+dc0PbpzPsP4gQ+N/63+0/RwQwgk6i7z8kOYs1Rb/wP4BofN/VvPE/5C09Hx3N8j844j+dgfTzPz9id9QpOfU/JPrBZRWk9j/UDfbDQEP4P/bh1WZOLvo/PxNVkXmS/D8iUCfuaNr/P7B5jIMsvQJA",
          "dtype": "f8"
         },
         "xaxis": "x3",
         "y": {
          "bdata": "zczMjN3I5cAAAAAAOIjbwDANx79eg9jAQJ8bkJTT18AAAAAAJ73XwAAAAAB6vtLAzKCpxodt0sAAAAAAnEXOwAAAAIAEssvAAAAAwAv9wMCwI98U6kyzwAAAAABo9q/AAAAAgCg8qcBGdVHcFhKowJqbvxpRZqLAmpmZGTabmcCAwMqhB+GWwAAAAADIH4XAAAAAAERJe8AAAAAArB92wAAAAAAAuGbAAAAA4DyXWMAAAABgQZdNwAAAAAAukEXAAAAAIEOaL8AAAADApsUjwAAAAGDo3xvAAAAAII3cGMAAAACg3m0VwAAAAIAbSgHAAAAAwDI0AcAAAACgfN31vwAAAGA+CeO/AAAAYOVc178AAABA79PDvwAAAIDp/L+/AAAAINR+9z+8+BuTRloxQAAAAACK4F1AAAAAAEjmX0AAAAAAjd9oQAAAAABW2WxAAAAA4CRPdEAIgZUjvr2PQAAAAACYiphAAAAAgHy4m0AAAAAAiDShQAAAAIBW1aNAAAAAAPAfpEDQ9BCt3bKmQNQ/aLQ2iqdAKFyPQqcnqUAAAAAAStWpQKDcMGbBh6tAAAAAgK4UtkAAAACgUOW5QAAAAACWPLxAAAAAALtywUAAAAAAulzCQFrGUpFvy8RAAFCTCwTkzUAAAABg1z3VQAAAAAB9k9dAAAAAAE672EAAAAAArNnZQAAAAAAqxuBAgOjG8Dy+5EConJwpBWfzQAAAAIW90wdBAAAAQN3RGEEAAADwK0AZQQAAgF6c1R1B",
          "dtype": "f8"
         },
         "yaxis": "y3"
        },
        {
         "line": {
          "color": "red",
          "dash": "dash"
         },
         "mode": "lines",
         "name": "Q-Q Line",
         "type": "scatter",
         "x": {
          "bdata": "sHmMgyy9AsCweYyDLL0CQA==",
          "dtype": "f8"
         },
         "xaxis": "x3",
         "y": {
          "bdata": "altrSzWU+sCR9D1SYbsCQQ==",
          "dtype": "f8"
         },
         "yaxis": "y3"
        },
        {
         "customdata": {
          "bdata": "k+uPXdkcWcBd+PuEy7lQQDl+rU2Ldx7AAAAAAAAA8H8AAAAAAADwfz8m5NeJ+VBAAAAAAAAA8H9czJ/FQ/BOwAAAAAAAAPB/AAAAAAAA8H8AAAAAAADwf+x/xVzCZAVAAAAAAAAA8H+NkxExROE4QGwzuAmCXTJAAAAAAAAA8H8AAAAAAADwf7FjrJrx4VNARMXIy/rFWMCtZCUr2cghwIDykLJ4uhvA9LQdS7lZTsAAAAAAAADwf7k12mfxHPy/vycjYgMAWcAiru27ZmpLwC+QSfG+rUrAmUhc+CTfVcACj/wV1zRHwEYNf5uSjUjA8XIKXk4ZNsAZIoidk0AxwLSCs0uiJyXAKlb6I6BVWEA8xw0OrbQXwDJde4CBj1jABPhgiMy2MMBPPk0Nj1sawHTnF/QD1A3AAAAAAAAA8H8AAAAAAADwfwAAAAAAAPD/E5Y8l8VnTMAdGIy/+TMaQMsUMUlxjhNAUCRKg3uAPsCJcZ5EBYEoQGrFR/vYTCnASNEy1vBLJ0DR5g8js38YwA1dP3phsfo/q6qqqtpuJ8Dkv9jNmKgjwMwq4uiLLEdAURHIf5AUNMABVRA5tgtBwI1Pf2bQbAZAQT9l6QUGOED5WG4XrEE3wAAAAAAAAPB//EJUjWeUPcAAAAAAAADwfwAAAAAAAPB/Epr5hODpS0Adr9/G/50gwBvYueUy0lRAv9Fh2oeLG8AAAAAAAADwf2bhzdERvWJAMLLEB925QEAoInfR4An7P0WfEGs/2lXA",
          "dtype": "f8",
          "shape": "72, 1"
         },
         "hovertemplate": "Actual: %{x:.2f}<br>Predicted: %{y:.2f}<br>Error: %{customdata[0]:.1f}%<br><extra></extra>",
         "mode": "markers",
         "name": "Predictions",
         "type": "scatter",
         "x": {
          "bdata": "vPjbWldGMUAAAAAAANyyQAAAAABAI9RAAAAAAAAAAAAAAAAAAAAAAAAAAAAAZdRAAAAAAAAAAAAAAAAAZmckQQAAAAAAAAAAAAAAAAAAAAAAAAAAAAAAAAAAAAAvFjBBAAAAAAAAAAAwGPk7A/H3QAAAAAAAhPlAAAAAAAAAAAAAAAAAAAAAADMzMzMzGaBAAAAAAHwbHkEAAAAAAGIRQQAAAAAAJeJAAAAAAL5xJEEAAAAAAAAAAAAAAAAAXrxAAAAAAADkzUCEwMqhxfGcQAAAAAAACINA1D9oXCfoqkAAAAAAIOLmQAAAAAAAXspAAAAAACC940AAAAAAgL3MQAAAAACw0hNBMzMzM2Nh5kAAAAAAACXiQAAAAADgQAhBAAAAAMihAUEAAAAAQMj6QAAAAAB+qiVBAAAAAAAAAAAAAAAAAAAAAAAAAAAAAAAALWOpMD1N0kAAAAAAgCfEQMUNsl47rPhAILoxnGIAAUFaHgeoZQIJQQAAAAAAlJhAAAAAAABIrUDKDWN27hfsQAAAAAB47w1BAAAAAADgj0AAAAAAAFiiQAAAAAAAnOlACtejcF1Rz0AAAAAAAFS0QAAAAAAAqshAzZdVDkgt80AAAAAAIL3jQAAAAAAAAAAAAAAAAICp0kAAAAAAAAAAAAAAAAAAAAAAXUXXEeaOtUBND9GKIBPhQAAAAACALNJAAAAAAEBy50AAAAAAAAAAAMzIgEpCjJhA4E+Nly4ZsUAAAAAAgAHFQKicnHFuMvZA",
          "dtype": "f8"
         },
         "xaxis": "x4",
         "y": {
          "bdata": "wnmfvaLQ+0W01JRGXugHRmnkxkAJ+AhHcIEsQgHqeEj1bqtAep8ePvNJGD9/IoRJNi0eQUMv70f0nPFHC7psQhnSfEFyNmdFQ7+LRbJkfUgIGAdH9oyASJahCUA3895FanIBvWkuUUTZBo5DKnzXQ0UzxEZ7tdZFFAf2RlNBPkZWz41IA6mwR7yNCEf2RFpFhvXqR7UjyEeF3SZJTOf/PdxQCkCh9ru/rfD8ReTLK0ZQCM9HNg29R4yWYEhzwKtEosSCRZP7UkeNenNIdh9hRFVTBEVO6pVHnTtIRg5eVkXr10pGUEW+Rxhf8kbl664/RkVSRue5xEJD/95Axl8GRit/+kY4PQVHW6cuRyvnuj6SY3VFhIu2RQDjKkZS2jJG",
          "dtype": "f4"
         },
         "yaxis": "y4"
        },
        {
         "line": {
          "color": "red",
          "dash": "dash"
         },
         "mode": "lines",
         "name": "Perfect Prediction",
         "type": "scatter",
         "x": [
          -1.4684640169143677,
          1082447.875
         ],
         "xaxis": "x4",
         "y": [
          -1.4684640169143677,
          1082447.875
         ],
         "yaxis": "y4"
        }
       ],
       "layout": {
        "annotations": [
         {
          "font": {
           "size": 16
          },
          "showarrow": false,
          "text": "Residuals vs Predicted",
          "x": 0.225,
          "xanchor": "center",
          "xref": "paper",
          "y": 1,
          "yanchor": "bottom",
          "yref": "paper"
         },
         {
          "font": {
           "size": 16
          },
          "showarrow": false,
          "text": "Residual Distribution",
          "x": 0.775,
          "xanchor": "center",
          "xref": "paper",
          "y": 1,
          "yanchor": "bottom",
          "yref": "paper"
         },
         {
          "font": {
           "size": 16
          },
          "showarrow": false,
          "text": "Normal Q-Q Plot",
          "x": 0.225,
          "xanchor": "center",
          "xref": "paper",
          "y": 0.375,
          "yanchor": "bottom",
          "yref": "paper"
         },
         {
          "font": {
           "size": 16
          },
          "showarrow": false,
          "text": "Predicted vs Actual",
          "x": 0.775,
          "xanchor": "center",
          "xref": "paper",
          "y": 0.375,
          "yanchor": "bottom",
          "yref": "paper"
         }
        ],
        "height": 800,
        "shapes": [
         {
          "line": {
           "color": "red",
           "dash": "dash"
          },
          "type": "line",
          "x0": 0,
          "x1": 1,
          "xref": "x domain",
          "y0": 0,
          "y1": 0,
          "yref": "y"
         }
        ],
        "showlegend": false,
        "template": {
         "data": {
          "bar": [
           {
            "error_x": {
             "color": "#2a3f5f"
            },
            "error_y": {
             "color": "#2a3f5f"
            },
            "marker": {
             "line": {
              "color": "#E5ECF6",
              "width": 0.5
             },
             "pattern": {
              "fillmode": "overlay",
              "size": 10,
              "solidity": 0.2
             }
            },
            "type": "bar"
           }
          ],
          "barpolar": [
           {
            "marker": {
             "line": {
              "color": "#E5ECF6",
              "width": 0.5
             },
             "pattern": {
              "fillmode": "overlay",
              "size": 10,
              "solidity": 0.2
             }
            },
            "type": "barpolar"
           }
          ],
          "carpet": [
           {
            "aaxis": {
             "endlinecolor": "#2a3f5f",
             "gridcolor": "white",
             "linecolor": "white",
             "minorgridcolor": "white",
             "startlinecolor": "#2a3f5f"
            },
            "baxis": {
             "endlinecolor": "#2a3f5f",
             "gridcolor": "white",
             "linecolor": "white",
             "minorgridcolor": "white",
             "startlinecolor": "#2a3f5f"
            },
            "type": "carpet"
           }
          ],
          "choropleth": [
           {
            "colorbar": {
             "outlinewidth": 0,
             "ticks": ""
            },
            "type": "choropleth"
           }
          ],
          "contour": [
           {
            "colorbar": {
             "outlinewidth": 0,
             "ticks": ""
            },
            "colorscale": [
             [
              0,
              "#0d0887"
             ],
             [
              0.1111111111111111,
              "#46039f"
             ],
             [
              0.2222222222222222,
              "#7201a8"
             ],
             [
              0.3333333333333333,
              "#9c179e"
             ],
             [
              0.4444444444444444,
              "#bd3786"
             ],
             [
              0.5555555555555556,
              "#d8576b"
             ],
             [
              0.6666666666666666,
              "#ed7953"
             ],
             [
              0.7777777777777778,
              "#fb9f3a"
             ],
             [
              0.8888888888888888,
              "#fdca26"
             ],
             [
              1,
              "#f0f921"
             ]
            ],
            "type": "contour"
           }
          ],
          "contourcarpet": [
           {
            "colorbar": {
             "outlinewidth": 0,
             "ticks": ""
            },
            "type": "contourcarpet"
           }
          ],
          "heatmap": [
           {
            "colorbar": {
             "outlinewidth": 0,
             "ticks": ""
            },
            "colorscale": [
             [
              0,
              "#0d0887"
             ],
             [
              0.1111111111111111,
              "#46039f"
             ],
             [
              0.2222222222222222,
              "#7201a8"
             ],
             [
              0.3333333333333333,
              "#9c179e"
             ],
             [
              0.4444444444444444,
              "#bd3786"
             ],
             [
              0.5555555555555556,
              "#d8576b"
             ],
             [
              0.6666666666666666,
              "#ed7953"
             ],
             [
              0.7777777777777778,
              "#fb9f3a"
             ],
             [
              0.8888888888888888,
              "#fdca26"
             ],
             [
              1,
              "#f0f921"
             ]
            ],
            "type": "heatmap"
           }
          ],
          "histogram": [
           {
            "marker": {
             "pattern": {
              "fillmode": "overlay",
              "size": 10,
              "solidity": 0.2
             }
            },
            "type": "histogram"
           }
          ],
          "histogram2d": [
           {
            "colorbar": {
             "outlinewidth": 0,
             "ticks": ""
            },
            "colorscale": [
             [
              0,
              "#0d0887"
             ],
             [
              0.1111111111111111,
              "#46039f"
             ],
             [
              0.2222222222222222,
              "#7201a8"
             ],
             [
              0.3333333333333333,
              "#9c179e"
             ],
             [
              0.4444444444444444,
              "#bd3786"
             ],
             [
              0.5555555555555556,
              "#d8576b"
             ],
             [
              0.6666666666666666,
              "#ed7953"
             ],
             [
              0.7777777777777778,
              "#fb9f3a"
             ],
             [
              0.8888888888888888,
              "#fdca26"
             ],
             [
              1,
              "#f0f921"
             ]
            ],
            "type": "histogram2d"
           }
          ],
          "histogram2dcontour": [
           {
            "colorbar": {
             "outlinewidth": 0,
             "ticks": ""
            },
            "colorscale": [
             [
              0,
              "#0d0887"
             ],
             [
              0.1111111111111111,
              "#46039f"
             ],
             [
              0.2222222222222222,
              "#7201a8"
             ],
             [
              0.3333333333333333,
              "#9c179e"
             ],
             [
              0.4444444444444444,
              "#bd3786"
             ],
             [
              0.5555555555555556,
              "#d8576b"
             ],
             [
              0.6666666666666666,
              "#ed7953"
             ],
             [
              0.7777777777777778,
              "#fb9f3a"
             ],
             [
              0.8888888888888888,
              "#fdca26"
             ],
             [
              1,
              "#f0f921"
             ]
            ],
            "type": "histogram2dcontour"
           }
          ],
          "mesh3d": [
           {
            "colorbar": {
             "outlinewidth": 0,
             "ticks": ""
            },
            "type": "mesh3d"
           }
          ],
          "parcoords": [
           {
            "line": {
             "colorbar": {
              "outlinewidth": 0,
              "ticks": ""
             }
            },
            "type": "parcoords"
           }
          ],
          "pie": [
           {
            "automargin": true,
            "type": "pie"
           }
          ],
          "scatter": [
           {
            "fillpattern": {
             "fillmode": "overlay",
             "size": 10,
             "solidity": 0.2
            },
            "type": "scatter"
           }
          ],
          "scatter3d": [
           {
            "line": {
             "colorbar": {
              "outlinewidth": 0,
              "ticks": ""
             }
            },
            "marker": {
             "colorbar": {
              "outlinewidth": 0,
              "ticks": ""
             }
            },
            "type": "scatter3d"
           }
          ],
          "scattercarpet": [
           {
            "marker": {
             "colorbar": {
              "outlinewidth": 0,
              "ticks": ""
             }
            },
            "type": "scattercarpet"
           }
          ],
          "scattergeo": [
           {
            "marker": {
             "colorbar": {
              "outlinewidth": 0,
              "ticks": ""
             }
            },
            "type": "scattergeo"
           }
          ],
          "scattergl": [
           {
            "marker": {
             "colorbar": {
              "outlinewidth": 0,
              "ticks": ""
             }
            },
            "type": "scattergl"
           }
          ],
          "scattermap": [
           {
            "marker": {
             "colorbar": {
              "outlinewidth": 0,
              "ticks": ""
             }
            },
            "type": "scattermap"
           }
          ],
          "scattermapbox": [
           {
            "marker": {
             "colorbar": {
              "outlinewidth": 0,
              "ticks": ""
             }
            },
            "type": "scattermapbox"
           }
          ],
          "scatterpolar": [
           {
            "marker": {
             "colorbar": {
              "outlinewidth": 0,
              "ticks": ""
             }
            },
            "type": "scatterpolar"
           }
          ],
          "scatterpolargl": [
           {
            "marker": {
             "colorbar": {
              "outlinewidth": 0,
              "ticks": ""
             }
            },
            "type": "scatterpolargl"
           }
          ],
          "scatterternary": [
           {
            "marker": {
             "colorbar": {
              "outlinewidth": 0,
              "ticks": ""
             }
            },
            "type": "scatterternary"
           }
          ],
          "surface": [
           {
            "colorbar": {
             "outlinewidth": 0,
             "ticks": ""
            },
            "colorscale": [
             [
              0,
              "#0d0887"
             ],
             [
              0.1111111111111111,
              "#46039f"
             ],
             [
              0.2222222222222222,
              "#7201a8"
             ],
             [
              0.3333333333333333,
              "#9c179e"
             ],
             [
              0.4444444444444444,
              "#bd3786"
             ],
             [
              0.5555555555555556,
              "#d8576b"
             ],
             [
              0.6666666666666666,
              "#ed7953"
             ],
             [
              0.7777777777777778,
              "#fb9f3a"
             ],
             [
              0.8888888888888888,
              "#fdca26"
             ],
             [
              1,
              "#f0f921"
             ]
            ],
            "type": "surface"
           }
          ],
          "table": [
           {
            "cells": {
             "fill": {
              "color": "#EBF0F8"
             },
             "line": {
              "color": "white"
             }
            },
            "header": {
             "fill": {
              "color": "#C8D4E3"
             },
             "line": {
              "color": "white"
             }
            },
            "type": "table"
           }
          ]
         },
         "layout": {
          "annotationdefaults": {
           "arrowcolor": "#2a3f5f",
           "arrowhead": 0,
           "arrowwidth": 1
          },
          "autotypenumbers": "strict",
          "coloraxis": {
           "colorbar": {
            "outlinewidth": 0,
            "ticks": ""
           }
          },
          "colorscale": {
           "diverging": [
            [
             0,
             "#8e0152"
            ],
            [
             0.1,
             "#c51b7d"
            ],
            [
             0.2,
             "#de77ae"
            ],
            [
             0.3,
             "#f1b6da"
            ],
            [
             0.4,
             "#fde0ef"
            ],
            [
             0.5,
             "#f7f7f7"
            ],
            [
             0.6,
             "#e6f5d0"
            ],
            [
             0.7,
             "#b8e186"
            ],
            [
             0.8,
             "#7fbc41"
            ],
            [
             0.9,
             "#4d9221"
            ],
            [
             1,
             "#276419"
            ]
           ],
           "sequential": [
            [
             0,
             "#0d0887"
            ],
            [
             0.1111111111111111,
             "#46039f"
            ],
            [
             0.2222222222222222,
             "#7201a8"
            ],
            [
             0.3333333333333333,
             "#9c179e"
            ],
            [
             0.4444444444444444,
             "#bd3786"
            ],
            [
             0.5555555555555556,
             "#d8576b"
            ],
            [
             0.6666666666666666,
             "#ed7953"
            ],
            [
             0.7777777777777778,
             "#fb9f3a"
            ],
            [
             0.8888888888888888,
             "#fdca26"
            ],
            [
             1,
             "#f0f921"
            ]
           ],
           "sequentialminus": [
            [
             0,
             "#0d0887"
            ],
            [
             0.1111111111111111,
             "#46039f"
            ],
            [
             0.2222222222222222,
             "#7201a8"
            ],
            [
             0.3333333333333333,
             "#9c179e"
            ],
            [
             0.4444444444444444,
             "#bd3786"
            ],
            [
             0.5555555555555556,
             "#d8576b"
            ],
            [
             0.6666666666666666,
             "#ed7953"
            ],
            [
             0.7777777777777778,
             "#fb9f3a"
            ],
            [
             0.8888888888888888,
             "#fdca26"
            ],
            [
             1,
             "#f0f921"
            ]
           ]
          },
          "colorway": [
           "#636efa",
           "#EF553B",
           "#00cc96",
           "#ab63fa",
           "#FFA15A",
           "#19d3f3",
           "#FF6692",
           "#B6E880",
           "#FF97FF",
           "#FECB52"
          ],
          "font": {
           "color": "#2a3f5f"
          },
          "geo": {
           "bgcolor": "white",
           "lakecolor": "white",
           "landcolor": "#E5ECF6",
           "showlakes": true,
           "showland": true,
           "subunitcolor": "white"
          },
          "hoverlabel": {
           "align": "left"
          },
          "hovermode": "closest",
          "mapbox": {
           "style": "light"
          },
          "paper_bgcolor": "white",
          "plot_bgcolor": "#E5ECF6",
          "polar": {
           "angularaxis": {
            "gridcolor": "white",
            "linecolor": "white",
            "ticks": ""
           },
           "bgcolor": "#E5ECF6",
           "radialaxis": {
            "gridcolor": "white",
            "linecolor": "white",
            "ticks": ""
           }
          },
          "scene": {
           "xaxis": {
            "backgroundcolor": "#E5ECF6",
            "gridcolor": "white",
            "gridwidth": 2,
            "linecolor": "white",
            "showbackground": true,
            "ticks": "",
            "zerolinecolor": "white"
           },
           "yaxis": {
            "backgroundcolor": "#E5ECF6",
            "gridcolor": "white",
            "gridwidth": 2,
            "linecolor": "white",
            "showbackground": true,
            "ticks": "",
            "zerolinecolor": "white"
           },
           "zaxis": {
            "backgroundcolor": "#E5ECF6",
            "gridcolor": "white",
            "gridwidth": 2,
            "linecolor": "white",
            "showbackground": true,
            "ticks": "",
            "zerolinecolor": "white"
           }
          },
          "shapedefaults": {
           "line": {
            "color": "#2a3f5f"
           }
          },
          "ternary": {
           "aaxis": {
            "gridcolor": "white",
            "linecolor": "white",
            "ticks": ""
           },
           "baxis": {
            "gridcolor": "white",
            "linecolor": "white",
            "ticks": ""
           },
           "bgcolor": "#E5ECF6",
           "caxis": {
            "gridcolor": "white",
            "linecolor": "white",
            "ticks": ""
           }
          },
          "title": {
           "x": 0.05
          },
          "xaxis": {
           "automargin": true,
           "gridcolor": "white",
           "linecolor": "white",
           "ticks": "",
           "title": {
            "standoff": 15
           },
           "zerolinecolor": "white",
           "zerolinewidth": 2
          },
          "yaxis": {
           "automargin": true,
           "gridcolor": "white",
           "linecolor": "white",
           "ticks": "",
           "title": {
            "standoff": 15
           },
           "zerolinecolor": "white",
           "zerolinewidth": 2
          }
         }
        },
        "title": {
         "text": "Base Predictor (steel) Residual Analysis"
        },
        "width": 1200,
        "xaxis": {
         "anchor": "y",
         "domain": [
          0,
          0.45
         ],
         "title": {
          "text": "Predicted Values"
         }
        },
        "xaxis2": {
         "anchor": "y2",
         "domain": [
          0.55,
          1
         ],
         "title": {
          "text": "Residuals"
         }
        },
        "xaxis3": {
         "anchor": "y3",
         "domain": [
          0,
          0.45
         ],
         "title": {
          "text": "Theoretical Quantiles"
         }
        },
        "xaxis4": {
         "anchor": "y4",
         "domain": [
          0.55,
          1
         ],
         "title": {
          "text": "Actual Values"
         }
        },
        "yaxis": {
         "anchor": "x",
         "domain": [
          0.625,
          1
         ],
         "title": {
          "text": "Residuals"
         }
        },
        "yaxis2": {
         "anchor": "x2",
         "domain": [
          0.625,
          1
         ],
         "title": {
          "text": "Density"
         }
        },
        "yaxis3": {
         "anchor": "x3",
         "domain": [
          0,
          0.375
         ],
         "title": {
          "text": "Sample Quantiles"
         }
        },
        "yaxis4": {
         "anchor": "x4",
         "domain": [
          0,
          0.375
         ],
         "title": {
          "text": "Predicted Values"
         }
        }
       }
      }
     },
     "metadata": {},
     "output_type": "display_data"
    },
    {
     "name": "stdout",
     "output_type": "stream",
     "text": [
      "\n",
      "Metrics for steel predictor:\n",
      "RMSE: 93681.03\n",
      "MAE: 29119.06\n",
      "R² Score: 0.76\n",
      "MAPE: 37.25%\n",
      "SMAPE: 41.29%\n",
      "Within 10% error: 23.6%\n",
      "Within 20% error: 34.7%\n",
      "\n",
      "Processing rebar predictor...\n"
     ]
    },
    {
     "data": {
      "application/vnd.plotly.v1+json": {
       "config": {
        "plotlyServerURL": "https://plot.ly"
       },
       "data": [
        {
         "customdata": {
          "bdata": "MsmGbEB5FUEAAAAAAF25QAAAAAAAqt5AAAAAAORAEkEAAAAAeP8WQQAAAADE7CFBAAAAANBE/UAAAAAAwD4MQQAAAABU9xRBAAAAAELGIEEAAAAAFB8TQQAAAABwNhRBAAAAAPC/GEHZe4kbFeL0QAAAAAAQ0/5AAAAAAEh5B0EAAAAAAIiDQDMzMzMzkZ9AAAAAAECbPkEAAAAAUCryQAAAAAAA0stAAAAAAPWMQEEAAAAAwJsWQQAAAACA0dNAAAAAACgAB0FSuB6F6xGxQAAAAAAA37BA0wDeAkk+o0AAAAAAUGv1QAAAAADA8QFBAAAAAMCw0UAAAAAA4Jn0QAAAAACAXfhAAAAAAAC8y0AAAAAAANLLQAAAAACQ7jZBAAAAAMCz5EAAAAAAABfxQAAAAADoTAdBAAAAAGD3AUEAAAAAAOf4QAAAAABcBjlBAAAAAAAUwEAAAAAAmIIWQZR3XYWIwvFAAAAAAEDt3EAAAAAAMHn3QAAAAAAAYHdAAAAAAEBz3UAxv74/Y28nQQAAAADYEPNAAAAAAAAklEAAAAAAAGBwQAAAAAAAQJhAMzMzM+MZ4UAAAAAAkLzyQAAAAACg2udAAAAAAID22kAAAAAAwLDRQAAAAABk4C5BAAAAAChzCkEAAAAAglohQQAAAAAwuSZB898eytgtuEAAAAAAQBjqQAAAAACAEeNAmpmZmSk9AUEAAAAAgO8CQQXFFTdyDrdAMzMzM/PStkAAAAAA2NUZQQAAAACURgNB",
          "dtype": "f8",
          "shape": "72, 1"
         },
         "hovertemplate": "Predicted: %{x:.2f}<br>Residual: %{y:.2f}<br>Actual: %{customdata[0]:.2f}<br><extra></extra>",
         "mode": "markers",
         "name": "Residuals",
         "type": "scatter",
         "x": {
          "bdata": "BkeqSN4O8kRhJ+NGWlOtSOlexkhiDPJIH4/3R1mgeEdsI7ZIR4/rSNo7hkjj+ZlIvgepSMvoxUa1eRhIEnc4SP6QjkSZpB5FpU3NSbHBhEfKLatGt7QCSlfyu0izQqhGTqeFSMo8wkSONKxFnoEmRA1DhUfizhlI/+SbRvsLjEfG29RHuUTQRyQdg0Ym2QNKa8DyRhfUXEfUsF9IqVodSHB900eE9atJQWvlQwCEpkir9EBHvHoAR8QB10eQs99DU+GxRuhWLEmQkJpHveGIRLsGvUMexTVGKSUdR8K0G0cS+VRH/ptCR3N0tUYNmoZJ0DZUSNOFF0ns4hVJodlFRCuzoUaN2UtH0JfeRzeCJ0ienX5DZpUERgKmqkhHpdRH",
          "dtype": "f4"
         },
         "xaxis": "x",
         "y": {
          "bdata": "AJlkQ9YvqEAAAAAQicyxQAAAAACfKKJAAAAAADpM68AAAAAAUsbcwAAAAADvX/ZAAAAAAD7RusAAAAA4vXkEQQAAAACY0dzAAAAAgGxq8EAAAAAAxrziQAAAAAB05s5AAAAAAML37ECy9xKHnWXtQAAAAAB1Ld3AAAAAAHCZqkAAAACAPxyAwJqZmRnmL4DAAAAAgC3GE0EAAAAAniG5QAAAAADl8r3AAAAAABAv20AAAAAAXFHMwAAAAABmbZPAAAAAAFfT9MCkcD1qCgCmQAAAAABHnpLApgG8JXgUnEAAAACAuQvTQAAAAADEgcTAAAAAAP69nMAAAAAABcPIQAAAAADG78HAAAAAIBeR9sAAAAAAJNWjwAAAAABzDyTBAAAAQOUexkAAAACA9E3KQAAAAADKpOLAAAAAAFI/y8AAAAAA4Iq4wAAAAABcPQxBAAAAfildvkAAAAAAgCHbQFDedVX3zNZAAAAAAHiLqcAAAAAARDjLwAAAAADIWVLAAAAAgFbcvEAQ8+v7Y0juQAAAAACATpDAAAAAAEM+aEAAAACAXQNdwAAAAMCjsMPAaGZmZg9WtMAAAADAhwLiQAAAAAASJLbAAAAAgH+w1cAAAACAOfezwAAAAAD6MPbAAAAAAACyg8AAAAAAhmPpwAAAAACU5v9A898eRnIWtUAAAACgGvrfQAAAAIDGpsnA0MzMzGSd2kAAAAAANwbQwAXFFZnUD7ZAmpmZmcykpMAAAAAAXwTyQAAAAED+8OdA",
          "dtype": "f8"
         },
         "yaxis": "y"
        },
        {
         "histnorm": "probability density",
         "name": "Residual Dist",
         "nbinsx": 50,
         "type": "histogram",
         "x": {
          "bdata": "AJlkQ9YvqEAAAAAQicyxQAAAAACfKKJAAAAAADpM68AAAAAAUsbcwAAAAADvX/ZAAAAAAD7RusAAAAA4vXkEQQAAAACY0dzAAAAAgGxq8EAAAAAAxrziQAAAAAB05s5AAAAAAML37ECy9xKHnWXtQAAAAAB1Ld3AAAAAAHCZqkAAAACAPxyAwJqZmRnmL4DAAAAAgC3GE0EAAAAAniG5QAAAAADl8r3AAAAAABAv20AAAAAAXFHMwAAAAABmbZPAAAAAAFfT9MCkcD1qCgCmQAAAAABHnpLApgG8JXgUnEAAAACAuQvTQAAAAADEgcTAAAAAAP69nMAAAAAABcPIQAAAAADG78HAAAAAIBeR9sAAAAAAJNWjwAAAAABzDyTBAAAAQOUexkAAAACA9E3KQAAAAADKpOLAAAAAAFI/y8AAAAAA4Iq4wAAAAABcPQxBAAAAfildvkAAAAAAgCHbQFDedVX3zNZAAAAAAHiLqcAAAAAARDjLwAAAAADIWVLAAAAAgFbcvEAQ8+v7Y0juQAAAAACATpDAAAAAAEM+aEAAAACAXQNdwAAAAMCjsMPAaGZmZg9WtMAAAADAhwLiQAAAAAASJLbAAAAAgH+w1cAAAACAOfezwAAAAAD6MPbAAAAAAACyg8AAAAAAhmPpwAAAAACU5v9A898eRnIWtUAAAACgGvrfQAAAAIDGpsnA0MzMzGSd2kAAAAAANwbQwAXFFZnUD7ZAmpmZmcykpMAAAAAAXwTyQAAAAED+8OdA",
          "dtype": "f8"
         },
         "xaxis": "x2",
         "yaxis": "y2"
        },
        {
         "line": {
          "color": "red"
         },
         "mode": "lines",
         "name": "KDE",
         "type": "scatter",
         "x": {
          "bdata": "AAAAAHMPJMGrqqpqAsIjwVVVVdWRdCPBAAAAQCEnI8GrqqqqsNkiwVVVVRVAjCLBAAAAgM8+IsGrqqrqXvEhwVVVVVXuoyHBAAAAwH1WIcGrqqoqDQkhwVVVVZWcuyDBAAAAACxuIMGrqqpquyAgwauqqqqVph/BAAAAgLQLH8FWVVVV03Aewauqqiry1R3BAAAAABE7HcFWVVXVL6AcwauqqqpOBRzBAAAAgG1qG8FWVVVVjM8awauqqiqrNBrBAAAAAMqZGcFWVVXV6P4YwauqqqoHZBjBAAAAgCbJF8FWVVVVRS4XwauqqipkkxbBAAAAAIP4FcFWVVXVoV0VwauqqqrAwhTBAAAAgN8nFMFWVVVV/owTwauqqiod8hLBAAAAADxXEsFWVVXVWrwRwauqqqp5IRHBAAAAgJiGEMGsqqqqbtcPwVZVVVWsoQ7BAAAAAOprDcGsqqqqJzYMwVZVVVVlAAvBAAAAAKPKCcGsqqqq4JQIwVZVVVUeXwfBAAAAAFwpBsGsqqqqmfMEwVZVVVXXvQPBAgAAABWIAsGsqqqqUlIBwVhVVVWQHADBAAAAAJzN/cBYVVVVF2L7wLCqqqqS9vjAAAAAAA6L9sBYVVVViR/0wLCqqqoEtPHAAAAAAACR7sCwqqqq9rnpwGBVVVXt4uTAAAAAAOQL4MBgVVVVtWnWwIBVVVVFd8nAAAAAAIBsqMCAqqqqCoK6QEBVVVWVTtBAAAAAAKj82UBQVVVVXdXhQKCqqqpmrOZAAAAAAHCD60CoqqqqPC3wQFBVVVXBmPJAAAAAAEYE9UCoqqqqym/3QFBVVVVP2/lAAAAAANRG/ECoqqqqWLL+QKiqqqrujgBBAAAAALHEAUFUVVVVc/oCQaiqqqo1MARBAAAAAPhlBUFUVVVVupsGQaiqqqp80QdBAAAAAD8HCUFUVVVVAT0KQaiqqqrDcgtBAAAAAIaoDEFUVVVVSN4NQaiqqqoKFA9BAAAAgOYkEEGqqqqqx78QQVRVVdWoWhFBAAAAAIr1EUGqqqoqa5ASQVRVVVVMKxNBAAAAgC3GE0E=",
          "dtype": "f8"
         },
         "xaxis": "x2",
         "y": {
          "bdata": "KJ0S1Px8gT5C4+QVAAWBPmxmJDn7X38+O00tuNNjez5J23gAiKV2PgWYStQGvHE+4Svd8oZOaj5X6+TRvXpiPgUi6SLXllg+Zbh83xz9Tj7kKIwUhX5CPsFWS5hQ6DQ+sVhjob1iJj73Nu76brMWPikonSubzQU+woxgyl3V8z234WZtbRbhPcXcb8n/4ss9jWS/nU2NtT1roJB9/oyfPeoIaZB134U9DHeVtzC5bD171FT4w9xRPZ2BBwOcCjU9jHbrJ795Fz30yCTan874PKVmQVg62dg80pDHUakCuDywa8+GnreePDtiWrGAAqk8+j+dAYe0yTxCp1HsPkPrPI3u2iQWgQs93MNVKFZLKj192P5DSNFHPbyMDrgmcWQ9rTdyzxOggD2jYU7AiaCZPckTILY4uLI9RAAtmizsyT2xGlrqEAThPVHKh+zELvU9avJQqR4DCT74ZsFTJQYcPg9yP0Lpzi0+cgzogukePj5/9IhZ+fBMPqhROEWXeVo+e2F2wsQYZz6zNNwIekJzPrtlukoky34+pbNRmwWxhz7tf+drC6CRPkaRUTwkf5k+zBezkmwIoj5SSDd+fBKpPqlO+9bYMbE+91zU3ylMtz48m+49fiS/PiVSZhvudsQ+M3Kbc5tRyj4oyRb1XXrQPiqQN86J/9M+T8sjp39v1z68b8/pOHLaPlgFEHG4r9w+QCPChdvh3T5/X5enk+PdPi9L+CzOuNw+3MVVcaOM2j73OfB3r6bXPjVV5WdHW9Q+ef4XY3P70D5jeUYvs5HLPpC1x71r38U+S9wfeU0NwT6ckrg08Um6PpC9E0jmLrQ+qOGiPGMfrz5E4RJr9E6oPrH4QqlMY6M+YafUEGTCnz7bjycSiMSaPiE++pxPLpc+6kawF1+MlD5kO6nkBI+SPkqX8dQoAJE+g7jHYeZzjz40SRSAfEGNPkUqcNJ1Qos+yRUe6hxjiT7shlcGV6WHPrvHOAw4HoY++LCfTOjrhD4XOhSy6CWEPkwTgwCOzYM+PbFvlILFgz7+/X/prtSDPv4Lzvw6tIM+HmWPmqsjgz4=",
          "dtype": "f8"
         },
         "yaxis": "y2"
        },
        {
         "hovertemplate": "Theoretical Quantile: %{x:.2f}<br>Sample Quantile: %{y:.2f}<br><extra></extra>",
         "mode": "markers",
         "name": "Q-Q Plot",
         "type": "scatter",
         "x": {
          "bdata": "sHmMgyy9AsAYUCfuaNr/vzYTVZF5kvy/8OHVZk4u+r/QDfbDQEP4vx36wWUVpPa/PWJ31Ck59b824j+dgfTzv+QtPR8dzfK/gGh839W88b8iOYs1Rb/wv0cEMIJOou+/iBD43/rf7b+cc0PbpzPsvzutHMA2muq/sgMnCh4R6b/v2x1QRZbnv07JoXjrJ+a/VGOL35PE5L8kOxBI+Grjv+NesDP+GeK/nyFYq67Q4L9gf0qnXxzfv6cK7K1/o9y/Tg2yomE12r+EzL8Cy9DXv8qmpyGddNW/IwI5p9Af07+QYJbGcdHQvy6Bjg46Ec2/L0NMA/mIyL9f+u3sigjEv6An6bjYHL+/fNGEQVAytr96cW0pT52qvzL3oG9jvJG/Wvegb2O8kT96cW0pT52qP3zRhEFQMrY/lifpuNgcvz9k+u3sigjEPzRDTAP5iMg/LoGODjoRzT+VYJbGcdHQPyYCOafQH9M/zKanIZ101T+EzL8Cy9DXP1MNsqJhNdo/qQrsrX+j3D9gf0qnXxzfP58hWKuu0OA/5F6wM/4Z4j8mOxBI+GrjP1Rji9+TxOQ/UcmheOsn5j/x2x1QRZbnP7IDJwoeEek/O60cwDaa6j+dc0PbpzPsP4gQ+N/63+0/RwQwgk6i7z8kOYs1Rb/wP4BofN/VvPE/5C09Hx3N8j844j+dgfTzPz9id9QpOfU/JPrBZRWk9j/UDfbDQEP4P/bh1WZOLvo/PxNVkXmS/D8iUCfuaNr/P7B5jIMsvQJA",
          "dtype": "f8"
         },
         "xaxis": "x3",
         "y": {
          "bdata": "AAAAAHMPJMEAAAAgF5H2wAAAAAD6MPbAAAAAAFfT9MAAAAAAOkzrwAAAAACGY+nAAAAAAMqk4sAAAAAAdS3dwAAAAACY0dzAAAAAAFLG3MAAAACAf7DVwAAAAAA3BtDAAAAAAFxRzMAAAAAAUj/LwAAAAABEOMvAAAAAgMamycAAAAAAxIHEwAAAAMCjsMPAAAAAAMbvwcAAAAAA5fK9wAAAAAA+0brAAAAAAOCKuMAAAAAAEiS2wGhmZmYPVrTAAAAAgDn3s8AAAAAAeIupwJqZmZnMpKTAAAAAACTVo8AAAAAA/r2cwAAAAABmbZPAAAAAAEeeksAAAAAAgE6QwAAAAAAAsoPAmpmZGeYvgMAAAACAPxyAwAAAAIBdA13AAAAAAMhZUsAAAAAAQz5oQKYBvCV4FJxAAAAAAJ8ookCkcD1qCgCmQACZZEPWL6hAAAAAAHCZqkAAAAAQicyxQPPfHkZyFrVABcUVmdQPtkAAAAAAniG5QAAAAIBW3LxAAAAAfildvkAAAABA5R7GQAAAAAAFw8hAAAAAgPRNykAAAAAAdObOQAAAAIC5C9NAUN51VffM1kDQzMzMZJ3aQAAAAACAIdtAAAAAABAv20AAAACgGvrfQAAAAMCHAuJAAAAAAMa84kAAAABA/vDnQAAAAADC9+xAsvcSh51l7UAQ8+v7Y0juQAAAAIBsavBAAAAAAF8E8kAAAAAA71/2QAAAAACU5v9AAAAAOL15BEEAAAAAXD0MQQAAAIAtxhNB",
          "dtype": "f8"
         },
         "yaxis": "y3"
        },
        {
         "line": {
          "color": "red",
          "dash": "dash"
         },
         "mode": "lines",
         "name": "Q-Q Line",
         "type": "scatter",
         "x": {
          "bdata": "sHmMgyy9AsCweYyDLL0CQA==",
          "dtype": "f8"
         },
         "xaxis": "x3",
         "y": {
          "bdata": "h5LzKTuUBMFdJMuM7acFQQ==",
          "dtype": "f8"
         },
         "yaxis": "y3"
        },
        {
         "customdata": {
          "bdata": "xaEXGKYo7L+ndTiIRYtRwE3Fc83qmx3Alp3pVYuxMkB3NlSnl0cfQEw7s0PPNC/Au9gtqvXnFkA/lcZUgh9SwG8Qch2FLiFAr7fFUyJ3KMCqHJgSeX8owIm5sggFHBPAmylbBL1CLcAkvzDkmZhRwCXA5TEPqjdAxEA4iS5U/L+ZmZmZCZ9UQEGBeA6eozlAgM7bKuUmMMD7J2xRI0shwKXeT8Gn6UpAHqX8CuWH9L9QjuZSOVAPQGtM2em5gRhA/yPn5MeiRkDo3L1qORxQwLIVrlnJljtAeUafSXY9UsA/s79D1jo2wGmsD431kRxAoGrtICJPJECZrhdvlQwuwBFlmRdmZyJA8dulnoRXhED3PDC5cNIxQPltEiaX3kVADLFVOIm2OsA7qIM6aD0zwNRMt1XtADRANtH+XQ71IkCEg4ODg6MYQNzRcNsuNizA9tSIUkabV8DRxUKqvyEewN9XvMo/DEDAkiURQL8TJkApaHXbc/0sQFdA425doDNARi6JYOR/OMClAtHABycgwF1XEcTOYfU/emYcKakXLsCw4oSUviVGQNvN8iSJTIRAhuBbALO6LUAWdyx+xwdIwA1GqFBgNCdAcVzDHUccVEB8DhU6Jjc8QIihSfLA9yFA/Cw7UqCd0j8v3z1nskkiQE2C671ijDHAzk3fAbvNVcCArIstrqJOwCMcZVDC0EBAYNFik2pMM8BbcL8SBiglQLt0x9Hr61fA07XxAKOcRkAWypOOPW8xwKK8ptoeDT/A",
          "dtype": "f8",
          "shape": "72, 1"
         },
         "hovertemplate": "Actual: %{x:.2f}<br>Predicted: %{y:.2f}<br>Error: %{customdata[0]:.1f}%<br><extra></extra>",
         "mode": "markers",
         "name": "Predictions",
         "type": "scatter",
         "x": {
          "bdata": "MsmGbEB5FUEAAAAAAF25QAAAAAAAqt5AAAAAAORAEkEAAAAAeP8WQQAAAADE7CFBAAAAANBE/UAAAAAAwD4MQQAAAABU9xRBAAAAAELGIEEAAAAAFB8TQQAAAABwNhRBAAAAAPC/GEHZe4kbFeL0QAAAAAAQ0/5AAAAAAEh5B0EAAAAAAIiDQDMzMzMzkZ9AAAAAAECbPkEAAAAAUCryQAAAAAAA0stAAAAAAPWMQEEAAAAAwJsWQQAAAACA0dNAAAAAACgAB0FSuB6F6xGxQAAAAAAA37BA0wDeAkk+o0AAAAAAUGv1QAAAAADA8QFBAAAAAMCw0UAAAAAA4Jn0QAAAAACAXfhAAAAAAAC8y0AAAAAAANLLQAAAAACQ7jZBAAAAAMCz5EAAAAAAABfxQAAAAADoTAdBAAAAAGD3AUEAAAAAAOf4QAAAAABcBjlBAAAAAAAUwEAAAAAAmIIWQZR3XYWIwvFAAAAAAEDt3EAAAAAAMHn3QAAAAAAAYHdAAAAAAEBz3UAxv74/Y28nQQAAAADYEPNAAAAAAAAklEAAAAAAAGBwQAAAAAAAQJhAMzMzM+MZ4UAAAAAAkLzyQAAAAACg2udAAAAAAID22kAAAAAAwLDRQAAAAABk4C5BAAAAAChzCkEAAAAAglohQQAAAAAwuSZB898eytgtuEAAAAAAQBjqQAAAAACAEeNAmpmZmSk9AUEAAAAAgO8CQQXFFTdyDrdAMzMzM/PStkAAAAAA2NUZQQAAAACURgNB",
          "dtype": "f8"
         },
         "xaxis": "x4",
         "y": {
          "bdata": "BkeqSN4O8kRhJ+NGWlOtSOlexkhiDPJIH4/3R1mgeEdsI7ZIR4/rSNo7hkjj+ZlIvgepSMvoxUa1eRhIEnc4SP6QjkSZpB5FpU3NSbHBhEfKLatGt7QCSlfyu0izQqhGTqeFSMo8wkSONKxFnoEmRA1DhUfizhlI/+SbRvsLjEfG29RHuUTQRyQdg0Ym2QNKa8DyRhfUXEfUsF9IqVodSHB900eE9atJQWvlQwCEpkir9EBHvHoAR8QB10eQs99DU+GxRuhWLEmQkJpHveGIRLsGvUMexTVGKSUdR8K0G0cS+VRH/ptCR3N0tUYNmoZJ0DZUSNOFF0ns4hVJodlFRCuzoUaN2UtH0JfeRzeCJ0ienX5DZpUERgKmqkhHpdRH",
          "dtype": "f4"
         },
         "yaxis": "y4"
        },
        {
         "line": {
          "color": "red",
          "dash": "dash"
         },
         "mode": "lines",
         "name": "Perfect Prediction",
         "type": "scatter",
         "x": [
          254.61569213867188,
          2169322
         ],
         "xaxis": "x4",
         "y": [
          254.61569213867188,
          2169322
         ],
         "yaxis": "y4"
        }
       ],
       "layout": {
        "annotations": [
         {
          "font": {
           "size": 16
          },
          "showarrow": false,
          "text": "Residuals vs Predicted",
          "x": 0.225,
          "xanchor": "center",
          "xref": "paper",
          "y": 1,
          "yanchor": "bottom",
          "yref": "paper"
         },
         {
          "font": {
           "size": 16
          },
          "showarrow": false,
          "text": "Residual Distribution",
          "x": 0.775,
          "xanchor": "center",
          "xref": "paper",
          "y": 1,
          "yanchor": "bottom",
          "yref": "paper"
         },
         {
          "font": {
           "size": 16
          },
          "showarrow": false,
          "text": "Normal Q-Q Plot",
          "x": 0.225,
          "xanchor": "center",
          "xref": "paper",
          "y": 0.375,
          "yanchor": "bottom",
          "yref": "paper"
         },
         {
          "font": {
           "size": 16
          },
          "showarrow": false,
          "text": "Predicted vs Actual",
          "x": 0.775,
          "xanchor": "center",
          "xref": "paper",
          "y": 0.375,
          "yanchor": "bottom",
          "yref": "paper"
         }
        ],
        "height": 800,
        "shapes": [
         {
          "line": {
           "color": "red",
           "dash": "dash"
          },
          "type": "line",
          "x0": 0,
          "x1": 1,
          "xref": "x domain",
          "y0": 0,
          "y1": 0,
          "yref": "y"
         }
        ],
        "showlegend": false,
        "template": {
         "data": {
          "bar": [
           {
            "error_x": {
             "color": "#2a3f5f"
            },
            "error_y": {
             "color": "#2a3f5f"
            },
            "marker": {
             "line": {
              "color": "#E5ECF6",
              "width": 0.5
             },
             "pattern": {
              "fillmode": "overlay",
              "size": 10,
              "solidity": 0.2
             }
            },
            "type": "bar"
           }
          ],
          "barpolar": [
           {
            "marker": {
             "line": {
              "color": "#E5ECF6",
              "width": 0.5
             },
             "pattern": {
              "fillmode": "overlay",
              "size": 10,
              "solidity": 0.2
             }
            },
            "type": "barpolar"
           }
          ],
          "carpet": [
           {
            "aaxis": {
             "endlinecolor": "#2a3f5f",
             "gridcolor": "white",
             "linecolor": "white",
             "minorgridcolor": "white",
             "startlinecolor": "#2a3f5f"
            },
            "baxis": {
             "endlinecolor": "#2a3f5f",
             "gridcolor": "white",
             "linecolor": "white",
             "minorgridcolor": "white",
             "startlinecolor": "#2a3f5f"
            },
            "type": "carpet"
           }
          ],
          "choropleth": [
           {
            "colorbar": {
             "outlinewidth": 0,
             "ticks": ""
            },
            "type": "choropleth"
           }
          ],
          "contour": [
           {
            "colorbar": {
             "outlinewidth": 0,
             "ticks": ""
            },
            "colorscale": [
             [
              0,
              "#0d0887"
             ],
             [
              0.1111111111111111,
              "#46039f"
             ],
             [
              0.2222222222222222,
              "#7201a8"
             ],
             [
              0.3333333333333333,
              "#9c179e"
             ],
             [
              0.4444444444444444,
              "#bd3786"
             ],
             [
              0.5555555555555556,
              "#d8576b"
             ],
             [
              0.6666666666666666,
              "#ed7953"
             ],
             [
              0.7777777777777778,
              "#fb9f3a"
             ],
             [
              0.8888888888888888,
              "#fdca26"
             ],
             [
              1,
              "#f0f921"
             ]
            ],
            "type": "contour"
           }
          ],
          "contourcarpet": [
           {
            "colorbar": {
             "outlinewidth": 0,
             "ticks": ""
            },
            "type": "contourcarpet"
           }
          ],
          "heatmap": [
           {
            "colorbar": {
             "outlinewidth": 0,
             "ticks": ""
            },
            "colorscale": [
             [
              0,
              "#0d0887"
             ],
             [
              0.1111111111111111,
              "#46039f"
             ],
             [
              0.2222222222222222,
              "#7201a8"
             ],
             [
              0.3333333333333333,
              "#9c179e"
             ],
             [
              0.4444444444444444,
              "#bd3786"
             ],
             [
              0.5555555555555556,
              "#d8576b"
             ],
             [
              0.6666666666666666,
              "#ed7953"
             ],
             [
              0.7777777777777778,
              "#fb9f3a"
             ],
             [
              0.8888888888888888,
              "#fdca26"
             ],
             [
              1,
              "#f0f921"
             ]
            ],
            "type": "heatmap"
           }
          ],
          "histogram": [
           {
            "marker": {
             "pattern": {
              "fillmode": "overlay",
              "size": 10,
              "solidity": 0.2
             }
            },
            "type": "histogram"
           }
          ],
          "histogram2d": [
           {
            "colorbar": {
             "outlinewidth": 0,
             "ticks": ""
            },
            "colorscale": [
             [
              0,
              "#0d0887"
             ],
             [
              0.1111111111111111,
              "#46039f"
             ],
             [
              0.2222222222222222,
              "#7201a8"
             ],
             [
              0.3333333333333333,
              "#9c179e"
             ],
             [
              0.4444444444444444,
              "#bd3786"
             ],
             [
              0.5555555555555556,
              "#d8576b"
             ],
             [
              0.6666666666666666,
              "#ed7953"
             ],
             [
              0.7777777777777778,
              "#fb9f3a"
             ],
             [
              0.8888888888888888,
              "#fdca26"
             ],
             [
              1,
              "#f0f921"
             ]
            ],
            "type": "histogram2d"
           }
          ],
          "histogram2dcontour": [
           {
            "colorbar": {
             "outlinewidth": 0,
             "ticks": ""
            },
            "colorscale": [
             [
              0,
              "#0d0887"
             ],
             [
              0.1111111111111111,
              "#46039f"
             ],
             [
              0.2222222222222222,
              "#7201a8"
             ],
             [
              0.3333333333333333,
              "#9c179e"
             ],
             [
              0.4444444444444444,
              "#bd3786"
             ],
             [
              0.5555555555555556,
              "#d8576b"
             ],
             [
              0.6666666666666666,
              "#ed7953"
             ],
             [
              0.7777777777777778,
              "#fb9f3a"
             ],
             [
              0.8888888888888888,
              "#fdca26"
             ],
             [
              1,
              "#f0f921"
             ]
            ],
            "type": "histogram2dcontour"
           }
          ],
          "mesh3d": [
           {
            "colorbar": {
             "outlinewidth": 0,
             "ticks": ""
            },
            "type": "mesh3d"
           }
          ],
          "parcoords": [
           {
            "line": {
             "colorbar": {
              "outlinewidth": 0,
              "ticks": ""
             }
            },
            "type": "parcoords"
           }
          ],
          "pie": [
           {
            "automargin": true,
            "type": "pie"
           }
          ],
          "scatter": [
           {
            "fillpattern": {
             "fillmode": "overlay",
             "size": 10,
             "solidity": 0.2
            },
            "type": "scatter"
           }
          ],
          "scatter3d": [
           {
            "line": {
             "colorbar": {
              "outlinewidth": 0,
              "ticks": ""
             }
            },
            "marker": {
             "colorbar": {
              "outlinewidth": 0,
              "ticks": ""
             }
            },
            "type": "scatter3d"
           }
          ],
          "scattercarpet": [
           {
            "marker": {
             "colorbar": {
              "outlinewidth": 0,
              "ticks": ""
             }
            },
            "type": "scattercarpet"
           }
          ],
          "scattergeo": [
           {
            "marker": {
             "colorbar": {
              "outlinewidth": 0,
              "ticks": ""
             }
            },
            "type": "scattergeo"
           }
          ],
          "scattergl": [
           {
            "marker": {
             "colorbar": {
              "outlinewidth": 0,
              "ticks": ""
             }
            },
            "type": "scattergl"
           }
          ],
          "scattermap": [
           {
            "marker": {
             "colorbar": {
              "outlinewidth": 0,
              "ticks": ""
             }
            },
            "type": "scattermap"
           }
          ],
          "scattermapbox": [
           {
            "marker": {
             "colorbar": {
              "outlinewidth": 0,
              "ticks": ""
             }
            },
            "type": "scattermapbox"
           }
          ],
          "scatterpolar": [
           {
            "marker": {
             "colorbar": {
              "outlinewidth": 0,
              "ticks": ""
             }
            },
            "type": "scatterpolar"
           }
          ],
          "scatterpolargl": [
           {
            "marker": {
             "colorbar": {
              "outlinewidth": 0,
              "ticks": ""
             }
            },
            "type": "scatterpolargl"
           }
          ],
          "scatterternary": [
           {
            "marker": {
             "colorbar": {
              "outlinewidth": 0,
              "ticks": ""
             }
            },
            "type": "scatterternary"
           }
          ],
          "surface": [
           {
            "colorbar": {
             "outlinewidth": 0,
             "ticks": ""
            },
            "colorscale": [
             [
              0,
              "#0d0887"
             ],
             [
              0.1111111111111111,
              "#46039f"
             ],
             [
              0.2222222222222222,
              "#7201a8"
             ],
             [
              0.3333333333333333,
              "#9c179e"
             ],
             [
              0.4444444444444444,
              "#bd3786"
             ],
             [
              0.5555555555555556,
              "#d8576b"
             ],
             [
              0.6666666666666666,
              "#ed7953"
             ],
             [
              0.7777777777777778,
              "#fb9f3a"
             ],
             [
              0.8888888888888888,
              "#fdca26"
             ],
             [
              1,
              "#f0f921"
             ]
            ],
            "type": "surface"
           }
          ],
          "table": [
           {
            "cells": {
             "fill": {
              "color": "#EBF0F8"
             },
             "line": {
              "color": "white"
             }
            },
            "header": {
             "fill": {
              "color": "#C8D4E3"
             },
             "line": {
              "color": "white"
             }
            },
            "type": "table"
           }
          ]
         },
         "layout": {
          "annotationdefaults": {
           "arrowcolor": "#2a3f5f",
           "arrowhead": 0,
           "arrowwidth": 1
          },
          "autotypenumbers": "strict",
          "coloraxis": {
           "colorbar": {
            "outlinewidth": 0,
            "ticks": ""
           }
          },
          "colorscale": {
           "diverging": [
            [
             0,
             "#8e0152"
            ],
            [
             0.1,
             "#c51b7d"
            ],
            [
             0.2,
             "#de77ae"
            ],
            [
             0.3,
             "#f1b6da"
            ],
            [
             0.4,
             "#fde0ef"
            ],
            [
             0.5,
             "#f7f7f7"
            ],
            [
             0.6,
             "#e6f5d0"
            ],
            [
             0.7,
             "#b8e186"
            ],
            [
             0.8,
             "#7fbc41"
            ],
            [
             0.9,
             "#4d9221"
            ],
            [
             1,
             "#276419"
            ]
           ],
           "sequential": [
            [
             0,
             "#0d0887"
            ],
            [
             0.1111111111111111,
             "#46039f"
            ],
            [
             0.2222222222222222,
             "#7201a8"
            ],
            [
             0.3333333333333333,
             "#9c179e"
            ],
            [
             0.4444444444444444,
             "#bd3786"
            ],
            [
             0.5555555555555556,
             "#d8576b"
            ],
            [
             0.6666666666666666,
             "#ed7953"
            ],
            [
             0.7777777777777778,
             "#fb9f3a"
            ],
            [
             0.8888888888888888,
             "#fdca26"
            ],
            [
             1,
             "#f0f921"
            ]
           ],
           "sequentialminus": [
            [
             0,
             "#0d0887"
            ],
            [
             0.1111111111111111,
             "#46039f"
            ],
            [
             0.2222222222222222,
             "#7201a8"
            ],
            [
             0.3333333333333333,
             "#9c179e"
            ],
            [
             0.4444444444444444,
             "#bd3786"
            ],
            [
             0.5555555555555556,
             "#d8576b"
            ],
            [
             0.6666666666666666,
             "#ed7953"
            ],
            [
             0.7777777777777778,
             "#fb9f3a"
            ],
            [
             0.8888888888888888,
             "#fdca26"
            ],
            [
             1,
             "#f0f921"
            ]
           ]
          },
          "colorway": [
           "#636efa",
           "#EF553B",
           "#00cc96",
           "#ab63fa",
           "#FFA15A",
           "#19d3f3",
           "#FF6692",
           "#B6E880",
           "#FF97FF",
           "#FECB52"
          ],
          "font": {
           "color": "#2a3f5f"
          },
          "geo": {
           "bgcolor": "white",
           "lakecolor": "white",
           "landcolor": "#E5ECF6",
           "showlakes": true,
           "showland": true,
           "subunitcolor": "white"
          },
          "hoverlabel": {
           "align": "left"
          },
          "hovermode": "closest",
          "mapbox": {
           "style": "light"
          },
          "paper_bgcolor": "white",
          "plot_bgcolor": "#E5ECF6",
          "polar": {
           "angularaxis": {
            "gridcolor": "white",
            "linecolor": "white",
            "ticks": ""
           },
           "bgcolor": "#E5ECF6",
           "radialaxis": {
            "gridcolor": "white",
            "linecolor": "white",
            "ticks": ""
           }
          },
          "scene": {
           "xaxis": {
            "backgroundcolor": "#E5ECF6",
            "gridcolor": "white",
            "gridwidth": 2,
            "linecolor": "white",
            "showbackground": true,
            "ticks": "",
            "zerolinecolor": "white"
           },
           "yaxis": {
            "backgroundcolor": "#E5ECF6",
            "gridcolor": "white",
            "gridwidth": 2,
            "linecolor": "white",
            "showbackground": true,
            "ticks": "",
            "zerolinecolor": "white"
           },
           "zaxis": {
            "backgroundcolor": "#E5ECF6",
            "gridcolor": "white",
            "gridwidth": 2,
            "linecolor": "white",
            "showbackground": true,
            "ticks": "",
            "zerolinecolor": "white"
           }
          },
          "shapedefaults": {
           "line": {
            "color": "#2a3f5f"
           }
          },
          "ternary": {
           "aaxis": {
            "gridcolor": "white",
            "linecolor": "white",
            "ticks": ""
           },
           "baxis": {
            "gridcolor": "white",
            "linecolor": "white",
            "ticks": ""
           },
           "bgcolor": "#E5ECF6",
           "caxis": {
            "gridcolor": "white",
            "linecolor": "white",
            "ticks": ""
           }
          },
          "title": {
           "x": 0.05
          },
          "xaxis": {
           "automargin": true,
           "gridcolor": "white",
           "linecolor": "white",
           "ticks": "",
           "title": {
            "standoff": 15
           },
           "zerolinecolor": "white",
           "zerolinewidth": 2
          },
          "yaxis": {
           "automargin": true,
           "gridcolor": "white",
           "linecolor": "white",
           "ticks": "",
           "title": {
            "standoff": 15
           },
           "zerolinecolor": "white",
           "zerolinewidth": 2
          }
         }
        },
        "title": {
         "text": "Base Predictor (rebar) Residual Analysis"
        },
        "width": 1200,
        "xaxis": {
         "anchor": "y",
         "domain": [
          0,
          0.45
         ],
         "title": {
          "text": "Predicted Values"
         }
        },
        "xaxis2": {
         "anchor": "y2",
         "domain": [
          0.55,
          1
         ],
         "title": {
          "text": "Residuals"
         }
        },
        "xaxis3": {
         "anchor": "y3",
         "domain": [
          0,
          0.45
         ],
         "title": {
          "text": "Theoretical Quantiles"
         }
        },
        "xaxis4": {
         "anchor": "y4",
         "domain": [
          0.55,
          1
         ],
         "title": {
          "text": "Actual Values"
         }
        },
        "yaxis": {
         "anchor": "x",
         "domain": [
          0.625,
          1
         ],
         "title": {
          "text": "Residuals"
         }
        },
        "yaxis2": {
         "anchor": "x2",
         "domain": [
          0.625,
          1
         ],
         "title": {
          "text": "Density"
         }
        },
        "yaxis3": {
         "anchor": "x3",
         "domain": [
          0,
          0.375
         ],
         "title": {
          "text": "Sample Quantiles"
         }
        },
        "yaxis4": {
         "anchor": "x4",
         "domain": [
          0,
          0.375
         ],
         "title": {
          "text": "Predicted Values"
         }
        }
       }
      }
     },
     "metadata": {},
     "output_type": "display_data"
    },
    {
     "name": "stdout",
     "output_type": "stream",
     "text": [
      "\n",
      "Metrics for rebar predictor:\n",
      "RMSE: 99425.73\n",
      "MAE: 41556.45\n",
      "R² Score: 0.95\n",
      "MAPE: 44.03%\n",
      "SMAPE: 17.81%\n",
      "Within 10% error: 29.2%\n",
      "Within 20% error: 58.3%\n",
      "Index of X_test:\n",
      "Index([514, 400, 212, 250, 444, 443, 225, 217,  84, 446,  49, 120,  86, 663,\n",
      "       524, 623,  63, 410, 319, 338, 473, 210, 553, 523,  81, 689,  65, 709,\n",
      "       296, 361,  39, 148, 289, 677, 198, 118, 131, 242, 155, 618, 543, 211,\n",
      "       655,  72, 441, 336, 531, 596,  54, 589, 331, 601,  77, 262, 534,  10,\n",
      "       368, 671, 359, 135, 145, 305, 451, 643, 600, 672, 402, 136, 426, 341,\n",
      "       387, 316],\n",
      "      dtype='int64')\n",
      "First 5 indices:\n",
      "Index([514, 400, 212, 250, 444], dtype='int64')\n",
      "\n",
      "Test Set Evaluation:\n"
     ]
    },
    {
     "data": {
      "application/vnd.plotly.v1+json": {
       "config": {
        "plotlyServerURL": "https://plot.ly"
       },
       "data": [
        {
         "histnorm": "probability density",
         "name": "Error Distribution",
         "nbinsx": 50,
         "type": "histogram",
         "x": {
          "bdata": "ET85eupdJkD402oM5I9GQHAW+p/R3gRAxqtDORCFF0AgTU2LrxkiQHKn8kwtBBJAM3cCEz09+T8GIiwHGdtLQG2qqYGzxu8/Fp5BYcv9H0AUoeLj8uAkQPJ/ndy5CiFA9cS3x8VdBkCk9pWwalIhQJi5Irrfpx5A+8+z+zd+JEDMZqLVTf4JQI0E9bhzMiFAG4GKx4DpQUAnqxQfKljyP7WLV90PGClAmJHpAHE9BUBWlxukzmTkP7yS+0wIjABAZH7qceVBKUDk+y8qW+ZAQE8xNMYWtFVAW0AmAhMlS0CBP6ObVvgpQEtecThBQAtAp4nXwb3NA0DL7LfvcrsdQKb99GtYYhJAtkTGoNOkZkAPgy/x3C4YQG9T2Z93fhJA5iLVG8qeGUDuQ/zhVID4P5zLjYp8EAZAYcnTD961FkBMjRA0haMVQKxtZpX4VxtA5pbild1XE0ABWRSTzWoxQPfuRNqVXTZA+CUC1pX5H0BdxvVJaiYBQFQWP0JGNgpAwvgSouefIUDicDP8hF8OQDrJckohCuY/FrH3fpAjIkDGUuCbU+u8Py4elEEdwD1AW9DYDyBw9T9qKialYRlCQPyzwjWkrBBAXu5oWCwVNUCoFtYXwY0QQOUKlgD5vsA/e77dsx9TIkClQxQpNQ0LQBOfNGF3SxFAXgdWwfIjMUCyY5PTtXAaQG4lnkDLU0NAe4elD2UJFkDiKRiEODn9P73QdGUzW0xAVIa+BQ83FED5GL1DNOgTQEm8avrFGEJA",
          "dtype": "f8"
         },
         "xaxis": "x",
         "yaxis": "y"
        },
        {
         "customdata": {
          "bdata": "AAAAAAAQgEAAAADgmlg2QQAAAAAAAHlAAAAAQCy+5EAAAAAAAIBqQAAAAID8cgJBAAAAAABAb0AAAADgnhg0QQAAAAAAwHtAAAAAQCrnN0EAAAAAALB7QAAAAKDc0DxBAAAAAAAgbEAAAABA3MUhQQAAAAAAIGtAAAAAYHetKEEAAAAAAABVQAAAAMDNgEBBAAAAAADge0AAAABA/F83QQAAAAAAgEhAAAAAoOyEMUEAAAAAAABeQAAAAIC9p0lBAAAAAACAVUAAAABAyBo7QQAAAAAAuIRAAAAAwG7aHEEAAAAAAGCAQAAAAACZsyxBAAAAAAB4g0AAAACguwQnQQAAAAAAgE9AAAAA4EVw30AAAAAAAKB5QAAAAODl+d1AAAAAAADwc0AAAAAAS0ZbQQAAAAAAIHVAAAAAQEtdLEEAAAAAAJB9QAAAAMBwHwlBAAAAAABAakAAAACgWLlkQQAAAAAASIFAAAAAgPz0M0EAAAAAAFiAQAAAAADjoflAAAAAAABAVEAAAAAA7fArQQAAAAAAiIVAAAAA4P5h4EAAAAAAAEBQQAAAAKDiK+1AAAAAAAAohkAAAAAgzBbTQAAAAAAAgHJAAAAAAHKUG0EAAAAAAJB2QAAAAKBj9iRBAAAAAACAQ0AAAABAwzcLQQAAAAAAgGJAAAAAoL7GEEEAAAAAABByQAAAAGAB7i5BAAAAAAAohUAAAADAPLchQQAAAAAAwGhAAAAAQOurB0EAAAAAAIBdQAAAAMA2o2JBAAAAAABgYEAAAABgDLccQQAAAAAAQG5AAAAAIAM3G0EAAAAAAGBjQAAAAODlNUhBAAAAAABQg0AAAAAAyKAlQQAAAAAA+IBAAAAAIA9fHEEAAAAAAGBqQAAAAOBfRVlBAAAAAAB4hEAAAACAn/4MQQAAAAAAAFJAAAAAgKplN0EAAAAAAJB7QAAAAICAKx1BAAAAAAAAdUAAAAAgCxwWQQAAAAAAmIBAAAAAoNKlLEEAAAAAAKCCQAAAAADHWrdAAAAAAAAAS0AAAAAAZk8DQQAAAAAAaIJAAAAAIN0jREEAAAAAALB0QAAAACDKOShBAAAAAADIgkAAAABgRevQQAAAAAAAQFNAAAAAoLsZyUAAAAAAAGBwQAAAAODmmxBBAAAAAACwgEAAAADA8rwEQQAAAAAAACRAAAAA4FfkE0EAAAAAAAB3QAAAAIAchhBBAAAAAAD4hEAAAACgZwYXQQAAAAAAcHZAAAAAQPHACkEAAAAAAOBgQAAAAKAZ/1RBAAAAAAAgYkAAAAAgHC8pQQAAAAAAEHNAAAAAwNr1RUEAAAAAADB8QAAAAICKdUdBAAAAAAAYhEAAAADA4FLwQAAAAAAAwIJAAAAAIFAdEkEAAAAAAACFQAAAAAAOoBZBAAAAAAAgeUAAAAAAPd0eQQAAAAAAAGFAAAAAYIfaJkEAAAAAAKB6QAAAACDz3dZAAAAAAABQdUAAAACADi/2QAAAAAAAMHhAAAAAoCuDNEEAAAAAAMBzQAAAAGDw5yNB",
          "dtype": "f8",
          "shape": "72, 2"
         },
         "hovertemplate": "Index: %{customdata[0]}<br>Actual: %{x:.2f}<br>Predicted: %{customdata[1]:.2f}<br>Error: %{y:.1f}%<br><extra></extra>",
         "mode": "markers",
         "name": "Errors",
         "type": "scatter",
         "x": {
          "bdata": "hJ0dFjIZNEEKeqpVHJbcQAAAAACA8QJBAAAAAAVaNUEZ/62LVOs1QYtCnObKLD5BAAAAADR/IUEAAAAANdw7QQAAAIBDV0BBo4RU/C1oOUEAAAAAso8zQQAAAICAC0xBAAAAAFviO0GEYcSi1JYfQV4OkCWRqCpBHWfK8HalKUEAAAAAAHPeQCRjQKdMmttAluKiIPo/ZUHObE4Vg7EsQbKlh+JyUgZBAAAAgAtKZUH2pV/2odQzQSAak6XpHPlAAAAAAOTOKEEcNtrXTr/oQAAAAAAAO99AJpc22mTh5EAz+7sJD7IfQXe4yoeisyVBAAAAAKDoC0EAAAAAnB8SQbs+WMu5NTBB+eVB7WM0CUEAAAAAcFIGQQAAAIBd0GFBAAAAAByuHkEAAAAAXKMbQQAAAICLj0dB8VvDT1B3JEGUSOqHUOoaQQAAAIAQIFtBxNMhjTyoC0EAAAAA7FQ8QWyCpphmySJBWq1mYc0HGEHcBUQu5wssQfyacPUYnbZAAAAAACAtBUFkFEitVu9EQVO+syNeDyhBRKRRO0ab0kAAAAAAACHJQAAAAAD4mQlBD0UIKgwFBUEAAAAAhC0fQVOP39OpuQ9BoEPK1hQEE0FQH1wVnugLQQAAAMAT+FRBAAAAAGa5K0Ealy3k+D1FQTo6ydDvhEhBPhDKYdHe60A6KuL4yf0QQQ0stiZTURBBdV5EjPRUIEEAAAAAYEcnQdUr+ci1aepAazKt9VZd90A/7NQuMpY1QWWZQ4SOMi9B",
          "dtype": "f8"
         },
         "xaxis": "x2",
         "y": {
          "bdata": "ET85eupdJkD402oM5I9GQHAW+p/R3gRAxqtDORCFF0AgTU2LrxkiQHKn8kwtBBJAM3cCEz09+T8GIiwHGdtLQG2qqYGzxu8/Fp5BYcv9H0AUoeLj8uAkQPJ/ndy5CiFA9cS3x8VdBkCk9pWwalIhQJi5Irrfpx5A+8+z+zd+JEDMZqLVTf4JQI0E9bhzMiFAG4GKx4DpQUAnqxQfKljyP7WLV90PGClAmJHpAHE9BUBWlxukzmTkP7yS+0wIjABAZH7qceVBKUDk+y8qW+ZAQE8xNMYWtFVAW0AmAhMlS0CBP6ObVvgpQEtecThBQAtAp4nXwb3NA0DL7LfvcrsdQKb99GtYYhJAtkTGoNOkZkAPgy/x3C4YQG9T2Z93fhJA5iLVG8qeGUDuQ/zhVID4P5zLjYp8EAZAYcnTD961FkBMjRA0haMVQKxtZpX4VxtA5pbild1XE0ABWRSTzWoxQPfuRNqVXTZA+CUC1pX5H0BdxvVJaiYBQFQWP0JGNgpAwvgSouefIUDicDP8hF8OQDrJckohCuY/FrH3fpAjIkDGUuCbU+u8Py4elEEdwD1AW9DYDyBw9T9qKialYRlCQPyzwjWkrBBAXu5oWCwVNUCoFtYXwY0QQOUKlgD5vsA/e77dsx9TIkClQxQpNQ0LQBOfNGF3SxFAXgdWwfIjMUCyY5PTtXAaQG4lnkDLU0NAe4elD2UJFkDiKRiEODn9P73QdGUzW0xAVIa+BQ83FED5GL1DNOgTQEm8avrFGEJA",
          "dtype": "f8"
         },
         "yaxis": "y2"
        },
        {
         "hovertemplate": "Error Threshold: %{x:.1f}%<br>Proportion Below: %{y:.1%}<br><extra></extra>",
         "mode": "lines",
         "name": "Cumulative Distribution",
         "type": "scatter",
         "x": {
          "bdata": "xlLgm1PrvD/lCpYA+b7AP1aXG6TOZOQ/OslySiEK5j9tqqmBs8bvPyerFB8qWPI/W9DYDyBw9T/uQ/zhVID4PzN3AhM9Pfk/4ikYhDg5/T+8kvtMCIwAQF3G9UlqJgFAp4nXwb3NA0BwFvqf0d4EQJiR6QBxPQVAnMuNinwQBkD1xLfHxV0GQMxmotVN/glAVBY/QkY2CkClQxQpNQ0LQEtecThBQAtA4nAz/IRfDkCoFtYXwY0QQPyzwjWkrBBAE580YXdLEUByp/JMLQQSQKb99GtYYhJAb1PZn3d+EkDmluKV3VcTQPkYvUM06BNAVIa+BQ83FEBMjRA0haMVQHuHpQ9lCRZAYcnTD961FkDGq0M5EIUXQA+DL/HcLhhA5iLVG8qeGUCyY5PTtXAaQKxtZpX4VxtAy+y373K7HUCYuSK636ceQPglAtaV+R9AFp5BYcv9H0Dyf53cuQohQI0E9bhzMiFApPaVsGpSIUDC+BKi558hQCBNTYuvGSJAFrH3fpAjIkB7vt2zH1MiQPvPs/s3fiRAFKHi4/LgJEARPzl66l0mQLWLV90PGClAZH7qceVBKUCBP6ObVvgpQF4HVsHyIzFAAVkUk81qMUBe7mhYLBU1QPfuRNqVXTZALh6UQR3APUDk+y8qW+ZAQBuBiseA6UFASbxq+sUYQkBqKialYRlCQG4lnkDLU0NA+NNqDOSPRkBbQCYCEyVLQAYiLAcZ20tAvdB0ZTNbTEBPMTTGFrRVQLZExqDTpGZA",
          "dtype": "f8"
         },
         "xaxis": "x3",
         "y": {
          "bdata": "HMdxHMdxjD8cx3Ecx3GcP1VVVVVVVaU/HMdxHMdxrD9yHMdxHMexP1VVVVVVVbU/OY7jOI7juD8cx3Ecx3G8PwAAAAAAAMA/chzHcRzHwT/kOI7jOI7DP1VVVVVVVcU/x3Ecx3Ecxz85juM4juPIP6uqqqqqqso/HMdxHMdxzD+O4ziO4zjOPwAAAAAAANA/OY7jOI7j0D9yHMdxHMfRP6uqqqqqqtI/5DiO4ziO0z8cx3Ecx3HUP1VVVVVVVdU/juM4juM41j/HcRzHcRzXPwAAAAAAANg/OY7jOI7j2D9yHMdxHMfZP6uqqqqqqto/5DiO4ziO2z8cx3Ecx3HcP1VVVVVVVd0/juM4juM43j/HcRzHcRzfPwAAAAAAAOA/HMdxHMdx4D85juM4juPgP1VVVVVVVeE/chzHcRzH4T+O4ziO4zjiP6uqqqqqquI/x3Ecx3Ec4z/kOI7jOI7jPwAAAAAAAOQ/HMdxHMdx5D85juM4juPkP1VVVVVVVeU/chzHcRzH5T+O4ziO4zjmP6uqqqqqquY/x3Ecx3Ec5z/kOI7jOI7nPwAAAAAAAOg/HMdxHMdx6D85juM4juPoP1VVVVVVVek/chzHcRzH6T+O4ziO4zjqP6uqqqqqquo/x3Ecx3Ec6z/kOI7jOI7rPwAAAAAAAOw/HMdxHMdx7D85juM4juPsP1VVVVVVVe0/chzHcRzH7T+O4ziO4zjuP6uqqqqqqu4/x3Ecx3Ec7z/kOI7jOI7vPwAAAAAAAPA/",
          "dtype": "f8"
         },
         "yaxis": "y3"
        }
       ],
       "layout": {
        "annotations": [
         {
          "font": {
           "size": 16
          },
          "showarrow": false,
          "text": "Distribution of Percentage Errors",
          "x": 0.14444444444444446,
          "xanchor": "center",
          "xref": "paper",
          "y": 1,
          "yanchor": "bottom",
          "yref": "paper"
         },
         {
          "font": {
           "size": 16
          },
          "showarrow": false,
          "text": "Percentage Errors vs Actual Values",
          "x": 0.5,
          "xanchor": "center",
          "xref": "paper",
          "y": 1,
          "yanchor": "bottom",
          "yref": "paper"
         },
         {
          "font": {
           "size": 16
          },
          "showarrow": false,
          "text": "Cumulative Distribution of Percentage Errors",
          "x": 0.8555555555555556,
          "xanchor": "center",
          "xref": "paper",
          "y": 1,
          "yanchor": "bottom",
          "yref": "paper"
         },
         {
          "showarrow": false,
          "text": "MAPE: 14.8%",
          "x": 14.797452381884463,
          "xanchor": "left",
          "xref": "x",
          "y": 1,
          "yanchor": "top",
          "yref": "y domain"
         },
         {
          "showarrow": false,
          "text": "MdAPE: 6.2%",
          "x": 6.2254162804645095,
          "xanchor": "left",
          "xref": "x",
          "y": 1,
          "yanchor": "top",
          "yref": "y domain"
         },
         {
          "showarrow": false,
          "text": "90th percentile: 36.2%",
          "x": 36.19781733463642,
          "xanchor": "left",
          "xref": "x3",
          "y": 1,
          "yanchor": "top",
          "yref": "y3 domain"
         },
         {
          "showarrow": false,
          "text": "95th percentile: 54.9%",
          "x": 54.929569007129444,
          "xanchor": "left",
          "xref": "x3",
          "y": 1,
          "yanchor": "top",
          "yref": "y3 domain"
         }
        ],
        "height": 500,
        "shapes": [
         {
          "line": {
           "color": "red",
           "dash": "dash"
          },
          "type": "line",
          "x0": 14.797452381884463,
          "x1": 14.797452381884463,
          "xref": "x",
          "y0": 0,
          "y1": 1,
          "yref": "y domain"
         },
         {
          "line": {
           "color": "green",
           "dash": "dash"
          },
          "type": "line",
          "x0": 6.2254162804645095,
          "x1": 6.2254162804645095,
          "xref": "x",
          "y0": 0,
          "y1": 1,
          "yref": "y domain"
         },
         {
          "line": {
           "color": "red",
           "dash": "dash",
           "width": 1
          },
          "opacity": 0.5,
          "type": "line",
          "x0": 0,
          "x1": 1,
          "xref": "x3 domain",
          "y0": 0.9,
          "y1": 0.9,
          "yref": "y3"
         },
         {
          "line": {
           "color": "red",
           "dash": "dash",
           "width": 1
          },
          "opacity": 0.5,
          "type": "line",
          "x0": 36.19781733463642,
          "x1": 36.19781733463642,
          "xref": "x3",
          "y0": 0,
          "y1": 1,
          "yref": "y3 domain"
         },
         {
          "line": {
           "color": "green",
           "dash": "dash",
           "width": 1
          },
          "opacity": 0.5,
          "type": "line",
          "x0": 0,
          "x1": 1,
          "xref": "x3 domain",
          "y0": 0.95,
          "y1": 0.95,
          "yref": "y3"
         },
         {
          "line": {
           "color": "green",
           "dash": "dash",
           "width": 1
          },
          "opacity": 0.5,
          "type": "line",
          "x0": 54.929569007129444,
          "x1": 54.929569007129444,
          "xref": "x3",
          "y0": 0,
          "y1": 1,
          "yref": "y3 domain"
         }
        ],
        "showlegend": false,
        "template": {
         "data": {
          "bar": [
           {
            "error_x": {
             "color": "#2a3f5f"
            },
            "error_y": {
             "color": "#2a3f5f"
            },
            "marker": {
             "line": {
              "color": "#E5ECF6",
              "width": 0.5
             },
             "pattern": {
              "fillmode": "overlay",
              "size": 10,
              "solidity": 0.2
             }
            },
            "type": "bar"
           }
          ],
          "barpolar": [
           {
            "marker": {
             "line": {
              "color": "#E5ECF6",
              "width": 0.5
             },
             "pattern": {
              "fillmode": "overlay",
              "size": 10,
              "solidity": 0.2
             }
            },
            "type": "barpolar"
           }
          ],
          "carpet": [
           {
            "aaxis": {
             "endlinecolor": "#2a3f5f",
             "gridcolor": "white",
             "linecolor": "white",
             "minorgridcolor": "white",
             "startlinecolor": "#2a3f5f"
            },
            "baxis": {
             "endlinecolor": "#2a3f5f",
             "gridcolor": "white",
             "linecolor": "white",
             "minorgridcolor": "white",
             "startlinecolor": "#2a3f5f"
            },
            "type": "carpet"
           }
          ],
          "choropleth": [
           {
            "colorbar": {
             "outlinewidth": 0,
             "ticks": ""
            },
            "type": "choropleth"
           }
          ],
          "contour": [
           {
            "colorbar": {
             "outlinewidth": 0,
             "ticks": ""
            },
            "colorscale": [
             [
              0,
              "#0d0887"
             ],
             [
              0.1111111111111111,
              "#46039f"
             ],
             [
              0.2222222222222222,
              "#7201a8"
             ],
             [
              0.3333333333333333,
              "#9c179e"
             ],
             [
              0.4444444444444444,
              "#bd3786"
             ],
             [
              0.5555555555555556,
              "#d8576b"
             ],
             [
              0.6666666666666666,
              "#ed7953"
             ],
             [
              0.7777777777777778,
              "#fb9f3a"
             ],
             [
              0.8888888888888888,
              "#fdca26"
             ],
             [
              1,
              "#f0f921"
             ]
            ],
            "type": "contour"
           }
          ],
          "contourcarpet": [
           {
            "colorbar": {
             "outlinewidth": 0,
             "ticks": ""
            },
            "type": "contourcarpet"
           }
          ],
          "heatmap": [
           {
            "colorbar": {
             "outlinewidth": 0,
             "ticks": ""
            },
            "colorscale": [
             [
              0,
              "#0d0887"
             ],
             [
              0.1111111111111111,
              "#46039f"
             ],
             [
              0.2222222222222222,
              "#7201a8"
             ],
             [
              0.3333333333333333,
              "#9c179e"
             ],
             [
              0.4444444444444444,
              "#bd3786"
             ],
             [
              0.5555555555555556,
              "#d8576b"
             ],
             [
              0.6666666666666666,
              "#ed7953"
             ],
             [
              0.7777777777777778,
              "#fb9f3a"
             ],
             [
              0.8888888888888888,
              "#fdca26"
             ],
             [
              1,
              "#f0f921"
             ]
            ],
            "type": "heatmap"
           }
          ],
          "histogram": [
           {
            "marker": {
             "pattern": {
              "fillmode": "overlay",
              "size": 10,
              "solidity": 0.2
             }
            },
            "type": "histogram"
           }
          ],
          "histogram2d": [
           {
            "colorbar": {
             "outlinewidth": 0,
             "ticks": ""
            },
            "colorscale": [
             [
              0,
              "#0d0887"
             ],
             [
              0.1111111111111111,
              "#46039f"
             ],
             [
              0.2222222222222222,
              "#7201a8"
             ],
             [
              0.3333333333333333,
              "#9c179e"
             ],
             [
              0.4444444444444444,
              "#bd3786"
             ],
             [
              0.5555555555555556,
              "#d8576b"
             ],
             [
              0.6666666666666666,
              "#ed7953"
             ],
             [
              0.7777777777777778,
              "#fb9f3a"
             ],
             [
              0.8888888888888888,
              "#fdca26"
             ],
             [
              1,
              "#f0f921"
             ]
            ],
            "type": "histogram2d"
           }
          ],
          "histogram2dcontour": [
           {
            "colorbar": {
             "outlinewidth": 0,
             "ticks": ""
            },
            "colorscale": [
             [
              0,
              "#0d0887"
             ],
             [
              0.1111111111111111,
              "#46039f"
             ],
             [
              0.2222222222222222,
              "#7201a8"
             ],
             [
              0.3333333333333333,
              "#9c179e"
             ],
             [
              0.4444444444444444,
              "#bd3786"
             ],
             [
              0.5555555555555556,
              "#d8576b"
             ],
             [
              0.6666666666666666,
              "#ed7953"
             ],
             [
              0.7777777777777778,
              "#fb9f3a"
             ],
             [
              0.8888888888888888,
              "#fdca26"
             ],
             [
              1,
              "#f0f921"
             ]
            ],
            "type": "histogram2dcontour"
           }
          ],
          "mesh3d": [
           {
            "colorbar": {
             "outlinewidth": 0,
             "ticks": ""
            },
            "type": "mesh3d"
           }
          ],
          "parcoords": [
           {
            "line": {
             "colorbar": {
              "outlinewidth": 0,
              "ticks": ""
             }
            },
            "type": "parcoords"
           }
          ],
          "pie": [
           {
            "automargin": true,
            "type": "pie"
           }
          ],
          "scatter": [
           {
            "fillpattern": {
             "fillmode": "overlay",
             "size": 10,
             "solidity": 0.2
            },
            "type": "scatter"
           }
          ],
          "scatter3d": [
           {
            "line": {
             "colorbar": {
              "outlinewidth": 0,
              "ticks": ""
             }
            },
            "marker": {
             "colorbar": {
              "outlinewidth": 0,
              "ticks": ""
             }
            },
            "type": "scatter3d"
           }
          ],
          "scattercarpet": [
           {
            "marker": {
             "colorbar": {
              "outlinewidth": 0,
              "ticks": ""
             }
            },
            "type": "scattercarpet"
           }
          ],
          "scattergeo": [
           {
            "marker": {
             "colorbar": {
              "outlinewidth": 0,
              "ticks": ""
             }
            },
            "type": "scattergeo"
           }
          ],
          "scattergl": [
           {
            "marker": {
             "colorbar": {
              "outlinewidth": 0,
              "ticks": ""
             }
            },
            "type": "scattergl"
           }
          ],
          "scattermap": [
           {
            "marker": {
             "colorbar": {
              "outlinewidth": 0,
              "ticks": ""
             }
            },
            "type": "scattermap"
           }
          ],
          "scattermapbox": [
           {
            "marker": {
             "colorbar": {
              "outlinewidth": 0,
              "ticks": ""
             }
            },
            "type": "scattermapbox"
           }
          ],
          "scatterpolar": [
           {
            "marker": {
             "colorbar": {
              "outlinewidth": 0,
              "ticks": ""
             }
            },
            "type": "scatterpolar"
           }
          ],
          "scatterpolargl": [
           {
            "marker": {
             "colorbar": {
              "outlinewidth": 0,
              "ticks": ""
             }
            },
            "type": "scatterpolargl"
           }
          ],
          "scatterternary": [
           {
            "marker": {
             "colorbar": {
              "outlinewidth": 0,
              "ticks": ""
             }
            },
            "type": "scatterternary"
           }
          ],
          "surface": [
           {
            "colorbar": {
             "outlinewidth": 0,
             "ticks": ""
            },
            "colorscale": [
             [
              0,
              "#0d0887"
             ],
             [
              0.1111111111111111,
              "#46039f"
             ],
             [
              0.2222222222222222,
              "#7201a8"
             ],
             [
              0.3333333333333333,
              "#9c179e"
             ],
             [
              0.4444444444444444,
              "#bd3786"
             ],
             [
              0.5555555555555556,
              "#d8576b"
             ],
             [
              0.6666666666666666,
              "#ed7953"
             ],
             [
              0.7777777777777778,
              "#fb9f3a"
             ],
             [
              0.8888888888888888,
              "#fdca26"
             ],
             [
              1,
              "#f0f921"
             ]
            ],
            "type": "surface"
           }
          ],
          "table": [
           {
            "cells": {
             "fill": {
              "color": "#EBF0F8"
             },
             "line": {
              "color": "white"
             }
            },
            "header": {
             "fill": {
              "color": "#C8D4E3"
             },
             "line": {
              "color": "white"
             }
            },
            "type": "table"
           }
          ]
         },
         "layout": {
          "annotationdefaults": {
           "arrowcolor": "#2a3f5f",
           "arrowhead": 0,
           "arrowwidth": 1
          },
          "autotypenumbers": "strict",
          "coloraxis": {
           "colorbar": {
            "outlinewidth": 0,
            "ticks": ""
           }
          },
          "colorscale": {
           "diverging": [
            [
             0,
             "#8e0152"
            ],
            [
             0.1,
             "#c51b7d"
            ],
            [
             0.2,
             "#de77ae"
            ],
            [
             0.3,
             "#f1b6da"
            ],
            [
             0.4,
             "#fde0ef"
            ],
            [
             0.5,
             "#f7f7f7"
            ],
            [
             0.6,
             "#e6f5d0"
            ],
            [
             0.7,
             "#b8e186"
            ],
            [
             0.8,
             "#7fbc41"
            ],
            [
             0.9,
             "#4d9221"
            ],
            [
             1,
             "#276419"
            ]
           ],
           "sequential": [
            [
             0,
             "#0d0887"
            ],
            [
             0.1111111111111111,
             "#46039f"
            ],
            [
             0.2222222222222222,
             "#7201a8"
            ],
            [
             0.3333333333333333,
             "#9c179e"
            ],
            [
             0.4444444444444444,
             "#bd3786"
            ],
            [
             0.5555555555555556,
             "#d8576b"
            ],
            [
             0.6666666666666666,
             "#ed7953"
            ],
            [
             0.7777777777777778,
             "#fb9f3a"
            ],
            [
             0.8888888888888888,
             "#fdca26"
            ],
            [
             1,
             "#f0f921"
            ]
           ],
           "sequentialminus": [
            [
             0,
             "#0d0887"
            ],
            [
             0.1111111111111111,
             "#46039f"
            ],
            [
             0.2222222222222222,
             "#7201a8"
            ],
            [
             0.3333333333333333,
             "#9c179e"
            ],
            [
             0.4444444444444444,
             "#bd3786"
            ],
            [
             0.5555555555555556,
             "#d8576b"
            ],
            [
             0.6666666666666666,
             "#ed7953"
            ],
            [
             0.7777777777777778,
             "#fb9f3a"
            ],
            [
             0.8888888888888888,
             "#fdca26"
            ],
            [
             1,
             "#f0f921"
            ]
           ]
          },
          "colorway": [
           "#636efa",
           "#EF553B",
           "#00cc96",
           "#ab63fa",
           "#FFA15A",
           "#19d3f3",
           "#FF6692",
           "#B6E880",
           "#FF97FF",
           "#FECB52"
          ],
          "font": {
           "color": "#2a3f5f"
          },
          "geo": {
           "bgcolor": "white",
           "lakecolor": "white",
           "landcolor": "#E5ECF6",
           "showlakes": true,
           "showland": true,
           "subunitcolor": "white"
          },
          "hoverlabel": {
           "align": "left"
          },
          "hovermode": "closest",
          "mapbox": {
           "style": "light"
          },
          "paper_bgcolor": "white",
          "plot_bgcolor": "#E5ECF6",
          "polar": {
           "angularaxis": {
            "gridcolor": "white",
            "linecolor": "white",
            "ticks": ""
           },
           "bgcolor": "#E5ECF6",
           "radialaxis": {
            "gridcolor": "white",
            "linecolor": "white",
            "ticks": ""
           }
          },
          "scene": {
           "xaxis": {
            "backgroundcolor": "#E5ECF6",
            "gridcolor": "white",
            "gridwidth": 2,
            "linecolor": "white",
            "showbackground": true,
            "ticks": "",
            "zerolinecolor": "white"
           },
           "yaxis": {
            "backgroundcolor": "#E5ECF6",
            "gridcolor": "white",
            "gridwidth": 2,
            "linecolor": "white",
            "showbackground": true,
            "ticks": "",
            "zerolinecolor": "white"
           },
           "zaxis": {
            "backgroundcolor": "#E5ECF6",
            "gridcolor": "white",
            "gridwidth": 2,
            "linecolor": "white",
            "showbackground": true,
            "ticks": "",
            "zerolinecolor": "white"
           }
          },
          "shapedefaults": {
           "line": {
            "color": "#2a3f5f"
           }
          },
          "ternary": {
           "aaxis": {
            "gridcolor": "white",
            "linecolor": "white",
            "ticks": ""
           },
           "baxis": {
            "gridcolor": "white",
            "linecolor": "white",
            "ticks": ""
           },
           "bgcolor": "#E5ECF6",
           "caxis": {
            "gridcolor": "white",
            "linecolor": "white",
            "ticks": ""
           }
          },
          "title": {
           "x": 0.05
          },
          "xaxis": {
           "automargin": true,
           "gridcolor": "white",
           "linecolor": "white",
           "ticks": "",
           "title": {
            "standoff": 15
           },
           "zerolinecolor": "white",
           "zerolinewidth": 2
          },
          "yaxis": {
           "automargin": true,
           "gridcolor": "white",
           "linecolor": "white",
           "ticks": "",
           "title": {
            "standoff": 15
           },
           "zerolinecolor": "white",
           "zerolinewidth": 2
          }
         }
        },
        "title": {
         "text": "Percentage Error Analysis"
        },
        "width": 1500,
        "xaxis": {
         "anchor": "y",
         "domain": [
          0,
          0.2888888888888889
         ],
         "title": {
          "text": "Percentage Error (%)"
         }
        },
        "xaxis2": {
         "anchor": "y2",
         "domain": [
          0.35555555555555557,
          0.6444444444444445
         ],
         "title": {
          "text": "Actual Values"
         }
        },
        "xaxis3": {
         "anchor": "y3",
         "domain": [
          0.7111111111111111,
          1
         ],
         "title": {
          "text": "Percentage Error (%)"
         }
        },
        "yaxis": {
         "anchor": "x",
         "domain": [
          0,
          1
         ],
         "title": {
          "text": "Density"
         }
        },
        "yaxis2": {
         "anchor": "x2",
         "domain": [
          0,
          1
         ],
         "title": {
          "text": "Percentage Error (%)"
         }
        },
        "yaxis3": {
         "anchor": "x3",
         "domain": [
          0,
          1
         ],
         "title": {
          "text": "Cumulative Proportion"
         }
        }
       }
      }
     },
     "metadata": {},
     "output_type": "display_data"
    },
    {
     "name": "stdout",
     "output_type": "stream",
     "text": [
      "\n",
      "Error Metrics:\n",
      "Mean Absolute Percentage Error (MAPE): 14.8%\n",
      "Median Absolute Percentage Error (MdAPE): 6.2%\n",
      "\n",
      "Percentile Analysis:\n",
      "90% of predictions have error below: 36.2%\n",
      "95% of predictions have error below: 54.9%\n",
      "\n",
      "Top 15 Most Important Features:\n",
      "                feature  importance\n",
      "12  concrete_prediction    0.804279\n",
      "11         GIFA (Total)    0.102519\n",
      "15     rebar_prediction    0.075607\n",
      "14     steel_prediction    0.009432\n",
      "4         Cladding Type    0.001311\n",
      "9           GIFA/Storey    0.001241\n",
      "8           unit_weight    0.001016\n",
      "13    timber_prediction    0.000831\n",
      "7     concrete_elements    0.000724\n",
      "1       Foundation Type    0.000620\n",
      "10      Max Storeys (#)    0.000599\n",
      "3   Superstructure Type    0.000581\n",
      "2     Lowest Floor Type    0.000495\n",
      "6                  Type    0.000329\n",
      "5        Project Sector    0.000255\n",
      "\n",
      "=== High Error Cases Analysis (Error > 40%) ===\n",
      "Number of high error cases: 6 out of 72 total cases\n",
      "Overpredictions: 3 cases\n",
      "Underpredictions: 3 cases\n",
      "\n",
      "=== Top 10 Worst Predictions ===\n",
      "\n",
      "Case 677 - Error: 181.2%\n",
      "Actual: 206476.5, Predicted: 580510.4\n",
      "Key features:\n",
      "- Basement?: True\n",
      "- Foundation Type: Piles (Pile Caps)\n",
      "- Lowest Floor Type: Suspended RC\n",
      "- Superstructure Type: Steel Frame/Timber\n",
      "- Cladding Type: Masonry\n",
      "- Project Sector: Cultural/Public\n",
      "- Type: Mixed New Build/Refurb\n",
      "- concrete_elements: None\n",
      "- unit_weight: Low\n",
      "- GIFA/Storey: 1057.3333333333333\n",
      "- Max Storeys (#): 6\n",
      "- GIFA (Total): 6344\n",
      "\n",
      "Case 65 - Error: 86.8%\n",
      "Actual: 31980.0, Predicted: 59743.1\n",
      "Key features:\n",
      "- Basement?: False\n",
      "- Foundation Type: Piled Ground Beams\n",
      "- Lowest Floor Type: Suspended RC\n",
      "- Superstructure Type: Masonry/Timber\n",
      "- Cladding Type: Masonry\n",
      "- Project Sector: Educational\n",
      "- Type: New Build (Brownfield)\n",
      "- concrete_elements: None\n",
      "- unit_weight: Medium\n",
      "- GIFA/Storey: 63.0\n",
      "- Max Storeys (#): 2\n",
      "- GIFA (Total): 126\n",
      "\n",
      "Case 426 - Error: 56.7%\n",
      "Actual: 54093.7, Predicted: 23415.8\n",
      "Key features:\n",
      "- Basement?: True\n",
      "- Foundation Type: Mass Pads/Strips\n",
      "- Lowest Floor Type: Ground Bearing RC\n",
      "- Superstructure Type: Timber Frame (Glulam/CLT)\n",
      "- Cladding Type: Masonry\n",
      "- Project Sector: Educational\n",
      "- Type: Mixed New Build/Refurb\n",
      "- concrete_elements: None\n",
      "- unit_weight: Low\n",
      "- GIFA/Storey: 464.0\n",
      "- Max Storeys (#): 1\n",
      "- GIFA (Total): 464\n",
      "\n",
      "Case 217 - Error: 55.7%\n",
      "Actual: 1825845.0, Predicted: 808635.7\n",
      "Key features:\n",
      "- Basement?: False\n",
      "- Foundation Type: Reinforced Pads/Strips\n",
      "- Lowest Floor Type: Ground Bearing RC\n",
      "- Superstructure Type: Steel Frame/Other\n",
      "- Cladding Type: Other\n",
      "- Project Sector: Industrial\n",
      "- Type: New Build (Brownfield)\n",
      "- concrete_elements: None\n",
      "- unit_weight: Low\n",
      "- GIFA/Storey: 3710.0\n",
      "- Max Storeys (#): 1\n",
      "- GIFA (Total): 3710\n",
      "\n",
      "Case 709 - Error: 54.3%\n",
      "Actual: 42763.2, Predicted: 19547.2\n",
      "Key features:\n",
      "- Basement?: True\n",
      "- Foundation Type: Mass Pads/Strips\n",
      "- Lowest Floor Type: Suspended Precast\n",
      "- Superstructure Type: Masonry/Timber\n",
      "- Cladding Type: Masonry\n",
      "- Project Sector: Residential (Single)\n",
      "- Type: New Build (Greenfield)\n",
      "- concrete_elements: None\n",
      "- unit_weight: Medium\n",
      "- GIFA/Storey: 71.0\n",
      "- Max Storeys (#): 3\n",
      "- GIFA (Total): 213\n",
      "\n",
      "Case 400 - Error: 45.1%\n",
      "Actual: 29272.4, Predicted: 42481.4\n",
      "Key features:\n",
      "- Basement?: True\n",
      "- Foundation Type: Mass Pads/Strips\n",
      "- Lowest Floor Type: Ground Bearing RC\n",
      "- Superstructure Type: Other\n",
      "- Cladding Type: Masonry\n",
      "- Project Sector: Educational\n",
      "- Type: Mixed New Build/Refurb\n",
      "- concrete_elements: Varies\n",
      "- unit_weight: Low\n",
      "- GIFA/Storey: 117.5\n",
      "- Max Storeys (#): 4\n",
      "- GIFA (Total): 470\n",
      "\n",
      "=== Feature Analysis ===\n",
      "\n",
      "Feature: Basement?\n",
      "Values more common in high-error cases:\n",
      "\n",
      "Feature: Foundation Type\n",
      "Values more common in high-error cases:\n",
      "- Mass Pads/Strips: 34.8% more frequent in high-error cases\n",
      "\n",
      "Feature: Lowest Floor Type\n",
      "Values more common in high-error cases:\n",
      "- Ground Bearing RC: 24.2% more frequent in high-error cases\n",
      "- Suspended Precast: 13.6% more frequent in high-error cases\n",
      "\n",
      "Feature: Superstructure Type\n",
      "Values more common in high-error cases:\n",
      "- Masonry/Timber: 28.8% more frequent in high-error cases\n",
      "- Timber Frame (Glulam/CLT): 12.1% more frequent in high-error cases\n",
      "- Other: 12.1% more frequent in high-error cases\n",
      "\n",
      "Feature: Cladding Type\n",
      "Values more common in high-error cases:\n",
      "- Masonry: 15.2% more frequent in high-error cases\n",
      "\n",
      "Feature: Project Sector\n",
      "Values more common in high-error cases:\n",
      "- Educational: 31.8% more frequent in high-error cases\n",
      "- Industrial: 12.1% more frequent in high-error cases\n",
      "\n",
      "Feature: Type\n",
      "Values more common in high-error cases:\n",
      "- Mixed New Build/Refurb: 42.4% more frequent in high-error cases\n",
      "\n",
      "Feature: concrete_elements\n",
      "Values more common in high-error cases:\n",
      "- None: 47.0% more frequent in high-error cases\n",
      "- Varies: 12.1% more frequent in high-error cases\n",
      "\n",
      "Feature: unit_weight\n",
      "Values more common in high-error cases:\n",
      "- Low: 25.8% more frequent in high-error cases\n",
      "- Medium: 16.7% more frequent in high-error cases\n",
      "\n",
      "Feature: Max Storeys (#)\n",
      "High-error mean: 2.83\n",
      "Normal cases mean: 5.11\n",
      "\n",
      "Feature: GIFA (Total)\n",
      "High-error mean: 1887.83\n",
      "Normal cases mean: 4917.55\n"
     ]
    }
   ],
   "source": [
    "import pandas as pd\n",
    "import numpy as np\n",
    "from sklearn.preprocessing import LabelEncoder, StandardScaler, RobustScaler, PowerTransformer\n",
    "from sklearn.model_selection import KFold, cross_val_score, train_test_split\n",
    "from xgboost import XGBRegressor\n",
    "from lightgbm import LGBMRegressor\n",
    "from sklearn.metrics import mean_squared_error, r2_score, mean_absolute_error\n",
    "from sklearn.linear_model import Ridge, Lasso, ElasticNet\n",
    "import matplotlib.pyplot as plt\n",
    "import seaborn as sns\n",
    "from sklearn.metrics import mean_absolute_percentage_error\n",
    "\n",
    "\n",
    "class MaterialQuantityPredictor:\n",
    "    def __init__(self, name, categorical_features=None, numerical_features=None, random_state=42):\n",
    "        \"\"\"\n",
    "        Initialize the predictor with specified features and parameters.\n",
    "        \n",
    "        Args:\n",
    "            name (str): Name of the predictor\n",
    "            categorical_features (list): List of categorical feature names\n",
    "            numerical_features (list): List of numerical feature names\n",
    "            random_state (int): Random state for reproducibility\n",
    "        \"\"\"\n",
    "        self.name = name\n",
    "        self.categorical_features = categorical_features or []\n",
    "        self.numerical_features = numerical_features or []\n",
    "        self.random_state = random_state\n",
    "        self.label_encoders = {}\n",
    "        self.scaler = None\n",
    "        self.model = None\n",
    "        self.target_transformer = None\n",
    "\n",
    "    def preprocess_data(self, X, y=None, train=True):\n",
    "        \"\"\"\n",
    "        Preprocess features and target variable if provided.\n",
    "        \n",
    "        Args:\n",
    "            X (pd.DataFrame): Feature dataset\n",
    "            y (pd.Series, optional): Target variable\n",
    "            train (bool): Whether this is for training or prediction\n",
    "            \n",
    "        Returns:\n",
    "            tuple: Processed X and y (if y was provided)\n",
    "        \"\"\"\n",
    "        X_processed = X.copy()\n",
    "        \n",
    "        # Process categorical features\n",
    "        for col in self.categorical_features:\n",
    "            if train:\n",
    "                self.label_encoders[col] = LabelEncoder()\n",
    "                X_processed[col] = self.label_encoders[col].fit_transform(X[col])\n",
    "            else:\n",
    "                X_processed[col] = self.label_encoders[col].transform(X[col])\n",
    "        \n",
    "        # Process numerical features\n",
    "        if train:\n",
    "            self.scaler = PowerTransformer(method='yeo-johnson')\n",
    "            # self.scaler = StandardScaler()\n",
    "\n",
    "            X_processed[self.numerical_features] = self.scaler.fit_transform(X[self.numerical_features])\n",
    "        else:\n",
    "            X_processed[self.numerical_features] = self.scaler.transform(X[self.numerical_features])\n",
    "\n",
    "        # Process target variable if provided\n",
    "        if y is not None:\n",
    "            if train:\n",
    "                self.target_transformer = PowerTransformer(method='yeo-johnson')\n",
    "                # self.target_transformer = StandardScaler()\n",
    "\n",
    "                y_processed = self.target_transformer.fit_transform(y.values.reshape(-1, 1)).ravel()\n",
    "            else:\n",
    "                y_processed = self.target_transformer.transform(y.values.reshape(-1, 1)).ravel()\n",
    "            return X_processed, y_processed\n",
    "            \n",
    "        return X_processed\n",
    "\n",
    "    def train(self, X, y, cv=None, test_size=None):\n",
    "        \"\"\"\n",
    "        Train the model with option for cross-validation or train-test split.\n",
    "        \n",
    "        Args:\n",
    "            X (pd.DataFrame): Feature dataset\n",
    "            y (pd.Series): Target variable\n",
    "            cv (int or sklearn.model_selection._split.BaseCrossValidator): Cross-validation splitter\n",
    "            test_size (float, optional): If provided, uses train_test split instead of CV\n",
    "        \"\"\"\n",
    "        # Preprocess the data\n",
    "        X_processed, y_processed = self.preprocess_data(X, y, train=True)\n",
    "        \n",
    "        # Initialize the model\n",
    "        if not self.model:\n",
    "            self.model = XGBRegressor(\n",
    "            n_estimators=500,\n",
    "            learning_rate=0.05,\n",
    "            max_depth=8,\n",
    "            min_child_weight=5,\n",
    "            subsample=0.9,\n",
    "            colsample_bytree=0.9,\n",
    "            random_state=self.random_state,        \n",
    "            reg_alpha = 0.3,\n",
    "        )\n",
    "\n",
    "        if cv is not None:\n",
    "            # Perform cross-validation\n",
    "            if isinstance(cv, int):\n",
    "                cv = KFold(n_splits=cv, shuffle=True, random_state=self.random_state)\n",
    "            \n",
    "            scores = []\n",
    "            fold_predictions = np.zeros_like(y_processed)\n",
    "            \n",
    "            for fold, (train_idx, val_idx) in enumerate(cv.split(X_processed)):\n",
    "                X_fold_train, X_fold_val = X_processed.iloc[train_idx], X_processed.iloc[val_idx]\n",
    "                y_fold_train, y_fold_val = y_processed[train_idx], y_processed[val_idx]\n",
    "                \n",
    "                self.model.fit(X_fold_train, y_fold_train)\n",
    "                fold_pred = self.model.predict(X_fold_val)\n",
    "                fold_predictions[val_idx] = fold_pred\n",
    "                \n",
    "                metrics = self.calculate_metrics(y_fold_val, fold_pred)\n",
    "                scores.append(metrics)\n",
    "                print(f\"\\n{self.name} Fold {fold + 1} Results:\")\n",
    "                self._print_metrics(metrics)\n",
    "            \n",
    "            # Print average CV scores\n",
    "            avg_metrics = {\n",
    "                key: np.mean([score[key] for score in scores]) \n",
    "                for key in scores[0].keys()\n",
    "            }\n",
    "            print(\"\\nAverage Cross-Validation Metrics:\")\n",
    "            self._print_metrics(avg_metrics)\n",
    "            \n",
    "            # Finally, train on full dataset\n",
    "            self.model.fit(X_processed, y_processed)\n",
    "            \n",
    "        elif test_size is not None:\n",
    "            # Perform train-test split\n",
    "            X_train, X_test, y_train, y_test = train_test_split(\n",
    "                X_processed, y_processed,\n",
    "                test_size=test_size,\n",
    "                random_state=self.random_state\n",
    "            )\n",
    "            \n",
    "            self.model.fit(X_train, y_train)\n",
    "            y_pred = self.model.predict(X_test)\n",
    "            \n",
    "            metrics = self.calculate_metrics(y_test, y_pred)\n",
    "            print(\"\\nTest Set Metrics:\")\n",
    "            self._print_metrics(metrics)\n",
    "            \n",
    "        else:\n",
    "            # Train on full dataset\n",
    "            self.model.fit(X_processed, y_processed)\n",
    "            print(\"\\nTrained on full dataset (no validation)\")\n",
    "\n",
    "    def predict(self, X):\n",
    "        \"\"\"\n",
    "        Make predictions on new data.\n",
    "        \n",
    "        Args:\n",
    "            X (pd.DataFrame): Feature dataset\n",
    "            \n",
    "        Returns:\n",
    "            np.array: Predictions\n",
    "        \"\"\"\n",
    "        if self.model is None:\n",
    "            raise ValueError(\"Model has not been trained yet. Call train() first.\")\n",
    "            \n",
    "        X_processed = self.preprocess_data(X, train=False)\n",
    "        predictions = self.model.predict(X_processed)\n",
    "        \n",
    "        # Inverse transform predictions\n",
    "        if self.target_transformer is not None:\n",
    "            predictions = self.target_transformer.inverse_transform(predictions.reshape(-1, 1)).ravel()\n",
    "            \n",
    "        return predictions\n",
    "\n",
    "    def calculate_metrics(self, y_true, y_pred):\n",
    "        \"\"\"Calculate various performance metrics.\"\"\"\n",
    "        metrics = {\n",
    "            'rmse': np.sqrt(mean_squared_error(y_true, y_pred)),\n",
    "            'mae': mean_absolute_error(y_true, y_pred),\n",
    "            'r2': r2_score(y_true, y_pred),\n",
    "            'smape': 100 * np.mean(\n",
    "                np.abs(y_pred - y_true) / (np.abs(y_true) + np.abs(y_pred) + 1e-8)\n",
    "            )\n",
    "        }\n",
    "        \n",
    "        # Calculate MAPE for non-zero values\n",
    "        non_zero_mask = y_true != 0\n",
    "        if non_zero_mask.any():\n",
    "            metrics['mape'] = np.mean(\n",
    "                np.abs((y_true[non_zero_mask] - y_pred[non_zero_mask]) / \n",
    "                      y_true[non_zero_mask])) * 100\n",
    "        else:\n",
    "            metrics['mape'] = np.nan\n",
    "        \n",
    "        # Calculate percentage within error bounds\n",
    "        percentage_errors = np.abs((y_true - y_pred) / (y_true + 1e-8)) * 100\n",
    "        metrics['within_10pct'] = np.mean(percentage_errors <= 10) * 100\n",
    "        metrics['within_20pct'] = np.mean(percentage_errors <= 20) * 100\n",
    "        \n",
    "        return metrics\n",
    "\n",
    "    def _print_metrics(self, metrics):\n",
    "        \"\"\"Print formatted metrics.\"\"\"\n",
    "        print(f\"RMSE: {metrics['rmse']:.2f}\")\n",
    "        print(f\"MAE: {metrics['mae']:.2f}\")\n",
    "        print(f\"R² Score: {metrics['r2']:.2f}\")\n",
    "        print(f\"MAPE: {metrics['mape']:.2f}%\")\n",
    "        print(f\"SMAPE: {metrics['smape']:.2f}%\")\n",
    "        print(f\"Within 10% error: {metrics['within_10pct']:.1f}%\")\n",
    "        print(f\"Within 20% error: {metrics['within_20pct']:.1f}%\")\n",
    "\n",
    "\n",
    "\n",
    "def analyze_percentage_errors(y_true, y_pred, index=None):\n",
    "    \"\"\"\n",
    "    Calculate and visualize percentage errors in predictions with interactive hover functionality\n",
    "    using Plotly\n",
    "    \n",
    "    Parameters:\n",
    "    -----------\n",
    "    y_true : array-like\n",
    "        Actual values\n",
    "    y_pred : array-like\n",
    "        Predicted values\n",
    "    index : array-like, optional\n",
    "        Index or identifier for each point. If None, will use numerical index\n",
    "    \"\"\"\n",
    "    import plotly.graph_objs as go\n",
    "    import plotly.subplots as sp\n",
    "    import numpy as np\n",
    "    \n",
    "    # Calculate percentage errors\n",
    "    percentage_errors = np.abs((y_true - y_pred) / y_true) * 100\n",
    "    \n",
    "    # Create index if not provided\n",
    "    if index is None:\n",
    "        index = np.arange(len(y_true))\n",
    "    \n",
    "    # Calculate metrics\n",
    "    mape = np.mean(percentage_errors)\n",
    "    mdape = np.median(percentage_errors)\n",
    "    p90 = np.percentile(percentage_errors, 90)\n",
    "    p95 = np.percentile(percentage_errors, 95)\n",
    "    \n",
    "    # Create figure with subplots\n",
    "    fig = sp.make_subplots(\n",
    "        rows=1, cols=3,\n",
    "        subplot_titles=(\n",
    "            'Distribution of Percentage Errors',\n",
    "            'Percentage Errors vs Actual Values',\n",
    "            'Cumulative Distribution of Percentage Errors'\n",
    "        ),\n",
    "        specs=[[{'type': 'histogram'}, {'type': 'scatter'}, {'type': 'scatter'}]]\n",
    "    )\n",
    "    \n",
    "    # 1. Percentage Error Distribution\n",
    "    fig.add_trace(\n",
    "        go.Histogram(\n",
    "            x=percentage_errors,\n",
    "            name='Error Distribution',\n",
    "            nbinsx=50,\n",
    "            histnorm='probability density'\n",
    "        ),\n",
    "        row=1, col=1\n",
    "    )\n",
    "    \n",
    "    # Add vertical lines for mean and median\n",
    "    for value, name, color in [(mape, f'MAPE: {mape:.1f}%', 'red'), \n",
    "                              (mdape, f'MdAPE: {mdape:.1f}%', 'green')]:\n",
    "        fig.add_vline(\n",
    "            x=value,\n",
    "            line_dash=\"dash\",\n",
    "            line_color=color,\n",
    "            annotation_text=name,\n",
    "            annotation_position=\"top right\",\n",
    "            row=1, col=1\n",
    "        )\n",
    "    \n",
    "    # 2. Percentage Error vs Actual Values\n",
    "    fig.add_trace(\n",
    "        go.Scatter(\n",
    "            x=y_true,\n",
    "            y=percentage_errors,\n",
    "            mode='markers',\n",
    "            name='Errors',\n",
    "            hovertemplate=(\n",
    "                'Index: %{customdata[0]}<br>' +\n",
    "                'Actual: %{x:.2f}<br>' +\n",
    "                'Predicted: %{customdata[1]:.2f}<br>' +\n",
    "                'Error: %{y:.1f}%<br>' +\n",
    "                '<extra></extra>'\n",
    "            ),\n",
    "            customdata=np.column_stack([index, y_pred])\n",
    "        ),\n",
    "        row=1, col=2\n",
    "    )\n",
    "    \n",
    "    # 3. Cumulative Distribution\n",
    "    sorted_errors = np.sort(percentage_errors)\n",
    "    cumulative = np.arange(1, len(sorted_errors) + 1) / len(sorted_errors)\n",
    "    \n",
    "    fig.add_trace(\n",
    "        go.Scatter(\n",
    "            x=sorted_errors,\n",
    "            y=cumulative,\n",
    "            mode='lines',\n",
    "            name='Cumulative Distribution',\n",
    "            hovertemplate=(\n",
    "                'Error Threshold: %{x:.1f}%<br>' +\n",
    "                'Proportion Below: %{y:.1%}<br>' +\n",
    "                '<extra></extra>'\n",
    "            )\n",
    "        ),\n",
    "        row=1, col=3\n",
    "    )\n",
    "    \n",
    "    # Add reference lines for percentiles\n",
    "    for p_value, p_name, color in [(0.90, f'90th percentile: {p90:.1f}%', 'red'),\n",
    "                                  (0.95, f'95th percentile: {p95:.1f}%', 'green')]:\n",
    "        # Horizontal line\n",
    "        fig.add_hline(\n",
    "            y=p_value,\n",
    "            line_dash=\"dash\",\n",
    "            line_color=color,\n",
    "            line_width=1,\n",
    "            opacity=0.5,\n",
    "            row=1, col=3\n",
    "        )\n",
    "        # Vertical line\n",
    "        fig.add_vline(\n",
    "            x=np.percentile(percentage_errors, p_value * 100),\n",
    "            line_dash=\"dash\",\n",
    "            line_color=color,\n",
    "            line_width=1,\n",
    "            opacity=0.5,\n",
    "            annotation_text=p_name,\n",
    "            annotation_position=\"top right\",\n",
    "            row=1, col=3\n",
    "        )\n",
    "    \n",
    "    # Update layout\n",
    "    fig.update_layout(\n",
    "        title=\"Percentage Error Analysis\",\n",
    "        showlegend=False,\n",
    "        height=500,\n",
    "        width=1500\n",
    "    )\n",
    "    \n",
    "    # Update axes labels\n",
    "    fig.update_xaxes(title_text='Percentage Error (%)', row=1, col=1)\n",
    "    fig.update_yaxes(title_text='Density', row=1, col=1)\n",
    "    \n",
    "    fig.update_xaxes(title_text='Actual Values', row=1, col=2)\n",
    "    fig.update_yaxes(title_text='Percentage Error (%)', row=1, col=2)\n",
    "    \n",
    "    fig.update_xaxes(title_text='Percentage Error (%)', row=1, col=3)\n",
    "    fig.update_yaxes(title_text='Cumulative Proportion', row=1, col=3)\n",
    "    \n",
    "    # Show the plot\n",
    "    fig.show()\n",
    "    \n",
    "    # Print summary statistics\n",
    "    print(\"\\nError Metrics:\")\n",
    "    print(f\"Mean Absolute Percentage Error (MAPE): {mape:.1f}%\")\n",
    "    print(f\"Median Absolute Percentage Error (MdAPE): {mdape:.1f}%\")\n",
    "    print(f\"\\nPercentile Analysis:\")\n",
    "    print(f\"90% of predictions have error below: {p90:.1f}%\")\n",
    "    print(f\"95% of predictions have error below: {p95:.1f}%\")\n",
    "    \n",
    "    return {\n",
    "        'mape': mape,\n",
    "        'mdape': mdape,\n",
    "        'percentage_errors': percentage_errors,\n",
    "        'p90': p90,\n",
    "        'p95': p95\n",
    "    }\n",
    "\n",
    "def create_material_predictors(df, base_features, test_size=0.1, random_state=42):\n",
    "    \"\"\"\n",
    "    Creates and trains base predictors using proper train-test split\n",
    "    \n",
    "    Args:\n",
    "        df (pd.DataFrame): Input dataframe\n",
    "        base_features (list): List of feature names\n",
    "        test_size (float): Proportion of dataset to include in the test split\n",
    "        random_state (int): Random state for reproducibility\n",
    "        \n",
    "    Returns:\n",
    "        dict: Dictionary containing trained predictors and data splits\n",
    "    \"\"\"\n",
    "    # Create the train-test split that will be used for everything\n",
    " \n",
    "    X = df[base_features].copy()\n",
    "    material_columns = [\n",
    "        'Concrete Total Usage (kg)',\n",
    "        # 'Masonry & Blockwork Total Usage (m2)',\n",
    "        'Timber Total Mass (kg)',\n",
    "        'Steel Total Mass (kg)',\n",
    "        'Rebar Total Usage (kg)',\n",
    "        'Carbon A1-A3 (kgCO2e)'\n",
    "    ]\n",
    "    y_materials = df[material_columns]\n",
    "    \n",
    "    X_train, X_test, y_train, y_test = train_test_split(\n",
    "        X, y_materials, test_size=test_size, random_state=random_state\n",
    "    )\n",
    "    \n",
    "    # Initialize and train base predictors only on training data\n",
    "    base_predictors = {}\n",
    "    \n",
    "    for material_col in material_columns[:-1]:  # Exclude carbon emissions\n",
    "        name = material_col.split()[0].lower()\n",
    "        \n",
    "        predictor = MaterialQuantityPredictor(\n",
    "            name=name,\n",
    "            categorical_features=cat_features,\n",
    "            numerical_features=num_features,\n",
    "            random_state=random_state\n",
    "        )\n",
    "        \n",
    "        # Train on training data only\n",
    "        predictor.train(X_train, y_train[material_col], cv=5)\n",
    "        base_predictors[name] = predictor\n",
    "    \n",
    "    # Get carbon emissions target\n",
    "    y_train_carbon = y_train['Carbon A1-A3 (kgCO2e)']\n",
    "    y_test_carbon = y_test['Carbon A1-A3 (kgCO2e)']\n",
    "    \n",
    "    return {\n",
    "        'base_predictors': base_predictors,\n",
    "        'X_train': X_train,\n",
    "        'X_test': X_test,\n",
    "        'y_train': y_train_carbon,\n",
    "        'y_test': y_test_carbon,\n",
    "        'y_test_materials' : y_test\n",
    "    }\n",
    "# First, in a cell at the start of your notebook, run:\n",
    "\n",
    "import matplotlib.pyplot as plt\n",
    "import numpy as np\n",
    "from scipy import stats\n",
    "import seaborn as sns\n",
    "\n",
    "def plot_residual_analysis(y_true, y_pred, title=\"Residual Analysis\"):\n",
    "    \"\"\"\n",
    "    Create interactive residual plots in Jupyter notebook\n",
    "    \n",
    "    Args:\n",
    "        y_true: Array of actual values\n",
    "        y_pred: Array of predicted values\n",
    "        title: Title for the plot\n",
    "    \"\"\"\n",
    "    # Calculate residuals\n",
    "    residuals = y_true - y_pred\n",
    "    \n",
    "    # Create figure and subplots\n",
    "    fig, axes = plt.subplots(1, 4, figsize=(20, 5))\n",
    "    plt.suptitle(title, y=1.05)\n",
    "    \n",
    "    # Create annotation objects for interactive plots\n",
    "    annot_residuals = axes[0].annotate(\"\", \n",
    "        xy=(0,0), \n",
    "        xytext=(10,10),\n",
    "        textcoords=\"offset points\",\n",
    "        bbox=dict(boxstyle=\"round\", fc=\"w\", ec=\"0.5\", alpha=0.9),\n",
    "        arrowprops=dict(arrowstyle=\"->\")\n",
    "    )\n",
    "    annot_residuals.set_visible(False)\n",
    "\n",
    "    annot_actual = axes[3].annotate(\"\", \n",
    "        xy=(0,0), \n",
    "        xytext=(10,10),\n",
    "        textcoords=\"offset points\",\n",
    "        bbox=dict(boxstyle=\"round\", fc=\"w\", ec=\"0.5\", alpha=0.9),\n",
    "        arrowprops=dict(arrowstyle=\"->\")\n",
    "    )\n",
    "    annot_actual.set_visible(False)\n",
    "    \n",
    "    # 1. Residuals vs Predicted\n",
    "    scatter_residuals = axes[0].scatter(y_pred, residuals, alpha=0.5, s=20)\n",
    "    axes[0].axhline(y=0, color='r', linestyle='--')\n",
    "    axes[0].set_xlabel('Predicted Values')\n",
    "    axes[0].set_ylabel('Residuals')\n",
    "    axes[0].set_title('Residuals vs Predicted')\n",
    "    \n",
    "    # 2. Residual Distribution\n",
    "    sns.histplot(data=residuals, kde=True, ax=axes[1])\n",
    "    axes[1].set_xlabel('Residuals')\n",
    "    axes[1].set_ylabel('Count')\n",
    "    axes[1].set_title('Residual Distribution')\n",
    "    \n",
    "    # 3. QQ Plot\n",
    "    stats.probplot(residuals, dist=\"norm\", plot=axes[2])\n",
    "    axes[2].set_title('Normal Q-Q Plot')\n",
    "    \n",
    "    # 4. Predicted vs Actual\n",
    "    scatter_actual = axes[3].scatter(y_true, y_pred, alpha=0.5, s=20)\n",
    "    min_val = min(min(y_true), min(y_pred))\n",
    "    max_val = max(max(y_true), max(y_pred))\n",
    "    axes[3].plot([min_val, max_val], [min_val, max_val], 'r--')\n",
    "    axes[3].set_xlabel('Actual Values')\n",
    "    axes[3].set_ylabel('Predicted Values')\n",
    "    axes[3].set_title('Predicted vs Actual')\n",
    "    \n",
    "    def hover(event):\n",
    "        if event.inaxes == axes[0]:\n",
    "            cont, ind = scatter_residuals.contains(event)\n",
    "            annot = annot_residuals\n",
    "            if cont:\n",
    "                pos = scatter_residuals.get_offsets()[ind[\"ind\"][0]]\n",
    "                annot.xy = pos\n",
    "                idx = ind[\"ind\"][0]\n",
    "                text = (f'Predicted: {y_pred[idx]:.2f}\\n'\n",
    "                       f'Residual: {residuals[idx]:.2f}\\n'\n",
    "                       f'Actual: {y_true[idx]:.2f}')\n",
    "                annot.set_text(text)\n",
    "                annot.set_visible(True)\n",
    "            else:\n",
    "                annot.set_visible(False)\n",
    "        \n",
    "        elif event.inaxes == axes[3]:\n",
    "            cont, ind = scatter_actual.contains(event)\n",
    "            annot = annot_actual\n",
    "            if cont:\n",
    "                pos = scatter_actual.get_offsets()[ind[\"ind\"][0]]\n",
    "                annot.xy = pos\n",
    "                idx = ind[\"ind\"][0]\n",
    "                text = (f'Actual: {y_true[idx]:.2f}\\n'\n",
    "                       f'Predicted: {y_pred[idx]:.2f}\\n'\n",
    "                       f'Error: {((y_pred[idx] - y_true[idx])/y_true[idx]*100):.1f}%')\n",
    "                annot.set_text(text)\n",
    "                annot.set_visible(True)\n",
    "            else:\n",
    "                annot.set_visible(False)\n",
    "        \n",
    "        fig.canvas.draw_idle()\n",
    "    \n",
    "    # Connect the hover event\n",
    "    fig.canvas.mpl_connect(\"motion_notify_event\", hover)\n",
    "    \n",
    "    plt.tight_layout()\n",
    "    plt.show()\n",
    "\n",
    "# Example usage:\n",
    "# plot_residual_analysis(y_test, y_pred, \"Model Residual Analysis\")\n",
    "\n",
    "def plot_material_analysis(y_true, y_pred, material_name):\n",
    "    \"\"\"\n",
    "    Plot analysis for a specific material prediction\n",
    "    \n",
    "    Args:\n",
    "        y_true: Array of actual values\n",
    "        y_pred: Array of predicted values\n",
    "        material_name: Name of the material being analyzed\n",
    "    \"\"\"\n",
    "    # Calculate percentage errors\n",
    "    percentage_errors = np.abs((y_true - y_pred) / y_true) * 100\n",
    "    \n",
    "    # Create figure and subplots\n",
    "    fig, axes = plt.subplots(1, 2, figsize=(15, 5))\n",
    "    plt.suptitle(f'{material_name} Analysis', y=1.05)\n",
    "    \n",
    "    # Create annotation object\n",
    "    annot = axes[0].annotate(\"\", \n",
    "        xy=(0,0), \n",
    "        xytext=(10,10),\n",
    "        textcoords=\"offset points\",\n",
    "        bbox=dict(boxstyle=\"round\", fc=\"w\", ec=\"0.5\", alpha=0.9),\n",
    "        arrowprops=dict(arrowstyle=\"->\")\n",
    "    )\n",
    "    annot.set_visible(False)\n",
    "    \n",
    "    # 1. Predicted vs Actual\n",
    "    scatter = axes[0].scatter(y_true, y_pred, alpha=0.5, s=20)\n",
    "    min_val = min(min(y_true), min(y_pred))\n",
    "    max_val = max(max(y_true), max(y_pred))\n",
    "    axes[0].plot([min_val, max_val], [min_val, max_val], 'r--')\n",
    "    axes[0].set_xlabel('Actual Values')\n",
    "    axes[0].set_ylabel('Predicted Values')\n",
    "    axes[0].set_title('Predicted vs Actual')\n",
    "    \n",
    "    # 2. Percentage Error Distribution\n",
    "    sns.histplot(data=percentage_errors, kde=True, ax=axes[1])\n",
    "    axes[1].axvline(np.mean(percentage_errors), color='r', linestyle='--', \n",
    "                    label=f'Mean: {np.mean(percentage_errors):.1f}%')\n",
    "    axes[1].axvline(np.median(percentage_errors), color='g', linestyle='--', \n",
    "                    label=f'Median: {np.median(percentage_errors):.1f}%')\n",
    "    axes[1].set_xlabel('Percentage Error (%)')\n",
    "    axes[1].set_ylabel('Count')\n",
    "    axes[1].set_title('Error Distribution')\n",
    "    axes[1].legend()\n",
    "    \n",
    "    def hover(event):\n",
    "        if event.inaxes == axes[0]:\n",
    "            cont, ind = scatter.contains(event)\n",
    "            if cont:\n",
    "                pos = scatter.get_offsets()[ind[\"ind\"][0]]\n",
    "                annot.xy = pos\n",
    "                idx = ind[\"ind\"][0]\n",
    "                text = (f'Actual: {y_true[idx]:.2f}\\n'\n",
    "                       f'Predicted: {y_pred[idx]:.2f}\\n'\n",
    "                       f'Error: {percentage_errors[idx]:.1f}%')\n",
    "                annot.set_text(text)\n",
    "                annot.set_visible(True)\n",
    "            else:\n",
    "                annot.set_visible(False)\n",
    "            fig.canvas.draw_idle()\n",
    "    \n",
    "    # Connect the hover event\n",
    "    fig.canvas.mpl_connect(\"motion_notify_event\", hover)\n",
    "    \n",
    "    plt.tight_layout()\n",
    "    plt.show()\n",
    "class StackedMaterialPredictor:\n",
    "    def __init__(self, name, categorical_features=None, numerical_features=None, random_state=42):\n",
    "        \"\"\"\n",
    "        Initialize the stacked predictor with a base processor and material predictors.\n",
    "        \n",
    "        Args:\n",
    "            name (str): Name of the predictor\n",
    "            categorical_features (list): List of categorical feature names\n",
    "            numerical_features (list): List of numerical feature names\n",
    "            random_state (int): Random state for reproducibility\n",
    "        \"\"\"\n",
    "        self.name = name\n",
    "        self.base_processor = MaterialQuantityPredictor(\n",
    "            name=name,\n",
    "            categorical_features=categorical_features,\n",
    "            numerical_features=numerical_features,\n",
    "            random_state=random_state\n",
    "        )\n",
    "        self.base_predictors = {}\n",
    "        self.model = None\n",
    "        self.prediction_columns = []\n",
    "        self.material_predictions = None\n",
    "        self.prediction_scaler = None\n",
    "        \n",
    "    def add_base_predictors(self, predictors):\n",
    "        \"\"\"Add material predictors to the stacked model.\"\"\"\n",
    "        self.base_predictors = predictors\n",
    "        self.prediction_columns = [f'{name}_prediction' for name in predictors.keys()]\n",
    "        \n",
    "    def get_base_predictions(self, X):\n",
    "        \"\"\"Generate predictions from all base material predictors.\"\"\"\n",
    "        predictions = pd.DataFrame(index=X.index)\n",
    "        for name, predictor in self.base_predictors.items():\n",
    "            predictions[f'{name}_prediction'] = predictor.predict(X)\n",
    "        self.material_predictions = predictions\n",
    "        return predictions\n",
    "        \n",
    "    def process_features(self, X, y=None, train=True):\n",
    "        \"\"\"Process features and add material predictions.\"\"\"\n",
    "        base_predictions = self.get_base_predictions(X)\n",
    "        \n",
    "        if train:\n",
    "            self.prediction_scaler = RobustScaler()\n",
    "            \n",
    "            scaled_predictions = self.prediction_scaler.fit_transform(base_predictions)\n",
    "        else:\n",
    "            scaled_predictions = self.prediction_scaler.transform(base_predictions)\n",
    "            \n",
    "        scaled_predictions = pd.DataFrame(\n",
    "            scaled_predictions, \n",
    "            columns=self.prediction_columns, \n",
    "            index=X.index\n",
    "        )\n",
    "        \n",
    "        if y is not None:\n",
    "            X_processed, y_processed = self.base_processor.preprocess_data(X, y, train)\n",
    "            X_combined = pd.concat([X_processed, scaled_predictions], axis=1)\n",
    "            return X_combined, y_processed\n",
    "        else:\n",
    "            X_processed = self.base_processor.preprocess_data(X, train=train)\n",
    "            X_combined = pd.concat([X_processed, scaled_predictions], axis=1)\n",
    "            return X_combined\n",
    "\n",
    "    def train(self, X, y, cv=None):\n",
    "        \"\"\"Train the stacked model with cross-validation option.\"\"\"\n",
    "        X_combined, y_processed = self.process_features(X, y, train=True)\n",
    "        \n",
    "        if self.model is None:\n",
    "            self.model =  XGBRegressor(\n",
    "                n_estimators=400,\n",
    "                learning_rate=0.1,\n",
    "                max_depth=8,\n",
    "                min_child_weight=5,\n",
    "                subsample=0.9,\n",
    "                colsample_bytree=0.9,\n",
    "                random_state=self.base_processor.random_state,        \n",
    "                reg_alpha=0.3,\n",
    "            )\n",
    "\n",
    "\n",
    "        if cv is not None:\n",
    "            if isinstance(cv, int):\n",
    "                cv = KFold(n_splits=cv, shuffle=True, random_state=self.base_processor.random_state)\n",
    "            \n",
    "            scores = []\n",
    "            fold_predictions = np.zeros_like(y_processed)\n",
    "            \n",
    "            for fold, (train_idx, val_idx) in enumerate(cv.split(X_combined)):\n",
    "                X_fold_train, X_fold_val = X_combined.iloc[train_idx], X_combined.iloc[val_idx]\n",
    "                y_fold_train, y_fold_val = y_processed[train_idx], y_processed[val_idx]\n",
    "                \n",
    "                self.model.fit(X_fold_train, y_fold_train)\n",
    "                fold_pred = self.model.predict(X_fold_val)\n",
    "                fold_predictions[val_idx] = fold_pred\n",
    "                \n",
    "                metrics = self.base_processor.calculate_metrics(y_fold_val, fold_pred)\n",
    "                scores.append(metrics)\n",
    "                print(f\"\\n{self.name} Fold {fold + 1} Results:\")\n",
    "                self.base_processor._print_metrics(metrics)\n",
    "            \n",
    "            avg_metrics = {\n",
    "                key: np.mean([score[key] for score in scores]) \n",
    "                for key in scores[0].keys()\n",
    "            }\n",
    "            print(\"\\nAverage Cross-Validation Metrics:\")\n",
    "            self.base_processor._print_metrics(avg_metrics)\n",
    "        \n",
    "        self.model.fit(X_combined, y_processed)\n",
    "        print(\"\\nFinal model trained on full dataset\")\n",
    "\n",
    "    def predict(self, X):\n",
    "        \"\"\"Make predictions on new data.\"\"\"\n",
    "        if self.model is None:\n",
    "            raise ValueError(\"Model has not been trained yet. Call train() first.\")\n",
    "            \n",
    "        X_combined = self.process_features(X, train=False)\n",
    "        predictions = self.model.predict(X_combined)\n",
    "        \n",
    "        if self.base_processor.target_transformer is not None:\n",
    "            predictions = self.base_processor.target_transformer.inverse_transform(\n",
    "                predictions.reshape(-1, 1)\n",
    "            ).ravel()\n",
    "            \n",
    "        return predictions\n",
    "    def _plot_single_residual_analysis(self, y_true, y_pred, title):\n",
    "        \"\"\"\n",
    "        Helper function to create interactive residual plots using Plotly\n",
    "        \"\"\"\n",
    "        import plotly.graph_objs as go\n",
    "        import plotly.subplots as sp\n",
    "        from scipy import stats\n",
    "        import numpy as np\n",
    "        \n",
    "        try:\n",
    "            # Calculate residuals\n",
    "            residuals = y_true - y_pred\n",
    "            \n",
    "            # Ensure data is finite\n",
    "            mask = np.isfinite(residuals) & np.isfinite(y_pred) & np.isfinite(y_true)\n",
    "            residuals = residuals[mask]\n",
    "            y_pred = y_pred[mask]\n",
    "            y_true = y_true[mask]\n",
    "            \n",
    "            # Create subplots\n",
    "            fig = sp.make_subplots(\n",
    "                rows=2, cols=2,\n",
    "                subplot_titles=(\n",
    "                    'Residuals vs Predicted',\n",
    "                    'Residual Distribution',\n",
    "                    'Normal Q-Q Plot',\n",
    "                    'Predicted vs Actual'\n",
    "                )\n",
    "            )\n",
    "            \n",
    "            # 1. Residuals vs Predicted\n",
    "            fig.add_trace(\n",
    "                go.Scatter(\n",
    "                    x=y_pred,\n",
    "                    y=residuals,\n",
    "                    mode='markers',\n",
    "                    name='Residuals',\n",
    "                    hovertemplate=(\n",
    "                        'Predicted: %{x:.2f}<br>' +\n",
    "                        'Residual: %{y:.2f}<br>' +\n",
    "                        'Actual: %{customdata[0]:.2f}<br>' +\n",
    "                        '<extra></extra>'\n",
    "                    ),\n",
    "                    customdata=np.column_stack([y_true])\n",
    "                ),\n",
    "                row=1, col=1\n",
    "            )\n",
    "            \n",
    "            # Add zero line\n",
    "            fig.add_hline(\n",
    "                y=0, line_dash=\"dash\", line_color=\"red\",\n",
    "                row=1, col=1\n",
    "            )\n",
    "            \n",
    "            # 2. Residual Distribution\n",
    "            fig.add_trace(\n",
    "                go.Histogram(\n",
    "                    x=residuals,\n",
    "                    name='Residual Dist',\n",
    "                    nbinsx=50,\n",
    "                    histnorm='probability density'\n",
    "                ),\n",
    "                row=1, col=2\n",
    "            )\n",
    "            \n",
    "            # Add KDE\n",
    "            from scipy.stats import gaussian_kde\n",
    "            kde = gaussian_kde(residuals)\n",
    "            x_range = np.linspace(min(residuals), max(residuals), 100)\n",
    "            fig.add_trace(\n",
    "                go.Scatter(\n",
    "                    x=x_range,\n",
    "                    y=kde(x_range),\n",
    "                    mode='lines',\n",
    "                    name='KDE',\n",
    "                    line=dict(color='red')\n",
    "                ),\n",
    "                row=1, col=2\n",
    "            )\n",
    "            \n",
    "            # 3. Q-Q Plot\n",
    "            qq = stats.probplot(residuals)\n",
    "            fig.add_trace(\n",
    "                go.Scatter(\n",
    "                    x=qq[0][0],\n",
    "                    y=qq[0][1],\n",
    "                    mode='markers',\n",
    "                    name='Q-Q Plot',\n",
    "                    hovertemplate=(\n",
    "                        'Theoretical Quantile: %{x:.2f}<br>' +\n",
    "                        'Sample Quantile: %{y:.2f}<br>' +\n",
    "                        '<extra></extra>'\n",
    "                    )\n",
    "                ),\n",
    "                row=2, col=1\n",
    "            )\n",
    "            \n",
    "            # Add diagonal line\n",
    "            qq_line = np.polyfit(qq[0][0], qq[0][1], 1)\n",
    "            line_x = np.array([qq[0][0].min(), qq[0][0].max()])\n",
    "            fig.add_trace(\n",
    "                go.Scatter(\n",
    "                    x=line_x,\n",
    "                    y=qq_line[0] * line_x + qq_line[1],\n",
    "                    mode='lines',\n",
    "                    name='Q-Q Line',\n",
    "                    line=dict(color='red', dash='dash')\n",
    "                ),\n",
    "                row=2, col=1\n",
    "            )\n",
    "            \n",
    "            # 4. Predicted vs Actual\n",
    "            fig.add_trace(\n",
    "                go.Scatter(\n",
    "                    x=y_true,\n",
    "                    y=y_pred,\n",
    "                    mode='markers',\n",
    "                    name='Predictions',\n",
    "                    hovertemplate=(\n",
    "                        'Actual: %{x:.2f}<br>' +\n",
    "                        'Predicted: %{y:.2f}<br>' +\n",
    "                        'Error: %{customdata[0]:.1f}%<br>' +\n",
    "                        '<extra></extra>'\n",
    "                    ),\n",
    "                    customdata=np.column_stack([((y_pred - y_true)/y_true*100)])\n",
    "                ),\n",
    "                row=2, col=2\n",
    "            )\n",
    "            \n",
    "            # Add diagonal line\n",
    "            min_val = min(min(y_true), min(y_pred))\n",
    "            max_val = max(max(y_true), max(y_pred))\n",
    "            fig.add_trace(\n",
    "                go.Scatter(\n",
    "                    x=[min_val, max_val],\n",
    "                    y=[min_val, max_val],\n",
    "                    mode='lines',\n",
    "                    name='Perfect Prediction',\n",
    "                    line=dict(color='red', dash='dash')\n",
    "                ),\n",
    "                row=2, col=2\n",
    "            )\n",
    "            \n",
    "            # Update layout\n",
    "            fig.update_layout(\n",
    "                title=f'{title} Residual Analysis',\n",
    "                showlegend=False,\n",
    "                height=800,\n",
    "                width=1200,\n",
    "            )\n",
    "            \n",
    "            # Update axes labels\n",
    "            fig.update_xaxes(title_text='Predicted Values', row=1, col=1)\n",
    "            fig.update_yaxes(title_text='Residuals', row=1, col=1)\n",
    "            \n",
    "            fig.update_xaxes(title_text='Residuals', row=1, col=2)\n",
    "            fig.update_yaxes(title_text='Density', row=1, col=2)\n",
    "            \n",
    "            fig.update_xaxes(title_text='Theoretical Quantiles', row=2, col=1)\n",
    "            fig.update_yaxes(title_text='Sample Quantiles', row=2, col=1)\n",
    "            \n",
    "            fig.update_xaxes(title_text='Actual Values', row=2, col=2)\n",
    "            fig.update_yaxes(title_text='Predicted Values', row=2, col=2)\n",
    "            \n",
    "            fig.show()\n",
    "            \n",
    "        except Exception as e:\n",
    "            print(f\"Error in _plot_single_residual_analysis: {e}\")\n",
    "            raise\n",
    "\n",
    "    def plot_residuals(self, X, y, y_materials=None):\n",
    "        \"\"\"\n",
    "        Plot residual analysis for both stacked model and base predictors using Plotly.\n",
    "        \"\"\"\n",
    "        print(\"Starting residual analysis...\")\n",
    "        \n",
    "        try:\n",
    "            # First plot stacked model residuals\n",
    "            print(\"\\nGenerating stacked predictions...\")\n",
    "            stacked_predictions = self.predict(X)\n",
    "            \n",
    "            print(\"\\nPlotting stacked model residuals...\")\n",
    "            self._plot_single_residual_analysis(\n",
    "                y,\n",
    "                stacked_predictions,\n",
    "                \"Stacked Model (Carbon Emissions)\"\n",
    "            )\n",
    "            \n",
    "            # Then plot base predictor residuals\n",
    "            if y_materials is not None:\n",
    "                base_predictions = self.get_base_predictions(X)\n",
    "                \n",
    "                col_to_predictor = {\n",
    "                    col: col.split()[0].lower() \n",
    "                    for col in y_materials.columns \n",
    "                    if col.split()[0].lower() in self.base_predictors\n",
    "                }\n",
    "                \n",
    "                for material_col, predictor_name in col_to_predictor.items():\n",
    "                    print(f\"\\nProcessing {predictor_name} predictor...\")\n",
    "                    try:\n",
    "                        predictions = np.asarray(base_predictions[f'{predictor_name}_prediction'])\n",
    "                        actuals = np.asarray(y_materials[material_col])\n",
    "                        \n",
    "                        self._plot_single_residual_analysis(\n",
    "                            actuals,\n",
    "                            predictions,\n",
    "                            f\"Base Predictor ({predictor_name})\"\n",
    "                        )\n",
    "                        \n",
    "                        # Calculate and display metrics\n",
    "                        metrics = self.base_processor.calculate_metrics(actuals, predictions)\n",
    "                        print(f\"\\nMetrics for {predictor_name} predictor:\")\n",
    "                        self.base_processor._print_metrics(metrics)\n",
    "                        \n",
    "                    except Exception as e:\n",
    "                        print(f\"Error processing {predictor_name} predictor: {e}\")\n",
    "                        continue\n",
    "                \n",
    "        except Exception as e:\n",
    "            print(f\"Error in residual analysis: {e}\")\n",
    "            raise\n",
    "def train_stacked_model(train_data, random_state=42):\n",
    "    \"\"\"Creates and trains the stacked model using the prepared data\"\"\"\n",
    "    print(\"\\nInitializing stacked predictor...\")\n",
    "    stacked_predictor = StackedMaterialPredictor(\n",
    "        name=\"carbon_emissions\",\n",
    "        categorical_features=cat_features,\n",
    "        numerical_features=num_features,\n",
    "        random_state=random_state\n",
    "    )\n",
    "    \n",
    "    print(\"\\nAdding base predictors...\")\n",
    "    stacked_predictor.add_base_predictors(train_data['base_predictors'])\n",
    "    \n",
    "    print(\"\\nTraining stacked model...\")\n",
    "    stacked_predictor.train(\n",
    "        train_data['X_train'],\n",
    "        train_data['y_train'],\n",
    "        cv=5\n",
    "    )\n",
    "\n",
    "\n",
    "    # Continue with full prediction and analysis if test successful\n",
    "    print(\"\\nGenerating full predictions...\")\n",
    "    y_test_pred = stacked_predictor.predict(train_data['X_test'])\n",
    "    \n",
    "    print(\"\\nPlotting residuals analysis...\")\n",
    "    print(stacked_predictor)\n",
    "    stacked_predictor.plot_residuals(\n",
    "        X=train_data['X_test'],\n",
    "        y=train_data['y_test'],\n",
    "        y_materials=train_data['y_test_materials']\n",
    "    )\n",
    "    print(\"Index of X_test:\")\n",
    "    print(train_data['X_test'].index)\n",
    "\n",
    "    # Method 2: Display first few indices\n",
    "    print(\"First 5 indices:\")\n",
    "    print(train_data['X_test'].index[:5])\n",
    "    print(\"\\nTest Set Evaluation:\")\n",
    "    analyze_percentage_errors(train_data['y_test'], y_test_pred,    index=train_data['X_test'].index )\n",
    "    \n",
    "    test_metrics = stacked_predictor.base_processor.calculate_metrics(\n",
    "        train_data['y_test'],\n",
    "        y_test_pred\n",
    "    )\n",
    "    \n",
    "    # Feature importance\n",
    "    base_features = train_data['X_train'].columns.tolist()\n",
    "    material_features = stacked_predictor.prediction_columns\n",
    "    all_features = base_features + material_features\n",
    "    \n",
    "    importance = pd.DataFrame({\n",
    "        'feature': all_features,\n",
    "        'importance': stacked_predictor.model.feature_importances_\n",
    "    })\n",
    "    importance = importance.sort_values('importance', ascending=False)\n",
    "    \n",
    "    print(\"\\nTop 15 Most Important Features:\")\n",
    "    print(importance.head(15))\n",
    "    analyze_error_patterns(\n",
    "    y_true=train_data['y_test'],\n",
    "    y_pred=y_test_pred,\n",
    "    X=train_data['X_test'],\n",
    "    error_threshold=40\n",
    ")\n",
    "\n",
    "    return stacked_predictor\n",
    "def analyze_error_patterns(y_true, y_pred, X, error_threshold=50):\n",
    "    \"\"\"\n",
    "    Simple analysis of high-error predictions\n",
    "    \"\"\"\n",
    "    import pandas as pd\n",
    "    import numpy as np\n",
    "    \n",
    "    # Calculate errors\n",
    "    percentage_errors = np.abs((y_true - y_pred) / y_true) * 100\n",
    "    \n",
    "    # Create analysis dataframe\n",
    "    analysis_df = pd.DataFrame({\n",
    "        'Actual': y_true,\n",
    "        'Predicted': y_pred,\n",
    "        'Error_Pct': percentage_errors,\n",
    "        'Is_Overprediction': y_pred > y_true\n",
    "    })\n",
    "    \n",
    "    # Add all features\n",
    "    analysis_df = pd.concat([analysis_df, X], axis=1)\n",
    "    \n",
    "    # Separate high error cases\n",
    "    high_errors = analysis_df[analysis_df['Error_Pct'] > error_threshold].copy()\n",
    "    normal_errors = analysis_df[analysis_df['Error_Pct'] <= error_threshold].copy()\n",
    "    \n",
    "    print(f\"\\n=== High Error Cases Analysis (Error > {error_threshold}%) ===\")\n",
    "    print(f\"Number of high error cases: {len(high_errors)} out of {len(analysis_df)} total cases\")\n",
    "    print(f\"Overpredictions: {sum(high_errors['Is_Overprediction'])} cases\")\n",
    "    print(f\"Underpredictions: {sum(~high_errors['Is_Overprediction'])} cases\")\n",
    "    \n",
    "    # Sort cases by error percentage\n",
    "    high_errors = high_errors.sort_values('Error_Pct', ascending=False)\n",
    "    \n",
    "    print(\"\\n=== Top 10 Worst Predictions ===\")\n",
    "    worst_cases = high_errors.head(10)\n",
    "    for idx, row in worst_cases.iterrows():\n",
    "        print(f\"\\nCase {idx} - Error: {row['Error_Pct']:.1f}%\")\n",
    "        print(f\"Actual: {row['Actual']:.1f}, Predicted: {row['Predicted']:.1f}\")\n",
    "        print(\"Key features:\")\n",
    "        for col in X.columns:\n",
    "            print(f\"- {col}: {row[col]}\")\n",
    "    \n",
    "    print(\"\\n=== Feature Analysis ===\")\n",
    "    # For each feature, compare distribution in high-error vs normal cases\n",
    "    for col in X.columns:\n",
    "        if X[col].dtype in ['object', 'bool', 'category']:\n",
    "            print(f\"\\nFeature: {col}\")\n",
    "            # Calculate percentage of high errors for each value\n",
    "            high_error_dist = high_errors[col].value_counts(normalize=True)\n",
    "            normal_dist = normal_errors[col].value_counts(normalize=True)\n",
    "            \n",
    "            # Compare distributions\n",
    "            print(\"Values more common in high-error cases:\")\n",
    "            for val in high_error_dist.index:\n",
    "                if val in normal_dist:\n",
    "                    diff = high_error_dist[val] - normal_dist[val]\n",
    "                    if diff > 0.1:  # Only show significant differences\n",
    "                        print(f\"- {val}: {diff*100:.1f}% more frequent in high-error cases\")\n",
    "        else:\n",
    "            # For numerical features, compare means\n",
    "            high_mean = high_errors[col].mean()\n",
    "            normal_mean = normal_errors[col].mean()\n",
    "            if abs(high_mean - normal_mean) / normal_mean > 0.2:  # 20% difference threshold\n",
    "                print(f\"\\nFeature: {col}\")\n",
    "                print(f\"High-error mean: {high_mean:.2f}\")\n",
    "                print(f\"Normal cases mean: {normal_mean:.2f}\")\n",
    "    \n",
    "    return high_errors\n",
    "train_data = create_material_predictors(df, all_features)\n",
    "# print(train_data)\n",
    "# train_data includes 'base_predictors' , 'X_test' , 'y_test' and 'y_test_materials'\n",
    "stacked_model = train_stacked_model(train_data)\n",
    "\n"
   ]
  },
  {
   "cell_type": "markdown",
   "metadata": {},
   "source": [
    "Below tests no categorical encoding."
   ]
  },
  {
   "cell_type": "code",
   "execution_count": null,
   "metadata": {},
   "outputs": [
    {
     "name": "stdout",
     "output_type": "stream",
     "text": [
      "\n",
      "Average concrete Cross-Validation Metrics:\n",
      "RMSE: 2498503.45\n",
      "MAE: 902423.67\n",
      "R² Score: 0.92\n",
      "MAPE: 60.23%\n",
      "Within 10% error: 42.9%\n",
      "Within 20% error: 60.8%\n",
      "\n",
      "Analyzing concrete predictor:\n",
      "\n",
      "Non-Zero Value Metrics:\n",
      "Mean Absolute Percentage Error (MAPE): 24.4%\n",
      "Median Absolute Percentage Error (MdAPE): 9.4%\n",
      "90% of predictions have error below: 41.2%\n",
      "95% of predictions have error below: 71.5%\n",
      "\n",
      "Average timber Cross-Validation Metrics:\n",
      "RMSE: 96997.71\n",
      "MAE: 20661.93\n",
      "R² Score: 0.11\n",
      "MAPE: 710.93%\n",
      "Within 10% error: 20.8%\n",
      "Within 20% error: 33.1%\n",
      "\n",
      "Analyzing timber predictor:\n",
      "\n",
      "Non-Zero Value Metrics:\n",
      "Mean Absolute Percentage Error (MAPE): 120372.3%\n",
      "Median Absolute Percentage Error (MdAPE): 19.4%\n",
      "90% of predictions have error below: 159.3%\n",
      "95% of predictions have error below: 273.1%\n",
      "\n",
      "Zero Value Metrics:\n",
      "Number of zero values: 36\n",
      "Mean absolute error for zero values: 189.854\n",
      "Percentage predicted near zero (<0.001): 16.7%\n",
      "\n",
      "Average steel Cross-Validation Metrics:\n",
      "RMSE: 66206.63\n",
      "MAE: 20957.70\n",
      "R² Score: 0.67\n",
      "MAPE: 109.83%\n",
      "Within 10% error: 23.0%\n",
      "Within 20% error: 38.2%\n",
      "\n",
      "Analyzing steel predictor:\n",
      "\n",
      "Non-Zero Value Metrics:\n",
      "Mean Absolute Percentage Error (MAPE): 39.3%\n",
      "Median Absolute Percentage Error (MdAPE): 25.6%\n",
      "90% of predictions have error below: 96.5%\n",
      "95% of predictions have error below: 100.0%\n",
      "\n",
      "Zero Value Metrics:\n",
      "Number of zero values: 17\n",
      "Mean absolute error for zero values: 706.675\n",
      "Percentage predicted near zero (<0.001): 23.5%\n"
     ]
    }
   ],
   "source": [
    "import pandas as pd\n",
    "import numpy as np\n",
    "from sklearn.model_selection import KFold, train_test_split\n",
    "from xgboost import XGBRegressor\n",
    "from sklearn.metrics import mean_squared_error, r2_score, mean_absolute_error\n",
    "import matplotlib.pyplot as plt\n",
    "import seaborn as sns\n",
    "import random\n",
    "\n",
    "class MaterialQuantityPredictor:\n",
    "    def __init__(self, name, random_state=42):\n",
    "        self.name = name\n",
    "        self.random_state = random_state\n",
    "        self.model = None\n",
    "        self.scaler = PowerTransformer(method='yeo-johnson')\n",
    "        # self.scaler = RobustScaler()\n",
    "\n",
    "        self.offset = 1e-6\n",
    "\n",
    "    def train(self, X, y, cv=None):\n",
    "        if not self.model:\n",
    "        #     self.model =  XGBRegressor(\n",
    "        #     n_estimators=500,\n",
    "        #     learning_rate=0.25,\n",
    "        #     max_depth=8,\n",
    "        #     min_child_weight=4,\n",
    "        #     subsample=0.9,\n",
    "        #     colsample_bytree=0.9,\n",
    "        #     random_state=self.random_state,        \n",
    "        #     reg_alpha = 0.1,\n",
    "        #     enable_categorical=True,\n",
    "\n",
    "        # )\n",
    "            self.model = XGBRegressor(\n",
    "            n_estimators=480,\n",
    "            learning_rate=0.25,\n",
    "            max_depth=9,\n",
    "            min_child_weight=6,\n",
    "            subsample=0.9,\n",
    "            colsample_bytree=0.9,\n",
    "            random_state=self.random_state,        \n",
    "            reg_alpha = 0.3,\n",
    "            enable_categorical=True\n",
    "        ) \n",
    "        y_array = np.array(y).reshape(-1, 1) + self.offset\n",
    "            \n",
    "        if cv:\n",
    "            if isinstance(cv, int):\n",
    "                cv = KFold(n_splits=cv, shuffle=True, random_state=self.random_state)\n",
    "            \n",
    "            scores = []\n",
    "            fold_predictions = np.zeros_like(y_array)\n",
    "            \n",
    "            for fold, (train_idx, val_idx) in enumerate(cv.split(X)):\n",
    "                X_fold_train, X_fold_val = X.iloc[train_idx], X.iloc[val_idx]\n",
    "                y_fold_train = y_array[train_idx]\n",
    "                y_fold_val = y_array[val_idx]\n",
    "                \n",
    "                y_fold_train_scaled = self.scaler.fit_transform(y_fold_train)\n",
    "                self.model.fit(X_fold_train, y_fold_train_scaled.ravel())\n",
    "                \n",
    "                y_fold_val_scaled = self.scaler.transform(y_fold_val)\n",
    "                fold_pred_scaled = self.model.predict(X_fold_val)\n",
    "                \n",
    "                fold_pred = self.scaler.inverse_transform(fold_pred_scaled.reshape(-1, 1))\n",
    "                fold_pred = np.maximum(fold_pred - self.offset, 0)\n",
    "                fold_predictions[val_idx] = fold_pred\n",
    "                \n",
    "                # Use original values for metrics\n",
    "                metrics = self.calculate_metrics(y_array[val_idx].ravel() - self.offset, fold_pred.ravel())\n",
    "                scores.append(metrics)\n",
    "                # print(f\"\\n{self.name} Fold {fold + 1} Results:\")\n",
    "                # self._print_metrics(metrics)\n",
    "            \n",
    "            avg_metrics = {\n",
    "                key: np.mean([score[key] for score in scores]) \n",
    "                for key in scores[0].keys()\n",
    "            }\n",
    "            print(f\"\\nAverage {self.name} Cross-Validation Metrics:\")\n",
    "            self._print_metrics(avg_metrics)\n",
    "            \n",
    "            y_scaled = self.scaler.fit_transform(y_array)\n",
    "            self.model.fit(X, y_scaled.ravel())\n",
    "        else:\n",
    "            y_scaled = self.scaler.fit_transform(y_array)\n",
    "            self.model.fit(X, y_scaled.ravel())\n",
    "\n",
    "\n",
    "\n",
    "    def predict(self, X, raw_preds=False):\n",
    "        if self.model is None:\n",
    "            raise ValueError(\"Model has not been trained yet.\")\n",
    "        y_pred_scaled = self.model.predict(X)\n",
    "        if raw_preds:\n",
    "            return y_pred_scaled\n",
    "        y_pred = self.scaler.inverse_transform(y_pred_scaled.reshape(-1, 1)) \n",
    "        return np.maximum(y_pred - self.offset, 0).ravel()\n",
    "\n",
    "    def calculate_metrics(self, y_true, y_pred):\n",
    "        mask = ~np.isnan(y_true) & ~np.isnan(y_pred)\n",
    "        y_true = y_true[mask]\n",
    "        y_pred = y_pred[mask]\n",
    "        \n",
    "        metrics = {\n",
    "            'rmse': np.sqrt(mean_squared_error(y_true, y_pred)),\n",
    "            'mae': mean_absolute_error(y_true, y_pred),\n",
    "            'r2': r2_score(y_true, y_pred)\n",
    "        }\n",
    "        \n",
    "        # Calculate MAPE only for non-zero true values\n",
    "        non_zero_mask = y_true > 0\n",
    "        if non_zero_mask.any():\n",
    "            metrics['mape'] = np.mean(\n",
    "                np.abs((y_true[non_zero_mask] - y_pred[non_zero_mask]) / \n",
    "                    y_true[non_zero_mask])) * 100\n",
    "        else:\n",
    "            metrics['mape'] = np.nan\n",
    "        \n",
    "        # For zero values, track absolute errors instead\n",
    "        zero_mask = y_true == 0\n",
    "        if zero_mask.any():\n",
    "            metrics['zero_mae'] = np.mean(np.abs(y_pred[zero_mask]))\n",
    "            metrics['zero_correct'] = np.mean(y_pred[zero_mask] < 1e-3) * 100  # % of zeros predicted near zero\n",
    "        \n",
    "        # Within % thresholds only for non-zero values\n",
    "        if non_zero_mask.any():\n",
    "            percentage_errors = np.abs((y_true[non_zero_mask] - y_pred[non_zero_mask]) / y_true[non_zero_mask]) * 100\n",
    "            metrics['within_10pct'] = np.mean(percentage_errors <= 10) * 100\n",
    "            metrics['within_20pct'] = np.mean(percentage_errors <= 20) * 100\n",
    "        else:\n",
    "            metrics['within_10pct'] = np.nan\n",
    "            metrics['within_20pct'] = np.nan\n",
    "        \n",
    "        return metrics\n",
    "    def _print_metrics(self, metrics):\n",
    "        print(f\"RMSE: {metrics['rmse']:.2f}\")\n",
    "        print(f\"MAE: {metrics['mae']:.2f}\")\n",
    "        print(f\"R² Score: {metrics['r2']:.2f}\")\n",
    "        print(f\"MAPE: {metrics['mape']:.2f}%\")\n",
    "        print(f\"Within 10% error: {metrics['within_10pct']:.1f}%\")\n",
    "        print(f\"Within 20% error: {metrics['within_20pct']:.1f}%\")\n",
    "class StackedMaterialPredictor:\n",
    "    def __init__(self, name, random_state=42):\n",
    "        self.name = name\n",
    "        self.base_predictors = {}\n",
    "        self.model = None\n",
    "        self.random_state = random_state\n",
    "        self.prediction_columns = []\n",
    "        self.scaler =  PowerTransformer(method='yeo-johnson')\n",
    "        self.material_scalers = {} \n",
    "        self.offset = 1e-6\n",
    "        self.base_predictor = MaterialQuantityPredictor(\"temp\")\n",
    "\n",
    "    def add_base_predictors(self, predictors):\n",
    "        self.base_predictors = predictors\n",
    "        self.prediction_columns = [f'{name}_prediction' for name in predictors.keys()]\n",
    "        for name in predictors.keys():\n",
    "            self.material_scalers[name] = PowerTransformer(method='yeo-johnson')\n",
    "            \n",
    "    def get_base_predictions(self, X, fit=False):\n",
    "        predictions = pd.DataFrame(index=X.index)\n",
    "        for name, predictor in self.base_predictors.items():\n",
    "            # Get scaled predictions directly (before inverse_transform)\n",
    "            raw_preds = predictor.predict(X, raw_preds=True)\n",
    "            \n",
    "            if fit:\n",
    "                # During training, fit the scaler\n",
    "                predictions[f'{name}_prediction'] = self.material_scalers[name].fit_transform(\n",
    "                    raw_preds.reshape(-1, 1)\n",
    "                ).ravel()\n",
    "            else:\n",
    "                # During prediction, use existing scaler\n",
    "                predictions[f'{name}_prediction'] = self.material_scalers[name].transform(\n",
    "                    raw_preds.reshape(-1, 1)\n",
    "                ).ravel()\n",
    "                \n",
    "        return predictions\n",
    "\n",
    "    def train(self, X, y, cv=None):\n",
    "        base_predictions = self.get_base_predictions(X, fit=True)\n",
    "        X_combined = pd.concat([X, base_predictions], axis=1)\n",
    "        y_array = np.array(y).reshape(-1, 1) + self.offset\n",
    "        \n",
    "        if self.model is None:\n",
    "        #     self.model = XGBRegressor(\n",
    "        #     n_estimators=600,\n",
    "        #     learning_rate=0.2,\n",
    "        #     max_depth=9,\n",
    "        #     min_child_weight=6,\n",
    "        #     subsample=0.9,\n",
    "        #     colsample_bytree=0.9,\n",
    "        #     random_state=self.random_state,        \n",
    "        #     reg_alpha = 0.1,\n",
    "        #     enable_categorical=True,\n",
    "        \n",
    "        # )\n",
    "            self.model = XGBRegressor(\n",
    "            n_estimators=480,\n",
    "            learning_rate=0.25,\n",
    "            max_depth=9,\n",
    "            min_child_weight=6,\n",
    "            subsample=0.9,\n",
    "            colsample_bytree=0.9,\n",
    "            random_state=self.random_state,        \n",
    "            reg_alpha = 0.3,\n",
    "            enable_categorical=True\n",
    "\n",
    "\n",
    "        )\n",
    "        if cv:\n",
    "            if isinstance(cv, int):\n",
    "                cv = KFold(n_splits=cv, shuffle=True, random_state=self.random_state)\n",
    "            \n",
    "            scores = []\n",
    "            fold_predictions = np.zeros_like(y_array)\n",
    "            \n",
    "            for fold, (train_idx, val_idx) in enumerate(cv.split(X_combined)):\n",
    "                X_fold_train = X_combined.iloc[train_idx]\n",
    "                X_fold_val = X_combined.iloc[val_idx]\n",
    "                y_fold_train = y_array[train_idx]\n",
    "                y_fold_val = y_array[val_idx]\n",
    "                \n",
    "                y_fold_train_scaled = self.scaler.fit_transform(y_fold_train)\n",
    "                self.model.fit(X_fold_train, y_fold_train_scaled.ravel())\n",
    "                \n",
    "                y_fold_val_scaled = self.scaler.transform(y_fold_val)\n",
    "                fold_pred_scaled = self.model.predict(X_fold_val)\n",
    "                \n",
    "                fold_pred = self.scaler.inverse_transform(fold_pred_scaled.reshape(-1, 1))\n",
    "                fold_pred = np.maximum(fold_pred - self.offset, 0)\n",
    "                fold_predictions[val_idx] = fold_pred\n",
    "                \n",
    "                metrics = self.base_predictor.calculate_metrics(\n",
    "                    y_array[val_idx].ravel() - self.offset,\n",
    "                    fold_pred.ravel()\n",
    "                )\n",
    "                scores.append(metrics)\n",
    "                # print(f\"\\n{self.name} Fold {fold + 1} Results:\")\n",
    "                # self.base_predictor._print_metrics(metrics)\n",
    "            \n",
    "            avg_metrics = {\n",
    "                key: np.mean([score[key] for score in scores]) \n",
    "                for key in scores[0].keys()\n",
    "            }\n",
    "            print(\"\\nAverage Cross-Validation Metrics:\")\n",
    "            self.base_predictor._print_metrics(avg_metrics)\n",
    "            \n",
    "            y_scaled = self.scaler.fit_transform(y_array)\n",
    "            self.model.fit(X_combined, y_scaled.ravel())\n",
    "        else:\n",
    "            y_scaled = self.scaler.fit_transform(y_array)\n",
    "            self.model.fit(X_combined, y_scaled.ravel())\n",
    "\n",
    "    def predict(self, X):\n",
    "        if self.model is None:\n",
    "            raise ValueError(\"Model has not been trained yet.\")\n",
    "        base_predictions = self.get_base_predictions(X, fit=False)\n",
    "        X_combined = pd.concat([X, base_predictions], axis=1)\n",
    "        y_pred_scaled = self.model.predict(X_combined)\n",
    "        y_pred = self.scaler.inverse_transform(y_pred_scaled.reshape(-1, 1))\n",
    "        return np.maximum(y_pred - self.offset, 0).ravel()\n",
    "def analyze_percentage_errors(y_true, y_pred):\n",
    "    # Separate zero and non-zero cases\n",
    "    zero_mask = y_true == 0\n",
    "    non_zero_mask = ~zero_mask\n",
    "\n",
    "    # Handle non-zero values\n",
    "    if non_zero_mask.any():\n",
    "        percentage_errors = np.abs((y_true[non_zero_mask] - y_pred[non_zero_mask]) / \n",
    "                                 y_true[non_zero_mask]) * 100\n",
    "        \n",
    "        mape = np.mean(percentage_errors)\n",
    "        mdape = np.median(percentage_errors)\n",
    "        p90 = np.percentile(percentage_errors, 90)\n",
    "        p95 = np.percentile(percentage_errors, 95)\n",
    "        \n",
    "        fig, axes = plt.subplots(1, 3, figsize=(20, 6))\n",
    "        \n",
    "        # Plot 1: Distribution\n",
    "        sns.histplot(percentage_errors, bins=50, kde=True, ax=axes[0])\n",
    "        axes[0].set_title('Distribution of Percentage Errors (Non-Zero Values)')\n",
    "        axes[0].set_xlabel('Percentage Error (%)')\n",
    "        axes[0].set_ylabel('Count')\n",
    "        axes[0].axvline(mape, color='r', linestyle='--', label=f'MAPE: {mape:.1f}%')\n",
    "        axes[0].axvline(mdape, color='g', linestyle='--', label=f'MdAPE: {mdape:.1f}%')\n",
    "        axes[0].legend()\n",
    "        \n",
    "        # Plot 2: Scatter\n",
    "        axes[1].scatter(y_true[non_zero_mask], percentage_errors, alpha=0.5)\n",
    "        axes[1].set_xlabel('Actual Values (Non-Zero)')\n",
    "        axes[1].set_ylabel('Percentage Error (%)')\n",
    "        axes[1].set_title('Percentage Errors vs Actual Values')\n",
    "        \n",
    "        # Plot 3: CDF\n",
    "        sorted_errors = np.sort(percentage_errors)\n",
    "        cumulative = np.arange(1, len(sorted_errors) + 1) / len(sorted_errors)\n",
    "        axes[2].plot(sorted_errors, cumulative)\n",
    "        axes[2].set_xlabel('Percentage Error (%)')\n",
    "        axes[2].set_ylabel('Cumulative Proportion')\n",
    "        axes[2].set_title('Cumulative Distribution of Percentage Errors')\n",
    "        \n",
    "        axes[2].axhline(y=0.9, color='r', linestyle='--', alpha=0.5)\n",
    "        axes[2].axvline(x=p90, color='r', linestyle='--', alpha=0.5,\n",
    "                        label=f'90th percentile: {p90:.1f}%')\n",
    "        axes[2].axhline(y=0.95, color='g', linestyle='--', alpha=0.5)\n",
    "        axes[2].axvline(x=p95, color='g', linestyle='--', alpha=0.5,\n",
    "                        label=f'95th percentile: {p95:.1f}%')\n",
    "        axes[2].legend()\n",
    "        \n",
    "        plt.tight_layout()\n",
    "        \n",
    "        print(\"\\nNon-Zero Value Metrics:\")\n",
    "        print(f\"Mean Absolute Percentage Error (MAPE): {mape:.1f}%\")\n",
    "        print(f\"Median Absolute Percentage Error (MdAPE): {mdape:.1f}%\")\n",
    "        print(f\"90% of predictions have error below: {p90:.1f}%\")\n",
    "        print(f\"95% of predictions have error below: {p95:.1f}%\")\n",
    "        \n",
    "        metrics = {\n",
    "            'mape': mape,\n",
    "            'mdape': mdape,\n",
    "            'p90': p90,\n",
    "            'p95': p95,\n",
    "            'percentage_errors': percentage_errors\n",
    "        }\n",
    "    else:\n",
    "        print(\"No non-zero values to analyze\")\n",
    "        metrics = {}\n",
    "\n",
    "    # Handle zero values\n",
    "    if zero_mask.any():\n",
    "        zero_errors = np.abs(y_pred[zero_mask])\n",
    "        print(f\"\\nZero Value Metrics:\")\n",
    "        print(f\"Number of zero values: {sum(zero_mask)}\")\n",
    "        print(f\"Mean absolute error for zero values: {np.mean(zero_errors):.3f}\")\n",
    "        print(f\"Percentage predicted near zero (<0.001): {100 * np.mean(zero_errors < 0.001):.1f}%\")\n",
    "        metrics['zero_mae'] = np.mean(zero_errors)\n",
    "        metrics['zero_correct'] = np.mean(zero_errors < 0.001)\n",
    "\n",
    "    return metrics\n",
    "\n",
    "def create_material_predictors(df, base_features, test_size=0.1, random_state=42):\n",
    "    X = df[base_features].copy()\n",
    "    \n",
    "    # Convert categorical columns to category dtype\n",
    "    for col in cat_features:\n",
    "        X[col] = X[col].astype('category')\n",
    "    \n",
    "    material_columns = [\n",
    "        'Concrete Total Usage (kg)',\n",
    "        # 'Masonry & Blockwork Total Usage (m2)',\n",
    "        'Timber Total Mass (kg)',\n",
    "        'Steel Total Mass (kg)',\n",
    "        'Rebar Total Usage (kg)',\n",
    "        'Carbon A1-A3 (kgCO2e)'\n",
    "    ]\n",
    "    y_materials = df[material_columns]\n",
    "    \n",
    "    X_train, X_test, y_train, y_test = train_test_split(\n",
    "        X, y_materials, test_size=test_size, random_state=random_state\n",
    "    )\n",
    "    \n",
    "    base_predictors = {}\n",
    "    \n",
    "    for material_col in material_columns[:-1]:\n",
    "        name = material_col.split()[0].lower()\n",
    "        predictor = MaterialQuantityPredictor(\n",
    "            name=name,\n",
    "            random_state=random_state\n",
    "        )\n",
    "        predictor.train(X_train, y_train[material_col], cv=5)\n",
    "        base_predictors[name] = predictor\n",
    "        y_pred = predictor.predict(X_test)\n",
    "        print(f\"\\nAnalyzing {name} predictor:\")\n",
    "        analyze_percentage_errors(y_test[material_col], y_pred)\n",
    "            \n",
    "    y_train_carbon = y_train['Carbon A1-A3 (kgCO2e)']\n",
    "    y_test_carbon = y_test['Carbon A1-A3 (kgCO2e)']\n",
    "    \n",
    "    return {\n",
    "        'base_predictors': base_predictors,\n",
    "        'X_train': X_train,\n",
    "        'X_test': X_test,\n",
    "        'y_train': y_train_carbon,\n",
    "        'y_test': y_test_carbon,\n",
    "        'y_test_materials': y_test\n",
    "    }\n",
    "def train_stacked_model(train_data, random_state=42):\n",
    "    stacked_predictor = StackedMaterialPredictor(\n",
    "        name=\"carbon_emissions\",\n",
    "        random_state=random_state\n",
    "    )\n",
    "    \n",
    "    stacked_predictor.add_base_predictors(train_data['base_predictors'])\n",
    "    stacked_predictor.train(\n",
    "        train_data['X_train'],\n",
    "        train_data['y_train'],\n",
    "        cv=5\n",
    "    )\n",
    "\n",
    "    y_test_pred = stacked_predictor.predict(train_data['X_test'])\n",
    "    analyze_percentage_errors(train_data['y_test'], y_test_pred)\n",
    "    \n",
    "    predictor = MaterialQuantityPredictor(\"temp\")\n",
    "    test_metrics = predictor.calculate_metrics(\n",
    "        train_data['y_test'],\n",
    "        y_test_pred\n",
    "    )\n",
    "    predictor._print_metrics(test_metrics)\n",
    "    \n",
    "    base_features = train_data['X_train'].columns.tolist()\n",
    "    material_features = stacked_predictor.prediction_columns\n",
    "    all_features = base_features + material_features\n",
    "    \n",
    "    importance = pd.DataFrame({\n",
    "        'feature': all_features,\n",
    "        'importance': stacked_predictor.model.feature_importances_\n",
    "    })\n",
    "    importance = importance.sort_values('importance', ascending=False)\n",
    "    \n",
    "    print(\"\\nTop 15 Most Important Features:\")\n",
    "    print(importance)\n",
    "    \n",
    "    return stacked_predictor\n",
    "\n",
    "# Usage\n",
    "\n",
    "train_data = create_material_predictors(df, all_features)\n",
    "stacked_model = train_stacked_model(train_data)"
   ]
  },
  {
   "cell_type": "markdown",
   "metadata": {},
   "source": [
    "BeLow is test for using scalars (commented out because it sucks)"
   ]
  },
  {
   "cell_type": "code",
   "execution_count": 816,
   "metadata": {},
   "outputs": [],
   "source": [
    "# import pandas as pd\n",
    "# import numpy as np\n",
    "# from sklearn.preprocessing import LabelEncoder, StandardScaler, RobustScaler, PowerTransformer\n",
    "# from sklearn.model_selection import KFold, cross_val_score, train_test_split\n",
    "# from xgboost import XGBRegressor\n",
    "# from lightgbm import LGBMRegressor\n",
    "# from sklearn.metrics import mean_squared_error, r2_score, mean_absolute_error\n",
    "# from sklearn.linear_model import Ridge, Lasso, ElasticNet\n",
    "# import matplotlib.pyplot as plt\n",
    "# import seaborn as sns\n",
    "# from sklearn.metrics import mean_absolute_percentage_error\n",
    "# class MaterialQuantityPredictor:\n",
    "#     def __init__(self, name, categorical_features=None, numerical_features=None, random_state=42):\n",
    "#         \"\"\"\n",
    "#         Initialize the predictor with specified features and parameters.\n",
    "        \n",
    "#         Args:\n",
    "#             name (str): Name of the predictor\n",
    "#             categorical_features (list): List of categorical feature names\n",
    "#             numerical_features (list): List of numerical feature names\n",
    "#             random_state (int): Random state for reproducibility\n",
    "#         \"\"\"\n",
    "#         self.name = name\n",
    "#         self.categorical_features = categorical_features or []\n",
    "#         self.numerical_features = numerical_features or []\n",
    "#         self.random_state = random_state\n",
    "#         self.label_encoders = {}\n",
    "#         self.scaler = None\n",
    "#         self.model = None\n",
    "#         self.target_transformer = None\n",
    "\n",
    "#     def preprocess_data(self, X, y=None, train=True):\n",
    "#         \"\"\"\n",
    "#         Preprocess features and target variable if provided.\n",
    "        \n",
    "#         Args:\n",
    "#             X (pd.DataFrame): Feature dataset\n",
    "#             y (pd.Series, optional): Target variable\n",
    "#             train (bool): Whether this is for training or prediction\n",
    "            \n",
    "#         Returns:\n",
    "#             tuple: Processed X and y (if y was provided)\n",
    "#         \"\"\"\n",
    "#         X_processed = X.copy()\n",
    "        \n",
    "#         # Process categorical features\n",
    "#         for col in self.categorical_features:\n",
    "#             if train:\n",
    "#                 self.label_encoders[col] = LabelEncoder()\n",
    "#                 X_processed[col] = self.label_encoders[col].fit_transform(X[col])\n",
    "#             else:\n",
    "#                 X_processed[col] = self.label_encoders[col].transform(X[col])\n",
    "        \n",
    "#         # Process numerical features\n",
    "#         if train:\n",
    "#             self.scaler = PowerTransformer(method='yeo-johnson')\n",
    "#             X_processed[self.numerical_features] = self.scaler.fit_transform(X[self.numerical_features])\n",
    "#         else:\n",
    "#             X_processed[self.numerical_features] = self.scaler.transform(X[self.numerical_features])\n",
    "\n",
    "#         # Process target variable if provided\n",
    "#         if y is not None:\n",
    "#             if train:\n",
    "#                 self.target_transformer = PowerTransformer(method='yeo-johnson')\n",
    "#                 y_processed = self.target_transformer.fit_transform(y.values.reshape(-1, 1)).ravel()\n",
    "#             else:\n",
    "#                 y_processed = self.target_transformer.transform(y.values.reshape(-1, 1)).ravel()\n",
    "#             return X_processed, y_processed\n",
    "            \n",
    "#         return X_processed\n",
    "\n",
    "#     def train(self, X, y, cv=None, test_size=None):\n",
    "#         \"\"\"\n",
    "#         Train the model with option for cross-validation or train-test split.\n",
    "        \n",
    "#         Args:\n",
    "#             X (pd.DataFrame): Feature dataset\n",
    "#             y (pd.Series): Target variable\n",
    "#             cv (int or sklearn.model_selection._split.BaseCrossValidator): Cross-validation splitter\n",
    "#             test_size (float, optional): If provided, uses train_test split instead of CV\n",
    "#         \"\"\"\n",
    "#         # Preprocess the data\n",
    "#         X_processed, y_processed = self.preprocess_data(X, y, train=True)\n",
    "        \n",
    "#         # Initialize the model\n",
    "#         if not self.model:\n",
    "#             self.model = LGBMRegressor(\n",
    "#             n_estimators=300,\n",
    "#             learning_rate=0.05,\n",
    "#             max_depth=8,\n",
    "#             min_child_weight=5,\n",
    "#             subsample=0.8,\n",
    "#             colsample_bytree=0.8,\n",
    "#             random_state=self.random_state,        \n",
    "#             feature_fraction= 0.85,\n",
    "#             alpha = 0.5\n",
    "#         )\n",
    "\n",
    "#         if cv is not None:\n",
    "#             # Perform cross-validation\n",
    "#             if isinstance(cv, int):\n",
    "#                 cv = KFold(n_splits=cv, shuffle=True, random_state=self.random_state)\n",
    "            \n",
    "#             scores = []\n",
    "#             fold_predictions = np.zeros_like(y_processed)\n",
    "            \n",
    "#             for fold, (train_idx, val_idx) in enumerate(cv.split(X_processed)):\n",
    "#                 X_fold_train, X_fold_val = X_processed.iloc[train_idx], X_processed.iloc[val_idx]\n",
    "#                 y_fold_train, y_fold_val = y_processed[train_idx], y_processed[val_idx]\n",
    "                \n",
    "#                 self.model.fit(X_fold_train, y_fold_train)\n",
    "#                 fold_pred = self.model.predict(X_fold_val)\n",
    "#                 fold_predictions[val_idx] = fold_pred\n",
    "                \n",
    "#                 metrics = self.calculate_metrics(y_fold_val, fold_pred)\n",
    "#                 scores.append(metrics)\n",
    "#                 print(f\"\\n{self.name} Fold {fold + 1} Results:\")\n",
    "#                 self._print_metrics(metrics)\n",
    "            \n",
    "#             # Print average CV scores\n",
    "#             avg_metrics = {\n",
    "#                 key: np.mean([score[key] for score in scores]) \n",
    "#                 for key in scores[0].keys()\n",
    "#             }\n",
    "#             print(\"\\nAverage Cross-Validation Metrics:\")\n",
    "#             self._print_metrics(avg_metrics)\n",
    "            \n",
    "#             # Finally, train on full dataset\n",
    "#             self.model.fit(X_processed, y_processed)\n",
    "            \n",
    "#         elif test_size is not None:\n",
    "#             # Perform train-test split\n",
    "#             X_train, X_test, y_train, y_test = train_test_split(\n",
    "#                 X_processed, y_processed,\n",
    "#                 test_size=test_size,\n",
    "#                 random_state=self.random_state\n",
    "#             )\n",
    "            \n",
    "#             self.model.fit(X_train, y_train)\n",
    "#             y_pred = self.model.predict(X_test)\n",
    "            \n",
    "#             metrics = self.calculate_metrics(y_test, y_pred)\n",
    "#             print(\"\\nTest Set Metrics:\")\n",
    "#             self._print_metrics(metrics)\n",
    "            \n",
    "#         else:\n",
    "#             # Train on full dataset\n",
    "#             self.model.fit(X_processed, y_processed)\n",
    "#             print(\"\\nTrained on full dataset (no validation)\")\n",
    "\n",
    "#     def predict(self, X):\n",
    "#         \"\"\"\n",
    "#         Make predictions on new data.\n",
    "        \n",
    "#         Args:\n",
    "#             X (pd.DataFrame): Feature dataset\n",
    "            \n",
    "#         Returns:\n",
    "#             np.array: Predictions\n",
    "#         \"\"\"\n",
    "#         if self.model is None:\n",
    "#             raise ValueError(\"Model has not been trained yet. Call train() first.\")\n",
    "            \n",
    "#         X_processed = self.preprocess_data(X, train=False)\n",
    "#         predictions = self.model.predict(X_processed)\n",
    "        \n",
    "#         # Inverse transform predictions\n",
    "#         if self.target_transformer is not None:\n",
    "#             predictions = self.target_transformer.inverse_transform(predictions.reshape(-1, 1)).ravel()\n",
    "            \n",
    "#         return predictions\n",
    "\n",
    "#     def calculate_metrics(self, y_true, y_pred):\n",
    "#         \"\"\"Calculate various performance metrics.\"\"\"\n",
    "#         metrics = {\n",
    "#             'rmse': np.sqrt(mean_squared_error(y_true, y_pred)),\n",
    "#             'mae': mean_absolute_error(y_true, y_pred),\n",
    "#             'r2': r2_score(y_true, y_pred),\n",
    "#             'smape': 100 * np.mean(\n",
    "#                 np.abs(y_pred - y_true) / (np.abs(y_true) + np.abs(y_pred) + 1e-8)\n",
    "#             )\n",
    "#         }\n",
    "        \n",
    "#         # Calculate MAPE for non-zero values\n",
    "#         non_zero_mask = y_true != 0\n",
    "#         if non_zero_mask.any():\n",
    "#             metrics['mape'] = np.mean(\n",
    "#                 np.abs((y_true[non_zero_mask] - y_pred[non_zero_mask]) / \n",
    "#                       y_true[non_zero_mask])) * 100\n",
    "#         else:\n",
    "#             metrics['mape'] = np.nan\n",
    "        \n",
    "#         # Calculate percentage within error bounds\n",
    "#         percentage_errors = np.abs((y_true - y_pred) / (y_true + 1e-8)) * 100\n",
    "#         metrics['within_10pct'] = np.mean(percentage_errors <= 10) * 100\n",
    "#         metrics['within_20pct'] = np.mean(percentage_errors <= 20) * 100\n",
    "        \n",
    "#         return metrics\n",
    "\n",
    "#     def _print_metrics(self, metrics):\n",
    "#         \"\"\"Print formatted metrics.\"\"\"\n",
    "#         print(f\"RMSE: {metrics['rmse']:.2f}\")\n",
    "#         print(f\"MAE: {metrics['mae']:.2f}\")\n",
    "#         print(f\"R² Score: {metrics['r2']:.2f}\")\n",
    "#         print(f\"MAPE: {metrics['mape']:.2f}%\")\n",
    "#         print(f\"SMAPE: {metrics['smape']:.2f}%\")\n",
    "#         print(f\"Within 10% error: {metrics['within_10pct']:.1f}%\")\n",
    "#         print(f\"Within 20% error: {metrics['within_20pct']:.1f}%\")\n",
    "\n",
    "\n",
    "# class StackedMaterialPredictor(MaterialQuantityPredictor):\n",
    "#     \"\"\"Extended MaterialQuantityPredictor with support for stacked predictions\"\"\"\n",
    "    \n",
    "#     def __init__(self, base_predictors=None, *args, **kwargs):\n",
    "#         super().__init__(*args, **kwargs)\n",
    "#         self.base_predictors = base_predictors or {}\n",
    "    \n",
    "#     def preprocess_data(self, X, y=None, train=True):\n",
    "#         \"\"\"\n",
    "#         Enhanced preprocessing that includes base model predictions\n",
    "#         \"\"\"\n",
    "#         X_copy = X.copy()\n",
    "        \n",
    "#         # Get predictions from base models if they exist\n",
    "#         if self.base_predictors:\n",
    "#             base_predictions = pd.DataFrame()\n",
    "            \n",
    "#             for name, predictor in self.base_predictors.items():\n",
    "#                 pred = predictor.predict(X_copy)\n",
    "#                 base_predictions[f'{name}_prediction'] = pred\n",
    "            \n",
    "#             # Combine base predictions with original features\n",
    "#             X_copy = pd.concat([X_copy.reset_index(drop=True), \n",
    "#                               base_predictions.reset_index(drop=True)], axis=1)\n",
    "        \n",
    "#         # Apply standard preprocessing\n",
    "#         return super().preprocess_data(X_copy, y, train)\n",
    "    \n",
    "#     def predict(self, X):\n",
    "#         \"\"\"\n",
    "#         Enhanced prediction that includes base model predictions\n",
    "#         \"\"\"\n",
    "#         if self.model is None:\n",
    "#             raise ValueError(\"Model has not been trained yet. Call train() first.\")\n",
    "        \n",
    "#         # Preprocess including base model predictions\n",
    "#         X_processed = self.preprocess_data(X, train=False)\n",
    "#         predictions = self.model.predict(X_processed)\n",
    "        \n",
    "#         # Inverse transform predictions if necessary\n",
    "#         if self.target_transformer is not None:\n",
    "#             predictions = self.target_transformer.inverse_transform(predictions.reshape(-1, 1)).ravel()\n",
    "        \n",
    "#         return predictions\n",
    "\n",
    "\n",
    "# def analyze_percentage_errors(y_true, y_pred):\n",
    "#     \"\"\"\n",
    "#     Calculate and visualize percentage errors in predictions\n",
    "#     \"\"\"\n",
    "#     # Calculate percentage errors\n",
    "#     percentage_errors = np.abs((y_true - y_pred) / y_true) * 100\n",
    "    \n",
    "#     # Calculate metrics\n",
    "#     mape = np.mean(percentage_errors)\n",
    "#     mdape = np.median(percentage_errors)\n",
    "    \n",
    "#     # Create figure with 3 subplots\n",
    "#     fig, axes = plt.subplots(1, 3, figsize=(20, 6))\n",
    "    \n",
    "#     # 1. Percentage Error Distribution (with log scale)\n",
    "#     sns.histplot(percentage_errors, bins=50, kde=True, ax=axes[0])\n",
    "#     axes[0].set_title('Distribution of Percentage Errors')\n",
    "#     axes[0].set_xlabel('Percentage Error (%)')\n",
    "#     axes[0].set_ylabel('Count')\n",
    "    \n",
    "#     # Add vertical lines for mean and median\n",
    "#     axes[0].axvline(mape, color='r', linestyle='--', label=f'MAPE: {mape:.1f}%')\n",
    "#     axes[0].axvline(mdape, color='g', linestyle='--', label=f'MdAPE: {mdape:.1f}%')\n",
    "#     axes[0].legend()\n",
    "    \n",
    "#     # 2. Percentage Error vs Actual Values\n",
    "#     axes[1].scatter(y_true, percentage_errors, alpha=0.5)\n",
    "#     axes[1].set_xlabel('Actual Values')\n",
    "#     axes[1].set_ylabel('Percentage Error (%)')\n",
    "#     axes[1].set_title('Percentage Errors vs Actual Values')\n",
    "    \n",
    "#     # 3. Cumulative Distribution of Percentage Errors\n",
    "#     sorted_errors = np.sort(percentage_errors)\n",
    "#     cumulative = np.arange(1, len(sorted_errors) + 1) / len(sorted_errors)\n",
    "#     axes[2].plot(sorted_errors, cumulative)\n",
    "#     axes[2].set_xlabel('Percentage Error (%)')\n",
    "#     axes[2].set_ylabel('Cumulative Proportion')\n",
    "#     axes[2].set_title('Cumulative Distribution of Percentage Errors')\n",
    "    \n",
    "#     # Add horizontal lines at key percentiles\n",
    "#     p90 = np.percentile(percentage_errors, 90)\n",
    "#     p95 = np.percentile(percentage_errors, 95)\n",
    "#     axes[2].axhline(y=0.9, color='r', linestyle='--', alpha=0.5)\n",
    "#     axes[2].axvline(x=p90, color='r', linestyle='--', alpha=0.5, \n",
    "#                     label=f'90th percentile: {p90:.1f}%')\n",
    "#     axes[2].axhline(y=0.95, color='g', linestyle='--', alpha=0.5)\n",
    "#     axes[2].axvline(x=p95, color='g', linestyle='--', alpha=0.5,\n",
    "#                     label=f'95th percentile: {p95:.1f}%')\n",
    "#     axes[2].legend()\n",
    "    \n",
    "#     plt.tight_layout()\n",
    "    \n",
    "#     # Print summary statistics\n",
    "#     print(\"\\nError Metrics:\")\n",
    "#     print(f\"Mean Absolute Percentage Error (MAPE): {mape:.1f}%\")\n",
    "#     print(f\"Median Absolute Percentage Error (MdAPE): {mdape:.1f}%\")\n",
    "#     print(f\"\\nPercentile Analysis:\")\n",
    "#     print(f\"90% of predictions have error below: {p90:.1f}%\")\n",
    "#     print(f\"95% of predictions have error below: {p95:.1f}%\")\n",
    "    \n",
    "#     return {\n",
    "#         'mape': mape,\n",
    "#         'mdape': mdape,\n",
    "#         'percentage_errors': percentage_errors,\n",
    "#         'p90': p90,\n",
    "#         'p95': p95\n",
    "#     }\n",
    "\n",
    "# def create_material_predictors(df, base_features, test_size=0.2, random_state=42):\n",
    "#     \"\"\"\n",
    "#     Creates and trains base predictors using proper train-test split\n",
    "    \n",
    "#     Args:\n",
    "#         df (pd.DataFrame): Input dataframe\n",
    "#         base_features (list): List of feature names\n",
    "#         test_size (float): Proportion of dataset to include in the test split\n",
    "#         random_state (int): Random state for reproducibility\n",
    "        \n",
    "#     Returns:\n",
    "#         dict: Dictionary containing trained predictors and data splits\n",
    "#     \"\"\"\n",
    "#     # Create the train-test split that will be used for everything\n",
    " \n",
    "#     X = df[base_features].copy()\n",
    "#     material_columns = [\n",
    "#         'Concrete Total Usage (kg)',\n",
    "#         'Masonry & Blockwork Total Usage (m2)',\n",
    "#         'Timber Total Mass (kg)',\n",
    "#         'Steel Total Mass (kg)',\n",
    "#         'Rebar Total Usage (kg)',\n",
    "#         'Carbon A1-A3 (kgCO2e)'\n",
    "#     ]\n",
    "#     y_materials = df[material_columns]\n",
    "    \n",
    "#     X_train, X_test, y_train, y_test = train_test_split(\n",
    "#         X, y_materials, test_size=test_size, random_state=random_state\n",
    "#     )\n",
    "    \n",
    "#     # Initialize and train base predictors only on training data\n",
    "#     base_predictors = {}\n",
    "    \n",
    "#     for material_col in material_columns[:-1]:  # Exclude carbon emissions\n",
    "#         name = material_col.split()[0].lower()\n",
    "        \n",
    "#         predictor = MaterialQuantityPredictor(\n",
    "#             name=name,\n",
    "#             categorical_features=cat_features,\n",
    "#             numerical_features=num_features,\n",
    "#             random_state=random_state\n",
    "#         )\n",
    "        \n",
    "#         # Train on training data only\n",
    "#         predictor.train(X_train, y_train[material_col], cv=5)\n",
    "#         base_predictors[name] = predictor\n",
    "    \n",
    "#     # Get carbon emissions target\n",
    "#     y_train_carbon = y_train['Carbon A1-A3 (kgCO2e)']\n",
    "#     y_test_carbon = y_test['Carbon A1-A3 (kgCO2e)']\n",
    "    \n",
    "#     return {\n",
    "#         'base_predictors': base_predictors,\n",
    "#         'X_train': X_train,\n",
    "#         'X_test': X_test,\n",
    "#         'y_train': y_train_carbon,\n",
    "#         'y_test': y_test_carbon\n",
    "#     }\n",
    "\n",
    "# class EnhancedStackedMaterialPredictor(MaterialQuantityPredictor):\n",
    "#     \"\"\"Enhanced MaterialQuantityPredictor with runtime stacked predictions\"\"\"\n",
    "    \n",
    "#     def __init__(self, base_predictors=None, *args, **kwargs):\n",
    "#         super().__init__(*args, **kwargs)\n",
    "#         self.base_predictors = base_predictors or {}\n",
    "#         self.model =  None\n",
    "#         self.prediction_columns = [f'{name}_prediction' for name in self.base_predictors.keys()]\n",
    "#         self.numerical_features.extend(self.prediction_columns)\n",
    "    \n",
    "#     def get_base_predictions(self, X):\n",
    "#         \"\"\"Generate predictions from base models at runtime\"\"\"\n",
    "#         predictions = pd.DataFrame(index=X.index)\n",
    "        \n",
    "#         for name, predictor in self.base_predictors.items():\n",
    "#             predictions[f'{name}_prediction'] = predictor.predict(X)\n",
    "            \n",
    "#         return predictions\n",
    "    \n",
    "#     def preprocess_data(self, X, y=None, train=True):\n",
    "#         \"\"\"\n",
    "#         Enhanced preprocessing that includes base model predictions generated at runtime\n",
    "#         \"\"\"\n",
    "#         X_copy = X.copy()\n",
    "        \n",
    "#         # Get predictions from base models\n",
    "#         base_predictions = self.get_base_predictions(X_copy)\n",
    "        \n",
    "#         # Combine base predictions with original features\n",
    "#         X_processed = pd.concat([X_copy, base_predictions], axis=1)\n",
    "        \n",
    "#         # Apply standard preprocessing\n",
    "#         return super().preprocess_data(X_processed, y, train)\n",
    "#     def plot_residuals(self, X, y):\n",
    "#         \"\"\"Plot residual analysis\"\"\"\n",
    "#         predictions = self.predict(X)\n",
    "#         residuals = y - predictions\n",
    "        \n",
    "#         fig, axes = plt.subplots(2, 2, figsize=(15, 10))\n",
    "        \n",
    "#         # Residuals vs Predicted\n",
    "#         axes[0, 0].scatter(predictions, residuals, alpha=0.5)\n",
    "#         axes[0, 0].axhline(y=0, color='r', linestyle='--')\n",
    "#         axes[0, 0].set_xlabel('Predicted Values')\n",
    "#         axes[0, 0].set_ylabel('Residuals')\n",
    "#         axes[0, 0].set_title('Residuals vs Predicted')\n",
    "        \n",
    "#         # Residual Distribution\n",
    "#         sns.histplot(residuals, kde=True, ax=axes[0, 1])\n",
    "#         axes[0, 1].set_title('Residual Distribution')\n",
    "        \n",
    "#         # QQ Plot\n",
    "#         from scipy import stats\n",
    "#         stats.probplot(residuals, dist=\"norm\", plot=axes[1, 0])\n",
    "#         axes[1, 0].set_title('Normal Q-Q Plot')\n",
    "        \n",
    "#         # Predicted vs Actual\n",
    "#         axes[1, 1].scatter(y, predictions, alpha=0.5)\n",
    "#         min_val = min(y.min(), predictions.min())\n",
    "#         max_val = max(y.max(), predictions.max())\n",
    "#         axes[1, 1].plot([min_val, max_val], [min_val, max_val], 'r--')\n",
    "#         axes[1, 1].set_xlabel('Actual Values')\n",
    "#         axes[1, 1].set_ylabel('Predicted Values')\n",
    "#         axes[1, 1].set_title('Predicted vs Actual')\n",
    "        \n",
    "#         plt.tight_layout()\n",
    "#         plt.show()\n",
    "# def train_stacked_model(train_data, random_state=42):\n",
    "#     \"\"\"\n",
    "#     Creates and trains the stacked model using the prepared data\n",
    "    \n",
    "#     Args:\n",
    "#         train_data (dict): Dictionary containing training data and base predictors\n",
    "#         random_state (int): Random state for reproducibility\n",
    "        \n",
    "#     Returns:\n",
    "#         EnhancedStackedMaterialPredictor: Trained stacked model\n",
    "#     \"\"\"\n",
    "#     # Create the stacked predictor\n",
    "#     stacked_predictor = EnhancedStackedMaterialPredictor(\n",
    "#         name=\"carbon_emissions\",\n",
    "#         categorical_features=cat_features,\n",
    "#         numerical_features=num_features.copy(),  # Make a copy to avoid modifying original\n",
    "#         base_predictors=train_data['base_predictors'],\n",
    "#         random_state=random_state\n",
    "#     )\n",
    "    \n",
    "#     # Train the stacked model with cross validation\n",
    "#     print(\"\\nTraining stacked model...\")\n",
    "#     stacked_predictor.train(\n",
    "#         train_data['X_train'],\n",
    "#         train_data['y_train'],\n",
    "#         cv=5\n",
    "#     )\n",
    "    \n",
    "#     # Evaluate on test set\n",
    "#     y_test_pred = stacked_predictor.predict(train_data['X_test'])\n",
    "    \n",
    "#     # Calculate and visualize test set metrics\n",
    "#     print(\"\\nTest Set Evaluation:\")\n",
    "#     analyze_percentage_errors(train_data['y_test'], y_test_pred)\n",
    "    \n",
    "#     test_metrics = stacked_predictor.calculate_metrics(\n",
    "#         train_data['y_test'],\n",
    "#         y_test_pred\n",
    "#     )\n",
    "#     print(\"\\nFinal Stacked Model Test Set Performance:\")\n",
    "#     stacked_predictor._print_metrics(test_metrics)\n",
    "    \n",
    "#     # Feature importance analysis\n",
    "#     all_features = (\n",
    "#         train_data['X_train'].columns.tolist() + \n",
    "#         stacked_predictor.prediction_columns\n",
    "#     )\n",
    "    \n",
    "#     importance = pd.DataFrame({\n",
    "#         'feature': all_features,\n",
    "#         'importance': stacked_predictor.model.feature_importances_\n",
    "#     })\n",
    "#     importance = importance.sort_values('importance', ascending=False)\n",
    "    \n",
    "#     print(\"\\nTop 10 Most Important Features:\")\n",
    "#     print(importance.head(15))\n",
    "    \n",
    "#     return stacked_predictor\n",
    "\n",
    "# # Usage example:\n",
    "# # train_data = create_material_predictors(df, all_features)\n",
    "# # stacked_model = train_stacked_model(train_data)\n",
    "# Steel= 1.5981\n",
    "# Reinf = 2.1293 \n",
    "# Concrete = 0.1298\n",
    "# Timber = 0.5247\n",
    "# MasonryBlockw = 42.9874\n",
    "# # Usage example:\n",
    "# # base_features.remove('A1-A3 Rate (kgCO2e/m2)')\n",
    "# # base_features.remove('Est. Project Value (£m)')\n",
    "# train_data = create_material_predictors(df, all_features)\n",
    "# stacked_model = train_stacked_model(train_data)\n",
    "# stacked_model.plot_residuals(train_data['X_test'], train_data['y_test'])\n",
    "\n",
    "# def compare_carbon_prediction_methods(train_data, stacked_model):\n",
    "#     \"\"\"\n",
    "#     Compare stacked model predictions vs material quantity based predictions\n",
    "#     \"\"\"\n",
    "#     # Get test set predictions from base models for each material\n",
    "#     material_predictions = {}\n",
    "#     carbon_factors = {\n",
    "#         'steel': 1.5981,\n",
    "#         'rebar': 2.1293,\n",
    "#         'concrete': 0.1298,\n",
    "#         'timber': 0.5247,\n",
    "#         'masonry': 42.9874\n",
    "#     }\n",
    "    \n",
    "#     X_test = train_data['X_test']\n",
    "#     y_true = train_data['y_test']\n",
    "    \n",
    "#     # Get predictions for each material\n",
    "#     for name, predictor in train_data['base_predictors'].items():\n",
    "#         material_predictions[name] = predictor.predict(X_test)\n",
    "    \n",
    "#     # Calculate carbon emissions using material quantities × factors\n",
    "#     calculated_carbon = (\n",
    "#         material_predictions['steel'] * carbon_factors['steel'] +\n",
    "#         material_predictions['rebar'] * carbon_factors['rebar'] +\n",
    "#         material_predictions['concrete'] * carbon_factors['concrete'] +\n",
    "#         material_predictions['timber'] * carbon_factors['timber'] +\n",
    "#         material_predictions['masonry'] * carbon_factors['masonry']\n",
    "#     )\n",
    "    \n",
    "#     # Get stacked model predictions\n",
    "#     stacked_predictions = stacked_model.predict(X_test)\n",
    "    \n",
    "#     # Calculate metrics for both methods\n",
    "#     calc_metrics = stacked_model.calculate_metrics(y_true, calculated_carbon)\n",
    "#     stack_metrics = stacked_model.calculate_metrics(y_true, stacked_predictions)\n",
    "    \n",
    "#     print(\"\\nComparison of Prediction Methods:\")\n",
    "#     print(\"\\nMethod 1 - Stacked Model:\")\n",
    "#     stacked_model._print_metrics(stack_metrics)\n",
    "#     print(\"\\nMethod 2 - Material Quantities × Carbon Factors:\")\n",
    "#     stacked_model._print_metrics(calc_metrics)\n",
    "    \n",
    "#     # Create comparison plots\n",
    "#     fig, axes = plt.subplots(2, 2, figsize=(15, 15))\n",
    "    \n",
    "#     # Scatter plots\n",
    "#     axes[0, 0].scatter(y_true, stacked_predictions, alpha=0.5, label='Stacked Model')\n",
    "#     axes[0, 0].scatter(y_true, calculated_carbon, alpha=0.5, label='Calculated')\n",
    "#     min_val = min(y_true.min(), stacked_predictions.min(), calculated_carbon.min())\n",
    "#     max_val = max(y_true.max(), stacked_predictions.max(), calculated_carbon.max())\n",
    "#     axes[0, 0].plot([min_val, max_val], [min_val, max_val], 'r--')\n",
    "#     axes[0, 0].set_xlabel('Actual Carbon (kgCO2e)')\n",
    "#     axes[0, 0].set_ylabel('Predicted Carbon (kgCO2e)')\n",
    "#     axes[0, 0].set_title('Predicted vs Actual Values')\n",
    "#     axes[0, 0].legend()\n",
    "    \n",
    "#     # Residual plots\n",
    "#     stack_residuals = y_true - stacked_predictions\n",
    "#     calc_residuals = y_true - calculated_carbon\n",
    "    \n",
    "#     axes[0, 1].scatter(stacked_predictions, stack_residuals, alpha=0.5, label='Stacked Model')\n",
    "#     axes[0, 1].scatter(calculated_carbon, calc_residuals, alpha=0.5, label='Calculated')\n",
    "#     axes[0, 1].axhline(y=0, color='r', linestyle='--')\n",
    "#     axes[0, 1].set_xlabel('Predicted Values')\n",
    "#     axes[0, 1].set_ylabel('Residuals')\n",
    "#     axes[0, 1].set_title('Residuals vs Predicted')\n",
    "#     axes[0, 1].legend()\n",
    "    \n",
    "#     # Percentage error distributions\n",
    "#     stack_pe = np.abs((y_true - stacked_predictions) / y_true) * 100\n",
    "#     calc_pe = np.abs((y_true - calculated_carbon) / y_true) * 100\n",
    "    \n",
    "#     sns.histplot(stack_pe, kde=True, ax=axes[1, 0], label='Stacked Model', alpha=0.5)\n",
    "#     sns.histplot(calc_pe, kde=True, ax=axes[1, 0], label='Calculated', alpha=0.5)\n",
    "#     axes[1, 0].set_title('Distribution of Percentage Errors')\n",
    "#     axes[1, 0].set_xlabel('Percentage Error (%)')\n",
    "#     axes[1, 0].legend()\n",
    "    \n",
    "#     # Cumulative error distribution\n",
    "#     stack_pe_sorted = np.sort(stack_pe)\n",
    "#     calc_pe_sorted = np.sort(calc_pe)\n",
    "#     cumulative = np.arange(1, len(stack_pe_sorted) + 1) / len(stack_pe_sorted)\n",
    "    \n",
    "#     axes[1, 1].plot(stack_pe_sorted, cumulative, label='Stacked Model')\n",
    "#     axes[1, 1].plot(calc_pe_sorted, cumulative, label='Calculated')\n",
    "#     axes[1, 1].set_xlabel('Percentage Error (%)')\n",
    "#     axes[1, 1].set_ylabel('Cumulative Proportion')\n",
    "#     axes[1, 1].set_title('Cumulative Distribution of Percentage Errors')\n",
    "#     axes[1, 1].legend()\n",
    "    \n",
    "#     plt.tight_layout()\n",
    "#     plt.show()\n",
    "    \n",
    "#     return {\n",
    "#         'stacked_metrics': stack_metrics,\n",
    "#         'calculated_metrics': calc_metrics,\n",
    "#         'stacked_predictions': stacked_predictions,\n",
    "#         'calculated_predictions': calculated_carbon\n",
    "#     }\n",
    "\n",
    "# # Run the comparison\n",
    "# results = compare_carbon_prediction_methods(train_data, stacked_model)"
   ]
  }
 ],
 "metadata": {
  "kernelspec": {
   "display_name": "capstone",
   "language": "python",
   "name": "python3"
  },
  "language_info": {
   "codemirror_mode": {
    "name": "ipython",
    "version": 3
   },
   "file_extension": ".py",
   "mimetype": "text/x-python",
   "name": "python",
   "nbconvert_exporter": "python",
   "pygments_lexer": "ipython3",
   "version": "3.10.16"
  }
 },
 "nbformat": 4,
 "nbformat_minor": 2
}
